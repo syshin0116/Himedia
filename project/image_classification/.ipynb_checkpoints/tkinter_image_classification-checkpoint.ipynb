{
 "cells": [
  {
   "cell_type": "code",
   "execution_count": 1,
   "id": "d99def08-78f4-47f1-a691-cdf763faf65c",
   "metadata": {},
   "outputs": [],
   "source": [
    "import os\n",
    "import sys\n",
    "import urllib\n",
    "from functools import partial\n",
    "from tkinter import *\n",
    "import tkinter.filedialog as tkfd\n",
    "import requests\n",
    "from PIL import Image, ImageTk\n",
    "\n",
    "import pathlib\n"
   ]
  },
  {
   "cell_type": "code",
   "execution_count": 2,
   "id": "cc526aa7-76ac-4e7b-9f3e-8f391f40ab11",
   "metadata": {},
   "outputs": [],
   "source": [
    "import numpy as np\n",
    "import os\n",
    "import PIL\n",
    "import PIL.Image\n",
    "import tensorflow as tf\n",
    "import tensorflow_datasets as tfds\n",
    "from glob import glob\n",
    "from tensorflow.keras.preprocessing.text import text_to_word_sequence\n",
    "import cv2\n",
    "import matplotlib.pyplot as plt\n",
    "from sklearn.model_selection import train_test_split\n",
    "from tensorflow.keras.layers import *\n",
    "from tensorflow.keras.models import Sequential\n",
    "from tensorflow.keras.callbacks import EarlyStopping, ModelCheckpoint\n",
    "from sklearn.preprocessing import LabelEncoder\n",
    "import tensorflow as tf\n",
    "from tensorflow.keras.layers import *\n",
    "from tensorflow.keras.models import *\n",
    "import glob"
   ]
  },
  {
   "cell_type": "code",
   "execution_count": 3,
   "id": "c37463e5-0ad6-4eb9-855f-134e08c11490",
   "metadata": {},
   "outputs": [],
   "source": [
    "class Fullscreen_Window(Tk):\n",
    "\n",
    "    def __init__(self):\n",
    "        self.tk = Tk()\n",
    "        self.tk.geometry(\"1000x500\")\n",
    "        self.tk.title('Image Classification')\n",
    "        self.top = Frame(self.tk)\n",
    "        self.top.pack(side=TOP)\n",
    "        self.top2 = Frame(self.tk)\n",
    "        self.top2.pack(side=TOP)\n",
    "        self.bottom_left = Frame(self.tk)\n",
    "        self.bottom_left.pack(side=LEFT, fill=BOTH, expand=True)\n",
    "        self.bottom_right = Frame(self.tk)\n",
    "        self.bottom_right.pack(side=RIGHT, fill=BOTH, expand=True)\n",
    "        self.state = False\n",
    "        self.tk.bind(\"f\", self.toggle_fullscreen)\n",
    "        self.tk.bind(\"e\", self.end_fullscreen)\n",
    "\n",
    "    def toggle_fullscreen(self, event=None):\n",
    "        self.state = not self.state  # Just toggling the boolean\n",
    "        self.tk.attributes(\"-fullscreen\", self.state)\n",
    "        return \"break\"\n",
    "\n",
    "    def end_fullscreen(self, event=None):\n",
    "        self.state = False\n",
    "        self.tk.attributes(\"-fullscreen\", False)\n",
    "        return \"break\""
   ]
  },
  {
   "cell_type": "code",
   "execution_count": 4,
   "id": "00d9b3c1-d689-4448-adaa-6272d13f6b0e",
   "metadata": {},
   "outputs": [],
   "source": [
    "def show_folder_img():\n",
    "    global img_in_folder\n",
    "\n",
    "\n",
    "    print(\"show_folder_img\")\n",
    "    print(\"entry에서 받은 주소>>\", entry.get())\n",
    "    new_dir = os.chdir((entry.get()))\n",
    "    img_in_folder = glob.glob('*.*')\n",
    "    batch_size = 32\n",
    "    img_height = 160\n",
    "    img_width = 160\n",
    "    channel_n = 3\n",
    "    \n",
    "    print(\"len(img_in_folder)\", len(img_in_folder))\n",
    "    result_dic = sort_img(img_in_folder)\n",
    "\n",
    "    button_url= []\n",
    "    i = 1\n",
    "    for j in img_in_folder:\n",
    "        button_url.append('b_url'+str(i))\n",
    "        i+=1\n",
    "    print(button_url)\n",
    "    for i, button in enumerate(button_url):\n",
    "        button = Button(w, text='이미지'+str(i+1), command=partial(showimg,i+1, result_dic))\n",
    "        button.pack(pady=10 ,in_=w.top2, side=LEFT)\n",
    "\n",
    "    # text = Text(w, width=35, height=15)\n",
    "    # scrollbar = Scrollbar(w)\n",
    "    # scrollbar.config(command=text.yview)\n",
    "    # text.config(yscrollcommand=scrollbar.set)\n",
    "    # scrollbar.pack(in_=w.bottom, side=RIGHT, fill=Y)\n",
    "    # text.pack(in_=w.bottom, side=LEFT, fill=BOTH, expand=True)\n"
   ]
  },
  {
   "cell_type": "code",
   "execution_count": 5,
   "id": "6731940a-3525-40bb-a13c-8231356c43eb",
   "metadata": {},
   "outputs": [],
   "source": [
    "def set_img():\n",
    "    global entered_img\n",
    "    my_img = Label(w,\n",
    "          text='내 이미지',\n",
    "          font=('comic sans', 10)\n",
    "          )\n",
    "    my_img.pack(in_=w.bottom_left, side=TOP)\n",
    "    entered_img = Image.open(entry.get())\n",
    "    user_img = ImageTk.PhotoImage(entered_img)\n",
    "    user_label = Label(w, image=user_img)\n",
    "    user_label.image = user_img\n",
    "    user_label.pack(in_=w.bottom_left, side=LEFT)"
   ]
  },
  {
   "cell_type": "code",
   "execution_count": 6,
   "id": "f7292b37-381b-4745-a86e-6e71ea15099c",
   "metadata": {},
   "outputs": [],
   "source": [
    "def clear_img():\n",
    "    global architecture_label\n",
    "    global art_and_culture_label\n",
    "    global food_and_drinks_label\n",
    "    global travel_and_adventure_label\n",
    "    try:\n",
    "        architecture_label.destroy()\n",
    "        art_and_culture_label.destroy()\n",
    "        food_and_drinks_label.destroy()\n",
    "        travel_and_adventure_label.destroy()\n",
    "    except Exception as e:\n",
    "        print(str(e))"
   ]
  },
  {
   "cell_type": "code",
   "execution_count": 7,
   "id": "c13df4f1-cbae-4131-a0e0-adaf869b112c",
   "metadata": {},
   "outputs": [],
   "source": [
    "# 읽어온 이미지 목록을 스케일링, 리사이징하는 함수 선언\n",
    "def make_file(data_height, data_width, channel_n, data_list_len, img_in_folder): # 높이, 너비, 컬러, 리스트 길이\n",
    "    # 4차원으로 만들기 위한 4차원 리스트 필요\n",
    "    print(\"make_file img_in_folder>>\", img_in_folder)\n",
    "    images=np.zeros((data_list_len, data_height, data_width, channel_n))\n",
    "    # 이미지 리스트에서 하나씩 꺼내서 라벨링, 스케일링, 리사이징\n",
    "    for i, image in enumerate(img_in_folder):     \n",
    "        # 읽어서 스케일링, 리사이징 \n",
    "        image=cv2.imread(image) /255 #읽기, 스케일링\n",
    "        image=cv2.resize(image, (data_height, data_width)) #리사이징\n",
    "        # 4차원 리스트에 하나씩 append\n",
    "        images[i, :, :, :]=image\n",
    "    return images"
   ]
  },
  {
   "cell_type": "code",
   "execution_count": 8,
   "id": "de3168a1-599e-4522-bc27-f0a7cb43047d",
   "metadata": {},
   "outputs": [],
   "source": [
    "def sort_img(img_in_folder):\n",
    "    global architecture_label\n",
    "    global art_and_culture_label\n",
    "    global food_and_drinks_label\n",
    "    global travel_and_adventure_label\n",
    "    global result_dic\n",
    "    model=load_model('/Users/syshin/Desktop/Himedia/Himedia_project/image_classification/fine_model1.h5')\n",
    "    # 크기를 동일하게 맞추어 변경해주자\n",
    "    data_height=160\n",
    "    data_width=160\n",
    "    channel_n=3 # 컬러 색상으로 설정\n",
    "    images=make_file(data_height, data_width, channel_n, len(img_in_folder), img_in_folder)\n",
    "\n",
    "\n",
    "    # 스케일링, 리사이징된 이미지를 모델에 predict\n",
    "    predicted_label=model.predict(images)\n",
    "    # 첫번째 이미지의 각 분류 확률\n",
    "    # predicted_label[0]\n",
    "    # 이미지가 architecture 카테고리일 확률이 가장 큼\n",
    "    # np.argmax(predicted_label[0])\n",
    "    # 분류한 이미지를 각 폴더에 옮기기 위한 라이브러리\n",
    "    import shutil\n",
    "\n",
    "    file_source = entry.get()+\"/\"\n",
    "    os.makedirs(file_source+\"classified\")\n",
    "    os.makedirs(file_source+\"classified/architecture\")\n",
    "    os.makedirs(file_source+\"classified/art and culture\")\n",
    "    os.makedirs(file_source+\"classified/food and drinks\")\n",
    "    os.makedirs(file_source+\"classified/travel and adventure\")\n",
    "    file_destination1 = entry.get()+\"/classified/architecture/\"\n",
    "    file_destination2 = entry.get()+\"/classified/art and culture/\"\n",
    "    file_destination3 = entry.get()+\"/classified/food and drinks/\"\n",
    "    file_destination4 = entry.get()+\"/classified/travel and adventure/\"\n",
    "    print(\"img_in_folder>>>>>>>>\", img_in_folder)\n",
    "    print(\"predicted_label>>\", predicted_label)\n",
    "    result_dic = {}\n",
    "    # 가장 높은 확률을 가진 분류 폴더로 이동\n",
    "    for i, one in enumerate(img_in_folder):\n",
    "        if np.argmax(predicted_label[i])==0:\n",
    "            shutil.copyfile(file_source + one, file_destination1 + one)\n",
    "            result_dic[i]='architecture'\n",
    "\n",
    "        elif np.argmax(predicted_label[i])==1:\n",
    "            shutil.copyfile(file_source + one, file_destination2 + one)\n",
    "            result_dic[i]='art_and_culture'\n",
    "\n",
    "        elif np.argmax(predicted_label[i])==2:\n",
    "            shutil.copyfile(file_source + one, file_destination3 + one)\n",
    "            result_dic[i]='food_and_drinks'\n",
    "           \n",
    "        else:\n",
    "            shutil.copyfile(file_source + one, file_destination4 + one)\n",
    "            result_dic[i]='travel_and_adventure'\n",
    "    return result_dic"
   ]
  },
  {
   "cell_type": "code",
   "execution_count": 9,
   "id": "6f192644-4581-4e7a-836b-121eb2996008",
   "metadata": {},
   "outputs": [],
   "source": [
    "def set_start():\n",
    "    global architecture_label\n",
    "    global art_and_culture_label\n",
    "    global food_and_drinks_label\n",
    "    global travel_and_adventure_label\n",
    "    global result_dic\n",
    "    result_label = Label(w,\n",
    "          text='분류 결과',\n",
    "          font=('comic sans', 10)\n",
    "          )\n",
    "    try:\n",
    "        result_label.pack(in_=w.bottom_right, side=TOP)\n",
    "        (x,y)=(120,120)\n",
    "        architecture_folder_img = Image.open('/Users/syshin/Desktop/Himedia/Himedia_project/image_classification/architecture.png').resize((x,y))\n",
    "        art_and_culture_folder_img = Image.open('/Users/syshin/Desktop/Himedia/Himedia_project/image_classification/art_and_culture.png').resize((x,y))\n",
    "        food_and_drinks_folder_img = Image.open('/Users/syshin/Desktop/Himedia/Himedia_project/image_classification/food_and_drinks.png').resize((x,y))\n",
    "        travel_and_adventure_folder_img = Image.open('/Users/syshin/Desktop/Himedia/Himedia_project/image_classification/travel_and_adventure.png').resize((x,y))\n",
    "        \n",
    "        \n",
    "        architecture_folder = ImageTk.PhotoImage(architecture_folder_img)\n",
    "        art_and_culture_folder = ImageTk.PhotoImage(art_and_culture_folder_img)\n",
    "        food_and_drinks_folder = ImageTk.PhotoImage(food_and_drinks_folder_img)\n",
    "        travel_and_adventure_folder = ImageTk.PhotoImage(travel_and_adventure_folder_img)\n",
    "\n",
    "\n",
    "        architecture_label = Label(w, image=architecture_folder)\n",
    "        art_and_culture_label = Label(w, image=art_and_culture_folder)\n",
    "        food_and_drinks_label = Label(w, image=food_and_drinks_folder)\n",
    "        travel_and_adventure_label = Label(w, image=travel_and_adventure_folder)\n",
    "        \n",
    "        architecture_label.image = architecture_folder\n",
    "        architecture_label.pack(in_=w.bottom_right, side=LEFT)\n",
    "        art_and_culture_label.image = art_and_culture_folder\n",
    "        art_and_culture_label.pack(in_=w.bottom_right, side=LEFT)\n",
    "        food_and_drinks_label.image = food_and_drinks_folder\n",
    "        food_and_drinks_label.pack(in_=w.bottom_right, side=LEFT)\n",
    "        travel_and_adventure_label.image = travel_and_adventure_folder\n",
    "        travel_and_adventure_label.pack(in_=w.bottom_right, side=LEFT)\n",
    "    except Exception as e:\n",
    "        print(str(e))\n"
   ]
  },
  {
   "cell_type": "code",
   "execution_count": 10,
   "id": "0d29c3c3-8c4a-43f2-ab26-4545dbc149d8",
   "metadata": {},
   "outputs": [],
   "source": [
    "def showimg(number, result_dic):\n",
    "    global my_img\n",
    "    print(\"showimg: 받은 number=\", number)\n",
    "    global entered_img\n",
    "    global img_label\n",
    "    print(\"result_dic>>>>>>>>>>>>>>>\",result_dic)\n",
    "    try:\n",
    "        clear_img()\n",
    "        my_img.destroy()\n",
    "        img_label.destroy()\n",
    "    except Exception as e:\n",
    "        print(str(e))\n",
    "    my_img = Label(w,\n",
    "          text='폴더내 이미지',\n",
    "          font=('comic sans', 10)\n",
    "          )\n",
    "    my_img.pack(in_=w.bottom_left, side=TOP)\n",
    "    \n",
    "    ## entry에 입력된 폴더 안의 이미지들 가져오기\n",
    "\n",
    "    entered_img = Image.open(img_in_folder[number-1]).resize((400,250))\n",
    "    result_img = ImageTk.PhotoImage(entered_img)\n",
    "    img_label = Label(w)\n",
    "    img_label.configure(image=result_img)\n",
    "    img_label.image = result_img\n",
    "    img_label.pack(in_=w.bottom_left, side=LEFT)\n",
    "    (x,y)=(120,120)\n",
    "    if result_dic[number]=='architecture':\n",
    "        architecture_folder_img = Image.open('/Users/syshin/Desktop/Himedia/Himedia_project/image_classification/architecture.png').resize((x,y))\n",
    "        architecture_folder = ImageTk.PhotoImage(architecture_folder_img)\n",
    "        architecture_label = Label(w, image=architecture_folder)\n",
    "        architecture_label.image = architecture_folder\n",
    "        architecture_label.pack(in_=w.bottom_right, side=LEFT)    \n",
    "    elif result_dic[number]=='art_and_culture':\n",
    "        art_and_culture_label_folder_img = Image.open('/Users/syshin/Desktop/Himedia/Himedia_project/image_classification/art_and_culture.png').resize((x,y))\n",
    "        art_and_culture_label_folder = ImageTk.PhotoImage(art_and_culture_label_folder_img)\n",
    "        art_and_culture_label_label = Label(w, image=art_and_culture_label_folder)\n",
    "        art_and_culture_label_label.image = art_and_culture_label_folder\n",
    "        art_and_culture_label_label.pack(in_=w.bottom_right, side=LEFT)\n",
    "    elif result_dic[number]=='food_and_drinks':\n",
    "        food_and_drinks_folder_img = Image.open('/Users/syshin/Desktop/Himedia/Himedia_project/image_classification/food_and_drinks.png').resize((x,y))\n",
    "        food_and_drinks_folder = ImageTk.PhotoImage(food_and_drinks_folder_img)\n",
    "        food_and_drinks_label = Label(w, image=food_and_drinks_folder)\n",
    "        food_and_drinks_label.image = food_and_drinks_folder\n",
    "        food_and_drinks_label.pack(in_=w.bottom_right, side=LEFT)\n",
    "    else:\n",
    "        food_and_drinks_folder_img = Image.open('/Users/syshin/Desktop/Himedia/Himedia_project/image_classification/travel_and_adventure.png').resize((x,y))\n",
    "        food_and_drinks_folder = ImageTk.PhotoImage(food_and_drinks_folder_img)\n",
    "        food_and_drinks_label = Label(w, image=food_and_drinks_folder)\n",
    "        food_and_drinks_label.image = food_and_drinks_folder\n",
    "        food_and_drinks_label.pack(in_=w.bottom_right, side=LEFT)\n"
   ]
  },
  {
   "cell_type": "code",
   "execution_count": 11,
   "id": "a2f1e455-25c2-4d6f-b78c-0eb7e96ddaf5",
   "metadata": {},
   "outputs": [],
   "source": [
    "def find_img():\n",
    "    path = tkfd.askopenfilename(initialdir=\"/\", title=\"Select file\", filetypes=((\"jpeg files\", \"*.jpg\"), (\"all files\", \"*.*\"), ))\n",
    "    entry.insert('0', path)\n",
    "def find_folder():\n",
    "    path = tkfd.askdirectory(initialdir=\"/\",title='Please select a directory')\n",
    "    entry.insert('0', path)\n"
   ]
  },
  {
   "cell_type": "code",
   "execution_count": null,
   "id": "2c37611a-af11-4200-ba32-f564ce9ba9c8",
   "metadata": {},
   "outputs": [
    {
     "name": "stdout",
     "output_type": "stream",
     "text": [
      "show_folder_img\n",
      "entry에서 받은 주소>> /Users/syshin/Desktop/Himedia/Himedia_project/image_classification/archive (1)/test/sort copy 4\n",
      "len(img_in_folder) 17\n",
      "Metal device set to: Apple M1 Pro\n"
     ]
    },
    {
     "name": "stderr",
     "output_type": "stream",
     "text": [
      "2022-06-14 04:58:07.996836: I tensorflow/core/common_runtime/pluggable_device/pluggable_device_factory.cc:305] Could not identify NUMA node of platform GPU ID 0, defaulting to 0. Your kernel may not have been built with NUMA support.\n",
      "2022-06-14 04:58:07.997029: I tensorflow/core/common_runtime/pluggable_device/pluggable_device_factory.cc:271] Created TensorFlow device (/job:localhost/replica:0/task:0/device:GPU:0 with 0 MB memory) -> physical PluggableDevice (device: 0, name: METAL, pci bus id: <undefined>)\n"
     ]
    },
    {
     "name": "stdout",
     "output_type": "stream",
     "text": [
      "make_file img_in_folder>> ['0fHeKYoMo0ros0awsLY7.jpg', '8.jpg', '0FKrjRLYgkajdG28i1nR.jpg', '14-02-07-Cath�drale_Notre-Dame_de_Strasbourg-RalfR-23.jpg', '0FnjE2Q25duHARU3m52d.jpeg', '0001.jpg', '0002.jpg', '3 18.59.20.jpg', '01dee7c857692cce250fcc7fba309f3f.jpg', '0B2AZVJVj7cXIkdsguqT.jpg', '9.jpeg', '7.jpg', '2.jpg', '3.jpg', '1.jpg', '3 18.59.45.jpg', '0.jpg']\n"
     ]
    },
    {
     "name": "stderr",
     "output_type": "stream",
     "text": [
      "2022-06-14 04:58:09.726548: W tensorflow/core/platform/profile_utils/cpu_utils.cc:128] Failed to get CPU frequency: 0 Hz\n",
      "2022-06-14 04:58:10.010000: I tensorflow/core/grappler/optimizers/custom_graph_optimizer_registry.cc:113] Plugin optimizer for device_type GPU is enabled.\n"
     ]
    },
    {
     "name": "stdout",
     "output_type": "stream",
     "text": [
      "1/1 [==============================] - 1s 750ms/step\n",
      "img_in_folder>>>>>>>> ['0fHeKYoMo0ros0awsLY7.jpg', '8.jpg', '0FKrjRLYgkajdG28i1nR.jpg', '14-02-07-Cath�drale_Notre-Dame_de_Strasbourg-RalfR-23.jpg', '0FnjE2Q25duHARU3m52d.jpeg', '0001.jpg', '0002.jpg', '3 18.59.20.jpg', '01dee7c857692cce250fcc7fba309f3f.jpg', '0B2AZVJVj7cXIkdsguqT.jpg', '9.jpeg', '7.jpg', '2.jpg', '3.jpg', '1.jpg', '3 18.59.45.jpg', '0.jpg']\n",
      "predicted_label>> [[0.21534751 0.09838757 0.0939196  0.59234536]\n",
      " [0.21547379 0.09298673 0.08958571 0.6019538 ]\n",
      " [0.21465784 0.090998   0.08724944 0.60709476]\n",
      " [0.21620956 0.10369282 0.09927513 0.5808225 ]\n",
      " [0.21423693 0.09020237 0.08624711 0.6093136 ]\n",
      " [0.21519628 0.10226573 0.09702246 0.5855156 ]\n",
      " [0.21485707 0.10032424 0.09505613 0.5897626 ]\n",
      " [0.21528287 0.09261835 0.08911334 0.60298544]\n",
      " [0.21433263 0.08552165 0.08262705 0.61751866]\n",
      " [0.21637309 0.09790812 0.09450827 0.59121054]\n",
      " [0.21455996 0.09370847 0.0893456  0.602386  ]\n",
      " [0.21446222 0.09145435 0.08744356 0.60663986]\n",
      " [0.21428235 0.08923238 0.08551521 0.6109701 ]\n",
      " [0.21458827 0.09139779 0.08750914 0.6065048 ]\n",
      " [0.21208294 0.07872764 0.0756554  0.63353413]\n",
      " [0.21542187 0.09444182 0.09072927 0.5994071 ]\n",
      " [0.21512577 0.09502865 0.09093727 0.5989084 ]]\n",
      "['b_url1', 'b_url2', 'b_url3', 'b_url4', 'b_url5', 'b_url6', 'b_url7', 'b_url8', 'b_url9', 'b_url10', 'b_url11', 'b_url12', 'b_url13', 'b_url14', 'b_url15', 'b_url16', 'b_url17']\n",
      "showimg: 받은 number= 1\n",
      "result_dic>>>>>>>>>>>>>>> {0: 'travel_and_adventure', 1: 'travel_and_adventure', 2: 'travel_and_adventure', 3: 'travel_and_adventure', 4: 'travel_and_adventure', 5: 'travel_and_adventure', 6: 'travel_and_adventure', 7: 'travel_and_adventure', 8: 'travel_and_adventure', 9: 'travel_and_adventure', 10: 'travel_and_adventure', 11: 'travel_and_adventure', 12: 'travel_and_adventure', 13: 'travel_and_adventure', 14: 'travel_and_adventure', 15: 'travel_and_adventure', 16: 'travel_and_adventure'}\n",
      "name 'my_img' is not defined\n"
     ]
    },
    {
     "name": "stderr",
     "output_type": "stream",
     "text": [
      "Exception in Tkinter callback\n",
      "Traceback (most recent call last):\n",
      "  File \"/Users/syshin/miniforge3/lib/python3.9/tkinter/__init__.py\", line 1892, in __call__\n",
      "    return self.func(*args)\n",
      "  File \"/var/folders/3m/knb96f9s4xg2t2gcrl96r6jh0000gn/T/ipykernel_79256/807924618.py\", line 47, in showimg\n",
      "    food_and_drinks_folder_img = Image.open('/Users/syshin/Desktop/Himedia/Himedia_project/image_classification/travel_and_adventure.png').resize((x,y))\n",
      "NameError: name 'x' is not defined\n"
     ]
    },
    {
     "name": "stdout",
     "output_type": "stream",
     "text": [
      "showimg: 받은 number= 2\n",
      "result_dic>>>>>>>>>>>>>>> {0: 'travel_and_adventure', 1: 'travel_and_adventure', 2: 'travel_and_adventure', 3: 'travel_and_adventure', 4: 'travel_and_adventure', 5: 'travel_and_adventure', 6: 'travel_and_adventure', 7: 'travel_and_adventure', 8: 'travel_and_adventure', 9: 'travel_and_adventure', 10: 'travel_and_adventure', 11: 'travel_and_adventure', 12: 'travel_and_adventure', 13: 'travel_and_adventure', 14: 'travel_and_adventure', 15: 'travel_and_adventure', 16: 'travel_and_adventure'}\n"
     ]
    },
    {
     "name": "stderr",
     "output_type": "stream",
     "text": [
      "Exception in Tkinter callback\n",
      "Traceback (most recent call last):\n",
      "  File \"/Users/syshin/miniforge3/lib/python3.9/tkinter/__init__.py\", line 1892, in __call__\n",
      "    return self.func(*args)\n",
      "  File \"/var/folders/3m/knb96f9s4xg2t2gcrl96r6jh0000gn/T/ipykernel_79256/807924618.py\", line 47, in showimg\n",
      "    food_and_drinks_folder_img = Image.open('/Users/syshin/Desktop/Himedia/Himedia_project/image_classification/travel_and_adventure.png').resize((x,y))\n",
      "NameError: name 'x' is not defined\n"
     ]
    },
    {
     "name": "stdout",
     "output_type": "stream",
     "text": [
      "showimg: 받은 number= 3\n",
      "result_dic>>>>>>>>>>>>>>> {0: 'travel_and_adventure', 1: 'travel_and_adventure', 2: 'travel_and_adventure', 3: 'travel_and_adventure', 4: 'travel_and_adventure', 5: 'travel_and_adventure', 6: 'travel_and_adventure', 7: 'travel_and_adventure', 8: 'travel_and_adventure', 9: 'travel_and_adventure', 10: 'travel_and_adventure', 11: 'travel_and_adventure', 12: 'travel_and_adventure', 13: 'travel_and_adventure', 14: 'travel_and_adventure', 15: 'travel_and_adventure', 16: 'travel_and_adventure'}\n"
     ]
    },
    {
     "name": "stderr",
     "output_type": "stream",
     "text": [
      "Exception in Tkinter callback\n",
      "Traceback (most recent call last):\n",
      "  File \"/Users/syshin/miniforge3/lib/python3.9/tkinter/__init__.py\", line 1892, in __call__\n",
      "    return self.func(*args)\n",
      "  File \"/var/folders/3m/knb96f9s4xg2t2gcrl96r6jh0000gn/T/ipykernel_79256/807924618.py\", line 47, in showimg\n",
      "    food_and_drinks_folder_img = Image.open('/Users/syshin/Desktop/Himedia/Himedia_project/image_classification/travel_and_adventure.png').resize((x,y))\n",
      "NameError: name 'x' is not defined\n"
     ]
    },
    {
     "name": "stdout",
     "output_type": "stream",
     "text": [
      "showimg: 받은 number= 4\n",
      "result_dic>>>>>>>>>>>>>>> {0: 'travel_and_adventure', 1: 'travel_and_adventure', 2: 'travel_and_adventure', 3: 'travel_and_adventure', 4: 'travel_and_adventure', 5: 'travel_and_adventure', 6: 'travel_and_adventure', 7: 'travel_and_adventure', 8: 'travel_and_adventure', 9: 'travel_and_adventure', 10: 'travel_and_adventure', 11: 'travel_and_adventure', 12: 'travel_and_adventure', 13: 'travel_and_adventure', 14: 'travel_and_adventure', 15: 'travel_and_adventure', 16: 'travel_and_adventure'}\n"
     ]
    },
    {
     "name": "stderr",
     "output_type": "stream",
     "text": [
      "Exception in Tkinter callback\n",
      "Traceback (most recent call last):\n",
      "  File \"/Users/syshin/miniforge3/lib/python3.9/tkinter/__init__.py\", line 1892, in __call__\n",
      "    return self.func(*args)\n",
      "  File \"/var/folders/3m/knb96f9s4xg2t2gcrl96r6jh0000gn/T/ipykernel_79256/807924618.py\", line 47, in showimg\n",
      "    food_and_drinks_folder_img = Image.open('/Users/syshin/Desktop/Himedia/Himedia_project/image_classification/travel_and_adventure.png').resize((x,y))\n",
      "NameError: name 'x' is not defined\n"
     ]
    },
    {
     "name": "stdout",
     "output_type": "stream",
     "text": [
      "showimg: 받은 number= 5\n",
      "result_dic>>>>>>>>>>>>>>> {0: 'travel_and_adventure', 1: 'travel_and_adventure', 2: 'travel_and_adventure', 3: 'travel_and_adventure', 4: 'travel_and_adventure', 5: 'travel_and_adventure', 6: 'travel_and_adventure', 7: 'travel_and_adventure', 8: 'travel_and_adventure', 9: 'travel_and_adventure', 10: 'travel_and_adventure', 11: 'travel_and_adventure', 12: 'travel_and_adventure', 13: 'travel_and_adventure', 14: 'travel_and_adventure', 15: 'travel_and_adventure', 16: 'travel_and_adventure'}\n"
     ]
    },
    {
     "name": "stderr",
     "output_type": "stream",
     "text": [
      "Exception in Tkinter callback\n",
      "Traceback (most recent call last):\n",
      "  File \"/Users/syshin/miniforge3/lib/python3.9/tkinter/__init__.py\", line 1892, in __call__\n",
      "    return self.func(*args)\n",
      "  File \"/var/folders/3m/knb96f9s4xg2t2gcrl96r6jh0000gn/T/ipykernel_79256/807924618.py\", line 47, in showimg\n",
      "    food_and_drinks_folder_img = Image.open('/Users/syshin/Desktop/Himedia/Himedia_project/image_classification/travel_and_adventure.png').resize((x,y))\n",
      "NameError: name 'x' is not defined\n"
     ]
    },
    {
     "name": "stdout",
     "output_type": "stream",
     "text": [
      "showimg: 받은 number= 6\n",
      "result_dic>>>>>>>>>>>>>>> {0: 'travel_and_adventure', 1: 'travel_and_adventure', 2: 'travel_and_adventure', 3: 'travel_and_adventure', 4: 'travel_and_adventure', 5: 'travel_and_adventure', 6: 'travel_and_adventure', 7: 'travel_and_adventure', 8: 'travel_and_adventure', 9: 'travel_and_adventure', 10: 'travel_and_adventure', 11: 'travel_and_adventure', 12: 'travel_and_adventure', 13: 'travel_and_adventure', 14: 'travel_and_adventure', 15: 'travel_and_adventure', 16: 'travel_and_adventure'}\n"
     ]
    },
    {
     "name": "stderr",
     "output_type": "stream",
     "text": [
      "Exception in Tkinter callback\n",
      "Traceback (most recent call last):\n",
      "  File \"/Users/syshin/miniforge3/lib/python3.9/tkinter/__init__.py\", line 1892, in __call__\n",
      "    return self.func(*args)\n",
      "  File \"/var/folders/3m/knb96f9s4xg2t2gcrl96r6jh0000gn/T/ipykernel_79256/807924618.py\", line 47, in showimg\n",
      "    food_and_drinks_folder_img = Image.open('/Users/syshin/Desktop/Himedia/Himedia_project/image_classification/travel_and_adventure.png').resize((x,y))\n",
      "NameError: name 'x' is not defined\n"
     ]
    },
    {
     "name": "stdout",
     "output_type": "stream",
     "text": [
      "showimg: 받은 number= 7\n",
      "result_dic>>>>>>>>>>>>>>> {0: 'travel_and_adventure', 1: 'travel_and_adventure', 2: 'travel_and_adventure', 3: 'travel_and_adventure', 4: 'travel_and_adventure', 5: 'travel_and_adventure', 6: 'travel_and_adventure', 7: 'travel_and_adventure', 8: 'travel_and_adventure', 9: 'travel_and_adventure', 10: 'travel_and_adventure', 11: 'travel_and_adventure', 12: 'travel_and_adventure', 13: 'travel_and_adventure', 14: 'travel_and_adventure', 15: 'travel_and_adventure', 16: 'travel_and_adventure'}\n"
     ]
    },
    {
     "name": "stderr",
     "output_type": "stream",
     "text": [
      "Exception in Tkinter callback\n",
      "Traceback (most recent call last):\n",
      "  File \"/Users/syshin/miniforge3/lib/python3.9/tkinter/__init__.py\", line 1892, in __call__\n",
      "    return self.func(*args)\n",
      "  File \"/var/folders/3m/knb96f9s4xg2t2gcrl96r6jh0000gn/T/ipykernel_79256/807924618.py\", line 47, in showimg\n",
      "    food_and_drinks_folder_img = Image.open('/Users/syshin/Desktop/Himedia/Himedia_project/image_classification/travel_and_adventure.png').resize((x,y))\n",
      "NameError: name 'x' is not defined\n"
     ]
    }
   ],
   "source": [
    "result_dic = {}\n",
    "user_tag=[]\n",
    "w = Fullscreen_Window()\n",
    "entry_guide = Label(w,\n",
    "           text='사진 선택: ',\n",
    "           font=('comic sans', 10)\n",
    "           )\n",
    "entry_guide.pack(in_=w.top, side=LEFT)  # id라는 라벨을 w에 넣어줌\n",
    "entry = Entry(w)\n",
    "entry.pack(in_=w.top, side=LEFT)\n",
    "\n",
    "s = Button(w, text='폴더 찾아보기', command=find_folder)\n",
    "s.pack(in_=w.top, side=LEFT)\n",
    "s = Button(w, text='이미지 찾아보기', command=find_img)\n",
    "s.pack(in_=w.top, side=LEFT)\n",
    "s = Button(w, text='이미지 입력', command=set_img)\n",
    "s.pack(in_=w.top, side=LEFT)\n",
    "b = Button(w, text='폴더 입력', command=lambda : [show_folder_img(), set_start()])\n",
    "b.pack(in_=w.top, side=LEFT)\n",
    "\n",
    "w.tk.mainloop()"
   ]
  },
  {
   "cell_type": "code",
   "execution_count": null,
   "id": "5bf1cae3-db73-4525-a230-42bd81ca09af",
   "metadata": {},
   "outputs": [],
   "source": []
  },
  {
   "cell_type": "code",
   "execution_count": null,
   "id": "9f3a8b24-f433-4e8a-a532-4ab3041ee2dd",
   "metadata": {},
   "outputs": [],
   "source": []
  },
  {
   "cell_type": "code",
   "execution_count": null,
   "id": "898c3341-9462-458a-9770-284d0209e414",
   "metadata": {},
   "outputs": [],
   "source": []
  }
 ],
 "metadata": {
  "kernelspec": {
   "display_name": "Python 3 (ipykernel)",
   "language": "python",
   "name": "python3"
  },
  "language_info": {
   "codemirror_mode": {
    "name": "ipython",
    "version": 3
   },
   "file_extension": ".py",
   "mimetype": "text/x-python",
   "name": "python",
   "nbconvert_exporter": "python",
   "pygments_lexer": "ipython3",
   "version": "3.9.10"
  }
 },
 "nbformat": 4,
 "nbformat_minor": 5
}
