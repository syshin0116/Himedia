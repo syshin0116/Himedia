{
 "cells": [
  {
   "cell_type": "code",
   "execution_count": 1,
   "id": "7ffc8d65",
   "metadata": {},
   "outputs": [],
   "source": [
    "import numpy as np\n",
    "import os"
   ]
  },
  {
   "cell_type": "code",
   "execution_count": 2,
   "id": "b318e678",
   "metadata": {},
   "outputs": [
    {
     "name": "stdout",
     "output_type": "stream",
     "text": [
      "C:\\Users\\hi\\hi-AI\\DeepLearning\n"
     ]
    }
   ],
   "source": [
    "print(os.getcwd())"
   ]
  },
  {
   "cell_type": "code",
   "execution_count": 3,
   "id": "4d0328f6",
   "metadata": {},
   "outputs": [],
   "source": [
    "os.chdir('D:/travel_images')"
   ]
  },
  {
   "cell_type": "code",
   "execution_count": 4,
   "id": "cce8c062",
   "metadata": {},
   "outputs": [
    {
     "data": {
      "text/plain": [
       "'D:\\\\travel_images'"
      ]
     },
     "execution_count": 4,
     "metadata": {},
     "output_type": "execute_result"
    }
   ],
   "source": [
    "os.getcwd()"
   ]
  },
  {
   "cell_type": "code",
   "execution_count": 5,
   "id": "51fdb55f",
   "metadata": {},
   "outputs": [],
   "source": [
    "data_dir=os.getcwd()"
   ]
  },
  {
   "cell_type": "code",
   "execution_count": 6,
   "id": "0a1c6dfe",
   "metadata": {},
   "outputs": [],
   "source": [
    "import glob"
   ]
  },
  {
   "cell_type": "code",
   "execution_count": 7,
   "id": "3505d73c",
   "metadata": {},
   "outputs": [],
   "source": [
    "data_list=glob.glob('*.*')"
   ]
  },
  {
   "cell_type": "code",
   "execution_count": 8,
   "id": "49e36c3d",
   "metadata": {},
   "outputs": [
    {
     "data": {
      "text/plain": [
       "['architecture (1).jpg',\n",
       " 'architecture (10).jpg',\n",
       " 'architecture (100).jpg',\n",
       " 'architecture (1000).jpg',\n",
       " 'architecture (1001).jpg']"
      ]
     },
     "execution_count": 8,
     "metadata": {},
     "output_type": "execute_result"
    }
   ],
   "source": [
    "data_list[:5]"
   ]
  },
  {
   "cell_type": "code",
   "execution_count": 9,
   "id": "e3a96b49",
   "metadata": {},
   "outputs": [
    {
     "data": {
      "text/plain": [
       "35093"
      ]
     },
     "execution_count": 9,
     "metadata": {},
     "output_type": "execute_result"
    }
   ],
   "source": [
    "len(data_list)"
   ]
  },
  {
   "cell_type": "code",
   "execution_count": 10,
   "id": "9266a67c",
   "metadata": {},
   "outputs": [
    {
     "name": "stderr",
     "output_type": "stream",
     "text": [
      "C:\\ProgramData\\Anaconda3\\lib\\site-packages\\requests\\__init__.py:91: RequestsDependencyWarning: urllib3 (1.25.11) or chardet (4.0.0) doesn't match a supported version!\n",
      "  RequestsDependencyWarning)\n"
     ]
    }
   ],
   "source": [
    "from tensorflow.keras.preprocessing.text import text_to_word_sequence"
   ]
  },
  {
   "cell_type": "code",
   "execution_count": 11,
   "id": "4811561b",
   "metadata": {},
   "outputs": [],
   "source": [
    "# string을 특정한 기준에 의해 token으로 끊어 리스트를 리턴\n",
    "token=text_to_word_sequence(data_list[0])"
   ]
  },
  {
   "cell_type": "code",
   "execution_count": 12,
   "id": "03a60749",
   "metadata": {
    "scrolled": true
   },
   "outputs": [
    {
     "data": {
      "text/plain": [
       "['architecture', '1', 'jpg']"
      ]
     },
     "execution_count": 12,
     "metadata": {},
     "output_type": "execute_result"
    }
   ],
   "source": [
    "token"
   ]
  },
  {
   "cell_type": "code",
   "execution_count": 13,
   "id": "04b96cbd",
   "metadata": {
    "scrolled": true
   },
   "outputs": [
    {
     "data": {
      "text/plain": [
       "'architecture'"
      ]
     },
     "execution_count": 13,
     "metadata": {},
     "output_type": "execute_result"
    }
   ],
   "source": [
    "token[0]"
   ]
  },
  {
   "cell_type": "code",
   "execution_count": 14,
   "id": "cfb8c124",
   "metadata": {},
   "outputs": [
    {
     "data": {
      "text/plain": [
       "['art_and_culture', '1924', '.jpg']"
      ]
     },
     "execution_count": 14,
     "metadata": {},
     "output_type": "execute_result"
    }
   ],
   "source": [
    "text_to_word_sequence(data_list[9999], filters='()')"
   ]
  },
  {
   "cell_type": "code",
   "execution_count": 15,
   "id": "38b3fc0c",
   "metadata": {},
   "outputs": [],
   "source": [
    "label=[]\n",
    "for x in data_list:\n",
    "    label.append(text_to_word_sequence(x, filters='()')[0])"
   ]
  },
  {
   "cell_type": "code",
   "execution_count": 16,
   "id": "1c4f5b3f",
   "metadata": {},
   "outputs": [
    {
     "data": {
      "text/plain": [
       "['architecture',\n",
       " 'architecture',\n",
       " 'architecture',\n",
       " 'architecture',\n",
       " 'architecture']"
      ]
     },
     "execution_count": 16,
     "metadata": {},
     "output_type": "execute_result"
    }
   ],
   "source": [
    "label[:5]"
   ]
  },
  {
   "cell_type": "code",
   "execution_count": 17,
   "id": "3861f933",
   "metadata": {},
   "outputs": [
    {
     "data": {
      "text/plain": [
       "35093"
      ]
     },
     "execution_count": 17,
     "metadata": {},
     "output_type": "execute_result"
    }
   ],
   "source": [
    "len(label)"
   ]
  },
  {
   "cell_type": "code",
   "execution_count": 18,
   "id": "172dd2d4",
   "metadata": {},
   "outputs": [],
   "source": [
    "# 라벨 인코더 - 카테고리형 문자를 숫자로 자동 변환해주는 역할\n",
    "from sklearn.preprocessing import LabelEncoder"
   ]
  },
  {
   "cell_type": "code",
   "execution_count": 19,
   "id": "e9da0531",
   "metadata": {},
   "outputs": [],
   "source": [
    "encoder=LabelEncoder()\n",
    "label_encode=encoder.fit_transform(label)"
   ]
  },
  {
   "cell_type": "code",
   "execution_count": 20,
   "id": "e609f788",
   "metadata": {},
   "outputs": [
    {
     "data": {
      "text/plain": [
       "array(['architecture', 'art_and_culture', 'food_and_drinks',\n",
       "       'travel_and_adventure'], dtype='<U20')"
      ]
     },
     "execution_count": 20,
     "metadata": {},
     "output_type": "execute_result"
    }
   ],
   "source": [
    "encoder.classes_ # 인코딩된 분류 이름들"
   ]
  },
  {
   "cell_type": "code",
   "execution_count": 21,
   "id": "a2068123",
   "metadata": {},
   "outputs": [
    {
     "data": {
      "text/plain": [
       "array([0, 0, 0, 0, 0], dtype=int64)"
      ]
     },
     "execution_count": 21,
     "metadata": {},
     "output_type": "execute_result"
    }
   ],
   "source": [
    "label_encode[:5]"
   ]
  },
  {
   "cell_type": "code",
   "execution_count": 22,
   "id": "95bb7c2f",
   "metadata": {},
   "outputs": [
    {
     "name": "stderr",
     "output_type": "stream",
     "text": [
      "\n",
      "Bad key text.latex.preview in file C:\\ProgramData\\Anaconda3\\lib\\site-packages\\matplotlib\\mpl-data\\stylelib\\_classic_test.mplstyle, line 123 ('text.latex.preview : False')\n",
      "You probably need to get an updated matplotlibrc file from\n",
      "https://github.com/matplotlib/matplotlib/blob/v3.5.1/matplotlibrc.template\n",
      "or from the matplotlib source distribution\n",
      "\n",
      "Bad key mathtext.fallback_to_cm in file C:\\ProgramData\\Anaconda3\\lib\\site-packages\\matplotlib\\mpl-data\\stylelib\\_classic_test.mplstyle, line 155 ('mathtext.fallback_to_cm : True  # When True, use symbols from the Computer Modern')\n",
      "You probably need to get an updated matplotlibrc file from\n",
      "https://github.com/matplotlib/matplotlib/blob/v3.5.1/matplotlibrc.template\n",
      "or from the matplotlib source distribution\n",
      "\n",
      "Bad key savefig.jpeg_quality in file C:\\ProgramData\\Anaconda3\\lib\\site-packages\\matplotlib\\mpl-data\\stylelib\\_classic_test.mplstyle, line 418 ('savefig.jpeg_quality: 95       # when a jpeg is saved, the default quality parameter.')\n",
      "You probably need to get an updated matplotlibrc file from\n",
      "https://github.com/matplotlib/matplotlib/blob/v3.5.1/matplotlibrc.template\n",
      "or from the matplotlib source distribution\n",
      "\n",
      "Bad key keymap.all_axes in file C:\\ProgramData\\Anaconda3\\lib\\site-packages\\matplotlib\\mpl-data\\stylelib\\_classic_test.mplstyle, line 466 ('keymap.all_axes : a                 # enable all axes')\n",
      "You probably need to get an updated matplotlibrc file from\n",
      "https://github.com/matplotlib/matplotlib/blob/v3.5.1/matplotlibrc.template\n",
      "or from the matplotlib source distribution\n",
      "\n",
      "Bad key animation.avconv_path in file C:\\ProgramData\\Anaconda3\\lib\\site-packages\\matplotlib\\mpl-data\\stylelib\\_classic_test.mplstyle, line 477 ('animation.avconv_path: avconv     # Path to avconv binary. Without full path')\n",
      "You probably need to get an updated matplotlibrc file from\n",
      "https://github.com/matplotlib/matplotlib/blob/v3.5.1/matplotlibrc.template\n",
      "or from the matplotlib source distribution\n",
      "\n",
      "Bad key animation.avconv_args in file C:\\ProgramData\\Anaconda3\\lib\\site-packages\\matplotlib\\mpl-data\\stylelib\\_classic_test.mplstyle, line 479 ('animation.avconv_args:            # Additional arguments to pass to avconv')\n",
      "You probably need to get an updated matplotlibrc file from\n",
      "https://github.com/matplotlib/matplotlib/blob/v3.5.1/matplotlibrc.template\n",
      "or from the matplotlib source distribution\n"
     ]
    }
   ],
   "source": [
    "import cv2\n",
    "import matplotlib.pyplot as plt"
   ]
  },
  {
   "cell_type": "code",
   "execution_count": 23,
   "id": "db4af477",
   "metadata": {},
   "outputs": [],
   "source": [
    "img=cv2.imread(data_list[0])"
   ]
  },
  {
   "cell_type": "code",
   "execution_count": 24,
   "id": "d1483a89",
   "metadata": {},
   "outputs": [
    {
     "data": {
      "text/plain": [
       "<matplotlib.image.AxesImage at 0x2393fa44d88>"
      ]
     },
     "execution_count": 24,
     "metadata": {},
     "output_type": "execute_result"
    },
    {
     "data": {
      "image/png": "[encoded data removed]",
      "text/plain": [
       "<Figure size 432x288 with 1 Axes>"
      ]
     },
     "metadata": {
      "needs_background": "light"
     },
     "output_type": "display_data"
    }
   ],
   "source": [
    "plt.imshow(img)"
   ]
  },
  {
   "cell_type": "code",
   "execution_count": 25,
   "id": "d20c0791",
   "metadata": {},
   "outputs": [
    {
     "data": {
      "text/plain": [
       "(128, 128, 3)"
      ]
     },
     "execution_count": 25,
     "metadata": {},
     "output_type": "execute_result"
    }
   ],
   "source": [
    "img.shape # 사진이 컬러인 경우 => 3, 흑백인 경우 => 1"
   ]
  },
  {
   "cell_type": "code",
   "execution_count": 26,
   "id": "6a4483a4",
   "metadata": {},
   "outputs": [],
   "source": [
    "# 표준화\n",
    "img=img/255"
   ]
  },
  {
   "cell_type": "code",
   "execution_count": 27,
   "id": "ab08bd1d",
   "metadata": {},
   "outputs": [
    {
     "data": {
      "text/plain": [
       "array([0.89803922, 0.83529412, 0.74509804])"
      ]
     },
     "execution_count": 27,
     "metadata": {},
     "output_type": "execute_result"
    }
   ],
   "source": [
    "img[0][0]"
   ]
  },
  {
   "cell_type": "code",
   "execution_count": 28,
   "id": "5769ede4",
   "metadata": {},
   "outputs": [],
   "source": [
    "# 크기를 동일하게 맞추어 변경해주자\n",
    "data_height=150\n",
    "data_width=150\n",
    "channel_n=3 # 컬러 색상으로 설정"
   ]
  },
  {
   "cell_type": "code",
   "execution_count": 29,
   "id": "dcd1b11f",
   "metadata": {},
   "outputs": [],
   "source": [
    "img_resize=cv2.resize(img, (data_height, data_width))"
   ]
  },
  {
   "cell_type": "code",
   "execution_count": 30,
   "id": "86a35b24",
   "metadata": {},
   "outputs": [
    {
     "data": {
      "text/plain": [
       "(150, 150, 3)"
      ]
     },
     "execution_count": 30,
     "metadata": {},
     "output_type": "execute_result"
    }
   ],
   "source": [
    "img_resize.shape"
   ]
  },
  {
   "cell_type": "code",
   "execution_count": 40,
   "id": "d0d9312b",
   "metadata": {},
   "outputs": [],
   "source": [
    "# 사진 35093개의 크기를 모두 변경\n",
    "resize_list=[]\n",
    "error_list=[]\n",
    "i=9000\n",
    "for x in data_list[9000:10000]:\n",
    "    try:\n",
    "        one=cv2.imread(x)/255\n",
    "        resize=cv2.resize(one, (data_height, data_width))\n",
    "        resize_list.append(resize)\n",
    "        i=i+1\n",
    "    except:\n",
    "        error_list.append((i,x))\n",
    "        i=i+1\n",
    "        pass"
   ]
  },
  {
   "cell_type": "code",
   "execution_count": 41,
   "id": "6cf00b26",
   "metadata": {},
   "outputs": [
    {
     "data": {
      "text/plain": [
       "[(9123, 'art_and_culture (1267).jpg'),\n",
       " (9156, 'art_and_culture (1291).jpg'),\n",
       " (9227, 'art_and_culture (1344).jpg'),\n",
       " (9241, 'art_and_culture (1355).jpg'),\n",
       " (9544, 'art_and_culture (1583).jpg'),\n",
       " (9585, 'art_and_culture (1612).jpg'),\n",
       " (9909, 'art_and_culture (1858).jpg'),\n",
       " (9920, 'art_and_culture (1866).jpg')]"
      ]
     },
     "execution_count": 41,
     "metadata": {},
     "output_type": "execute_result"
    }
   ],
   "source": [
    "error_list"
   ]
  },
  {
   "cell_type": "code",
   "execution_count": 36,
   "id": "9cf24141",
   "metadata": {},
   "outputs": [
    {
     "ename": "TypeError",
     "evalue": "unsupported operand type(s) for /: 'NoneType' and 'int'",
     "output_type": "error",
     "traceback": [
      "\u001b[1;31m---------------------------------------------------------------------------\u001b[0m",
      "\u001b[1;31mTypeError\u001b[0m                                 Traceback (most recent call last)",
      "\u001b[1;32m~\\AppData\\Local\\Temp\\ipykernel_7152\\1421271185.py\u001b[0m in \u001b[0;36m<module>\u001b[1;34m\u001b[0m\n\u001b[0;32m      2\u001b[0m \u001b[0merror_list\u001b[0m\u001b[1;33m=\u001b[0m\u001b[1;33m[\u001b[0m\u001b[1;33m]\u001b[0m\u001b[1;33m\u001b[0m\u001b[1;33m\u001b[0m\u001b[0m\n\u001b[0;32m      3\u001b[0m \u001b[1;32mfor\u001b[0m \u001b[0mx\u001b[0m \u001b[1;32min\u001b[0m \u001b[0mdata_list\u001b[0m\u001b[1;33m[\u001b[0m\u001b[1;36m9000\u001b[0m\u001b[1;33m:\u001b[0m\u001b[1;36m10000\u001b[0m\u001b[1;33m]\u001b[0m\u001b[1;33m:\u001b[0m\u001b[1;33m\u001b[0m\u001b[1;33m\u001b[0m\u001b[0m\n\u001b[1;32m----> 4\u001b[1;33m     \u001b[0mone\u001b[0m\u001b[1;33m=\u001b[0m\u001b[0mcv2\u001b[0m\u001b[1;33m.\u001b[0m\u001b[0mimread\u001b[0m\u001b[1;33m(\u001b[0m\u001b[0mx\u001b[0m\u001b[1;33m)\u001b[0m\u001b[1;33m/\u001b[0m\u001b[1;36m255\u001b[0m\u001b[1;33m\u001b[0m\u001b[1;33m\u001b[0m\u001b[0m\n\u001b[0m\u001b[0;32m      5\u001b[0m     \u001b[0mresize\u001b[0m\u001b[1;33m=\u001b[0m\u001b[0mcv2\u001b[0m\u001b[1;33m.\u001b[0m\u001b[0mresize\u001b[0m\u001b[1;33m(\u001b[0m\u001b[0mone\u001b[0m\u001b[1;33m,\u001b[0m \u001b[1;33m(\u001b[0m\u001b[0mdata_height\u001b[0m\u001b[1;33m,\u001b[0m \u001b[0mdata_width\u001b[0m\u001b[1;33m)\u001b[0m\u001b[1;33m)\u001b[0m\u001b[1;33m\u001b[0m\u001b[1;33m\u001b[0m\u001b[0m\n\u001b[0;32m      6\u001b[0m     \u001b[0mresize_list\u001b[0m\u001b[1;33m.\u001b[0m\u001b[0mappend\u001b[0m\u001b[1;33m(\u001b[0m\u001b[0mresize\u001b[0m\u001b[1;33m)\u001b[0m\u001b[1;33m\u001b[0m\u001b[1;33m\u001b[0m\u001b[0m\n",
      "\u001b[1;31mTypeError\u001b[0m: unsupported operand type(s) for /: 'NoneType' and 'int'"
     ]
    }
   ],
   "source": [
    "resize_list=[]\n",
    "error_list=[]\n",
    "for x in data_list[9000:10000]:\n",
    "    one=cv2.imread(x)/255\n",
    "    resize=cv2.resize(one, (data_height, data_width))\n",
    "    resize_list.append(resize)"
   ]
  },
  {
   "cell_type": "code",
   "execution_count": 46,
   "id": "05130d82",
   "metadata": {},
   "outputs": [],
   "source": [
    "error_img=cv2.imread(data_list[9123])"
   ]
  },
  {
   "cell_type": "code",
   "execution_count": 49,
   "id": "fc7ee0f4",
   "metadata": {},
   "outputs": [
    {
     "data": {
      "text/plain": [
       "NoneType"
      ]
     },
     "execution_count": 49,
     "metadata": {},
     "output_type": "execute_result"
    }
   ],
   "source": [
    "type(error_img)"
   ]
  },
  {
   "cell_type": "code",
   "execution_count": 50,
   "id": "453a976d",
   "metadata": {},
   "outputs": [],
   "source": [
    "# 사진 35093개의 크기를 모두 변경\n",
    "resize_list=[]\n",
    "error_list=[]\n",
    "i=9000\n",
    "for x in data_list:\n",
    "    try:\n",
    "        one=cv2.imread(x)/255\n",
    "        resize=cv2.resize(one, (data_height, data_width))\n",
    "        resize_list.append(resize)\n",
    "        i=i+1\n",
    "    except:\n",
    "        error_list.append((i,x))\n",
    "        i=i+1\n",
    "        pass"
   ]
  },
  {
   "cell_type": "code",
   "execution_count": 56,
   "id": "7f30dc28",
   "metadata": {},
   "outputs": [
    {
     "data": {
      "text/plain": [
       "7710"
      ]
     },
     "execution_count": 56,
     "metadata": {},
     "output_type": "execute_result"
    }
   ],
   "source": [
    "len(error_list)"
   ]
  },
  {
   "cell_type": "code",
   "execution_count": 54,
   "id": "060ce521",
   "metadata": {},
   "outputs": [
    {
     "data": {
      "text/plain": [
       "str"
      ]
     },
     "execution_count": 54,
     "metadata": {},
     "output_type": "execute_result"
    }
   ],
   "source": [
    "type(error_list[0][1])"
   ]
  },
  {
   "cell_type": "code",
   "execution_count": 55,
   "id": "5cefbe88",
   "metadata": {},
   "outputs": [
    {
     "data": {
      "text/plain": [
       "'art_and_culture (1267).jpg'"
      ]
     },
     "execution_count": 55,
     "metadata": {},
     "output_type": "execute_result"
    }
   ],
   "source": [
    "error_list[0][1]"
   ]
  },
  {
   "cell_type": "code",
   "execution_count": 57,
   "id": "e6524c42",
   "metadata": {},
   "outputs": [],
   "source": [
    "# Nontype 이미지 제거\n",
    "os.remove(error_list[0][1])"
   ]
  },
  {
   "cell_type": "code",
   "execution_count": 59,
   "id": "f7d22a3d",
   "metadata": {},
   "outputs": [],
   "source": [
    "# Nontype 이미지 전부 제거\n",
    "for i in range(1, len(error_list)):\n",
    "    os.remove(error_list[i][1])"
   ]
  },
  {
   "cell_type": "code",
   "execution_count": null,
   "id": "91e24445",
   "metadata": {},
   "outputs": [],
   "source": []
  }
 ],
 "metadata": {
  "kernelspec": {
   "display_name": "Python 3 (ipykernel)",
   "language": "python",
   "name": "python3"
  },
  "language_info": {
   "codemirror_mode": {
    "name": "ipython",
    "version": 3
   },
   "file_extension": ".py",
   "mimetype": "text/x-python",
   "name": "python",
   "nbconvert_exporter": "python",
   "pygments_lexer": "ipython3",
   "version": "3.7.4"
  }
 },
 "nbformat": 4,
 "nbformat_minor": 5
}
