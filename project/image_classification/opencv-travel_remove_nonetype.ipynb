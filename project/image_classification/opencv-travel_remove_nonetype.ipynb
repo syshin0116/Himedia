{
 "cells": [
  {
   "cell_type": "code",
   "execution_count": 3,
   "id": "7ffc8d65",
   "metadata": {},
   "outputs": [],
   "source": [
    "import numpy as np\n",
    "import os"
   ]
  },
  {
   "cell_type": "code",
   "execution_count": 4,
   "id": "b318e678",
   "metadata": {},
   "outputs": [
    {
     "name": "stdout",
     "output_type": "stream",
     "text": [
      "/Users/syshin/Desktop/Himedia/Himedia_project/이미지분류\n"
     ]
    }
   ],
   "source": [
    "print(os.getcwd())"
   ]
  },
  {
   "cell_type": "code",
   "execution_count": 5,
   "id": "4d0328f6",
   "metadata": {},
   "outputs": [],
   "source": [
    "os.chdir(os.getcwd()+\"/travel_images\")"
   ]
  },
  {
   "cell_type": "code",
   "execution_count": 6,
   "id": "cce8c062",
   "metadata": {},
   "outputs": [
    {
     "data": {
      "text/plain": [
       "'/Users/syshin/Desktop/Himedia/Himedia_project/이미지분류/travel_images'"
      ]
     },
     "execution_count": 6,
     "metadata": {},
     "output_type": "execute_result"
    }
   ],
   "source": [
    "os.getcwd()"
   ]
  },
  {
   "cell_type": "code",
   "execution_count": 7,
   "id": "51fdb55f",
   "metadata": {},
   "outputs": [],
   "source": [
    "data_dir=os.getcwd()"
   ]
  },
  {
   "cell_type": "code",
   "execution_count": 8,
   "id": "0a1c6dfe",
   "metadata": {},
   "outputs": [],
   "source": [
    "import glob"
   ]
  },
  {
   "cell_type": "code",
   "execution_count": 9,
   "id": "3505d73c",
   "metadata": {},
   "outputs": [],
   "source": [
    "data_list=glob.glob('*.*')"
   ]
  },
  {
   "cell_type": "code",
   "execution_count": 10,
   "id": "49e36c3d",
   "metadata": {},
   "outputs": [
    {
     "data": {
      "text/plain": [
       "['architecture (5003).jpg',\n",
       " 'art_and_culture (1330).jpg',\n",
       " 'travel_and_adventure (4754).jpg',\n",
       " 'travel_and_adventure (3091).jpg',\n",
       " 'art_and_culture (681).jpg']"
      ]
     },
     "execution_count": 10,
     "metadata": {},
     "output_type": "execute_result"
    }
   ],
   "source": [
    "data_list[:5]"
   ]
  },
  {
   "cell_type": "code",
   "execution_count": 11,
   "id": "e3a96b49",
   "metadata": {},
   "outputs": [
    {
     "data": {
      "text/plain": [
       "35035"
      ]
     },
     "execution_count": 11,
     "metadata": {},
     "output_type": "execute_result"
    }
   ],
   "source": [
    "len(data_list)"
   ]
  },
  {
   "cell_type": "code",
   "execution_count": 12,
   "id": "9266a67c",
   "metadata": {},
   "outputs": [],
   "source": [
    "from tensorflow.keras.preprocessing.text import text_to_word_sequence"
   ]
  },
  {
   "cell_type": "code",
   "execution_count": 13,
   "id": "4811561b",
   "metadata": {},
   "outputs": [],
   "source": [
    "# string을 특정한 기준에 의해 token으로 끊어 리스트를 리턴\n",
    "token=text_to_word_sequence(data_list[0])"
   ]
  },
  {
   "cell_type": "code",
   "execution_count": 14,
   "id": "03a60749",
   "metadata": {
    "scrolled": true
   },
   "outputs": [
    {
     "data": {
      "text/plain": [
       "['architecture', '5003', 'jpg']"
      ]
     },
     "execution_count": 14,
     "metadata": {},
     "output_type": "execute_result"
    }
   ],
   "source": [
    "token"
   ]
  },
  {
   "cell_type": "code",
   "execution_count": 15,
   "id": "04b96cbd",
   "metadata": {
    "scrolled": true
   },
   "outputs": [
    {
     "data": {
      "text/plain": [
       "'architecture'"
      ]
     },
     "execution_count": 15,
     "metadata": {},
     "output_type": "execute_result"
    }
   ],
   "source": [
    "token[0]"
   ]
  },
  {
   "cell_type": "code",
   "execution_count": 16,
   "id": "cfb8c124",
   "metadata": {},
   "outputs": [
    {
     "data": {
      "text/plain": [
       "['architecture', '1498', '.jpg']"
      ]
     },
     "execution_count": 16,
     "metadata": {},
     "output_type": "execute_result"
    }
   ],
   "source": [
    "text_to_word_sequence(data_list[9999], filters='()')"
   ]
  },
  {
   "cell_type": "code",
   "execution_count": 17,
   "id": "38b3fc0c",
   "metadata": {},
   "outputs": [],
   "source": [
    "label=[]\n",
    "for x in data_list:\n",
    "    label.append(text_to_word_sequence(x, filters='()')[0])"
   ]
  },
  {
   "cell_type": "code",
   "execution_count": 18,
   "id": "1c4f5b3f",
   "metadata": {},
   "outputs": [
    {
     "data": {
      "text/plain": [
       "['architecture',\n",
       " 'art_and_culture',\n",
       " 'travel_and_adventure',\n",
       " 'travel_and_adventure',\n",
       " 'art_and_culture']"
      ]
     },
     "execution_count": 18,
     "metadata": {},
     "output_type": "execute_result"
    }
   ],
   "source": [
    "label[:5]"
   ]
  },
  {
   "cell_type": "code",
   "execution_count": 19,
   "id": "3861f933",
   "metadata": {},
   "outputs": [
    {
     "data": {
      "text/plain": [
       "35035"
      ]
     },
     "execution_count": 19,
     "metadata": {},
     "output_type": "execute_result"
    }
   ],
   "source": [
    "len(label)"
   ]
  },
  {
   "cell_type": "code",
   "execution_count": 20,
   "id": "172dd2d4",
   "metadata": {},
   "outputs": [],
   "source": [
    "# 라벨 인코더 - 카테고리형 문자를 숫자로 자동 변환해주는 역할\n",
    "from sklearn.preprocessing import LabelEncoder"
   ]
  },
  {
   "cell_type": "code",
   "execution_count": 21,
   "id": "e9da0531",
   "metadata": {},
   "outputs": [],
   "source": [
    "encoder=LabelEncoder()\n",
    "label_encode=encoder.fit_transform(label)"
   ]
  },
  {
   "cell_type": "code",
   "execution_count": 22,
   "id": "e609f788",
   "metadata": {},
   "outputs": [
    {
     "data": {
      "text/plain": [
       "array(['architecture', 'art_and_culture', 'best_cnn_1.h5',\n",
       "       'food_and_drinks', 'travel_and_adventure'], dtype='<U20')"
      ]
     },
     "execution_count": 22,
     "metadata": {},
     "output_type": "execute_result"
    }
   ],
   "source": [
    "encoder.classes_ # 인코딩된 분류 이름들"
   ]
  },
  {
   "cell_type": "code",
   "execution_count": 23,
   "id": "a2068123",
   "metadata": {},
   "outputs": [
    {
     "data": {
      "text/plain": [
       "array([0, 1, 4, 4, 1])"
      ]
     },
     "execution_count": 23,
     "metadata": {},
     "output_type": "execute_result"
    }
   ],
   "source": [
    "label_encode[:5]"
   ]
  },
  {
   "cell_type": "code",
   "execution_count": 24,
   "id": "95bb7c2f",
   "metadata": {},
   "outputs": [],
   "source": [
    "import cv2\n",
    "import matplotlib.pyplot as plt"
   ]
  },
  {
   "cell_type": "code",
   "execution_count": 25,
   "id": "db4af477",
   "metadata": {},
   "outputs": [],
   "source": [
    "img=cv2.imread(data_list[0])"
   ]
  },
  {
   "cell_type": "code",
   "execution_count": 26,
   "id": "d1483a89",
   "metadata": {},
   "outputs": [
    {
     "data": {
      "text/plain": [
       "<matplotlib.image.AxesImage at 0x2c340a7c0>"
      ]
     },
     "execution_count": 26,
     "metadata": {},
     "output_type": "execute_result"
    },
    {
     "data": {
      "image/png": "[encoded data removed]",
      "text/plain": [
       "<Figure size 432x288 with 1 Axes>"
      ]
     },
     "metadata": {
      "needs_background": "light"
     },
     "output_type": "display_data"
    }
   ],
   "source": [
    "plt.imshow(img)"
   ]
  },
  {
   "cell_type": "code",
   "execution_count": 71,
   "id": "d20c0791",
   "metadata": {},
   "outputs": [
    {
     "data": {
      "text/plain": [
       "(128, 128, 3)"
      ]
     },
     "execution_count": 71,
     "metadata": {},
     "output_type": "execute_result"
    }
   ],
   "source": [
    "img.shape # 사진이 컬러인 경우 => 3, 흑백인 경우 => 1"
   ]
  },
  {
   "cell_type": "code",
   "execution_count": 72,
   "id": "6a4483a4",
   "metadata": {},
   "outputs": [],
   "source": [
    "# 표준화\n",
    "img=img/255"
   ]
  },
  {
   "cell_type": "code",
   "execution_count": 73,
   "id": "ab08bd1d",
   "metadata": {},
   "outputs": [
    {
     "data": {
      "text/plain": [
       "array([0.23529412, 0.22745098, 0.43137255])"
      ]
     },
     "execution_count": 73,
     "metadata": {},
     "output_type": "execute_result"
    }
   ],
   "source": [
    "img[0][0]"
   ]
  },
  {
   "cell_type": "code",
   "execution_count": 74,
   "id": "5769ede4",
   "metadata": {},
   "outputs": [],
   "source": [
    "# 크기를 동일하게 맞추어 변경해주자\n",
    "data_height=150\n",
    "data_width=150\n",
    "channel_n=3 # 컬러 색상으로 설정"
   ]
  },
  {
   "cell_type": "code",
   "execution_count": 75,
   "id": "dcd1b11f",
   "metadata": {},
   "outputs": [],
   "source": [
    "img_resize=cv2.resize(img, (data_height, data_width))"
   ]
  },
  {
   "cell_type": "code",
   "execution_count": 76,
   "id": "86a35b24",
   "metadata": {},
   "outputs": [
    {
     "data": {
      "text/plain": [
       "(150, 150, 3)"
      ]
     },
     "execution_count": 76,
     "metadata": {},
     "output_type": "execute_result"
    }
   ],
   "source": [
    "img_resize.shape"
   ]
  },
  {
   "cell_type": "code",
   "execution_count": 2,
   "id": "d0d9312b",
   "metadata": {},
   "outputs": [
    {
     "ename": "NameError",
     "evalue": "name 'data_list' is not defined",
     "output_type": "error",
     "traceback": [
      "\u001b[0;31m---------------------------------------------------------------------------\u001b[0m",
      "\u001b[0;31mNameError\u001b[0m                                 Traceback (most recent call last)",
      "Input \u001b[0;32mIn [2]\u001b[0m, in \u001b[0;36m<cell line: 5>\u001b[0;34m()\u001b[0m\n\u001b[1;32m      3\u001b[0m error_list\u001b[38;5;241m=\u001b[39m[]\n\u001b[1;32m      4\u001b[0m i\u001b[38;5;241m=\u001b[39m\u001b[38;5;241m9000\u001b[39m\n\u001b[0;32m----> 5\u001b[0m \u001b[38;5;28;01mfor\u001b[39;00m x \u001b[38;5;129;01min\u001b[39;00m \u001b[43mdata_list\u001b[49m:\n\u001b[1;32m      6\u001b[0m     \u001b[38;5;28;01mtry\u001b[39;00m:\n\u001b[1;32m      7\u001b[0m         one\u001b[38;5;241m=\u001b[39mcv2\u001b[38;5;241m.\u001b[39mimread(x)\u001b[38;5;241m/\u001b[39m\u001b[38;5;241m255\u001b[39m\n",
      "\u001b[0;31mNameError\u001b[0m: name 'data_list' is not defined"
     ]
    }
   ],
   "source": [
    "# 사진 35093개의 크기를 모두 변경\n",
    "resize_list=[]\n",
    "error_list=[]\n",
    "i=9000\n",
    "for x in data_list:\n",
    "    try:\n",
    "        one=cv2.imread(x)/255\n",
    "        resize=cv2.resize(one, (data_height, data_width))\n",
    "        resize_list.append(resize)\n",
    "        i=i+1\n",
    "    except:\n",
    "        error_list.append((i,x))\n",
    "        i=i+1\n",
    "        pass"
   ]
  },
  {
   "cell_type": "code",
   "execution_count": 78,
   "id": "6cf00b26",
   "metadata": {},
   "outputs": [
    {
     "data": {
      "text/plain": [
       "[]"
      ]
     },
     "execution_count": 78,
     "metadata": {},
     "output_type": "execute_result"
    }
   ],
   "source": [
    "error_list"
   ]
  },
  {
   "cell_type": "code",
   "execution_count": 79,
   "id": "9cf24141",
   "metadata": {},
   "outputs": [
    {
     "name": "stderr",
     "output_type": "stream",
     "text": [
      "libpng warning: iCCP: known incorrect sRGB profile\n"
     ]
    }
   ],
   "source": [
    "resize_list=[]\n",
    "error_list=[]\n",
    "for x in data_list[9000:10000]:\n",
    "    one=cv2.imread(x)/255\n",
    "    resize=cv2.resize(one, (data_height, data_width))\n",
    "    resize_list.append(resize)"
   ]
  },
  {
   "cell_type": "code",
   "execution_count": 80,
   "id": "05130d82",
   "metadata": {},
   "outputs": [],
   "source": [
    "error_img=cv2.imread(data_list[9123])"
   ]
  },
  {
   "cell_type": "code",
   "execution_count": 81,
   "id": "fc7ee0f4",
   "metadata": {},
   "outputs": [
    {
     "data": {
      "text/plain": [
       "numpy.ndarray"
      ]
     },
     "execution_count": 81,
     "metadata": {},
     "output_type": "execute_result"
    }
   ],
   "source": [
    "type(error_img)"
   ]
  },
  {
   "cell_type": "code",
   "execution_count": 82,
   "id": "453a976d",
   "metadata": {},
   "outputs": [
    {
     "name": "stderr",
     "output_type": "stream",
     "text": [
      "libpng warning: iCCP: known incorrect sRGB profile\n",
      "libpng warning: iCCP: cHRM chunk does not match sRGB\n",
      "libpng warning: iCCP: known incorrect sRGB profile\n",
      "libpng warning: iCCP: known incorrect sRGB profile\n",
      "libpng warning: iCCP: known incorrect sRGB profile\n",
      "libpng warning: iCCP: known incorrect sRGB profile\n",
      "libpng warning: iCCP: cHRM chunk does not match sRGB\n",
      "libpng warning: iCCP: known incorrect sRGB profile\n",
      "libpng warning: iCCP: known incorrect sRGB profile\n",
      "libpng warning: iCCP: known incorrect sRGB profile\n",
      "libpng warning: iCCP: cHRM chunk does not match sRGB\n",
      "libpng warning: iCCP: known incorrect sRGB profile\n",
      "libpng warning: iCCP: known incorrect sRGB profile\n",
      "libpng warning: iCCP: known incorrect sRGB profile\n",
      "libpng warning: iCCP: known incorrect sRGB profile\n",
      "libpng warning: iCCP: known incorrect sRGB profile\n",
      "libpng warning: iCCP: known incorrect sRGB profile\n",
      "libpng warning: iCCP: known incorrect sRGB profile\n",
      "libpng warning: iCCP: known incorrect sRGB profile\n",
      "libpng warning: iCCP: known incorrect sRGB profile\n",
      "libpng warning: iCCP: known incorrect sRGB profile\n",
      "libpng warning: iCCP: known incorrect sRGB profile\n",
      "libpng warning: iCCP: known incorrect sRGB profile\n",
      "libpng warning: iCCP: known incorrect sRGB profile\n",
      "libpng warning: iCCP: known incorrect sRGB profile\n"
     ]
    }
   ],
   "source": [
    "# 사진 35093개의 크기를 모두 변경\n",
    "resize_list=[]\n",
    "error_list=[]\n",
    "i=9000\n",
    "for x in data_list:\n",
    "    try:\n",
    "        one=cv2.imread(x)/255\n",
    "        resize=cv2.resize(one, (data_height, data_width))\n",
    "        resize_list.append(resize)\n",
    "        i=i+1\n",
    "    except:\n",
    "        error_list.append((i,x))\n",
    "        i=i+1\n",
    "        pass"
   ]
  },
  {
   "cell_type": "code",
   "execution_count": 83,
   "id": "7f30dc28",
   "metadata": {},
   "outputs": [
    {
     "data": {
      "text/plain": [
       "0"
      ]
     },
     "execution_count": 83,
     "metadata": {},
     "output_type": "execute_result"
    }
   ],
   "source": [
    "len(error_list)"
   ]
  },
  {
   "cell_type": "code",
   "execution_count": 84,
   "id": "060ce521",
   "metadata": {},
   "outputs": [
    {
     "ename": "IndexError",
     "evalue": "list index out of range",
     "output_type": "error",
     "traceback": [
      "\u001b[0;31m---------------------------------------------------------------------------\u001b[0m",
      "\u001b[0;31mIndexError\u001b[0m                                Traceback (most recent call last)",
      "Input \u001b[0;32mIn [84]\u001b[0m, in \u001b[0;36m<cell line: 1>\u001b[0;34m()\u001b[0m\n\u001b[0;32m----> 1\u001b[0m \u001b[38;5;28mtype\u001b[39m(\u001b[43merror_list\u001b[49m\u001b[43m[\u001b[49m\u001b[38;5;241;43m0\u001b[39;49m\u001b[43m]\u001b[49m[\u001b[38;5;241m1\u001b[39m])\n",
      "\u001b[0;31mIndexError\u001b[0m: list index out of range"
     ]
    }
   ],
   "source": [
    "type(error_list[0][1])"
   ]
  },
  {
   "cell_type": "code",
   "execution_count": null,
   "id": "5cefbe88",
   "metadata": {},
   "outputs": [],
   "source": [
    "error_list[0][1]"
   ]
  },
  {
   "cell_type": "code",
   "execution_count": null,
   "id": "e6524c42",
   "metadata": {},
   "outputs": [],
   "source": [
    "# Nontype 이미지 제거\n",
    "os.remove(error_list[0][1])"
   ]
  },
  {
   "cell_type": "code",
   "execution_count": null,
   "id": "f7d22a3d",
   "metadata": {},
   "outputs": [],
   "source": [
    "# Nontype 이미지 전부 제거\n",
    "for i in range(1, len(error_list)):\n",
    "    os.remove(error_list[i][1])"
   ]
  },
  {
   "cell_type": "code",
   "execution_count": 85,
   "id": "91e24445",
   "metadata": {},
   "outputs": [
    {
     "data": {
      "text/plain": [
       "[]"
      ]
     },
     "execution_count": 85,
     "metadata": {},
     "output_type": "execute_result"
    }
   ],
   "source": [
    "error_list"
   ]
  },
  {
   "cell_type": "code",
   "execution_count": null,
   "id": "e6e973e4-d89c-4143-8073-de60aeef9dae",
   "metadata": {},
   "outputs": [],
   "source": []
  }
 ],
 "metadata": {
  "kernelspec": {
   "display_name": "Python 3 (ipykernel)",
   "language": "python",
   "name": "python3"
  },
  "language_info": {
   "codemirror_mode": {
    "name": "ipython",
    "version": 3
   },
   "file_extension": ".py",
   "mimetype": "text/x-python",
   "name": "python",
   "nbconvert_exporter": "python",
   "pygments_lexer": "ipython3",
   "version": "3.9.10"
  }
 },
 "nbformat": 4,
 "nbformat_minor": 5
}
