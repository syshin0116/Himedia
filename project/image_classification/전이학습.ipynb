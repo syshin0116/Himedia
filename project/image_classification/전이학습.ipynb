{
 "cells": [
  {
   "cell_type": "code",
   "execution_count": 1,
   "id": "26a96b6f-94a0-4730-b1be-f6aa6e71b1f6",
   "metadata": {},
   "outputs": [
    {
     "ename": "NameError",
     "evalue": "name 'data_height' is not defined",
     "output_type": "error",
     "traceback": [
      "\u001b[0;31m---------------------------------------------------------------------------\u001b[0m",
      "\u001b[0;31mNameError\u001b[0m                                 Traceback (most recent call last)",
      "Input \u001b[0;32mIn [1]\u001b[0m, in \u001b[0;36m<cell line: 3>\u001b[0;34m()\u001b[0m\n\u001b[1;32m      1\u001b[0m \u001b[38;5;66;03m# Pre-trained 모델 가져오기\u001b[39;00m\n\u001b[1;32m      2\u001b[0m \u001b[38;5;28;01mfrom\u001b[39;00m \u001b[38;5;21;01mtensorflow\u001b[39;00m\u001b[38;5;21;01m.\u001b[39;00m\u001b[38;5;21;01mkeras\u001b[39;00m\u001b[38;5;21;01m.\u001b[39;00m\u001b[38;5;21;01mapplications\u001b[39;00m \u001b[38;5;28;01mimport\u001b[39;00m ResNet50\n\u001b[1;32m      3\u001b[0m cnn_base \u001b[38;5;241m=\u001b[39m ResNet50(include_top\u001b[38;5;241m=\u001b[39m\u001b[38;5;28;01mFalse\u001b[39;00m, weights\u001b[38;5;241m=\u001b[39m\u001b[38;5;124m'\u001b[39m\u001b[38;5;124mimagenet\u001b[39m\u001b[38;5;124m'\u001b[39m, \n\u001b[0;32m----> 4\u001b[0m                  input_shape\u001b[38;5;241m=\u001b[39m[\u001b[43mdata_height\u001b[49m, data_width, channel_n],classes\u001b[38;5;241m=\u001b[39m\u001b[38;5;241m2\u001b[39m)\n",
      "\u001b[0;31mNameError\u001b[0m: name 'data_height' is not defined"
     ]
    }
   ],
   "source": [
    "# Pre-trained 모델 가져오기\n",
    "from tensorflow.keras.applications import ResNet50\n",
    "cnn_base = ResNet50(include_top=False, weights='imagenet', \n",
    "                 input_shape=[data_height, data_width, channel_n],classes=4)  "
   ]
  },
  {
   "cell_type": "code",
   "execution_count": null,
   "id": "9eef6eee-b33f-4a15-9d89-6512e5a6fa3f",
   "metadata": {},
   "outputs": [],
   "source": [
    "### 딥러닝 학습 레이어를 쌓아준다.\n",
    "### 입력--히든--출력 순서대로 쌓아준다.\n",
    "### 입력(1개)-- 1차원이여야함.\n",
    "\n",
    "model.add(cnn_base) \n",
    "model.add(Flatten()) ## 이미지 데이터를 1차원으로 만들어주는 객체 \n",
    "### 히든\n",
    "model.add(Dense(128, activation='relu'))\n",
    "model.add(Dropout(rate=0.3))\n",
    "model.add(Dense(64, activation='relu'))\n",
    "model.add(Dropout(rate=0.3))\n",
    "model.add(Dense(32, activation='relu'))\n",
    "model.add(Dropout(rate=0.3))\n",
    "model.add(Dense(12, activation='relu'))\n",
    "model.add(Dropout(rate=0.3))\n",
    "model.add(Dense(5, activation='relu'))\n",
    "model.add(Dropout(rate=0.3))\n",
    "\n",
    "### 출력(1개)— 딥러닝하는 학습의 종류에 따라 다르게 써주어야 함.!!\n",
    "### 이진 분류인 경우(1, sigmoid)\n",
    "### 다중 분류인 경우(n, softmax)\n",
    "### 회귀인 경우(1, linear)\n",
    "model.add(Dense(1, activation='\bsoftmax'))\n",
    "model.summary()"
   ]
  }
 ],
 "metadata": {
  "kernelspec": {
   "display_name": "Python 3 (ipykernel)",
   "language": "python",
   "name": "python3"
  },
  "language_info": {
   "codemirror_mode": {
    "name": "ipython",
    "version": 3
   },
   "file_extension": ".py",
   "mimetype": "text/x-python",
   "name": "python",
   "nbconvert_exporter": "python",
   "pygments_lexer": "ipython3",
   "version": "3.9.10"
  }
 },
 "nbformat": 4,
 "nbformat_minor": 5
}
