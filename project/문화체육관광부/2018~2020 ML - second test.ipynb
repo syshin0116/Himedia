{
 "cells": [
  {
   "cell_type": "code",
   "execution_count": 30,
   "metadata": {},
   "outputs": [],
   "source": [
    "import warnings\n",
    "warnings.filterwarnings('ignore')\n",
    "from sklearn.preprocessing import StandardScaler #표준화(평균을 기준)\n",
    "from sklearn.preprocessing import MinMaxScaler   #정규화(정해진 규칙 기준, min-max)\n",
    "from sklearn.datasets import load_iris\n",
    "\n",
    "import time\n",
    "from IPython.display import Image\n",
    "import pandas as pd\n",
    "import numpy as np\n",
    "\n",
    "import matplotlib.pyplot as plt\n",
    "import seaborn as sns\n",
    "\n",
    "from sklearn.model_selection import train_test_split\n",
    "from sklearn.metrics import accuracy_score\n",
    "\n",
    "from sklearn.neighbors import KNeighborsClassifier\n",
    "from sklearn.svm import SVC\n",
    "from sklearn.tree import DecisionTreeClassifier\n",
    "\n",
    "from sklearn.model_selection import cross_val_score\n",
    "# cross_val_score: 다양한 샘플링을 해서 여러번 테스트 --> 평균치를 구해본다.!\n",
    "from sklearn.metrics import *\n",
    "\n",
    "from sklearn.model_selection import GridSearchCV\n",
    "\n",
    "from sklearn.preprocessing import LabelEncoder\n",
    "from matplotlib import rc, font_manager\n",
    "import matplotlib.font_manager as fm\n",
    "\n",
    "# 디렉토리 및 파일 이름에 맞추어 변경\n",
    "font_location = '/Users/syshin/Desktop/Himedia/Himedia_project/NanumGothic.ttf'\n",
    "\n",
    "font_name = fm.FontProperties(fname=font_location).get_name()\n",
    "rc('font', family=font_name)"
   ]
  },
  {
   "cell_type": "code",
   "execution_count": 31,
   "metadata": {},
   "outputs": [],
   "source": [
    "# data12 - 기계마모\n",
    "# data14 - 앙상블voting, 서울시구별영역나누기\n",
    "# 위 코드들 이용하여 머신러닝 모델 만들기"
   ]
  },
  {
   "cell_type": "code",
   "execution_count": 32,
   "metadata": {},
   "outputs": [],
   "source": [
    "df=pd.read_csv('국내여행_병합.csv')"
   ]
  },
  {
   "cell_type": "code",
   "execution_count": 33,
   "metadata": {
    "scrolled": true
   },
   "outputs": [
    {
     "data": {
      "text/plain": [
       "Index(['Unnamed: 0', 'year', 'target_area1', 'target_area2', 'target_area3',\n",
       "       'target_area4', 'target_area5', 'target_area6', 'target_area7',\n",
       "       'target_area8', 'target_area9', 'target_area10', 'target_area11',\n",
       "       'no_of_place', 'sleepnights_1', 'sleepnights_2', 'sleepnights_3',\n",
       "       'sleepnights_4', 'sleepnights_5', 'sleepnights_6', 'sleepnights_7',\n",
       "       'sleepnights_8', 'accommodation_1', 'accommodation_2',\n",
       "       'accommodation_3', 'number_of_ppl', 'number_of_children',\n",
       "       'cost_total_trip', 'satisfied', 'sex', 'age', 'month', 'living_area',\n",
       "       'transportation1', 'transportation2', 'transportation3', 'reason1',\n",
       "       'reason2', 'reason3', 'relationship1', 'relationship2', 'relationship3',\n",
       "       'target'],\n",
       "      dtype='object')"
      ]
     },
     "execution_count": 33,
     "metadata": {},
     "output_type": "execute_result"
    }
   ],
   "source": [
    "df.columns"
   ]
  },
  {
   "cell_type": "code",
   "execution_count": 34,
   "metadata": {},
   "outputs": [],
   "source": [
    "# sleepnights_1의 컬럼명을 sleepnights로 변경 \n",
    "df.rename(columns={'sleepnights_1':'sleepnights'}, inplace=True)\n",
    "# relationship1의 컬럼명을 relationship으로 변경\n",
    "df.rename(columns={'relationship1':'relationship'}, inplace=True)"
   ]
  },
  {
   "cell_type": "code",
   "execution_count": 35,
   "metadata": {},
   "outputs": [],
   "source": [
    "# unnamed, year, no_of_place, target_area_1~11, sleepnights_2~8, satisfied, relationship2~3 제외\n",
    "data=df[['sleepnights', 'accommodation_1', 'accommodation_2', 'accommodation_3',\n",
    "        'number_of_ppl', 'number_of_children', 'cost_total_trip', 'sex', 'age', 'month', 'living_area', \n",
    "        'transportation1', 'transportation2', 'transportation3', \n",
    "         'reason1', 'reason2', 'reason3', 'relationship']]\n",
    "target=df['target']"
   ]
  },
  {
   "cell_type": "code",
   "execution_count": 36,
   "metadata": {},
   "outputs": [],
   "source": [
    "X_train, X_test, y_train, y_test=train_test_split(\n",
    "    data,\n",
    "    target,\n",
    "    test_size=0.2,\n",
    "    random_state=77\n",
    ")"
   ]
  },
  {
   "cell_type": "code",
   "execution_count": 37,
   "metadata": {},
   "outputs": [],
   "source": [
    "knn=KNeighborsClassifier()\n",
    "svm=SVC()\n",
    "dt=DecisionTreeClassifier()\n",
    "model_list=[knn, svm, dt]"
   ]
  },
  {
   "cell_type": "code",
   "execution_count": 38,
   "metadata": {},
   "outputs": [],
   "source": [
    "def print_cv(model, train, target, k):\n",
    "    scores=cross_val_score(model, train, target, cv=k)\n",
    "    print('----교차검증(cv)결과 리스트----\\n',scores)\n",
    "    mean_scores=np.mean(scores)\n",
    "    print('----교차검증(cv)결과 평균----\\n',mean_scores)\n",
    "    return scores, mean_scores \n",
    "    \n",
    "    ## 함수의 결과로 여러개의 데이터를 return할 수 있다.\n",
    "    ## 튜플로 묶어서 반환하게 된다.(scores, mean_scores)"
   ]
  },
  {
   "cell_type": "code",
   "execution_count": 39,
   "metadata": {},
   "outputs": [
    {
     "name": "stdout",
     "output_type": "stream",
     "text": [
      "----교차검증(cv)결과 리스트----\n",
      " [0.56606061 0.57090909 0.57818182 0.5769697  0.56727273]\n",
      "----교차검증(cv)결과 평균----\n",
      " 0.5718787878787879\n",
      "----교차검증(cv)결과 리스트----\n",
      " [0.66181818 0.66181818 0.66181818 0.66181818 0.6630303 ]\n",
      "----교차검증(cv)결과 평균----\n",
      " 0.6620606060606061\n",
      "----교차검증(cv)결과 리스트----\n",
      " [0.5769697  0.55878788 0.58181818 0.56363636 0.56121212]\n",
      "----교차검증(cv)결과 평균----\n",
      " 0.5684848484848485\n",
      "***************************************\n",
      "----전체 모델 리스트----\n",
      "['KNeighborsClassifier', 'SVC', 'DecisionTreeClassifier']\n",
      "----전체 모델의 교차검증 결과 리스트----\n",
      "[array([0.56606061, 0.57090909, 0.57818182, 0.5769697 , 0.56727273]), array([0.66181818, 0.66181818, 0.66181818, 0.66181818, 0.6630303 ]), array([0.5769697 , 0.55878788, 0.58181818, 0.56363636, 0.56121212])]\n",
      "----전체 모델의 교차검증 결과 평균----\n",
      "[0.5718787878787879, 0.6620606060606061, 0.5684848484848485]\n"
     ]
    }
   ],
   "source": [
    "model_names=['KNeighborsClassifier','SVC','DecisionTreeClassifier']\n",
    "sc_list=[]\n",
    "mean_sc_list=[]\n",
    "for model in model_list:\n",
    "    sc, mean_sc=print_cv(model, X_train, y_train, 5)\n",
    "    sc_list.append(sc)\n",
    "    mean_sc_list.append(mean_sc)\n",
    "print('***************************************')\n",
    "print('----전체 모델 리스트----')\n",
    "print(model_names)\n",
    "print('----전체 모델의 교차검증 결과 리스트----')\n",
    "print(sc_list)\n",
    "print('----전체 모델의 교차검증 결과 평균----')\n",
    "print(mean_sc_list)"
   ]
  },
  {
   "cell_type": "markdown",
   "metadata": {},
   "source": [
    "## svc"
   ]
  },
  {
   "cell_type": "code",
   "execution_count": 40,
   "metadata": {},
   "outputs": [],
   "source": [
    "def grid_search(model, params, k):\n",
    "    gs_model=GridSearchCV(model, params, cv=k)\n",
    "    ## gs_model은 최적의 파라미터가 적용된 모델의 객체!\n",
    "    gs_model.fit(X_train, y_train)\n",
    "    print(gs_model.best_estimator_) ## 최적의 파라미터가 적용된 모델 객체\n",
    "    print(gs_model.best_score_) ## 최적의 파라미터가 적용된 모델로 학습한 정확도 결과(acc)\n",
    "    print(gs_model.best_params_) ## 그리드 서치를 통해 찾은 최적의 파라미터\n",
    "    print(gs_model) ## grid_search 객체"
   ]
  },
  {
   "cell_type": "code",
   "execution_count": 41,
   "metadata": {},
   "outputs": [],
   "source": [
    "params={ \n",
    "    'C': [0.001, 0.01, 0.1, 1, 10, 25],\n",
    "    'random_state':[5, 50, 99]\n",
    "}"
   ]
  },
  {
   "cell_type": "code",
   "execution_count": 42,
   "metadata": {},
   "outputs": [
    {
     "name": "stdout",
     "output_type": "stream",
     "text": [
      "SVC(C=1, random_state=5)\n",
      "0.6620606060606061\n",
      "{'C': 1, 'random_state': 5}\n",
      "GridSearchCV(cv=5, estimator=SVC(),\n",
      "             param_grid={'C': [0.001, 0.01, 0.1, 1, 10, 25],\n",
      "                         'random_state': [5, 50, 99]})\n"
     ]
    }
   ],
   "source": [
    "grid_search(svm, params, 5)"
   ]
  },
  {
   "cell_type": "code",
   "execution_count": 43,
   "metadata": {},
   "outputs": [
    {
     "data": {
      "text/html": [
       "<style>#sk-container-id-1 {color: black;background-color: white;}#sk-container-id-1 pre{padding: 0;}#sk-container-id-1 div.sk-toggleable {background-color: white;}#sk-container-id-1 label.sk-toggleable__label {cursor: pointer;display: block;width: 100%;margin-bottom: 0;padding: 0.3em;box-sizing: border-box;text-align: center;}#sk-container-id-1 label.sk-toggleable__label-arrow:before {content: \"▸\";float: left;margin-right: 0.25em;color: #696969;}#sk-container-id-1 label.sk-toggleable__label-arrow:hover:before {color: black;}#sk-container-id-1 div.sk-estimator:hover label.sk-toggleable__label-arrow:before {color: black;}#sk-container-id-1 div.sk-toggleable__content {max-height: 0;max-width: 0;overflow: hidden;text-align: left;background-color: #f0f8ff;}#sk-container-id-1 div.sk-toggleable__content pre {margin: 0.2em;color: black;border-radius: 0.25em;background-color: #f0f8ff;}#sk-container-id-1 input.sk-toggleable__control:checked~div.sk-toggleable__content {max-height: 200px;max-width: 100%;overflow: auto;}#sk-container-id-1 input.sk-toggleable__control:checked~label.sk-toggleable__label-arrow:before {content: \"▾\";}#sk-container-id-1 div.sk-estimator input.sk-toggleable__control:checked~label.sk-toggleable__label {background-color: #d4ebff;}#sk-container-id-1 div.sk-label input.sk-toggleable__control:checked~label.sk-toggleable__label {background-color: #d4ebff;}#sk-container-id-1 input.sk-hidden--visually {border: 0;clip: rect(1px 1px 1px 1px);clip: rect(1px, 1px, 1px, 1px);height: 1px;margin: -1px;overflow: hidden;padding: 0;position: absolute;width: 1px;}#sk-container-id-1 div.sk-estimator {font-family: monospace;background-color: #f0f8ff;border: 1px dotted black;border-radius: 0.25em;box-sizing: border-box;margin-bottom: 0.5em;}#sk-container-id-1 div.sk-estimator:hover {background-color: #d4ebff;}#sk-container-id-1 div.sk-parallel-item::after {content: \"\";width: 100%;border-bottom: 1px solid gray;flex-grow: 1;}#sk-container-id-1 div.sk-label:hover label.sk-toggleable__label {background-color: #d4ebff;}#sk-container-id-1 div.sk-serial::before {content: \"\";position: absolute;border-left: 1px solid gray;box-sizing: border-box;top: 0;bottom: 0;left: 50%;z-index: 0;}#sk-container-id-1 div.sk-serial {display: flex;flex-direction: column;align-items: center;background-color: white;padding-right: 0.2em;padding-left: 0.2em;position: relative;}#sk-container-id-1 div.sk-item {position: relative;z-index: 1;}#sk-container-id-1 div.sk-parallel {display: flex;align-items: stretch;justify-content: center;background-color: white;position: relative;}#sk-container-id-1 div.sk-item::before, #sk-container-id-1 div.sk-parallel-item::before {content: \"\";position: absolute;border-left: 1px solid gray;box-sizing: border-box;top: 0;bottom: 0;left: 50%;z-index: -1;}#sk-container-id-1 div.sk-parallel-item {display: flex;flex-direction: column;z-index: 1;position: relative;background-color: white;}#sk-container-id-1 div.sk-parallel-item:first-child::after {align-self: flex-end;width: 50%;}#sk-container-id-1 div.sk-parallel-item:last-child::after {align-self: flex-start;width: 50%;}#sk-container-id-1 div.sk-parallel-item:only-child::after {width: 0;}#sk-container-id-1 div.sk-dashed-wrapped {border: 1px dashed gray;margin: 0 0.4em 0.5em 0.4em;box-sizing: border-box;padding-bottom: 0.4em;background-color: white;}#sk-container-id-1 div.sk-label label {font-family: monospace;font-weight: bold;display: inline-block;line-height: 1.2em;}#sk-container-id-1 div.sk-label-container {text-align: center;}#sk-container-id-1 div.sk-container {/* jupyter's `normalize.less` sets `[hidden] { display: none; }` but bootstrap.min.css set `[hidden] { display: none !important; }` so we also need the `!important` here to be able to override the default hidden behavior on the sphinx rendered scikit-learn.org. See: https://github.com/scikit-learn/scikit-learn/issues/21755 */display: inline-block !important;position: relative;}#sk-container-id-1 div.sk-text-repr-fallback {display: none;}</style><div id=\"sk-container-id-1\" class=\"sk-top-container\"><div class=\"sk-text-repr-fallback\"><pre>SVC(C=1, random_state=5)</pre><b>In a Jupyter environment, please rerun this cell to show the HTML representation or trust the notebook. <br />On GitHub, the HTML representation is unable to render, please try loading this page with nbviewer.org.</b></div><div class=\"sk-container\" hidden><div class=\"sk-item\"><div class=\"sk-estimator sk-toggleable\"><input class=\"sk-toggleable__control sk-hidden--visually\" id=\"sk-estimator-id-1\" type=\"checkbox\" checked><label for=\"sk-estimator-id-1\" class=\"sk-toggleable__label sk-toggleable__label-arrow\">SVC</label><div class=\"sk-toggleable__content\"><pre>SVC(C=1, random_state=5)</pre></div></div></div></div></div>"
      ],
      "text/plain": [
       "SVC(C=1, random_state=5)"
      ]
     },
     "execution_count": 43,
     "metadata": {},
     "output_type": "execute_result"
    }
   ],
   "source": [
    "gs_svm=SVC(C=1, random_state=5)\n",
    "gs_svm.fit(X_train, y_train)"
   ]
  },
  {
   "cell_type": "code",
   "execution_count": 44,
   "metadata": {},
   "outputs": [],
   "source": [
    "def test_validation(model, X_test, y_test):\n",
    "    predict_result=model.predict(X_test)\n",
    "    acc=accuracy_score(y_test, predict_result)\n",
    "    print('accuracy >>', acc)\n",
    "    cf=confusion_matrix(y_test, predict_result)\n",
    "    print('confusion matrix >>\\n', cf)\n",
    "    ## confusion matrix는 binary classfication인 경우에는 보기가 괜찮으나,\n",
    "    ## multi class classification인 경우에는 보기가 힘들다.\n",
    "    ## confusion matrix를 가독성 좋에 볼 수 있는 것이 classification_report\n",
    "    c_report=classification_report(y_test, predict_result)\n",
    "    print('classification_report >>\\n', c_report)"
   ]
  },
  {
   "cell_type": "code",
   "execution_count": 45,
   "metadata": {},
   "outputs": [
    {
     "name": "stdout",
     "output_type": "stream",
     "text": [
      "accuracy >> 0.6482558139534884\n",
      "confusion matrix >>\n",
      " [[  0   0   0 128]\n",
      " [  0   0   0 170]\n",
      " [  0   0   0  64]\n",
      " [  0   1   0 669]]\n",
      "classification_report >>\n",
      "               precision    recall  f1-score   support\n",
      "\n",
      "    식도락,맛집투어       0.00      0.00      0.00       128\n",
      "        엑티비티       0.00      0.00      0.00       170\n",
      "       축제,관광       0.00      0.00      0.00        64\n",
      "      힐링,호캉스       0.65      1.00      0.79       670\n",
      "\n",
      "    accuracy                           0.65      1032\n",
      "   macro avg       0.16      0.25      0.20      1032\n",
      "weighted avg       0.42      0.65      0.51      1032\n",
      "\n"
     ]
    }
   ],
   "source": [
    "test_validation(gs_svm, X_test, y_test)"
   ]
  },
  {
   "cell_type": "markdown",
   "metadata": {},
   "source": [
    "## 설문 결과 predict"
   ]
  },
  {
   "cell_type": "code",
   "execution_count": 46,
   "metadata": {},
   "outputs": [],
   "source": [
    "predict_col_list=['sleepnights', 'accommodation_1', 'accommodation_2', 'accommodation_3',\n",
    "        'number_of_ppl', 'number_of_children', 'cost_total_trip', 'sex', 'age', 'month', 'living_area', \n",
    "        'transportation1', 'transportation2', 'transportation3', \n",
    "         'reason1', 'reason2', 'reason3', 'relationship']"
   ]
  },
  {
   "cell_type": "code",
   "execution_count": 47,
   "metadata": {},
   "outputs": [
    {
     "data": {
      "text/plain": [
       "18"
      ]
     },
     "execution_count": 47,
     "metadata": {},
     "output_type": "execute_result"
    }
   ],
   "source": [
    "len(predict_col_list)"
   ]
  },
  {
   "cell_type": "code",
   "execution_count": 48,
   "metadata": {},
   "outputs": [],
   "source": [
    "def find_index(str):\n",
    "    for i in range(len(predict_col_list)):\n",
    "        if predict_col_list[i]==str:\n",
    "            print(str+'의 index >> ',i)"
   ]
  },
  {
   "cell_type": "code",
   "execution_count": 49,
   "metadata": {},
   "outputs": [
    {
     "name": "stdout",
     "output_type": "stream",
     "text": [
      "age의 index >>  8\n"
     ]
    }
   ],
   "source": [
    "find_index('age')"
   ]
  },
  {
   "cell_type": "code",
   "execution_count": 50,
   "metadata": {},
   "outputs": [
    {
     "data": {
      "text/html": [
       "<div>\n",
       "<style scoped>\n",
       "    .dataframe tbody tr th:only-of-type {\n",
       "        vertical-align: middle;\n",
       "    }\n",
       "\n",
       "    .dataframe tbody tr th {\n",
       "        vertical-align: top;\n",
       "    }\n",
       "\n",
       "    .dataframe thead th {\n",
       "        text-align: right;\n",
       "    }\n",
       "</style>\n",
       "<table border=\"1\" class=\"dataframe\">\n",
       "  <thead>\n",
       "    <tr style=\"text-align: right;\">\n",
       "      <th></th>\n",
       "      <th>sleepnights</th>\n",
       "      <th>accommodation_1</th>\n",
       "      <th>accommodation_2</th>\n",
       "      <th>accommodation_3</th>\n",
       "      <th>number_of_ppl</th>\n",
       "      <th>number_of_children</th>\n",
       "      <th>cost_total_trip</th>\n",
       "      <th>sex</th>\n",
       "      <th>age</th>\n",
       "      <th>month</th>\n",
       "      <th>living_area</th>\n",
       "      <th>transportation1</th>\n",
       "      <th>transportation2</th>\n",
       "      <th>transportation3</th>\n",
       "      <th>reason1</th>\n",
       "      <th>reason2</th>\n",
       "      <th>reason3</th>\n",
       "      <th>relationship</th>\n",
       "    </tr>\n",
       "  </thead>\n",
       "  <tbody>\n",
       "    <tr>\n",
       "      <th>0</th>\n",
       "      <td>2</td>\n",
       "      <td>1</td>\n",
       "      <td>1</td>\n",
       "      <td>0</td>\n",
       "      <td>3</td>\n",
       "      <td>1</td>\n",
       "      <td>276000</td>\n",
       "      <td>2</td>\n",
       "      <td>38</td>\n",
       "      <td>5</td>\n",
       "      <td>11</td>\n",
       "      <td>1</td>\n",
       "      <td>0</td>\n",
       "      <td>0</td>\n",
       "      <td>14</td>\n",
       "      <td>1</td>\n",
       "      <td>11</td>\n",
       "      <td>1</td>\n",
       "    </tr>\n",
       "  </tbody>\n",
       "</table>\n",
       "</div>"
      ],
      "text/plain": [
       "   sleepnights  accommodation_1  accommodation_2  accommodation_3  \\\n",
       "0            2                1                1                0   \n",
       "\n",
       "   number_of_ppl  number_of_children  cost_total_trip  sex  age  month  \\\n",
       "0              3                   1           276000    2   38      5   \n",
       "\n",
       "   living_area  transportation1  transportation2  transportation3  reason1  \\\n",
       "0           11                1                0                0       14   \n",
       "\n",
       "   reason2  reason3  relationship  \n",
       "0        1       11             1  "
      ]
     },
     "execution_count": 50,
     "metadata": {},
     "output_type": "execute_result"
    }
   ],
   "source": [
    "df[['sleepnights', 'accommodation_1', 'accommodation_2', 'accommodation_3',\n",
    "        'number_of_ppl', 'number_of_children', 'cost_total_trip', 'sex', 'age', 'month', 'living_area', \n",
    "        'transportation1', 'transportation2', 'transportation3', \n",
    "         'reason1', 'reason2', 'reason3', 'relationship']].head(1)"
   ]
  },
  {
   "cell_type": "code",
   "execution_count": 51,
   "metadata": {},
   "outputs": [
    {
     "data": {
      "text/plain": [
       "array([[     2,      1,      1,      0,      3,      1, 276000,      2,\n",
       "            38,      5,     11,      1,      0,      0,     14,      1,\n",
       "            11,      1],\n",
       "       [     2,      1,      1,      0,      3,      0, 318000,      2,\n",
       "            48,      5,     11,      1,      0,      0,      1,     11,\n",
       "             9,      1],\n",
       "       [     1,     11,      0,      0,      6,      0, 107000,      1,\n",
       "            19,      6,     11,      6,      0,      0,      4,     14,\n",
       "             5,      3],\n",
       "       [     0,      0,      0,      0,      3,      0,  50000,      2,\n",
       "            55,      6,     11,      2,      0,      0,      1,      5,\n",
       "             8,      3],\n",
       "       [     2,      5,      5,      0,      4,      0, 233000,      1,\n",
       "            29,      2,     11,      1,      0,      0,     13,     14,\n",
       "             3,      1]])"
      ]
     },
     "execution_count": 51,
     "metadata": {},
     "output_type": "execute_result"
    }
   ],
   "source": [
    "df[['sleepnights', 'accommodation_1', 'accommodation_2', 'accommodation_3',\n",
    "        'number_of_ppl', 'number_of_children', 'cost_total_trip', 'sex', 'age', 'month', 'living_area', \n",
    "        'transportation1', 'transportation2', 'transportation3', \n",
    "         'reason1', 'reason2', 'reason3', 'relationship']].head().values"
   ]
  },
  {
   "cell_type": "code",
   "execution_count": 52,
   "metadata": {},
   "outputs": [
    {
     "data": {
      "text/plain": [
       "array([[     1,     11,      0,      0,      6,      0, 107000,      1,\n",
       "            19,      6,     11,      6,      0,      0,      4,     14,\n",
       "             5,      3],\n",
       "       [     0,      0,      0,      0,      3,      1,  42000,      1,\n",
       "            37,      6,     11,      1,      0,      0,      8,      1,\n",
       "             3,      1],\n",
       "       [     0,      0,      0,      0,      4,      0, 100000,      1,\n",
       "            68,      8,     11,      1,      0,      0,     10,     11,\n",
       "            14,      5],\n",
       "       [     0,      0,      0,      0,      4,      2,  78048,      2,\n",
       "            36,     12,     11,      1,      0,      0,     10,     14,\n",
       "             8,      1],\n",
       "       [     0,      0,      0,      0,      4,      0, 120000,      1,\n",
       "            16,      8,     11,      6,      0,      0,     11,      0,\n",
       "             0,      3]])"
      ]
     },
     "execution_count": 52,
     "metadata": {},
     "output_type": "execute_result"
    }
   ],
   "source": [
    "df[['sleepnights', 'accommodation_1', 'accommodation_2', 'accommodation_3',\n",
    "        'number_of_ppl', 'number_of_children', 'cost_total_trip', 'sex', 'age', 'month', 'living_area', \n",
    "        'transportation1', 'transportation2', 'transportation3', \n",
    "         'reason1', 'reason2', 'reason3', 'relationship']][df['target']=='엑티비티'].head().values"
   ]
  },
  {
   "cell_type": "code",
   "execution_count": 53,
   "metadata": {},
   "outputs": [
    {
     "data": {
      "text/plain": [
       "array(['힐링,호캉스'], dtype=object)"
      ]
     },
     "execution_count": 53,
     "metadata": {},
     "output_type": "execute_result"
    }
   ],
   "source": [
    "gs_svm.predict([[     1,     11,      0,      0,      6,      0, 107000,      1,\n",
    "            19,      6,     11,      6,      0,      0,      4,     14,\n",
    "             5,      3]])"
   ]
  },
  {
   "cell_type": "code",
   "execution_count": 54,
   "metadata": {},
   "outputs": [
    {
     "data": {
      "text/plain": [
       "array([[    0,     0,     0,     0,     6,     0, 70000,     1,    30,\n",
       "           12,    11,     2,     5,     0,     8,     4,     0,     3],\n",
       "       [    0,     0,     0,     0,     4,     0, 97000,     1,    28,\n",
       "            5,    11,     5,    10,     0,     5,     9,     3,     3],\n",
       "       [    0,     0,     0,     0,     5,     1, 45000,     2,    37,\n",
       "            1,    11,     1,     0,     0,     8,     5,    14,     1],\n",
       "       [    0,     0,     0,     0,     4,     0, 40000,     1,    48,\n",
       "            5,    11,     1,     0,     0,     8,    14,     0,     3],\n",
       "       [    0,     0,     0,     0,     3,     1, 20000,     2,    38,\n",
       "            6,    11,     1,     0,     0,     1,     8,     4,     1]])"
      ]
     },
     "execution_count": 54,
     "metadata": {},
     "output_type": "execute_result"
    }
   ],
   "source": [
    "df[['sleepnights', 'accommodation_1', 'accommodation_2', 'accommodation_3',\n",
    "        'number_of_ppl', 'number_of_children', 'cost_total_trip', 'sex', 'age', 'month', 'living_area', \n",
    "        'transportation1', 'transportation2', 'transportation3', \n",
    "         'reason1', 'reason2', 'reason3', 'relationship']][df['target']=='식도락,맛집투어'].head().values"
   ]
  },
  {
   "cell_type": "markdown",
   "metadata": {
    "tags": []
   },
   "source": [
    "## pickle, joblib"
   ]
  },
  {
   "cell_type": "code",
   "execution_count": null,
   "metadata": {
    "tags": []
   },
   "outputs": [],
   "source": []
  },
  {
   "cell_type": "code",
   "execution_count": 55,
   "metadata": {},
   "outputs": [],
   "source": [
    "import pickle\n",
    "import joblib"
   ]
  },
  {
   "cell_type": "code",
   "execution_count": 58,
   "metadata": {},
   "outputs": [
    {
     "data": {
      "text/plain": [
       "['trip_gs_svm.pkl']"
      ]
     },
     "execution_count": 58,
     "metadata": {},
     "output_type": "execute_result"
    }
   ],
   "source": [
    "joblib.dump(gs_svm, 'trip_gs_svm.pkl')"
   ]
  },
  {
   "cell_type": "code",
   "execution_count": 59,
   "metadata": {},
   "outputs": [
    {
     "data": {
      "text/html": [
       "<style>#sk-container-id-2 {color: black;background-color: white;}#sk-container-id-2 pre{padding: 0;}#sk-container-id-2 div.sk-toggleable {background-color: white;}#sk-container-id-2 label.sk-toggleable__label {cursor: pointer;display: block;width: 100%;margin-bottom: 0;padding: 0.3em;box-sizing: border-box;text-align: center;}#sk-container-id-2 label.sk-toggleable__label-arrow:before {content: \"▸\";float: left;margin-right: 0.25em;color: #696969;}#sk-container-id-2 label.sk-toggleable__label-arrow:hover:before {color: black;}#sk-container-id-2 div.sk-estimator:hover label.sk-toggleable__label-arrow:before {color: black;}#sk-container-id-2 div.sk-toggleable__content {max-height: 0;max-width: 0;overflow: hidden;text-align: left;background-color: #f0f8ff;}#sk-container-id-2 div.sk-toggleable__content pre {margin: 0.2em;color: black;border-radius: 0.25em;background-color: #f0f8ff;}#sk-container-id-2 input.sk-toggleable__control:checked~div.sk-toggleable__content {max-height: 200px;max-width: 100%;overflow: auto;}#sk-container-id-2 input.sk-toggleable__control:checked~label.sk-toggleable__label-arrow:before {content: \"▾\";}#sk-container-id-2 div.sk-estimator input.sk-toggleable__control:checked~label.sk-toggleable__label {background-color: #d4ebff;}#sk-container-id-2 div.sk-label input.sk-toggleable__control:checked~label.sk-toggleable__label {background-color: #d4ebff;}#sk-container-id-2 input.sk-hidden--visually {border: 0;clip: rect(1px 1px 1px 1px);clip: rect(1px, 1px, 1px, 1px);height: 1px;margin: -1px;overflow: hidden;padding: 0;position: absolute;width: 1px;}#sk-container-id-2 div.sk-estimator {font-family: monospace;background-color: #f0f8ff;border: 1px dotted black;border-radius: 0.25em;box-sizing: border-box;margin-bottom: 0.5em;}#sk-container-id-2 div.sk-estimator:hover {background-color: #d4ebff;}#sk-container-id-2 div.sk-parallel-item::after {content: \"\";width: 100%;border-bottom: 1px solid gray;flex-grow: 1;}#sk-container-id-2 div.sk-label:hover label.sk-toggleable__label {background-color: #d4ebff;}#sk-container-id-2 div.sk-serial::before {content: \"\";position: absolute;border-left: 1px solid gray;box-sizing: border-box;top: 0;bottom: 0;left: 50%;z-index: 0;}#sk-container-id-2 div.sk-serial {display: flex;flex-direction: column;align-items: center;background-color: white;padding-right: 0.2em;padding-left: 0.2em;position: relative;}#sk-container-id-2 div.sk-item {position: relative;z-index: 1;}#sk-container-id-2 div.sk-parallel {display: flex;align-items: stretch;justify-content: center;background-color: white;position: relative;}#sk-container-id-2 div.sk-item::before, #sk-container-id-2 div.sk-parallel-item::before {content: \"\";position: absolute;border-left: 1px solid gray;box-sizing: border-box;top: 0;bottom: 0;left: 50%;z-index: -1;}#sk-container-id-2 div.sk-parallel-item {display: flex;flex-direction: column;z-index: 1;position: relative;background-color: white;}#sk-container-id-2 div.sk-parallel-item:first-child::after {align-self: flex-end;width: 50%;}#sk-container-id-2 div.sk-parallel-item:last-child::after {align-self: flex-start;width: 50%;}#sk-container-id-2 div.sk-parallel-item:only-child::after {width: 0;}#sk-container-id-2 div.sk-dashed-wrapped {border: 1px dashed gray;margin: 0 0.4em 0.5em 0.4em;box-sizing: border-box;padding-bottom: 0.4em;background-color: white;}#sk-container-id-2 div.sk-label label {font-family: monospace;font-weight: bold;display: inline-block;line-height: 1.2em;}#sk-container-id-2 div.sk-label-container {text-align: center;}#sk-container-id-2 div.sk-container {/* jupyter's `normalize.less` sets `[hidden] { display: none; }` but bootstrap.min.css set `[hidden] { display: none !important; }` so we also need the `!important` here to be able to override the default hidden behavior on the sphinx rendered scikit-learn.org. See: https://github.com/scikit-learn/scikit-learn/issues/21755 */display: inline-block !important;position: relative;}#sk-container-id-2 div.sk-text-repr-fallback {display: none;}</style><div id=\"sk-container-id-2\" class=\"sk-top-container\"><div class=\"sk-text-repr-fallback\"><pre>SVC(C=1, random_state=5)</pre><b>In a Jupyter environment, please rerun this cell to show the HTML representation or trust the notebook. <br />On GitHub, the HTML representation is unable to render, please try loading this page with nbviewer.org.</b></div><div class=\"sk-container\" hidden><div class=\"sk-item\"><div class=\"sk-estimator sk-toggleable\"><input class=\"sk-toggleable__control sk-hidden--visually\" id=\"sk-estimator-id-2\" type=\"checkbox\" checked><label for=\"sk-estimator-id-2\" class=\"sk-toggleable__label sk-toggleable__label-arrow\">SVC</label><div class=\"sk-toggleable__content\"><pre>SVC(C=1, random_state=5)</pre></div></div></div></div></div>"
      ],
      "text/plain": [
       "SVC(C=1, random_state=5)"
      ]
     },
     "execution_count": 59,
     "metadata": {},
     "output_type": "execute_result"
    }
   ],
   "source": [
    "loaded_model = joblib.load('trip_gs_svm.pkl')\n",
    "loaded_model"
   ]
  },
  {
   "cell_type": "code",
   "execution_count": 60,
   "metadata": {},
   "outputs": [
    {
     "data": {
      "text/plain": [
       "array(['힐링,호캉스'], dtype=object)"
      ]
     },
     "execution_count": 60,
     "metadata": {},
     "output_type": "execute_result"
    }
   ],
   "source": [
    "loaded_model.predict([[    0,     0,     0,     0,     4,     0, 40000,     1,    48,\n",
    "            5,    11,     1,     0,     0,     8,    14,     0,     3]])"
   ]
  },
  {
   "cell_type": "markdown",
   "metadata": {},
   "source": [
    "## 설문지 답변 전처리, Spring에서 get방식으로 Django에 넘겨줌"
   ]
  },
  {
   "cell_type": "code",
   "execution_count": 61,
   "metadata": {},
   "outputs": [],
   "source": [
    "answer1='35' # 나이 \n",
    "answer2='1' # 성별\n",
    "answer3='9' # 여행 월\n",
    "answer4='1' # 거주지역\n",
    "answer5='3' # 여행일수(박)\n",
    "answer6='4,7,11' # 희망 숙박시설 1~3지망\n",
    "answer7='3' # 여행인원\n",
    "answer8='1' # 어린이 수\n",
    "answer9='2' # 여행 인원간 관계\n",
    "answer10='3,4,5' # 여행시 중요시 여기는 점 1~3순위\n",
    "answer11='500000' # 총 예상 비용\n",
    "answer12='2,5,6' # 주요 교통수단 1~3순위"
   ]
  },
  {
   "cell_type": "code",
   "execution_count": 62,
   "metadata": {},
   "outputs": [],
   "source": [
    "answer_list=[0 for i in range(18)]"
   ]
  },
  {
   "cell_type": "code",
   "execution_count": 67,
   "metadata": {},
   "outputs": [
    {
     "data": {
      "text/plain": [
       "[3, 4, 7, 11, 3, 1, 500000, 1, 35, 9, 1, 2, 5, 6, 3, 4, 5, 2]"
      ]
     },
     "execution_count": 67,
     "metadata": {},
     "output_type": "execute_result"
    }
   ],
   "source": [
    "answer_list"
   ]
  },
  {
   "cell_type": "code",
   "execution_count": 63,
   "metadata": {},
   "outputs": [
    {
     "data": {
      "text/plain": [
       "18"
      ]
     },
     "execution_count": 63,
     "metadata": {},
     "output_type": "execute_result"
    }
   ],
   "source": [
    "len(answer_list)"
   ]
  },
  {
   "cell_type": "code",
   "execution_count": 64,
   "metadata": {},
   "outputs": [
    {
     "data": {
      "text/plain": [
       "'4'"
      ]
     },
     "execution_count": 64,
     "metadata": {},
     "output_type": "execute_result"
    }
   ],
   "source": [
    "answer6.split(',')[0]"
   ]
  },
  {
   "cell_type": "code",
   "execution_count": 65,
   "metadata": {},
   "outputs": [],
   "source": [
    "answer_list[0]=int(answer5)\n",
    "answer_list[1]=int(answer6.split(',')[0])\n",
    "answer_list[2]=int(answer6.split(',')[1])\n",
    "answer_list[3]=int(answer6.split(',')[2])\n",
    "answer_list[4]=int(answer7)\n",
    "answer_list[5]=int(answer8)\n",
    "answer_list[6]=int(answer11)\n",
    "answer_list[7]=int(answer2)\n",
    "answer_list[8]=int(answer1)\n",
    "answer_list[9]=int(answer3)\n",
    "answer_list[10]=int(answer4)\n",
    "answer_list[11]=int(answer12.split(',')[0])\n",
    "answer_list[12]=int(answer12.split(',')[1])\n",
    "answer_list[13]=int(answer12.split(',')[2])\n",
    "answer_list[14]=int(answer10.split(',')[0])\n",
    "answer_list[15]=int(answer10.split(',')[1])\n",
    "answer_list[16]=int(answer10.split(',')[2])\n",
    "answer_list[17]=int(answer9)\n",
    "# predict할 list에 맞게 전처리"
   ]
  },
  {
   "cell_type": "code",
   "execution_count": 66,
   "metadata": {},
   "outputs": [
    {
     "data": {
      "text/plain": [
       "array(['힐링,호캉스'], dtype=object)"
      ]
     },
     "execution_count": 66,
     "metadata": {},
     "output_type": "execute_result"
    }
   ],
   "source": [
    "loaded_model.predict([answer_list])"
   ]
  },
  {
   "cell_type": "code",
   "execution_count": 73,
   "metadata": {},
   "outputs": [
    {
     "data": {
      "text/plain": [
       "'1.22.4'"
      ]
     },
     "execution_count": 73,
     "metadata": {},
     "output_type": "execute_result"
    }
   ],
   "source": [
    "np.__version__"
   ]
  },
  {
   "cell_type": "code",
   "execution_count": null,
   "metadata": {},
   "outputs": [],
   "source": []
  }
 ],
 "metadata": {
  "kernelspec": {
   "display_name": "Python 3 (ipykernel)",
   "language": "python",
   "name": "python3"
  },
  "language_info": {
   "codemirror_mode": {
    "name": "ipython",
    "version": 3
   },
   "file_extension": ".py",
   "mimetype": "text/x-python",
   "name": "python",
   "nbconvert_exporter": "python",
   "pygments_lexer": "ipython3",
   "version": "3.9.10"
  }
 },
 "nbformat": 4,
 "nbformat_minor": 4
}
