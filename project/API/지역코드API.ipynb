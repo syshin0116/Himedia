{
 "cells": [
  {
   "cell_type": "code",
   "execution_count": 22,
   "id": "4cf6f9b7-8718-400d-8588-108b2378c859",
   "metadata": {},
   "outputs": [
    {
     "name": "stdout",
     "output_type": "stream",
     "text": [
      "b'<?xml version=\"1.0\" encoding=\"UTF-8\" standalone=\"yes\"?><response><header><resultCode>0000</resultCode><resultMsg>OK</resultMsg></header><body><items><item><code>1</code><name>\\xeb\\x82\\xa8\\xea\\xb5\\xac</name><rnum>1</rnum></item><item><code>2</code><name>\\xeb\\x8b\\xac\\xec\\x84\\x9c\\xea\\xb5\\xac</name><rnum>2</rnum></item><item><code>3</code><name>\\xeb\\x8b\\xac\\xec\\x84\\xb1\\xea\\xb5\\xb0</name><rnum>3</rnum></item><item><code>4</code><name>\\xeb\\x8f\\x99\\xea\\xb5\\xac</name><rnum>4</rnum></item><item><code>5</code><name>\\xeb\\xb6\\x81\\xea\\xb5\\xac</name><rnum>5</rnum></item><item><code>6</code><name>\\xec\\x84\\x9c\\xea\\xb5\\xac</name><rnum>6</rnum></item><item><code>7</code><name>\\xec\\x88\\x98\\xec\\x84\\xb1\\xea\\xb5\\xac</name><rnum>7</rnum></item><item><code>8</code><name>\\xec\\xa4\\x91\\xea\\xb5\\xac</name><rnum>8</rnum></item></items><numOfRows>10</numOfRows><pageNo>1</pageNo><totalCount>8</totalCount></body></response>'\n"
     ]
    }
   ],
   "source": [
    "## 이미지\n",
    "import requests\n",
    "\n",
    "url = 'http://api.visitkorea.or.kr/openapi/service/rest/KorService/areaCode'\n",
    "\n",
    "params ={'serviceKey' : '1TanxHdS/5oT82LY6mFLABvV2vxxgnDfSMurOex4q4pDqMLbWSmajH8lolOLqqFKtLxfshqqC0BlSytwCL1KBA==', \n",
    "         'numOfRows' : '10', 'pageNo' : '1', 'MobileOS' : 'ETC', 'MobileApp' : 'AppTest', 'areaCode' : '4' }\n",
    "\n",
    "response = requests.get(url, params=params)\n",
    "print(response.content)"
   ]
  },
  {
   "cell_type": "code",
   "execution_count": 23,
   "id": "d2a00432-9fdf-4a0d-840d-feabd2f894d8",
   "metadata": {},
   "outputs": [
    {
     "name": "stdout",
     "output_type": "stream",
     "text": [
      "('<?xml version=\"1.0\" encoding=\"UTF-8\" '\n",
      " 'standalone=\"yes\"?><response><header><resultCode>0000</resultCode><resultMsg>OK</resultMsg></header><body><items><item><code>1</code><name>남구</name><rnum>1</rnum></item><item><code>2</code><name>달서구</name><rnum>2</rnum></item><item><code>3</code><name>달성군</name><rnum>3</rnum></item><item><code>4</code><name>동구</name><rnum>4</rnum></item><item><code>5</code><name>북구</name><rnum>5</rnum></item><item><code>6</code><name>서구</name><rnum>6</rnum></item><item><code>7</code><name>수성구</name><rnum>7</rnum></item><item><code>8</code><name>중구</name><rnum>8</rnum></item></items><numOfRows>10</numOfRows><pageNo>1</pageNo><totalCount>8</totalCount></body></response>')\n",
      "None\n"
     ]
    }
   ],
   "source": [
    "import pprint\n",
    "import json\n",
    "# xml 내용\n",
    "content = response.text\n",
    "\n",
    "# 깔끔한 출력 위한 코드\n",
    "pp = pprint.PrettyPrinter(indent=4)\n",
    "print(pp.pprint(content))"
   ]
  },
  {
   "cell_type": "code",
   "execution_count": null,
   "id": "53bdb8a2-e7c5-4a5a-95c2-010b2f8e7018",
   "metadata": {},
   "outputs": [],
   "source": []
  },
  {
   "cell_type": "code",
   "execution_count": null,
   "id": "de7031fc-2d6d-4fd5-815a-77137d7e713b",
   "metadata": {},
   "outputs": [],
   "source": [
    "{\n",
    "  \"response\": {\n",
    "    \"header\": {\n",
    "      \"resultCode\": 0,\n",
    "      \"resultMsg\": \"OK\"\n",
    "    },\n",
    "    \"body\": {\n",
    "      \"items\": {\n",
    "        \"item\": [\n",
    "          {\n",
    "            \"code\": 1,\n",
    "            \"name\": \"서울\",\n",
    "            \"rnum\": 1\n",
    "          },\n",
    "          {\n",
    "            \"code\": 2,\n",
    "            \"name\": \"인천\",\n",
    "            \"rnum\": 2\n",
    "          },\n",
    "          {\n",
    "            \"code\": 3,\n",
    "            \"name\": \"대전\",\n",
    "            \"rnum\": 3\n",
    "          },\n",
    "          {\n",
    "            \"code\": 4,\n",
    "            \"name\": \"대구\",\n",
    "            \"rnum\": 4\n",
    "          },\n",
    "          {\n",
    "            \"code\": 5,\n",
    "            \"name\": \"광주\",\n",
    "            \"rnum\": 5\n",
    "          },\n",
    "          {\n",
    "            \"code\": 6,\n",
    "            \"name\": \"부산\",\n",
    "            \"rnum\": 6\n",
    "          },\n",
    "          {\n",
    "            \"code\": 7,\n",
    "            \"name\": \"울산\",\n",
    "            \"rnum\": 7\n",
    "          },\n",
    "          {\n",
    "            \"code\": 8,\n",
    "            \"name\": \"세종특별자치시\",\n",
    "            \"rnum\": 8\n",
    "          },\n",
    "          {\n",
    "            \"code\": 31,\n",
    "            \"name\": \"경기도\",\n",
    "            \"rnum\": 9\n",
    "          },\n",
    "          {\n",
    "            \"code\": 32,\n",
    "            \"name\": \"강원도\",\n",
    "            \"rnum\": 10\n",
    "          },\n",
    "          {\n",
    "            \"code\": 33,\n",
    "            \"name\": \"충청북도\",\n",
    "            \"rnum\": 11\n",
    "          },\n",
    "          {\n",
    "            \"code\": 34,\n",
    "            \"name\": \"충청남도\",\n",
    "            \"rnum\": 12\n",
    "          },\n",
    "          {\n",
    "            \"code\": 35,\n",
    "            \"name\": \"경상북도\",\n",
    "            \"rnum\": 13\n",
    "          },\n",
    "          {\n",
    "            \"code\": 36,\n",
    "            \"name\": \"경상남도\",\n",
    "            \"rnum\": 14\n",
    "          },\n",
    "          {\n",
    "            \"code\": 37,\n",
    "            \"name\": \"전라북도\",\n",
    "            \"rnum\": 15\n",
    "          },\n",
    "          {\n",
    "            \"code\": 38,\n",
    "            \"name\": \"전라남도\",\n",
    "            \"rnum\": 16\n",
    "          },\n",
    "          {\n",
    "            \"code\": 39,\n",
    "            \"name\": \"제주도\",\n",
    "            \"rnum\": 17\n",
    "          }\n",
    "        ]\n",
    "      },\n",
    "      \"numOfRows\": 100,\n",
    "      \"pageNo\": 1,\n",
    "      \"totalCount\": 17\n",
    "    }\n",
    "  }\n",
    "}"
   ]
  }
 ],
 "metadata": {
  "kernelspec": {
   "display_name": "Python 3 (ipykernel)",
   "language": "python",
   "name": "python3"
  },
  "language_info": {
   "codemirror_mode": {
    "name": "ipython",
    "version": 3
   },
   "file_extension": ".py",
   "mimetype": "text/x-python",
   "name": "python",
   "nbconvert_exporter": "python",
   "pygments_lexer": "ipython3",
   "version": "3.9.10"
  }
 },
 "nbformat": 4,
 "nbformat_minor": 5
}
