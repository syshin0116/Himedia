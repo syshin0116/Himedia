{
 "cells": [
  {
   "cell_type": "code",
   "execution_count": 4,
   "id": "0406c03b-77b5-4ae1-a5f5-f226fa568588",
   "metadata": {},
   "outputs": [],
   "source": [
    "import requests\n",
    "import csv\n",
    "import pprint\n",
    "import json"
   ]
  },
  {
   "cell_type": "code",
   "execution_count": null,
   "id": "e811083a-9683-4841-bdba-37df387bacaa",
   "metadata": {},
   "outputs": [],
   "source": [
    "\n",
    "def return_commonstock_tickers(service_key):\n",
    "    url = 'http://api.visitkorea.or.kr/openapi/service/rest/KorService/detailCommon'\n",
    "    parameters ={\n",
    "        'serviceKey' : '1TanxHdS/5oT82LY6mFLABvV2vxxgnDfSMurOex4q4pDqMLbWSmajH8lolOLqqFKtLxfshqqC0BlSytwCL1KBA==', \n",
    "        'numOfRows' : '9999', \n",
    "        'pageNo' : '1', \n",
    "        'MobileOS' : 'ETC', \n",
    "        'MobileApp' : 'AppTest', \n",
    "        'contentId' : '126508', \n",
    "        'contentTypeId' : '', \n",
    "        'defaultYN' : 'Y', \n",
    "        'firstImageYN' : 'Y', \n",
    "        'areacodeYN' : 'Y', \n",
    "        'catcodeYN' : 'Y', \n",
    "        'addrinfoYN' : 'Y', \n",
    "        'mapinfoYN' : 'Y', \n",
    "        'overviewYN' : 'Y' }\n",
    "\n",
    "\n",
    "    try:\n",
    "        tickers_json = requests.get(url, parameters).json()\n",
    "        tickers_list = tickers_json['results']\n",
    "        \n",
    "        while tickers_json['next_url']:\n",
    "            tickers_json = requests.get(tickers_json[\"next_url\"], parameters).json()\n",
    "            tickers_list.extend(tickers_json[\"results\"])\n",
    "            if 'next_url' not in tickers_json.keys():\n",
    "                break\n",
    "            # trigger a wait since free tier is limited to 5 calls/min\n",
    "            time.sleep(12)\n",
    "            \n",
    "    except:\n",
    "        return None\n",
    "    \n",
    "    return tickers_list"
   ]
  },
  {
   "cell_type": "code",
   "execution_count": 21,
   "id": "031469c9-8deb-48f7-87ad-0b7b9cc2aecc",
   "metadata": {},
   "outputs": [
    {
     "name": "stdout",
     "output_type": "stream",
     "text": [
      "('<?xml version=\"1.0\" encoding=\"UTF-8\" '\n",
      " 'standalone=\"yes\"?><response><header><resultCode>0000</resultCode><resultMsg>OK</resultMsg></header><body><items><item><addr1>서울특별시 '\n",
      " '중구 세종대로 '\n",
      " '99</addr1><areacode>1</areacode><booktour>1</booktour><cat1>A02</cat1><cat2>A0201</cat2><cat3>A02010100</cat3><contentid>126509</contentid><contenttypeid>12</contenttypeid><createdtime>20040225090000</createdtime><firstimage>http://tong.visitkorea.or.kr/cms/resource/65/1946565_image2_1.jpg</firstimage><firstimage2>http://tong.visitkorea.or.kr/cms/resource/65/1946565_image3_1.jpg</firstimage2><homepage>&lt;a '\n",
      " 'href=&quot;http://www.deoksugung.go.kr/&quot; target=&quot;_blank&quot; '\n",
      " 'title=&quot;새창 : 덕수궁 홈페이지로 '\n",
      " '이동&quot;&gt;http://www.deoksugung.go.kr&lt;/a&gt;</homepage><mapx>126.9749296905</mapx><mapy>37.5661486714</mapy><mlevel>6</mlevel><modifiedtime>20220506165536</modifiedtime><overview>사적 '\n",
      " '덕수궁은 본디 왕궁이 아니었다. 원래 성종의 형인 월산대군(1454∼1488)의 집이었으나, 1592년 임진왜란 때 왕궁이 모두 불타서 '\n",
      " '1593년 행궁으로 사용하기 시작하였다. 선조임금은 의주로 피난갔다가 한양으로 환도한 뒤 덕수궁에서 머무른다. 선조의 뒤를 이은 광해군은 '\n",
      " '1608년 이곳 행궁에서 즉위한 후 1611년 행궁을 경운궁이라 고쳐부르고 7년동안 왕궁으로 사용하다가 1615년에 창덕궁으로 옮기면서 '\n",
      " '이곳에는 선왕인 선조의 계비인 인목 대비만을 유폐시켰다. 1618년에는 인목대비의 존호를 폐지하고, 경운궁을 서궁이라 낮추어 부르기도 '\n",
      " '하였다. 1623년 인조반정으로 광해군이 폐위되고 인조가 이곳 즉조당에서 즉의하고 창덕궁으로 옮긴 이후 270년 동안은 별궁으로 '\n",
      " '사용되었다. 1897년 고종황제가 러시아 공관에 있다가 환궁하면서 이곳을 다시  왕궁으로 사용하게 되었는데, 그때부터 다시 경운궁이라 '\n",
      " '부르게 되었고 그 규모도 다시 넓혔다. 그리고 고종 황제는 1907년 순종에게 양위한 후, 왕궁을 창덕궁으로 옮긴 후에도 이곳에 '\n",
      " '거처하였는데, 이때부터 고종 황제의 장수를 비는 뜻에서 덕수궁이라 부르게 되었다. 이런 까닭에 요즘와서는 경운궁이라는 본래의 명칭을 '\n",
      " '사용해야 한다는 주장도 제기되고 있다.덕수궁에서 지난 날 많은 건물이 있었으나 현재  18,635평의 경내에 남아 있는 것은 '\n",
      " '대한문,중화전, 광명문, 석어당, 준명당, 즉조당, 함녕전, 덕홍전 및 석조전 등에 불과하다. 덕수궁은 특히 구한말 비운의 황제 고종이 '\n",
      " '일제의 압박으로 양위를 강요당하고, 한 많은 여생을 보내다가 1919년 1월 22일 덕수궁 함녕전에서 일제에 의해 독살당하여 돌아가신 '\n",
      " '것으로 알려져 3·1 독립운동의 직접적인 계기가 되었던 곳이다.&lt;br&gt;* 대한문 - 대한문은 현재 덕수궁의 정문이다. 이문의 '\n",
      " \"원래 이름은 대안문(大安門)이고, 궁궐의 동문이었다. 대안문은 1906년에 다시 지으면서 '대한문' 이라고 이름을 붙였다. 현판 글씨는 \"\n",
      " '당시 한성부 판윤을 지냈던 남정철이 썼다.&lt;br&gt;* 광명문 - 이 문은 왕의 침전인 함녕전의 정문으로 광무 8년(1904)에 '\n",
      " '큰불이 나서 타 버린 것을 같은 해에 다시 지었다. 1938년 석조전을 미술관으로 개관하면서 정동에 있던 흥천사(興天寺)의 범종과 창덕궁 '\n",
      " '보루각에 있던 자격루를 지금의 자리로 옮길 때 같이 옮겨 세웠다.&lt;br&gt;* 석조전 - 대한제국때 외국 사신들을 접견하던 '\n",
      " '곳이다. 광무 4년(1900)에 착공하여 융희 3년(1909)에 준공한 석조 건물로, 조선왕조에서 마지막으로 지은 큰 규모의 건물이었다. '\n",
      " '건물의 외관은 19세기 초 유럽에서 유행했던 신고전주의 양식을 따른 것으로 정면에 있는 기둥의 윗부분은 이오니아식으로 처리하고 실내는 '\n",
      " '로코코풍으로 장식하였다. 전체는 3층인데 1층은 접견 장소로, 반지하층은 시종인들의 대기 장소로 사용되었고, 2층에는 황제가 거처하였다. '\n",
      " '광복 후에는 미소공동위원회 회의장, 국립박물관,국립현대미술관, 궁중유물전시관 등으로 사용하였다. &lt;br&gt;* 함녕전 - 보물로 '\n",
      " '지정된 함녕전은 1897년 건축하여 고종황제가 거처하던 건물로, 1904년 화재로 인해 소실된 것을 같은해에 복원하여 오늘에 이르고 '\n",
      " '있다. 고종황제는 1919년 1월 21일 이 함녕전에서 돌아가셨다. 그 후 비어 있던 이곳에 당시에 사용하던 가구, 서화, 집기 등을 '\n",
      " '배치하여 100여년 전의 궁중 생활상을 새롭게 재현하였다. &lt;br&gt;* 중화전 - 대한제국(大韓帝國)의 정전으로 조선 제26대 '\n",
      " '왕 고종(高宗, 1852~1919 재위 1863∼1907)의 근대 국가 건설에 대한 자신감을 엿볼 수 있는 곳이다. 특히 정전 안에서 '\n",
      " '어좌(御座) 바로 위의 닫집을 보면 용을 한 쌍 볼 수 있는데 이는 정전 천정의 용과 같은 문양으로 덕수궁이 대한제국 황제의 황궁이었음을 '\n",
      " '보여 주고 있다. 지금 남아 있는 중화전은 1902년에 중층으로 건립되었으나 1904년 화재로 소실된 후 1906년 단층으로 중건된 '\n",
      " '것이다.&lt;br&gt;* 중명전 - 중명전(重明殿)은 러시아 건축가 사바틴(Seredin Sabatin)의 설계로 1897년부터 '\n",
      " '1901년에 걸쳐 건립된 황실도서관이다. 지상 2층, 지하 1층의 서양식 건물로 처음에는 수옥헌(漱玉軒)이라 불렀다. 2009년 12월 '\n",
      " '복원을 거쳐 2010년 8월부터 전시관(‘대한제국의 운명이 갈린 곳, 덕수궁 중명전’)으로 일반에 공개하고 있다.&lt;br&gt;* 그 '\n",
      " '밖에 석어당, 준명당, 즉조당, 정관헌, 덕홍전, 보루각 자격루 등이 '\n",
      " '있다.</overview><sigungucode>24</sigungucode><title>덕수궁</title><zipcode>04519</zipcode></item></items><numOfRows>100</numOfRows><pageNo>1</pageNo><totalCount>1</totalCount></body></response>')\n",
      "None\n"
     ]
    }
   ],
   "source": [
    "url = 'http://api.visitkorea.or.kr/openapi/service/rest/KorService/detailCommon'\n",
    "params ={'serviceKey' : '1TanxHdS/5oT82LY6mFLABvV2vxxgnDfSMurOex4q4pDqMLbWSmajH8lolOLqqFKtLxfshqqC0BlSytwCL1KBA==', 'numOfRows' : '100', 'pageNo' : '1', 'MobileOS' : 'ETC', 'MobileApp' : 'AppTest', 'contentId' : '126509', 'contentTypeId' : '', 'defaultYN' : 'Y', 'firstImageYN' : 'Y', 'areacodeYN' : 'Y', 'catcodeYN' : 'Y', 'addrinfoYN' : 'Y', 'mapinfoYN' : 'Y', 'overviewYN' : 'Y' }\n",
    "\n",
    "response = requests.get(url, params=params)\n",
    "# xml 내용\n",
    "content = response.text\n",
    "\n",
    "# 깔끔한 출력 위한 코드\n",
    "pp = pprint.PrettyPrinter(indent=4)\n",
    "print(pp.pprint(content))\n"
   ]
  },
  {
   "cell_type": "code",
   "execution_count": null,
   "id": "3e15a8ce-d087-4bef-b61c-e0113ef61636",
   "metadata": {},
   "outputs": [],
   "source": []
  }
 ],
 "metadata": {
  "kernelspec": {
   "display_name": "Python 3 (ipykernel)",
   "language": "python",
   "name": "python3"
  },
  "language_info": {
   "codemirror_mode": {
    "name": "ipython",
    "version": 3
   },
   "file_extension": ".py",
   "mimetype": "text/x-python",
   "name": "python",
   "nbconvert_exporter": "python",
   "pygments_lexer": "ipython3",
   "version": "3.9.10"
  }
 },
 "nbformat": 4,
 "nbformat_minor": 5
}
