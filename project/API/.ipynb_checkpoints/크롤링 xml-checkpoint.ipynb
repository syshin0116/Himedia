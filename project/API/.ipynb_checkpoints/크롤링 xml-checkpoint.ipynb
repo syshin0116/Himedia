{
 "cells": [
  {
   "cell_type": "code",
   "execution_count": 1,
   "metadata": {},
   "outputs": [
    {
     "name": "stderr",
     "output_type": "stream",
     "text": [
      "C:\\ProgramData\\Anaconda3\\lib\\site-packages\\requests\\__init__.py:91: RequestsDependencyWarning: urllib3 (1.26.1) or chardet (3.0.4) doesn't match a supported version!\n",
      "  RequestsDependencyWarning)\n"
     ]
    },
    {
     "ename": "TclError",
     "evalue": "couldn't open \"./bg.png\": no such file or directory",
     "output_type": "error",
     "traceback": [
      "\u001b[1;31m---------------------------------------------------------------------------\u001b[0m",
      "\u001b[1;31mTclError\u001b[0m                                  Traceback (most recent call last)",
      "\u001b[1;32m<ipython-input-1-03576fba77dc>\u001b[0m in \u001b[0;36m<module>\u001b[1;34m\u001b[0m\n\u001b[0;32m    131\u001b[0m         \u001b[0mself\u001b[0m\u001b[1;33m.\u001b[0m\u001b[0mmain_window\u001b[0m\u001b[1;33m.\u001b[0m\u001b[0mdestroy\u001b[0m\u001b[1;33m(\u001b[0m\u001b[1;33m)\u001b[0m\u001b[1;33m\u001b[0m\u001b[1;33m\u001b[0m\u001b[0m\n\u001b[0;32m    132\u001b[0m \u001b[1;33m\u001b[0m\u001b[0m\n\u001b[1;32m--> 133\u001b[1;33m \u001b[0mread_api\u001b[0m\u001b[1;33m(\u001b[0m\u001b[1;33m)\u001b[0m\u001b[1;33m\u001b[0m\u001b[1;33m\u001b[0m\u001b[0m\n\u001b[0m",
      "\u001b[1;32m<ipython-input-1-03576fba77dc>\u001b[0m in \u001b[0;36m__init__\u001b[1;34m(self)\u001b[0m\n\u001b[0;32m     18\u001b[0m         \u001b[0mself\u001b[0m\u001b[1;33m.\u001b[0m\u001b[0mmain_window\u001b[0m\u001b[1;33m.\u001b[0m\u001b[0mgeometry\u001b[0m\u001b[1;33m(\u001b[0m\u001b[1;34m\"517x432\"\u001b[0m\u001b[1;33m)\u001b[0m\u001b[1;33m\u001b[0m\u001b[1;33m\u001b[0m\u001b[0m\n\u001b[0;32m     19\u001b[0m         \u001b[0mself\u001b[0m\u001b[1;33m.\u001b[0m\u001b[0mmain_window\u001b[0m\u001b[1;33m.\u001b[0m\u001b[0mresizable\u001b[0m\u001b[1;33m(\u001b[0m\u001b[1;32mFalse\u001b[0m\u001b[1;33m,\u001b[0m \u001b[1;32mFalse\u001b[0m\u001b[1;33m)\u001b[0m\u001b[1;33m\u001b[0m\u001b[1;33m\u001b[0m\u001b[0m\n\u001b[1;32m---> 20\u001b[1;33m         \u001b[0mlabel_image\u001b[0m \u001b[1;33m=\u001b[0m \u001b[0mPhotoImage\u001b[0m\u001b[1;33m(\u001b[0m\u001b[0mfile\u001b[0m \u001b[1;33m=\u001b[0m \u001b[1;34m'./bg.png'\u001b[0m\u001b[1;33m)\u001b[0m\u001b[1;33m\u001b[0m\u001b[1;33m\u001b[0m\u001b[0m\n\u001b[0m\u001b[0;32m     21\u001b[0m         \u001b[0mbg_label\u001b[0m \u001b[1;33m=\u001b[0m \u001b[0mLabel\u001b[0m\u001b[1;33m(\u001b[0m\u001b[0mself\u001b[0m\u001b[1;33m.\u001b[0m\u001b[0mmain_window\u001b[0m\u001b[1;33m,\u001b[0m \u001b[0mimage\u001b[0m\u001b[1;33m=\u001b[0m\u001b[0mlabel_image\u001b[0m\u001b[1;33m)\u001b[0m\u001b[1;33m\u001b[0m\u001b[1;33m\u001b[0m\u001b[0m\n\u001b[0;32m     22\u001b[0m         \u001b[0mbg_label\u001b[0m\u001b[1;33m.\u001b[0m\u001b[0mplace\u001b[0m\u001b[1;33m(\u001b[0m\u001b[0mx\u001b[0m\u001b[1;33m=\u001b[0m\u001b[1;36m0\u001b[0m\u001b[1;33m,\u001b[0m \u001b[0my\u001b[0m\u001b[1;33m=\u001b[0m\u001b[1;36m0\u001b[0m\u001b[1;33m)\u001b[0m\u001b[1;33m\u001b[0m\u001b[1;33m\u001b[0m\u001b[0m\n",
      "\u001b[1;32mC:\\ProgramData\\Anaconda3\\lib\\tkinter\\__init__.py\u001b[0m in \u001b[0;36m__init__\u001b[1;34m(self, name, cnf, master, **kw)\u001b[0m\n\u001b[0;32m   3543\u001b[0m         \u001b[0mValid\u001b[0m \u001b[0mresource\u001b[0m \u001b[0mnames\u001b[0m\u001b[1;33m:\u001b[0m \u001b[0mdata\u001b[0m\u001b[1;33m,\u001b[0m \u001b[0mformat\u001b[0m\u001b[1;33m,\u001b[0m \u001b[0mfile\u001b[0m\u001b[1;33m,\u001b[0m \u001b[0mgamma\u001b[0m\u001b[1;33m,\u001b[0m \u001b[0mheight\u001b[0m\u001b[1;33m,\u001b[0m \u001b[0mpalette\u001b[0m\u001b[1;33m,\u001b[0m\u001b[1;33m\u001b[0m\u001b[1;33m\u001b[0m\u001b[0m\n\u001b[0;32m   3544\u001b[0m         width.\"\"\"\n\u001b[1;32m-> 3545\u001b[1;33m         \u001b[0mImage\u001b[0m\u001b[1;33m.\u001b[0m\u001b[0m__init__\u001b[0m\u001b[1;33m(\u001b[0m\u001b[0mself\u001b[0m\u001b[1;33m,\u001b[0m \u001b[1;34m'photo'\u001b[0m\u001b[1;33m,\u001b[0m \u001b[0mname\u001b[0m\u001b[1;33m,\u001b[0m \u001b[0mcnf\u001b[0m\u001b[1;33m,\u001b[0m \u001b[0mmaster\u001b[0m\u001b[1;33m,\u001b[0m \u001b[1;33m**\u001b[0m\u001b[0mkw\u001b[0m\u001b[1;33m)\u001b[0m\u001b[1;33m\u001b[0m\u001b[1;33m\u001b[0m\u001b[0m\n\u001b[0m\u001b[0;32m   3546\u001b[0m     \u001b[1;32mdef\u001b[0m \u001b[0mblank\u001b[0m\u001b[1;33m(\u001b[0m\u001b[0mself\u001b[0m\u001b[1;33m)\u001b[0m\u001b[1;33m:\u001b[0m\u001b[1;33m\u001b[0m\u001b[1;33m\u001b[0m\u001b[0m\n\u001b[0;32m   3547\u001b[0m         \u001b[1;34m\"\"\"Display a transparent image.\"\"\"\u001b[0m\u001b[1;33m\u001b[0m\u001b[1;33m\u001b[0m\u001b[0m\n",
      "\u001b[1;32mC:\\ProgramData\\Anaconda3\\lib\\tkinter\\__init__.py\u001b[0m in \u001b[0;36m__init__\u001b[1;34m(self, imgtype, name, cnf, master, **kw)\u001b[0m\n\u001b[0;32m   3499\u001b[0m                 \u001b[0mv\u001b[0m \u001b[1;33m=\u001b[0m \u001b[0mself\u001b[0m\u001b[1;33m.\u001b[0m\u001b[0m_register\u001b[0m\u001b[1;33m(\u001b[0m\u001b[0mv\u001b[0m\u001b[1;33m)\u001b[0m\u001b[1;33m\u001b[0m\u001b[1;33m\u001b[0m\u001b[0m\n\u001b[0;32m   3500\u001b[0m             \u001b[0moptions\u001b[0m \u001b[1;33m=\u001b[0m \u001b[0moptions\u001b[0m \u001b[1;33m+\u001b[0m \u001b[1;33m(\u001b[0m\u001b[1;34m'-'\u001b[0m\u001b[1;33m+\u001b[0m\u001b[0mk\u001b[0m\u001b[1;33m,\u001b[0m \u001b[0mv\u001b[0m\u001b[1;33m)\u001b[0m\u001b[1;33m\u001b[0m\u001b[1;33m\u001b[0m\u001b[0m\n\u001b[1;32m-> 3501\u001b[1;33m         \u001b[0mself\u001b[0m\u001b[1;33m.\u001b[0m\u001b[0mtk\u001b[0m\u001b[1;33m.\u001b[0m\u001b[0mcall\u001b[0m\u001b[1;33m(\u001b[0m\u001b[1;33m(\u001b[0m\u001b[1;34m'image'\u001b[0m\u001b[1;33m,\u001b[0m \u001b[1;34m'create'\u001b[0m\u001b[1;33m,\u001b[0m \u001b[0mimgtype\u001b[0m\u001b[1;33m,\u001b[0m \u001b[0mname\u001b[0m\u001b[1;33m,\u001b[0m\u001b[1;33m)\u001b[0m \u001b[1;33m+\u001b[0m \u001b[0moptions\u001b[0m\u001b[1;33m)\u001b[0m\u001b[1;33m\u001b[0m\u001b[1;33m\u001b[0m\u001b[0m\n\u001b[0m\u001b[0;32m   3502\u001b[0m         \u001b[0mself\u001b[0m\u001b[1;33m.\u001b[0m\u001b[0mname\u001b[0m \u001b[1;33m=\u001b[0m \u001b[0mname\u001b[0m\u001b[1;33m\u001b[0m\u001b[1;33m\u001b[0m\u001b[0m\n\u001b[0;32m   3503\u001b[0m     \u001b[1;32mdef\u001b[0m \u001b[0m__str__\u001b[0m\u001b[1;33m(\u001b[0m\u001b[0mself\u001b[0m\u001b[1;33m)\u001b[0m\u001b[1;33m:\u001b[0m \u001b[1;32mreturn\u001b[0m \u001b[0mself\u001b[0m\u001b[1;33m.\u001b[0m\u001b[0mname\u001b[0m\u001b[1;33m\u001b[0m\u001b[1;33m\u001b[0m\u001b[0m\n",
      "\u001b[1;31mTclError\u001b[0m: couldn't open \"./bg.png\": no such file or directory"
     ]
    }
   ],
   "source": [
    "import requests\n",
    "import xml.etree.ElementTree as et\n",
    "from bs4 import BeautifulSoup\n",
    "from lxml import html\n",
    " \n",
    "import tkinter.filedialog as fd\n",
    "from tkinter import *\n",
    "from tkinter import messagebox\n",
    " \n",
    "import os\n",
    "import pandas as pd\n",
    "import datetime\n",
    " \n",
    "class read_api:\n",
    "    def __init__(self):\n",
    "        self.main_window = Tk()\n",
    "        self.main_window.title(\"read api program\")\n",
    "        self.main_window.geometry(\"517x432\")\n",
    "        self.main_window.resizable(False, False)\n",
    "        label_image = PhotoImage(file = './bg.png')\n",
    "        bg_label = Label(self.main_window, image=label_image)\n",
    "        bg_label.place(x=0, y=0)\n",
    " \n",
    "        self.save_corona = []\n",
    "        self.date = datetime.datetime.today().strftime(\"%Y%m%d\") \n",
    "                 \n",
    "        '''\n",
    "        버튼, 라벨, 입력\n",
    "        '''\n",
    "        malgun12_bold = \"malgun\", 10, \"bold\"\n",
    "            \n",
    "        self.lb_myapi = Label(text=\"인증키\", font=malgun12_bold)\n",
    "        self.lb_myapi.place(x=20, y=360)\n",
    "        self.myapi = Entry(self.main_window, width=10, textvariable=str)\n",
    "        self.myapi.insert(0, '')\n",
    "        self.myapi.place(x=75, y=360)\n",
    " \n",
    "        self.label = Label(text=\"프로세스확인\", font=malgun12_bold)\n",
    "        self.label.place(x=320, y=340)\n",
    "        self.progress = Text(self.main_window, width=11, height=3)\n",
    "        self.progress.configure(font=(\"Arial\", 8, \"bold\"))\n",
    "        self.progress.place(x=320, y=370)\n",
    "        self.text_index = 1.0\n",
    " \n",
    "        self.btn_update = Button(self.main_window, text=\"업데이트\", font=malgun12_bold, command=self.fn_file_update, repeatdelay=1000)\n",
    "        self.btn_update.place(x=20, y=390)\n",
    "        self.btn_save = Button(self.main_window, text=\"파일저장\", font=malgun12_bold, command=self.fn_file_save, repeatdelay=1000)\n",
    "        self.btn_save.place(x=100, y=390)\n",
    "        self.btn_exit = Button(self.main_window, text=\"종      료\", font=malgun12_bold, command=self.fn_exit, repeatdelay=1000)\n",
    "        self.btn_exit.place(x=180, y=390)\n",
    " \n",
    "        self.main_window.mainloop()        \n",
    " \n",
    "    def fn_file_update(self):\n",
    "        self.progress.delete(1.0, END)\n",
    "        self.progress.insert(self.text_index, 'load file ...\\n')\n",
    "        self.text_index = self.text_index + 1.0\n",
    "        self.main_window.update()\n",
    "        \n",
    "        '''\n",
    "        call corona api\n",
    "        '''\n",
    "        url = 'http://openapi.data.go.kr/openapi/service/rest/Covid19/getCovid19InfStateJson'\n",
    "        myservicekey = self.myapi.get()\n",
    "        \n",
    "        params ={'serviceKey' : myservicekey,\n",
    "                 'pageNo' : '1',\n",
    "                 'numOfRows' : '10',\n",
    "                 'startCreateDt' : '20220101',\n",
    "                 'endCreateDt' : self.date }\n",
    " \n",
    "        response = requests.get(url, params=params)\n",
    "        content = response.text\n",
    " \n",
    "        '''\n",
    "        xml to list\n",
    "        '''\n",
    "        xml = BeautifulSoup(content,'lxml-xml')\n",
    "        rows = xml.findAll('item')\n",
    " \n",
    "        row  = []  \n",
    "        col  = []      \n",
    " \n",
    "        for i in range(0, len(rows)):\n",
    "            value=[]\n",
    "            columns = rows[i].find_all()\n",
    " \n",
    "            for j in range(0,len(columns)):\n",
    "                if i ==0:\n",
    "                    col.append(columns[j].name) \n",
    "                value.append(columns[j].text)\n",
    " \n",
    "            row.append(value)\n",
    "        \n",
    "        '''\n",
    "        save list... to excel\n",
    "        '''\n",
    "        corona = pd.DataFrame(row, columns=col)        \n",
    "        corona.rename(columns={ 'accDefRate' : '누적확진률', 'accExamCnt' : '누적검사수',  'createDt' : '등록일시분초',\n",
    "                                'deathCnt' : '사망자수',     'decideCnt' : '확진자수',    'seq' : '감염현황고유값', \n",
    "                                'stateDt' : '기준일',        'stateTime' : '기준시간',    'updateDt' : '수정일시분초'\n",
    "                              }, inplace=True)\n",
    "        \n",
    "        self.save_corona = corona.reindex(columns=['기준일', '누적검사수', '누적확진률',\n",
    "                                                   '확진자수', '사망자수', '감염현황고유값', \n",
    "                                                   '기준시간', '등록일시분초', '수정일시분초'])        \n",
    "                        \n",
    "        self.progress.insert(self.text_index, 'fin')\n",
    "        self.text_index = self.text_index + 1.0\n",
    "        self.main_window.update()\n",
    " \n",
    "    def fn_file_save(self):\n",
    "        self.progress.delete(1.0, END)\n",
    "        self.progress.insert(self.text_index, 'file save ...\\n')\n",
    "        self.text_index = self.text_index + 1.0\n",
    "        self.main_window.update()\n",
    " \n",
    "        '''\n",
    "        파일 저장\n",
    "        '''\n",
    "        base_dir  = './'\n",
    "        file_name = 'corona_'+self.date+'.xlsx'\n",
    "        file_dir  = os.path.join(base_dir, file_name)\n",
    " \n",
    "        self.save_corona.to_excel(file_dir, na_rep='NaN', header=True, index=False, startrow=0, startcol=0)\n",
    "        self.progress.insert(self.text_index, 'fin')\n",
    "        self.text_index = self.text_index + 1.0\n",
    "        self.main_window.update()\n",
    "        \n",
    "    def fn_exit(self):\n",
    "        self.main_window.destroy()\n",
    "        \n",
    "read_api()"
   ]
  },
  {
   "cell_type": "code",
   "execution_count": 19,
   "metadata": {},
   "outputs": [],
   "source": [
    "import requests\n",
    "import xml.etree.ElementTree as et\n",
    "from bs4 import BeautifulSoup\n",
    "from lxml import html\n",
    " \n",
    "import tkinter.filedialog as fd\n",
    "from tkinter import *\n",
    "from tkinter import messagebox\n",
    " \n",
    "import os\n",
    "import pandas as pd\n",
    "import datetime"
   ]
  },
  {
   "cell_type": "code",
   "execution_count": 20,
   "metadata": {},
   "outputs": [
    {
     "ename": "TclError",
     "evalue": "couldn't open \"./bg.png\": no such file or directory",
     "output_type": "error",
     "traceback": [
      "\u001b[1;31m---------------------------------------------------------------------------\u001b[0m",
      "\u001b[1;31mTclError\u001b[0m                                  Traceback (most recent call last)",
      "\u001b[1;32m<ipython-input-20-d59c363359cf>\u001b[0m in \u001b[0;36m<module>\u001b[1;34m\u001b[0m\n\u001b[0;32m     14\u001b[0m         \u001b[0mself\u001b[0m\u001b[1;33m.\u001b[0m\u001b[0mmain_window\u001b[0m\u001b[1;33m.\u001b[0m\u001b[0mmainloop\u001b[0m\u001b[1;33m(\u001b[0m\u001b[1;33m)\u001b[0m\u001b[1;33m\u001b[0m\u001b[1;33m\u001b[0m\u001b[0m\n\u001b[0;32m     15\u001b[0m \u001b[1;33m\u001b[0m\u001b[0m\n\u001b[1;32m---> 16\u001b[1;33m \u001b[0mread_api\u001b[0m\u001b[1;33m(\u001b[0m\u001b[1;33m)\u001b[0m\u001b[1;33m\u001b[0m\u001b[1;33m\u001b[0m\u001b[0m\n\u001b[0m",
      "\u001b[1;32m<ipython-input-20-d59c363359cf>\u001b[0m in \u001b[0;36m__init__\u001b[1;34m(self)\u001b[0m\n\u001b[0;32m      5\u001b[0m         \u001b[0mself\u001b[0m\u001b[1;33m.\u001b[0m\u001b[0mmain_window\u001b[0m\u001b[1;33m.\u001b[0m\u001b[0mgeometry\u001b[0m\u001b[1;33m(\u001b[0m\u001b[1;34m\"517x432\"\u001b[0m\u001b[1;33m)\u001b[0m\u001b[1;33m\u001b[0m\u001b[1;33m\u001b[0m\u001b[0m\n\u001b[0;32m      6\u001b[0m         \u001b[0mself\u001b[0m\u001b[1;33m.\u001b[0m\u001b[0mmain_window\u001b[0m\u001b[1;33m.\u001b[0m\u001b[0mresizable\u001b[0m\u001b[1;33m(\u001b[0m\u001b[1;32mFalse\u001b[0m\u001b[1;33m,\u001b[0m \u001b[1;32mFalse\u001b[0m\u001b[1;33m)\u001b[0m\u001b[1;33m\u001b[0m\u001b[1;33m\u001b[0m\u001b[0m\n\u001b[1;32m----> 7\u001b[1;33m         \u001b[0mlabel_image\u001b[0m \u001b[1;33m=\u001b[0m \u001b[0mPhotoImage\u001b[0m\u001b[1;33m(\u001b[0m\u001b[0mfile\u001b[0m \u001b[1;33m=\u001b[0m \u001b[1;34m'./bg.png'\u001b[0m\u001b[1;33m)\u001b[0m\u001b[1;33m\u001b[0m\u001b[1;33m\u001b[0m\u001b[0m\n\u001b[0m\u001b[0;32m      8\u001b[0m         \u001b[0mbg_label\u001b[0m \u001b[1;33m=\u001b[0m \u001b[0mLabel\u001b[0m\u001b[1;33m(\u001b[0m\u001b[0mself\u001b[0m\u001b[1;33m.\u001b[0m\u001b[0mmain_window\u001b[0m\u001b[1;33m,\u001b[0m \u001b[0mimage\u001b[0m\u001b[1;33m=\u001b[0m\u001b[0mlabel_image\u001b[0m\u001b[1;33m)\u001b[0m\u001b[1;33m\u001b[0m\u001b[1;33m\u001b[0m\u001b[0m\n\u001b[0;32m      9\u001b[0m         \u001b[0mbg_label\u001b[0m\u001b[1;33m.\u001b[0m\u001b[0mplace\u001b[0m\u001b[1;33m(\u001b[0m\u001b[0mx\u001b[0m\u001b[1;33m=\u001b[0m\u001b[1;36m0\u001b[0m\u001b[1;33m,\u001b[0m \u001b[0my\u001b[0m\u001b[1;33m=\u001b[0m\u001b[1;36m0\u001b[0m\u001b[1;33m)\u001b[0m\u001b[1;33m\u001b[0m\u001b[1;33m\u001b[0m\u001b[0m\n",
      "\u001b[1;32mC:\\ProgramData\\Anaconda3\\lib\\tkinter\\__init__.py\u001b[0m in \u001b[0;36m__init__\u001b[1;34m(self, name, cnf, master, **kw)\u001b[0m\n\u001b[0;32m   3543\u001b[0m         \u001b[0mValid\u001b[0m \u001b[0mresource\u001b[0m \u001b[0mnames\u001b[0m\u001b[1;33m:\u001b[0m \u001b[0mdata\u001b[0m\u001b[1;33m,\u001b[0m \u001b[0mformat\u001b[0m\u001b[1;33m,\u001b[0m \u001b[0mfile\u001b[0m\u001b[1;33m,\u001b[0m \u001b[0mgamma\u001b[0m\u001b[1;33m,\u001b[0m \u001b[0mheight\u001b[0m\u001b[1;33m,\u001b[0m \u001b[0mpalette\u001b[0m\u001b[1;33m,\u001b[0m\u001b[1;33m\u001b[0m\u001b[1;33m\u001b[0m\u001b[0m\n\u001b[0;32m   3544\u001b[0m         width.\"\"\"\n\u001b[1;32m-> 3545\u001b[1;33m         \u001b[0mImage\u001b[0m\u001b[1;33m.\u001b[0m\u001b[0m__init__\u001b[0m\u001b[1;33m(\u001b[0m\u001b[0mself\u001b[0m\u001b[1;33m,\u001b[0m \u001b[1;34m'photo'\u001b[0m\u001b[1;33m,\u001b[0m \u001b[0mname\u001b[0m\u001b[1;33m,\u001b[0m \u001b[0mcnf\u001b[0m\u001b[1;33m,\u001b[0m \u001b[0mmaster\u001b[0m\u001b[1;33m,\u001b[0m \u001b[1;33m**\u001b[0m\u001b[0mkw\u001b[0m\u001b[1;33m)\u001b[0m\u001b[1;33m\u001b[0m\u001b[1;33m\u001b[0m\u001b[0m\n\u001b[0m\u001b[0;32m   3546\u001b[0m     \u001b[1;32mdef\u001b[0m \u001b[0mblank\u001b[0m\u001b[1;33m(\u001b[0m\u001b[0mself\u001b[0m\u001b[1;33m)\u001b[0m\u001b[1;33m:\u001b[0m\u001b[1;33m\u001b[0m\u001b[1;33m\u001b[0m\u001b[0m\n\u001b[0;32m   3547\u001b[0m         \u001b[1;34m\"\"\"Display a transparent image.\"\"\"\u001b[0m\u001b[1;33m\u001b[0m\u001b[1;33m\u001b[0m\u001b[0m\n",
      "\u001b[1;32mC:\\ProgramData\\Anaconda3\\lib\\tkinter\\__init__.py\u001b[0m in \u001b[0;36m__init__\u001b[1;34m(self, imgtype, name, cnf, master, **kw)\u001b[0m\n\u001b[0;32m   3499\u001b[0m                 \u001b[0mv\u001b[0m \u001b[1;33m=\u001b[0m \u001b[0mself\u001b[0m\u001b[1;33m.\u001b[0m\u001b[0m_register\u001b[0m\u001b[1;33m(\u001b[0m\u001b[0mv\u001b[0m\u001b[1;33m)\u001b[0m\u001b[1;33m\u001b[0m\u001b[1;33m\u001b[0m\u001b[0m\n\u001b[0;32m   3500\u001b[0m             \u001b[0moptions\u001b[0m \u001b[1;33m=\u001b[0m \u001b[0moptions\u001b[0m \u001b[1;33m+\u001b[0m \u001b[1;33m(\u001b[0m\u001b[1;34m'-'\u001b[0m\u001b[1;33m+\u001b[0m\u001b[0mk\u001b[0m\u001b[1;33m,\u001b[0m \u001b[0mv\u001b[0m\u001b[1;33m)\u001b[0m\u001b[1;33m\u001b[0m\u001b[1;33m\u001b[0m\u001b[0m\n\u001b[1;32m-> 3501\u001b[1;33m         \u001b[0mself\u001b[0m\u001b[1;33m.\u001b[0m\u001b[0mtk\u001b[0m\u001b[1;33m.\u001b[0m\u001b[0mcall\u001b[0m\u001b[1;33m(\u001b[0m\u001b[1;33m(\u001b[0m\u001b[1;34m'image'\u001b[0m\u001b[1;33m,\u001b[0m \u001b[1;34m'create'\u001b[0m\u001b[1;33m,\u001b[0m \u001b[0mimgtype\u001b[0m\u001b[1;33m,\u001b[0m \u001b[0mname\u001b[0m\u001b[1;33m,\u001b[0m\u001b[1;33m)\u001b[0m \u001b[1;33m+\u001b[0m \u001b[0moptions\u001b[0m\u001b[1;33m)\u001b[0m\u001b[1;33m\u001b[0m\u001b[1;33m\u001b[0m\u001b[0m\n\u001b[0m\u001b[0;32m   3502\u001b[0m         \u001b[0mself\u001b[0m\u001b[1;33m.\u001b[0m\u001b[0mname\u001b[0m \u001b[1;33m=\u001b[0m \u001b[0mname\u001b[0m\u001b[1;33m\u001b[0m\u001b[1;33m\u001b[0m\u001b[0m\n\u001b[0;32m   3503\u001b[0m     \u001b[1;32mdef\u001b[0m \u001b[0m__str__\u001b[0m\u001b[1;33m(\u001b[0m\u001b[0mself\u001b[0m\u001b[1;33m)\u001b[0m\u001b[1;33m:\u001b[0m \u001b[1;32mreturn\u001b[0m \u001b[0mself\u001b[0m\u001b[1;33m.\u001b[0m\u001b[0mname\u001b[0m\u001b[1;33m\u001b[0m\u001b[1;33m\u001b[0m\u001b[0m\n",
      "\u001b[1;31mTclError\u001b[0m: couldn't open \"./bg.png\": no such file or directory"
     ]
    }
   ],
   "source": [
    "class read_api:\n",
    "    def __init__(self):\n",
    "        self.main_window = Tk()\n",
    "        self.main_window.title(\"read api program\")\n",
    "        self.main_window.geometry(\"517x432\")\n",
    "        self.main_window.resizable(False, False)\n",
    "        label_image = PhotoImage(file = './bg.png')\n",
    "        bg_label = Label(self.main_window, image=label_image)\n",
    "        bg_label.place(x=0, y=0)\n",
    " \n",
    "        self.save_corona = []\n",
    "        self.date = datetime.datetime.today().strftime(\"%Y%m%d\") \n",
    "        \n",
    "        self.main_window.mainloop()        \n",
    "        \n",
    "read_api()"
   ]
  },
  {
   "cell_type": "code",
   "execution_count": 21,
   "metadata": {},
   "outputs": [
    {
     "name": "stdout",
     "output_type": "stream",
     "text": [
      "b'<?xml version=\"1.0\" encoding=\"UTF-8\" standalone=\"yes\"?><response><header><responseTime>2022-05-20T10:24:32.981+09:00</responseTime><resultCode>30</resultCode><resultMsg>SERVICE KEY IS NOT REGISTERED ERROR.</resultMsg></header></response>'\n"
     ]
    }
   ],
   "source": [
    "import requests\n",
    "\n",
    "url = 'http://api.visitkorea.or.kr/openapi/service/rest/KorService/areaBasedList'\n",
    "params ={'serviceKey' : 'QXx%2BrBhe0EQoZGnLRdwtfn1oPrTzcMN79uVcZ6kgQhZd94gIQIe26xuIPkfhug30jVw0WtBO%2FMUanDIxizpmKg%3D%3D', \n",
    "         'pageNo' : '1', 'numOfRows' : '1', \n",
    "         'MobileApp' : 'AppTest', \n",
    "         'MobileOS' : 'ETC', 'arrange' : \n",
    "         'A', 'cat1' : '', \n",
    "         'contentTypeId' : '32', \n",
    "         'areaCode' : '4', \n",
    "         'sigunguCode' : '4', \n",
    "         'cat2' : '', \n",
    "         'cat3' : '', \n",
    "         'listYN' : 'Y', \n",
    "         'modifiedtime' : '' }\n",
    "\n",
    "response = requests.get(url, params=params)\n",
    "print(response.content)"
   ]
  },
  {
   "cell_type": "code",
   "execution_count": 5,
   "metadata": {},
   "outputs": [
    {
     "name": "stdout",
     "output_type": "stream",
     "text": [
      "<?xml version=\"1.0\" encoding=\"UTF-8\" standalone=\"yes\"?><response><header><resultCode>0000</resultCode><resultMsg>OK</resultMsg></header><body><items><item><addr1>서울특별시 중구 명동길 26</addr1><addr2>(명동2가)</addr2><areacode>1</areacode><cat1>A02</cat1><cat2>A0208</cat2><cat3>A02080300</cat3><contentid>406745</contentid><contenttypeid>15</contenttypeid><createdtime>20080118180330</createdtime><dist>589</dist><firstimage>http://tong.visitkorea.or.kr/cms/resource/86/2034286_image2_1.jpg</firstimage><firstimage2>http://tong.visitkorea.or.kr/cms/resource/86/2034286_image3_1.jpg</firstimage2><mapx>126.9837456304</mapx><mapy>37.5634463660</mapy><mlevel>6</mlevel><modifiedtime>20211221164759</modifiedtime><readcount>44442</readcount><sigungucode>24</sigungucode><tel>02-739-8288</tel><title>난타 (명동)</title></item><item><addr1>서울특별시 종로구 종로 54 보신각</addr1><areacode>1</areacode><cat1>A02</cat1><cat2>A0208</cat2><cat3>A02080100</cat3><contentid>2809535</contentid><contenttypeid>15</contenttypeid><createdtime>20220307144537</createdtime><dist>237</dist><firstimage>http://tong.visitkorea.or.kr/cms/resource/29/2809529_image2_1.jpg</firstimage><firstimage2>http://tong.visitkorea.or.kr/cms/resource/29/2809529_image2_1.jpg</firstimage2><mapx>126.9836898995</mapx><mapy>37.5698206245</mapy><mlevel>6</mlevel><modifiedtime>20220315130954</modifiedtime><readcount>0</readcount><sigungucode>23</sigungucode><tel>02-120</tel><title>남산봉수의식 등 전통문화 재현행사</title></item><item><addr1>온라인개최</addr1><areacode>1</areacode><cat1>A02</cat1><cat2>A0207</cat2><cat3>A02070200</cat3><contentid>2383974</contentid><contenttypeid>15</contenttypeid><createdtime>20160516200321</createdtime><dist>460</dist><mapx>126.9778738825</mapx><mapy>37.5656098983</mapy><mlevel>6</mlevel><modifiedtime>20220511134730</modifiedtime><readcount>5243</readcount><sigungucode>23</sigungucode><tel>02-861-3020</tel><title>모두하나대축제</title></item><item><addr1>서울특별시 종로구 인사동길 7</addr1><addr2>(인사동)</addr2><areacode>1</areacode><cat1>A02</cat1><cat2>A0207</cat2><cat3>A02070200</cat3><contentid>2754423</contentid><contenttypeid>15</contenttypeid><createdtime>20211006175116</createdtime><dist>582</dist><firstimage>http://tong.visitkorea.or.kr/cms/resource/94/2754994_image2_1.jpg</firstimage><firstimage2>http://tong.visitkorea.or.kr/cms/resource/94/2754994_image2_1.jpg</firstimage2><mapx>126.9868617818</mapx><mapy>37.5716149173</mapy><mlevel>6</mlevel><modifiedtime>20211013094919</modifiedtime><readcount>0</readcount><sigungucode>23</sigungucode><tel>02-749-0381</tel><title>벨기에 페스티벌</title></item><item><addr1>서울 중구 태평로 2가 17-3</addr1><addr2>서울광장</addr2><areacode>1</areacode><cat1>A02</cat1><cat2>A0207</cat2><cat3>A02070200</cat3><contentid>2718543</contentid><contenttypeid>15</contenttypeid><createdtime>20210526174106</createdtime><dist>486</dist><firstimage>http://tong.visitkorea.or.kr/cms/resource/40/2718540_image2_1.jpg</firstimage><firstimage2>http://tong.visitkorea.or.kr/cms/resource/40/2718540_image2_1.jpg</firstimage2><mapx>126.9777155697</mapx><mapy>37.5653988094</mapy><mlevel>6</mlevel><modifiedtime>20210601095541</modifiedtime><readcount>0</readcount><sigungucode>24</sigungucode><tel>02-516-2010</tel><title>서울100K (SEOUL100K)</title></item><item><addr1>서울특별시 중구 세종대로 110</addr1><addr2>(태평로1가)</addr2><areacode>1</areacode><cat1>A02</cat1><cat2>A0207</cat2><cat3>A02070200</cat3><contentid>2738786</contentid><contenttypeid>15</contenttypeid><createdtime>20210901134706</createdtime><dist>349</dist><firstimage>http://tong.visitkorea.or.kr/cms/resource/84/2738784_image2_1.jpg</firstimage><firstimage2>http://tong.visitkorea.or.kr/cms/resource/84/2738784_image2_1.jpg</firstimage2><mapx>126.9784043599</mapx><mapy>37.5666625635</mapy><mlevel>6</mlevel><modifiedtime>20210907171522</modifiedtime><readcount>0</readcount><sigungucode>24</sigungucode><tel>02-786-7518</tel><title>서울세계도시문화축제</title></item><item><addr1>온라인개최</addr1><areacode>1</areacode><cat1>A02</cat1><cat2>A0207</cat2><cat3>A02070200</cat3><contentid>2455073</contentid><contenttypeid>15</contenttypeid><createdtime>20161213152654</createdtime><dist>355</dist><firstimage>http://tong.visitkorea.or.kr/cms/resource/56/2801156_image2_1.jpg</firstimage><firstimage2>http://tong.visitkorea.or.kr/cms/resource/56/2801156_image2_1.jpg</firstimage2><mapx>126.9783710306</mapx><mapy>37.5665986816</mapy><mlevel>6</mlevel><modifiedtime>20211227103222</modifiedtime><readcount>3903</readcount><sigungucode>24</sigungucode><tel>02-3447-0101</tel><title>서울영상광고제</title></item><item><addr1>서울특별시 중구 세종대로19길 16</addr1><addr2>(정동)</addr2><areacode>1</areacode><cat1>A02</cat1><cat2>A0207</cat2><cat3>A02070200</cat3><contentid>1937544</contentid><contenttypeid>15</contenttypeid><createdtime>20140728142434</createdtime><dist>485</dist><firstimage>http://tong.visitkorea.or.kr/cms/resource/55/2737055_image2_1.jpg</firstimage><firstimage2>http://tong.visitkorea.or.kr/cms/resource/55/2737055_image2_1.jpg</firstimage2><mapx>126.9765823002</mapx><mapy>37.5667736284</mapy><mlevel>6</mlevel><modifiedtime>20210826163420</modifiedtime><readcount>8386</readcount><sigungucode>24</sigungucode><tel>02-765-7500</tel><title>서울청소년연극축제</title></item><item><addr1>서울특별시 중구 명동길 61</addr1><addr2>(명동1가)</addr2><areacode>1</areacode><cat1>A02</cat1><cat2>A0208</cat2><cat3>A02081300</cat3><contentid>2784769</contentid><contenttypeid>15</contenttypeid><createdtime>20211201141428</createdtime><dist>587</dist><firstimage>http://tong.visitkorea.or.kr/cms/resource/66/2784766_image2_1.jpg</firstimage><firstimage2>http://tong.visitkorea.or.kr/cms/resource/66/2784766_image2_1.jpg</firstimage2><mapx>126.9858787417</mapx><mapy>37.5644379556</mapy><mlevel>6</mlevel><modifiedtime>20211201141428</modifiedtime><readcount>0</readcount><sigungucode>24</sigungucode><tel>02-736-2320</tel><title>연구산업 컨퍼런스 2022</title></item><item><addr1>서울특별시 종로구 우정국로 55</addr1><areacode>1</areacode><cat1>A02</cat1><cat2>A0207</cat2><cat3>A02070200</cat3><contentid>531460</contentid><contenttypeid>15</contenttypeid><createdtime>20080415015603</createdtime><dist>535</dist><firstimage>http://tong.visitkorea.or.kr/cms/resource/22/2811822_image2_1.jpg</firstimage><firstimage2>http://tong.visitkorea.or.kr/cms/resource/22/2811822_image2_1.jpg</firstimage2><mapx>126.9815038890</mapx><mapy>37.5733035136</mapy><mlevel>6</mlevel><modifiedtime>20220322173219</modifiedtime><readcount>128875</readcount><sigungucode>23</sigungucode><tel>02-2011-1744~1747</tel><title>연등회</title></item></items><numOfRows>10</numOfRows><pageNo>1</pageNo><totalCount>23</totalCount></body></response>\n"
     ]
    }
   ],
   "source": [
    "import requests\n",
    "\n",
    "key = 'http://api.visitkorea.or.kr/openapi/service/rest/KorService/locationBasedList'\n",
    "url4 = 'http://api.visitkorea.or.kr/openapi/service/rest/KorService/locationBasedList?serviceKey=VXgWV%2Ff5wELzapZjJF7FEqqtFhPbNA8KBIWia3SXOCvY%2BCXEUok1DhybfbP4USE%2Fg2b%2FQYT62C2mw3zcSWj2pg%3D%3D&numOfRows=10&pageNo=1&MobileOS=ETC&MobileApp=AppTest&arrange=A&contentTypeId=15&mapX=126.981611&mapY=37.568477&radius=1000&listYN=Y'\n",
    "response2 = requests.get(url4)\n",
    "print(response2.text)"
   ]
  },
  {
   "cell_type": "code",
   "execution_count": 22,
   "metadata": {},
   "outputs": [],
   "source": [
    "from bs4 import BeautifulSoup"
   ]
  },
  {
   "cell_type": "code",
   "execution_count": 23,
   "metadata": {},
   "outputs": [],
   "source": [
    "soup = BeautifulSoup(response2.text, 'html.parser')"
   ]
  },
  {
   "cell_type": "code",
   "execution_count": 24,
   "metadata": {},
   "outputs": [],
   "source": [
    "data = soup.find_all('item')"
   ]
  },
  {
   "cell_type": "code",
   "execution_count": 25,
   "metadata": {},
   "outputs": [
    {
     "data": {
      "text/plain": [
       "[<item><addr1>서울특별시 중구 명동길 26</addr1><addr2>(명동2가)</addr2><areacode>1</areacode><cat1>A02</cat1><cat2>A0208</cat2><cat3>A02080300</cat3><contentid>406745</contentid><contenttypeid>15</contenttypeid><createdtime>20080118180330</createdtime><dist>589</dist><firstimage>http://tong.visitkorea.or.kr/cms/resource/86/2034286_image2_1.jpg</firstimage><firstimage2>http://tong.visitkorea.or.kr/cms/resource/86/2034286_image3_1.jpg</firstimage2><mapx>126.9837456304</mapx><mapy>37.5634463660</mapy><mlevel>6</mlevel><modifiedtime>20211221164759</modifiedtime><readcount>44442</readcount><sigungucode>24</sigungucode><tel>02-739-8288</tel><title>난타 (명동)</title></item>,\n",
       " <item><addr1>서울특별시 종로구 종로 54 보신각</addr1><areacode>1</areacode><cat1>A02</cat1><cat2>A0208</cat2><cat3>A02080100</cat3><contentid>2809535</contentid><contenttypeid>15</contenttypeid><createdtime>20220307144537</createdtime><dist>237</dist><firstimage>http://tong.visitkorea.or.kr/cms/resource/29/2809529_image2_1.jpg</firstimage><firstimage2>http://tong.visitkorea.or.kr/cms/resource/29/2809529_image2_1.jpg</firstimage2><mapx>126.9836898995</mapx><mapy>37.5698206245</mapy><mlevel>6</mlevel><modifiedtime>20220315130954</modifiedtime><readcount>0</readcount><sigungucode>23</sigungucode><tel>02-120</tel><title>남산봉수의식 등 전통문화 재현행사</title></item>,\n",
       " <item><addr1>온라인개최</addr1><areacode>1</areacode><cat1>A02</cat1><cat2>A0207</cat2><cat3>A02070200</cat3><contentid>2383974</contentid><contenttypeid>15</contenttypeid><createdtime>20160516200321</createdtime><dist>460</dist><mapx>126.9778738825</mapx><mapy>37.5656098983</mapy><mlevel>6</mlevel><modifiedtime>20220511134730</modifiedtime><readcount>5243</readcount><sigungucode>23</sigungucode><tel>02-861-3020</tel><title>모두하나대축제</title></item>,\n",
       " <item><addr1>서울특별시 종로구 인사동길 7</addr1><addr2>(인사동)</addr2><areacode>1</areacode><cat1>A02</cat1><cat2>A0207</cat2><cat3>A02070200</cat3><contentid>2754423</contentid><contenttypeid>15</contenttypeid><createdtime>20211006175116</createdtime><dist>582</dist><firstimage>http://tong.visitkorea.or.kr/cms/resource/94/2754994_image2_1.jpg</firstimage><firstimage2>http://tong.visitkorea.or.kr/cms/resource/94/2754994_image2_1.jpg</firstimage2><mapx>126.9868617818</mapx><mapy>37.5716149173</mapy><mlevel>6</mlevel><modifiedtime>20211013094919</modifiedtime><readcount>0</readcount><sigungucode>23</sigungucode><tel>02-749-0381</tel><title>벨기에 페스티벌</title></item>,\n",
       " <item><addr1>서울 중구 태평로 2가 17-3</addr1><addr2>서울광장</addr2><areacode>1</areacode><cat1>A02</cat1><cat2>A0207</cat2><cat3>A02070200</cat3><contentid>2718543</contentid><contenttypeid>15</contenttypeid><createdtime>20210526174106</createdtime><dist>486</dist><firstimage>http://tong.visitkorea.or.kr/cms/resource/40/2718540_image2_1.jpg</firstimage><firstimage2>http://tong.visitkorea.or.kr/cms/resource/40/2718540_image2_1.jpg</firstimage2><mapx>126.9777155697</mapx><mapy>37.5653988094</mapy><mlevel>6</mlevel><modifiedtime>20210601095541</modifiedtime><readcount>0</readcount><sigungucode>24</sigungucode><tel>02-516-2010</tel><title>서울100K (SEOUL100K)</title></item>,\n",
       " <item><addr1>서울특별시 중구 세종대로 110</addr1><addr2>(태평로1가)</addr2><areacode>1</areacode><cat1>A02</cat1><cat2>A0207</cat2><cat3>A02070200</cat3><contentid>2738786</contentid><contenttypeid>15</contenttypeid><createdtime>20210901134706</createdtime><dist>349</dist><firstimage>http://tong.visitkorea.or.kr/cms/resource/84/2738784_image2_1.jpg</firstimage><firstimage2>http://tong.visitkorea.or.kr/cms/resource/84/2738784_image2_1.jpg</firstimage2><mapx>126.9784043599</mapx><mapy>37.5666625635</mapy><mlevel>6</mlevel><modifiedtime>20210907171522</modifiedtime><readcount>0</readcount><sigungucode>24</sigungucode><tel>02-786-7518</tel><title>서울세계도시문화축제</title></item>,\n",
       " <item><addr1>온라인개최</addr1><areacode>1</areacode><cat1>A02</cat1><cat2>A0207</cat2><cat3>A02070200</cat3><contentid>2455073</contentid><contenttypeid>15</contenttypeid><createdtime>20161213152654</createdtime><dist>355</dist><firstimage>http://tong.visitkorea.or.kr/cms/resource/56/2801156_image2_1.jpg</firstimage><firstimage2>http://tong.visitkorea.or.kr/cms/resource/56/2801156_image2_1.jpg</firstimage2><mapx>126.9783710306</mapx><mapy>37.5665986816</mapy><mlevel>6</mlevel><modifiedtime>20211227103222</modifiedtime><readcount>3903</readcount><sigungucode>24</sigungucode><tel>02-3447-0101</tel><title>서울영상광고제</title></item>,\n",
       " <item><addr1>서울특별시 중구 세종대로19길 16</addr1><addr2>(정동)</addr2><areacode>1</areacode><cat1>A02</cat1><cat2>A0207</cat2><cat3>A02070200</cat3><contentid>1937544</contentid><contenttypeid>15</contenttypeid><createdtime>20140728142434</createdtime><dist>485</dist><firstimage>http://tong.visitkorea.or.kr/cms/resource/55/2737055_image2_1.jpg</firstimage><firstimage2>http://tong.visitkorea.or.kr/cms/resource/55/2737055_image2_1.jpg</firstimage2><mapx>126.9765823002</mapx><mapy>37.5667736284</mapy><mlevel>6</mlevel><modifiedtime>20210826163420</modifiedtime><readcount>8386</readcount><sigungucode>24</sigungucode><tel>02-765-7500</tel><title>서울청소년연극축제</title></item>,\n",
       " <item><addr1>서울특별시 중구 명동길 61</addr1><addr2>(명동1가)</addr2><areacode>1</areacode><cat1>A02</cat1><cat2>A0208</cat2><cat3>A02081300</cat3><contentid>2784769</contentid><contenttypeid>15</contenttypeid><createdtime>20211201141428</createdtime><dist>587</dist><firstimage>http://tong.visitkorea.or.kr/cms/resource/66/2784766_image2_1.jpg</firstimage><firstimage2>http://tong.visitkorea.or.kr/cms/resource/66/2784766_image2_1.jpg</firstimage2><mapx>126.9858787417</mapx><mapy>37.5644379556</mapy><mlevel>6</mlevel><modifiedtime>20211201141428</modifiedtime><readcount>0</readcount><sigungucode>24</sigungucode><tel>02-736-2320</tel><title>연구산업 컨퍼런스 2022</title></item>,\n",
       " <item><addr1>서울특별시 종로구 우정국로 55</addr1><areacode>1</areacode><cat1>A02</cat1><cat2>A0207</cat2><cat3>A02070200</cat3><contentid>531460</contentid><contenttypeid>15</contenttypeid><createdtime>20080415015603</createdtime><dist>535</dist><firstimage>http://tong.visitkorea.or.kr/cms/resource/22/2811822_image2_1.jpg</firstimage><firstimage2>http://tong.visitkorea.or.kr/cms/resource/22/2811822_image2_1.jpg</firstimage2><mapx>126.9815038890</mapx><mapy>37.5733035136</mapy><mlevel>6</mlevel><modifiedtime>20220322173219</modifiedtime><readcount>128875</readcount><sigungucode>23</sigungucode><tel>02-2011-1744~1747</tel><title>연등회</title></item>]"
      ]
     },
     "execution_count": 25,
     "metadata": {},
     "output_type": "execute_result"
    }
   ],
   "source": [
    "data"
   ]
  },
  {
   "cell_type": "code",
   "execution_count": 26,
   "metadata": {},
   "outputs": [],
   "source": [
    "addr1_list = []\n",
    "img1_list = []\n",
    "for item in data:\n",
    "    addr1 = item.find('addr1')\n",
    "    img1 = item.find('img1') \n",
    "    addr1_list.append(addr1)\n",
    "    img1_list.append(img1)"
   ]
  },
  {
   "cell_type": "code",
   "execution_count": 27,
   "metadata": {},
   "outputs": [
    {
     "data": {
      "text/plain": [
       "[<addr1>서울특별시 중구 명동길 26</addr1>,\n",
       " <addr1>서울특별시 종로구 종로 54 보신각</addr1>,\n",
       " <addr1>온라인개최</addr1>,\n",
       " <addr1>서울특별시 종로구 인사동길 7</addr1>,\n",
       " <addr1>서울 중구 태평로 2가 17-3</addr1>,\n",
       " <addr1>서울특별시 중구 세종대로 110</addr1>,\n",
       " <addr1>온라인개최</addr1>,\n",
       " <addr1>서울특별시 중구 세종대로19길 16</addr1>,\n",
       " <addr1>서울특별시 중구 명동길 61</addr1>,\n",
       " <addr1>서울특별시 종로구 우정국로 55</addr1>]"
      ]
     },
     "execution_count": 27,
     "metadata": {},
     "output_type": "execute_result"
    }
   ],
   "source": [
    "addr1_list"
   ]
  },
  {
   "cell_type": "code",
   "execution_count": 28,
   "metadata": {},
   "outputs": [
    {
     "data": {
      "text/plain": [
       "<item><addr1>서울특별시 중구 명동길 26</addr1><addr2>(명동2가)</addr2><areacode>1</areacode><cat1>A02</cat1><cat2>A0208</cat2><cat3>A02080300</cat3><contentid>406745</contentid><contenttypeid>15</contenttypeid><createdtime>20080118180330</createdtime><dist>589</dist><firstimage>http://tong.visitkorea.or.kr/cms/resource/86/2034286_image2_1.jpg</firstimage><firstimage2>http://tong.visitkorea.or.kr/cms/resource/86/2034286_image3_1.jpg</firstimage2><mapx>126.9837456304</mapx><mapy>37.5634463660</mapy><mlevel>6</mlevel><modifiedtime>20211221164759</modifiedtime><readcount>44442</readcount><sigungucode>24</sigungucode><tel>02-739-8288</tel><title>난타 (명동)</title></item>"
      ]
     },
     "execution_count": 28,
     "metadata": {},
     "output_type": "execute_result"
    }
   ],
   "source": [
    "data[0]"
   ]
  },
  {
   "cell_type": "code",
   "execution_count": 29,
   "metadata": {},
   "outputs": [],
   "source": [
    "addr1_list = []\n",
    "addr2_list = []\n",
    "firstimage_list = []\n",
    "firstimage2_list = []\n",
    "mapx_list = []\n",
    "mapy_list = []\n",
    "tel_list = []"
   ]
  },
  {
   "cell_type": "code",
   "execution_count": 30,
   "metadata": {},
   "outputs": [],
   "source": [
    "data = soup.find_all('item')"
   ]
  },
  {
   "cell_type": "code",
   "execution_count": 49,
   "metadata": {},
   "outputs": [
    {
     "data": {
      "text/plain": [
       "[<item><addr1>서울특별시 중구 명동길 26</addr1><addr2>(명동2가)</addr2><areacode>1</areacode><cat1>A02</cat1><cat2>A0208</cat2><cat3>A02080300</cat3><contentid>406745</contentid><contenttypeid>15</contenttypeid><createdtime>20080118180330</createdtime><dist>589</dist><firstimage>http://tong.visitkorea.or.kr/cms/resource/86/2034286_image2_1.jpg</firstimage><firstimage2>http://tong.visitkorea.or.kr/cms/resource/86/2034286_image3_1.jpg</firstimage2><mapx>126.9837456304</mapx><mapy>37.5634463660</mapy><mlevel>6</mlevel><modifiedtime>20211221164759</modifiedtime><readcount>44442</readcount><sigungucode>24</sigungucode><tel>02-739-8288</tel><title>난타 (명동)</title></item>,\n",
       " <item><addr1>서울특별시 종로구 종로 54 보신각</addr1><areacode>1</areacode><cat1>A02</cat1><cat2>A0208</cat2><cat3>A02080100</cat3><contentid>2809535</contentid><contenttypeid>15</contenttypeid><createdtime>20220307144537</createdtime><dist>237</dist><firstimage>http://tong.visitkorea.or.kr/cms/resource/29/2809529_image2_1.jpg</firstimage><firstimage2>http://tong.visitkorea.or.kr/cms/resource/29/2809529_image2_1.jpg</firstimage2><mapx>126.9836898995</mapx><mapy>37.5698206245</mapy><mlevel>6</mlevel><modifiedtime>20220315130954</modifiedtime><readcount>0</readcount><sigungucode>23</sigungucode><tel>02-120</tel><title>남산봉수의식 등 전통문화 재현행사</title></item>,\n",
       " <item><addr1>온라인개최</addr1><areacode>1</areacode><cat1>A02</cat1><cat2>A0207</cat2><cat3>A02070200</cat3><contentid>2383974</contentid><contenttypeid>15</contenttypeid><createdtime>20160516200321</createdtime><dist>460</dist><mapx>126.9778738825</mapx><mapy>37.5656098983</mapy><mlevel>6</mlevel><modifiedtime>20220511134730</modifiedtime><readcount>5243</readcount><sigungucode>23</sigungucode><tel>02-861-3020</tel><title>모두하나대축제</title></item>,\n",
       " <item><addr1>서울특별시 종로구 인사동길 7</addr1><addr2>(인사동)</addr2><areacode>1</areacode><cat1>A02</cat1><cat2>A0207</cat2><cat3>A02070200</cat3><contentid>2754423</contentid><contenttypeid>15</contenttypeid><createdtime>20211006175116</createdtime><dist>582</dist><firstimage>http://tong.visitkorea.or.kr/cms/resource/94/2754994_image2_1.jpg</firstimage><firstimage2>http://tong.visitkorea.or.kr/cms/resource/94/2754994_image2_1.jpg</firstimage2><mapx>126.9868617818</mapx><mapy>37.5716149173</mapy><mlevel>6</mlevel><modifiedtime>20211013094919</modifiedtime><readcount>0</readcount><sigungucode>23</sigungucode><tel>02-749-0381</tel><title>벨기에 페스티벌</title></item>,\n",
       " <item><addr1>서울 중구 태평로 2가 17-3</addr1><addr2>서울광장</addr2><areacode>1</areacode><cat1>A02</cat1><cat2>A0207</cat2><cat3>A02070200</cat3><contentid>2718543</contentid><contenttypeid>15</contenttypeid><createdtime>20210526174106</createdtime><dist>486</dist><firstimage>http://tong.visitkorea.or.kr/cms/resource/40/2718540_image2_1.jpg</firstimage><firstimage2>http://tong.visitkorea.or.kr/cms/resource/40/2718540_image2_1.jpg</firstimage2><mapx>126.9777155697</mapx><mapy>37.5653988094</mapy><mlevel>6</mlevel><modifiedtime>20210601095541</modifiedtime><readcount>0</readcount><sigungucode>24</sigungucode><tel>02-516-2010</tel><title>서울100K (SEOUL100K)</title></item>,\n",
       " <item><addr1>서울특별시 중구 세종대로 110</addr1><addr2>(태평로1가)</addr2><areacode>1</areacode><cat1>A02</cat1><cat2>A0207</cat2><cat3>A02070200</cat3><contentid>2738786</contentid><contenttypeid>15</contenttypeid><createdtime>20210901134706</createdtime><dist>349</dist><firstimage>http://tong.visitkorea.or.kr/cms/resource/84/2738784_image2_1.jpg</firstimage><firstimage2>http://tong.visitkorea.or.kr/cms/resource/84/2738784_image2_1.jpg</firstimage2><mapx>126.9784043599</mapx><mapy>37.5666625635</mapy><mlevel>6</mlevel><modifiedtime>20210907171522</modifiedtime><readcount>0</readcount><sigungucode>24</sigungucode><tel>02-786-7518</tel><title>서울세계도시문화축제</title></item>,\n",
       " <item><addr1>온라인개최</addr1><areacode>1</areacode><cat1>A02</cat1><cat2>A0207</cat2><cat3>A02070200</cat3><contentid>2455073</contentid><contenttypeid>15</contenttypeid><createdtime>20161213152654</createdtime><dist>355</dist><firstimage>http://tong.visitkorea.or.kr/cms/resource/56/2801156_image2_1.jpg</firstimage><firstimage2>http://tong.visitkorea.or.kr/cms/resource/56/2801156_image2_1.jpg</firstimage2><mapx>126.9783710306</mapx><mapy>37.5665986816</mapy><mlevel>6</mlevel><modifiedtime>20211227103222</modifiedtime><readcount>3903</readcount><sigungucode>24</sigungucode><tel>02-3447-0101</tel><title>서울영상광고제</title></item>,\n",
       " <item><addr1>서울특별시 중구 세종대로19길 16</addr1><addr2>(정동)</addr2><areacode>1</areacode><cat1>A02</cat1><cat2>A0207</cat2><cat3>A02070200</cat3><contentid>1937544</contentid><contenttypeid>15</contenttypeid><createdtime>20140728142434</createdtime><dist>485</dist><firstimage>http://tong.visitkorea.or.kr/cms/resource/55/2737055_image2_1.jpg</firstimage><firstimage2>http://tong.visitkorea.or.kr/cms/resource/55/2737055_image2_1.jpg</firstimage2><mapx>126.9765823002</mapx><mapy>37.5667736284</mapy><mlevel>6</mlevel><modifiedtime>20210826163420</modifiedtime><readcount>8386</readcount><sigungucode>24</sigungucode><tel>02-765-7500</tel><title>서울청소년연극축제</title></item>,\n",
       " <item><addr1>서울특별시 중구 명동길 61</addr1><addr2>(명동1가)</addr2><areacode>1</areacode><cat1>A02</cat1><cat2>A0208</cat2><cat3>A02081300</cat3><contentid>2784769</contentid><contenttypeid>15</contenttypeid><createdtime>20211201141428</createdtime><dist>587</dist><firstimage>http://tong.visitkorea.or.kr/cms/resource/66/2784766_image2_1.jpg</firstimage><firstimage2>http://tong.visitkorea.or.kr/cms/resource/66/2784766_image2_1.jpg</firstimage2><mapx>126.9858787417</mapx><mapy>37.5644379556</mapy><mlevel>6</mlevel><modifiedtime>20211201141428</modifiedtime><readcount>0</readcount><sigungucode>24</sigungucode><tel>02-736-2320</tel><title>연구산업 컨퍼런스 2022</title></item>,\n",
       " <item><addr1>서울특별시 종로구 우정국로 55</addr1><areacode>1</areacode><cat1>A02</cat1><cat2>A0207</cat2><cat3>A02070200</cat3><contentid>531460</contentid><contenttypeid>15</contenttypeid><createdtime>20080415015603</createdtime><dist>535</dist><firstimage>http://tong.visitkorea.or.kr/cms/resource/22/2811822_image2_1.jpg</firstimage><firstimage2>http://tong.visitkorea.or.kr/cms/resource/22/2811822_image2_1.jpg</firstimage2><mapx>126.9815038890</mapx><mapy>37.5733035136</mapy><mlevel>6</mlevel><modifiedtime>20220322173219</modifiedtime><readcount>128875</readcount><sigungucode>23</sigungucode><tel>02-2011-1744~1747</tel><title>연등회</title></item>]"
      ]
     },
     "execution_count": 49,
     "metadata": {},
     "output_type": "execute_result"
    }
   ],
   "source": [
    "data"
   ]
  },
  {
   "cell_type": "code",
   "execution_count": 38,
   "metadata": {},
   "outputs": [
    {
     "ename": "NameError",
     "evalue": "name 'rows' is not defined",
     "output_type": "error",
     "traceback": [
      "\u001b[1;31m---------------------------------------------------------------------------\u001b[0m",
      "\u001b[1;31mNameError\u001b[0m                                 Traceback (most recent call last)",
      "\u001b[1;32m<ipython-input-38-db24cc8bcdf8>\u001b[0m in \u001b[0;36m<module>\u001b[1;34m\u001b[0m\n\u001b[0;32m      1\u001b[0m \u001b[1;31m# xml 안의 데이터 수집\u001b[0m\u001b[1;33m\u001b[0m\u001b[1;33m\u001b[0m\u001b[1;33m\u001b[0m\u001b[0m\n\u001b[0;32m      2\u001b[0m \u001b[1;32mfor\u001b[0m \u001b[0mi\u001b[0m \u001b[1;32min\u001b[0m \u001b[0mdata\u001b[0m\u001b[1;33m:\u001b[0m\u001b[1;33m\u001b[0m\u001b[1;33m\u001b[0m\u001b[0m\n\u001b[1;32m----> 3\u001b[1;33m     \u001b[0mcolumns\u001b[0m \u001b[1;33m=\u001b[0m \u001b[0mrows\u001b[0m\u001b[1;33m[\u001b[0m\u001b[1;36m1\u001b[0m\u001b[1;33m:\u001b[0m\u001b[1;33m]\u001b[0m\u001b[1;33m\u001b[0m\u001b[1;33m\u001b[0m\u001b[0m\n\u001b[0m\u001b[0;32m      4\u001b[0m     \u001b[1;31m#첫째 행 데이터 수집\u001b[0m\u001b[1;33m\u001b[0m\u001b[1;33m\u001b[0m\u001b[1;33m\u001b[0m\u001b[0m\n\u001b[0;32m      5\u001b[0m     \u001b[1;32mfor\u001b[0m \u001b[0mj\u001b[0m \u001b[1;32min\u001b[0m \u001b[0mrange\u001b[0m\u001b[1;33m(\u001b[0m\u001b[1;36m0\u001b[0m\u001b[1;33m,\u001b[0m\u001b[0mlen\u001b[0m\u001b[1;33m(\u001b[0m\u001b[0mcolumns\u001b[0m\u001b[1;33m)\u001b[0m\u001b[1;33m)\u001b[0m\u001b[1;33m:\u001b[0m\u001b[1;33m\u001b[0m\u001b[1;33m\u001b[0m\u001b[0m\n",
      "\u001b[1;31mNameError\u001b[0m: name 'rows' is not defined"
     ]
    }
   ],
   "source": [
    "# xml 안의 데이터 수집\n",
    "for i in data:\n",
    "    columns = rows[1:]\n",
    "    #첫째 행 데이터 수집\n",
    "    for j in range(0,len(columns)):\n",
    "        if i ==0:\n",
    "            # 컬럼 이름 값 저장\n",
    "            name_list.append(columns[j].name)\n",
    "        # 컬럼의 각 데이터 값 저장\n",
    "        value_list.append(columns[j].text)\n",
    "    # 각 행의 value값 전체 저장\n",
    "    row_list.append(value_list)\n",
    "    # 데이터 리스트 값 초기화\n",
    "    value_list=[]"
   ]
  },
  {
   "cell_type": "code",
   "execution_count": 18,
   "metadata": {},
   "outputs": [
    {
     "ename": "NameError",
     "evalue": "name 'row_list' is not defined",
     "output_type": "error",
     "traceback": [
      "\u001b[1;31m---------------------------------------------------------------------------\u001b[0m",
      "\u001b[1;31mNameError\u001b[0m                                 Traceback (most recent call last)",
      "\u001b[1;32m<ipython-input-18-172724554690>\u001b[0m in \u001b[0;36m<module>\u001b[1;34m\u001b[0m\n\u001b[0;32m      1\u001b[0m \u001b[1;31m#xml값 DataFrame으로 만들기\u001b[0m\u001b[1;33m\u001b[0m\u001b[1;33m\u001b[0m\u001b[1;33m\u001b[0m\u001b[0m\n\u001b[1;32m----> 2\u001b[1;33m \u001b[0mcorona_df\u001b[0m \u001b[1;33m=\u001b[0m \u001b[0mpd\u001b[0m\u001b[1;33m.\u001b[0m\u001b[0mDataFrame\u001b[0m\u001b[1;33m(\u001b[0m\u001b[0mrow_list\u001b[0m\u001b[1;33m,\u001b[0m \u001b[0mcolumns\u001b[0m\u001b[1;33m=\u001b[0m\u001b[0mname_list\u001b[0m\u001b[1;33m)\u001b[0m\u001b[1;33m\u001b[0m\u001b[1;33m\u001b[0m\u001b[0m\n\u001b[0m\u001b[0;32m      3\u001b[0m \u001b[0mprint\u001b[0m\u001b[1;33m(\u001b[0m\u001b[0mcorona_df\u001b[0m\u001b[1;33m.\u001b[0m\u001b[0mhead\u001b[0m\u001b[1;33m(\u001b[0m\u001b[1;36m19\u001b[0m\u001b[1;33m)\u001b[0m\u001b[1;33m)\u001b[0m\u001b[1;33m\u001b[0m\u001b[1;33m\u001b[0m\u001b[0m\n",
      "\u001b[1;31mNameError\u001b[0m: name 'row_list' is not defined"
     ]
    }
   ],
   "source": [
    "#xml값 DataFrame으로 만들기\n",
    "corona_df = pd.DataFrame(row_list, columns=name_list)\n",
    "print(corona_df.head(19)) "
   ]
  },
  {
   "cell_type": "code",
   "execution_count": 12,
   "metadata": {},
   "outputs": [
    {
     "ename": "NameError",
     "evalue": "name 'corona_df' is not defined",
     "output_type": "error",
     "traceback": [
      "\u001b[1;31m---------------------------------------------------------------------------\u001b[0m",
      "\u001b[1;31mNameError\u001b[0m                                 Traceback (most recent call last)",
      "\u001b[1;32m<ipython-input-12-43318bbec052>\u001b[0m in \u001b[0;36m<module>\u001b[1;34m\u001b[0m\n\u001b[1;32m----> 1\u001b[1;33m \u001b[0mcorona_df\u001b[0m\u001b[1;33m\u001b[0m\u001b[1;33m\u001b[0m\u001b[0m\n\u001b[0m",
      "\u001b[1;31mNameError\u001b[0m: name 'corona_df' is not defined"
     ]
    }
   ],
   "source": [
    "corona_df"
   ]
  },
  {
   "cell_type": "code",
   "execution_count": 113,
   "metadata": {},
   "outputs": [],
   "source": [
    "#DataFrame CSV 파일로 저장\n",
    "corona_df.to_csv('ex1.csv', encoding='utf-8')"
   ]
  },
  {
   "cell_type": "code",
   "execution_count": 41,
   "metadata": {},
   "outputs": [
    {
     "ename": "KeyError",
     "evalue": "'mapx'",
     "output_type": "error",
     "traceback": [
      "\u001b[1;31m---------------------------------------------------------------------------\u001b[0m",
      "\u001b[1;31mKeyError\u001b[0m                                  Traceback (most recent call last)",
      "\u001b[1;32m<ipython-input-41-8f662591d351>\u001b[0m in \u001b[0;36m<module>\u001b[1;34m\u001b[0m\n\u001b[0;32m      1\u001b[0m \u001b[1;32mfor\u001b[0m \u001b[0mx\u001b[0m \u001b[1;32min\u001b[0m \u001b[0mdata\u001b[0m\u001b[1;33m:\u001b[0m\u001b[1;33m\u001b[0m\u001b[1;33m\u001b[0m\u001b[0m\n\u001b[0;32m      2\u001b[0m \u001b[1;33m\u001b[0m\u001b[0m\n\u001b[1;32m----> 3\u001b[1;33m     \u001b[0mmapx_list\u001b[0m\u001b[1;33m.\u001b[0m\u001b[0mcount\u001b[0m\u001b[1;33m(\u001b[0m\u001b[0mx\u001b[0m\u001b[1;33m[\u001b[0m\u001b[1;34m'mapx'\u001b[0m\u001b[1;33m]\u001b[0m\u001b[1;33m)\u001b[0m\u001b[1;33m\u001b[0m\u001b[1;33m\u001b[0m\u001b[0m\n\u001b[0m\u001b[0;32m      4\u001b[0m     \u001b[0mmapy_list\u001b[0m\u001b[1;33m.\u001b[0m\u001b[0mcount\u001b[0m\u001b[1;33m(\u001b[0m\u001b[0mx\u001b[0m\u001b[1;33m[\u001b[0m\u001b[1;34m'mapy'\u001b[0m\u001b[1;33m]\u001b[0m\u001b[1;33m)\u001b[0m\u001b[1;33m\u001b[0m\u001b[1;33m\u001b[0m\u001b[0m\n\u001b[0;32m      5\u001b[0m \u001b[1;33m\u001b[0m\u001b[0m\n",
      "\u001b[1;32mC:\\ProgramData\\Anaconda3\\lib\\site-packages\\bs4\\element.py\u001b[0m in \u001b[0;36m__getitem__\u001b[1;34m(self, key)\u001b[0m\n\u001b[0;32m    969\u001b[0m         \"\"\"tag[key] returns the value of the 'key' attribute for the tag,\n\u001b[0;32m    970\u001b[0m         and throws an exception if it's not there.\"\"\"\n\u001b[1;32m--> 971\u001b[1;33m         \u001b[1;32mreturn\u001b[0m \u001b[0mself\u001b[0m\u001b[1;33m.\u001b[0m\u001b[0mattrs\u001b[0m\u001b[1;33m[\u001b[0m\u001b[0mkey\u001b[0m\u001b[1;33m]\u001b[0m\u001b[1;33m\u001b[0m\u001b[1;33m\u001b[0m\u001b[0m\n\u001b[0m\u001b[0;32m    972\u001b[0m \u001b[1;33m\u001b[0m\u001b[0m\n\u001b[0;32m    973\u001b[0m     \u001b[1;32mdef\u001b[0m \u001b[0m__iter__\u001b[0m\u001b[1;33m(\u001b[0m\u001b[0mself\u001b[0m\u001b[1;33m)\u001b[0m\u001b[1;33m:\u001b[0m\u001b[1;33m\u001b[0m\u001b[1;33m\u001b[0m\u001b[0m\n",
      "\u001b[1;31mKeyError\u001b[0m: 'mapx'"
     ]
    }
   ],
   "source": [
    "for x in data:\n",
    "  \n",
    "    mapx_list.count(x['mapx'])\n",
    "    mapy_list.count(x['mapy'])\n",
    "    \n",
    "len(mapx_list)"
   ]
  },
  {
   "cell_type": "code",
   "execution_count": 50,
   "metadata": {},
   "outputs": [],
   "source": [
    "from os import name\n",
    "import xml.etree.ElementTree as et\n",
    "import pandas as pd\n",
    "import bs4\n",
    "from lxml import html\n",
    "from urllib.parse import urlencode, quote_plus, unquote"
   ]
  },
  {
   "cell_type": "code",
   "execution_count": 51,
   "metadata": {},
   "outputs": [],
   "source": [
    "soup = BeautifulSoup(response2.text, 'html.parser')"
   ]
  },
  {
   "cell_type": "code",
   "execution_count": 52,
   "metadata": {},
   "outputs": [
    {
     "name": "stdout",
     "output_type": "stream",
     "text": [
      "[<item><addr1>서울특별시 중구 명동길 26</addr1><addr2>(명동2가)</addr2><areacode>1</areacode><cat1>A02</cat1><cat2>A0208</cat2><cat3>A02080300</cat3><contentid>406745</contentid><contenttypeid>15</contenttypeid><createdtime>20080118180330</createdtime><dist>589</dist><firstimage>http://tong.visitkorea.or.kr/cms/resource/86/2034286_image2_1.jpg</firstimage><firstimage2>http://tong.visitkorea.or.kr/cms/resource/86/2034286_image3_1.jpg</firstimage2><mapx>126.9837456304</mapx><mapy>37.5634463660</mapy><mlevel>6</mlevel><modifiedtime>20211221164759</modifiedtime><readcount>44442</readcount><sigungucode>24</sigungucode><tel>02-739-8288</tel><title>난타 (명동)</title></item>, <item><addr1>서울특별시 종로구 종로 54 보신각</addr1><areacode>1</areacode><cat1>A02</cat1><cat2>A0208</cat2><cat3>A02080100</cat3><contentid>2809535</contentid><contenttypeid>15</contenttypeid><createdtime>20220307144537</createdtime><dist>237</dist><firstimage>http://tong.visitkorea.or.kr/cms/resource/29/2809529_image2_1.jpg</firstimage><firstimage2>http://tong.visitkorea.or.kr/cms/resource/29/2809529_image2_1.jpg</firstimage2><mapx>126.9836898995</mapx><mapy>37.5698206245</mapy><mlevel>6</mlevel><modifiedtime>20220315130954</modifiedtime><readcount>0</readcount><sigungucode>23</sigungucode><tel>02-120</tel><title>남산봉수의식 등 전통문화 재현행사</title></item>, <item><addr1>온라인개최</addr1><areacode>1</areacode><cat1>A02</cat1><cat2>A0207</cat2><cat3>A02070200</cat3><contentid>2383974</contentid><contenttypeid>15</contenttypeid><createdtime>20160516200321</createdtime><dist>460</dist><mapx>126.9778738825</mapx><mapy>37.5656098983</mapy><mlevel>6</mlevel><modifiedtime>20220511134730</modifiedtime><readcount>5243</readcount><sigungucode>23</sigungucode><tel>02-861-3020</tel><title>모두하나대축제</title></item>, <item><addr1>서울특별시 종로구 인사동길 7</addr1><addr2>(인사동)</addr2><areacode>1</areacode><cat1>A02</cat1><cat2>A0207</cat2><cat3>A02070200</cat3><contentid>2754423</contentid><contenttypeid>15</contenttypeid><createdtime>20211006175116</createdtime><dist>582</dist><firstimage>http://tong.visitkorea.or.kr/cms/resource/94/2754994_image2_1.jpg</firstimage><firstimage2>http://tong.visitkorea.or.kr/cms/resource/94/2754994_image2_1.jpg</firstimage2><mapx>126.9868617818</mapx><mapy>37.5716149173</mapy><mlevel>6</mlevel><modifiedtime>20211013094919</modifiedtime><readcount>0</readcount><sigungucode>23</sigungucode><tel>02-749-0381</tel><title>벨기에 페스티벌</title></item>, <item><addr1>서울 중구 태평로 2가 17-3</addr1><addr2>서울광장</addr2><areacode>1</areacode><cat1>A02</cat1><cat2>A0207</cat2><cat3>A02070200</cat3><contentid>2718543</contentid><contenttypeid>15</contenttypeid><createdtime>20210526174106</createdtime><dist>486</dist><firstimage>http://tong.visitkorea.or.kr/cms/resource/40/2718540_image2_1.jpg</firstimage><firstimage2>http://tong.visitkorea.or.kr/cms/resource/40/2718540_image2_1.jpg</firstimage2><mapx>126.9777155697</mapx><mapy>37.5653988094</mapy><mlevel>6</mlevel><modifiedtime>20210601095541</modifiedtime><readcount>0</readcount><sigungucode>24</sigungucode><tel>02-516-2010</tel><title>서울100K (SEOUL100K)</title></item>, <item><addr1>서울특별시 중구 세종대로 110</addr1><addr2>(태평로1가)</addr2><areacode>1</areacode><cat1>A02</cat1><cat2>A0207</cat2><cat3>A02070200</cat3><contentid>2738786</contentid><contenttypeid>15</contenttypeid><createdtime>20210901134706</createdtime><dist>349</dist><firstimage>http://tong.visitkorea.or.kr/cms/resource/84/2738784_image2_1.jpg</firstimage><firstimage2>http://tong.visitkorea.or.kr/cms/resource/84/2738784_image2_1.jpg</firstimage2><mapx>126.9784043599</mapx><mapy>37.5666625635</mapy><mlevel>6</mlevel><modifiedtime>20210907171522</modifiedtime><readcount>0</readcount><sigungucode>24</sigungucode><tel>02-786-7518</tel><title>서울세계도시문화축제</title></item>, <item><addr1>온라인개최</addr1><areacode>1</areacode><cat1>A02</cat1><cat2>A0207</cat2><cat3>A02070200</cat3><contentid>2455073</contentid><contenttypeid>15</contenttypeid><createdtime>20161213152654</createdtime><dist>355</dist><firstimage>http://tong.visitkorea.or.kr/cms/resource/56/2801156_image2_1.jpg</firstimage><firstimage2>http://tong.visitkorea.or.kr/cms/resource/56/2801156_image2_1.jpg</firstimage2><mapx>126.9783710306</mapx><mapy>37.5665986816</mapy><mlevel>6</mlevel><modifiedtime>20211227103222</modifiedtime><readcount>3903</readcount><sigungucode>24</sigungucode><tel>02-3447-0101</tel><title>서울영상광고제</title></item>, <item><addr1>서울특별시 중구 세종대로19길 16</addr1><addr2>(정동)</addr2><areacode>1</areacode><cat1>A02</cat1><cat2>A0207</cat2><cat3>A02070200</cat3><contentid>1937544</contentid><contenttypeid>15</contenttypeid><createdtime>20140728142434</createdtime><dist>485</dist><firstimage>http://tong.visitkorea.or.kr/cms/resource/55/2737055_image2_1.jpg</firstimage><firstimage2>http://tong.visitkorea.or.kr/cms/resource/55/2737055_image2_1.jpg</firstimage2><mapx>126.9765823002</mapx><mapy>37.5667736284</mapy><mlevel>6</mlevel><modifiedtime>20210826163420</modifiedtime><readcount>8386</readcount><sigungucode>24</sigungucode><tel>02-765-7500</tel><title>서울청소년연극축제</title></item>, <item><addr1>서울특별시 중구 명동길 61</addr1><addr2>(명동1가)</addr2><areacode>1</areacode><cat1>A02</cat1><cat2>A0208</cat2><cat3>A02081300</cat3><contentid>2784769</contentid><contenttypeid>15</contenttypeid><createdtime>20211201141428</createdtime><dist>587</dist><firstimage>http://tong.visitkorea.or.kr/cms/resource/66/2784766_image2_1.jpg</firstimage><firstimage2>http://tong.visitkorea.or.kr/cms/resource/66/2784766_image2_1.jpg</firstimage2><mapx>126.9858787417</mapx><mapy>37.5644379556</mapy><mlevel>6</mlevel><modifiedtime>20211201141428</modifiedtime><readcount>0</readcount><sigungucode>24</sigungucode><tel>02-736-2320</tel><title>연구산업 컨퍼런스 2022</title></item>, <item><addr1>서울특별시 종로구 우정국로 55</addr1><areacode>1</areacode><cat1>A02</cat1><cat2>A0207</cat2><cat3>A02070200</cat3><contentid>531460</contentid><contenttypeid>15</contenttypeid><createdtime>20080415015603</createdtime><dist>535</dist><firstimage>http://tong.visitkorea.or.kr/cms/resource/22/2811822_image2_1.jpg</firstimage><firstimage2>http://tong.visitkorea.or.kr/cms/resource/22/2811822_image2_1.jpg</firstimage2><mapx>126.9815038890</mapx><mapy>37.5733035136</mapy><mlevel>6</mlevel><modifiedtime>20220322173219</modifiedtime><readcount>128875</readcount><sigungucode>23</sigungucode><tel>02-2011-1744~1747</tel><title>연등회</title></item>]\n"
     ]
    }
   ],
   "source": [
    "xml_obj = bs4.BeautifulSoup(response2.text,'html.parser')\n",
    "rows = xml_obj.find_all('item')\n",
    "print(rows)"
   ]
  },
  {
   "cell_type": "code",
   "execution_count": 53,
   "metadata": {},
   "outputs": [],
   "source": [
    "# 각 행의 컬럼, 이름, 값을 가지는 리스트 만들기\n",
    "row_list = [] # 행값\n",
    "name_list = [] # 열이름값\n",
    "value_list = [] #데이터값"
   ]
  },
  {
   "cell_type": "code",
   "execution_count": 54,
   "metadata": {},
   "outputs": [],
   "source": [
    "# xml 안의 데이터 수집\n",
    "for i in range(0, len(rows)):\n",
    "    columns = rows[i].find_all()\n",
    "    #첫째 행 데이터 수집\n",
    "    for j in range(0,len(columns)):\n",
    "        if i ==0:\n",
    "            # 컬럼 이름 값 저장\n",
    "            name_list.append(columns[j].name)\n",
    "        # 컬럼의 각 데이터 값 저장\n",
    "        value_list.append(columns[j].text)\n",
    "    # 각 행의 value값 전체 저장\n",
    "    row_list.append(value_list)\n",
    "    # 데이터 리스트 값 초기화\n",
    "    value_list=[]"
   ]
  },
  {
   "cell_type": "code",
   "execution_count": 89,
   "metadata": {},
   "outputs": [
    {
     "name": "stdout",
     "output_type": "stream",
     "text": [
      "                 addr1    addr2 areacode   cat1       cat2       cat3  \\\n",
      "0      서울특별시 중구 명동길 26   (명동2가)        1    A02      A0208  A02080300   \n",
      "1  서울특별시 종로구 종로 54 보신각        1      A02  A0208  A02080100    2809535   \n",
      "2     서울특별시 중구 세종대로 99     (정동)        1    A02      A0208  A02080100   \n",
      "3     서울특별시 종로구 인사동길 7    (인사동)        1    A02      A0207  A02070200   \n",
      "4    서울 중구 태평로 2가 17-3     서울광장        1    A02      A0207  A02070200   \n",
      "5    서울특별시 중구 세종대로 110  (태평로1가)        1    A02      A0207  A02070200   \n",
      "6                온라인개최        1      A02  A0207  A02070200    2455073   \n",
      "7  서울특별시 중구 세종대로19길 16     (정동)        1    A02      A0207  A02070200   \n",
      "8    서울특별시 중구 세종대로 110  (태평로1가)        1    A02      A0207  A02070200   \n",
      "9      서울특별시 중구 명동길 61   (명동1가)        1    A02      A0208  A02081300   \n",
      "\n",
      "  contentid   contenttypeid     createdtime  \\\n",
      "0    406745              15  20080118180330   \n",
      "1        15  20220307144537             237   \n",
      "2   1301487              15  20110603142942   \n",
      "3   2754423              15  20211006175116   \n",
      "4   2718543              15  20210526174106   \n",
      "5   2738786              15  20210901134706   \n",
      "6        15  20161213152654             355   \n",
      "7   1937544              15  20140728142434   \n",
      "8   2721458              15  20210616095432   \n",
      "9   2784769              15  20211201141428   \n",
      "\n",
      "                                                dist  \\\n",
      "0                                                589   \n",
      "1  http://tong.visitkorea.or.kr/cms/resource/29/2...   \n",
      "2                                                665   \n",
      "3                                                582   \n",
      "4                                                486   \n",
      "5                                                349   \n",
      "6  http://tong.visitkorea.or.kr/cms/resource/56/2...   \n",
      "7                                                485   \n",
      "8                                                349   \n",
      "9                                                587   \n",
      "\n",
      "                                          firstimage  \\\n",
      "0  http://tong.visitkorea.or.kr/cms/resource/86/2...   \n",
      "1  http://tong.visitkorea.or.kr/cms/resource/29/2...   \n",
      "2  http://tong.visitkorea.or.kr/cms/resource/08/1...   \n",
      "3  http://tong.visitkorea.or.kr/cms/resource/94/2...   \n",
      "4  http://tong.visitkorea.or.kr/cms/resource/40/2...   \n",
      "5  http://tong.visitkorea.or.kr/cms/resource/84/2...   \n",
      "6  http://tong.visitkorea.or.kr/cms/resource/56/2...   \n",
      "7  http://tong.visitkorea.or.kr/cms/resource/55/2...   \n",
      "8  http://tong.visitkorea.or.kr/cms/resource/55/2...   \n",
      "9  http://tong.visitkorea.or.kr/cms/resource/66/2...   \n",
      "\n",
      "                                         firstimage2            mapx  \\\n",
      "0  http://tong.visitkorea.or.kr/cms/resource/86/2...  126.9837456304   \n",
      "1                                     126.9836898995   37.5698206245   \n",
      "2  http://tong.visitkorea.or.kr/cms/resource/08/1...  126.9749158128   \n",
      "3  http://tong.visitkorea.or.kr/cms/resource/94/2...  126.9868617818   \n",
      "4  http://tong.visitkorea.or.kr/cms/resource/40/2...  126.9777155697   \n",
      "5  http://tong.visitkorea.or.kr/cms/resource/84/2...  126.9784043599   \n",
      "6                                     126.9783710306   37.5665986816   \n",
      "7  http://tong.visitkorea.or.kr/cms/resource/55/2...  126.9765823002   \n",
      "8  http://tong.visitkorea.or.kr/cms/resource/55/2...  126.9784043599   \n",
      "9  http://tong.visitkorea.or.kr/cms/resource/66/2...  126.9858787417   \n",
      "\n",
      "            mapy          mlevel    modifiedtime readcount   sigungucode  \\\n",
      "0  37.5634463660               6  20211221164759     44442            24   \n",
      "1              6  20220315130954               0        23        02-120   \n",
      "2  37.5658042673               6  20210609132748     40043            24   \n",
      "3  37.5716149173               6  20211013094919         0            23   \n",
      "4  37.5653988094               6  20210601095541         0            24   \n",
      "5  37.5666625635               6  20210907171522         0            24   \n",
      "6              6  20211227103222            3903        24  02-3447-0101   \n",
      "7  37.5667736284               6  20210826163420      8386            24   \n",
      "8  37.5666625635               6  20210618151236         0            24   \n",
      "9  37.5644379556               6  20211201141428         0            24   \n",
      "\n",
      "                                                 tel  \\\n",
      "0                                        02-739-8288   \n",
      "1                                 남산봉수의식 등 전통문화 재현행사   \n",
      "2                                       02-2270-1244   \n",
      "3                                        02-749-0381   \n",
      "4                                        02-516-2010   \n",
      "5                                        02-786-7518   \n",
      "6                                            서울영상광고제   \n",
      "7                                        02-765-7500   \n",
      "8  공연 02-739-7331<br> 미디어아트·체험 02-739-5811<br> 장터...   \n",
      "9                                        02-736-2320   \n",
      "\n",
      "                          title  \n",
      "0                       난타 (명동)  \n",
      "1                          None  \n",
      "2                        덕수궁 풍류  \n",
      "3                      벨기에 페스티벌  \n",
      "4            서울100K (SEOUL100K)  \n",
      "5                    서울세계도시문화축제  \n",
      "6                          None  \n",
      "7                     서울청소년연극축제  \n",
      "8  시민청 6-8월 문화예술 프로그램 <여름, 시민청>  \n",
      "9                연구산업 컨퍼런스 2022  \n"
     ]
    }
   ],
   "source": [
    "#xml값 DataFrame으로 만들기\n",
    "corona_df = pd.DataFrame(row_list, columns=name_list)\n",
    "print(corona_df.head(19))"
   ]
  },
  {
   "cell_type": "code",
   "execution_count": 55,
   "metadata": {},
   "outputs": [
    {
     "ename": "NameError",
     "evalue": "name 'corona_df' is not defined",
     "output_type": "error",
     "traceback": [
      "\u001b[1;31m---------------------------------------------------------------------------\u001b[0m",
      "\u001b[1;31mNameError\u001b[0m                                 Traceback (most recent call last)",
      "\u001b[1;32m<ipython-input-55-023afc17f390>\u001b[0m in \u001b[0;36m<module>\u001b[1;34m\u001b[0m\n\u001b[0;32m      1\u001b[0m \u001b[1;31m#DataFrame CSV 파일로 저장\u001b[0m\u001b[1;33m\u001b[0m\u001b[1;33m\u001b[0m\u001b[1;33m\u001b[0m\u001b[0m\n\u001b[1;32m----> 2\u001b[1;33m \u001b[0mcorona_df\u001b[0m\u001b[1;33m.\u001b[0m\u001b[0mto_csv\u001b[0m\u001b[1;33m(\u001b[0m\u001b[1;34m'trip.csv'\u001b[0m\u001b[1;33m,\u001b[0m \u001b[0mencoding\u001b[0m\u001b[1;33m=\u001b[0m\u001b[1;34m'utf-8'\u001b[0m\u001b[1;33m)\u001b[0m\u001b[1;33m\u001b[0m\u001b[1;33m\u001b[0m\u001b[0m\n\u001b[0m",
      "\u001b[1;31mNameError\u001b[0m: name 'corona_df' is not defined"
     ]
    }
   ],
   "source": [
    "#DataFrame CSV 파일로 저장\n",
    "corona_df.to_csv('trip.csv', encoding='utf-8')"
   ]
  },
  {
   "cell_type": "code",
   "execution_count": null,
   "metadata": {},
   "outputs": [],
   "source": []
  }
 ],
 "metadata": {
  "kernelspec": {
   "display_name": "Python 3",
   "language": "python",
   "name": "python3"
  },
  "language_info": {
   "codemirror_mode": {
    "name": "ipython",
    "version": 3
   },
   "file_extension": ".py",
   "mimetype": "text/x-python",
   "name": "python",
   "nbconvert_exporter": "python",
   "pygments_lexer": "ipython3",
   "version": "3.7.4"
  }
 },
 "nbformat": 4,
 "nbformat_minor": 2
}
