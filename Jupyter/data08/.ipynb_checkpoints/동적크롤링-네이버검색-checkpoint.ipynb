{
 "cells": [
  {
   "cell_type": "code",
   "execution_count": 2,
   "id": "e6645fbf-afe4-4fe5-bcdb-709213c4f1ad",
   "metadata": {},
   "outputs": [],
   "source": [
    "import warnings\n",
    "warnings.filterwarnings(action='ignore')\n",
    "from selenium.webdriver.common.by import By\n",
    "from selenium.webdriver.support.ui import WebDriverWait \n",
    "from selenium.webdriver.support import expected_conditions as EC\n",
    "from selenium import webdriver\n",
    "from selenium.webdriver.common.keys import Keys\n",
    "import time"
   ]
  },
  {
   "cell_type": "code",
   "execution_count": null,
   "id": "28d470a4-3abe-4e0b-a19c-3a1b3d02bee1",
   "metadata": {},
   "outputs": [],
   "source": [
    "# 검색할 키워드 입력\n",
    "# query = input(\"검색할 키워드를 입력하세요>>\")\n",
    "# 크롬 드라이버로 원하는 url접속\n",
    "# 1. 크롬 브라우저 실행\n",
    "url = 'http://www.naver.com'\n",
    "driver = webdriver.Chrome('C:/Users/hi/Himedia_jupyter/chromedriver.exe')\n",
    "driver.get(url)\n",
    "# 2. 특정 url: http://www.naver.com 로 연결\n",
    "# 연결하여 페이지를 받아오는 동안 기다리기 설정"
   ]
  }
 ],
 "metadata": {
  "kernelspec": {
   "display_name": "Python 3 (ipykernel)",
   "language": "python",
   "name": "python3"
  },
  "language_info": {
   "codemirror_mode": {
    "name": "ipython",
    "version": 3
   },
   "file_extension": ".py",
   "mimetype": "text/x-python",
   "name": "python",
   "nbconvert_exporter": "python",
   "pygments_lexer": "ipython3",
   "version": "3.7.11"
  }
 },
 "nbformat": 4,
 "nbformat_minor": 5
}
