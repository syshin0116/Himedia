{
 "cells": [
  {
   "cell_type": "code",
   "execution_count": 31,
   "id": "eaeae0cb-98c1-4f99-8950-80ca26b4e617",
   "metadata": {},
   "outputs": [],
   "source": [
    "# 주요 라이브러리 import\n",
    "# 동적크롤링-수업중-인스타 로그인\n",
    "import warnings\n",
    "warnings.filterwarnings(action='ignore')\n",
    "from selenium.webdriver.common.by import By\n",
    "from selenium.webdriver.support.ui import WebDriverWait \n",
    "from selenium.webdriver.support import expected_conditions as EC\n",
    "#step1.selenium 패키지와 time 모듈 import\n",
    "from selenium import webdriver as wb\n",
    "from selenium.webdriver.common.keys import Keys\n",
    "import time\n",
    "from IPython.display import Image\n",
    "import pandas as pd\n",
    "from bs4 import BeautifulSoup as bs"
   ]
  },
  {
   "cell_type": "code",
   "execution_count": 32,
   "id": "785d7536-a92d-40cb-99c1-7f00659af6b6",
   "metadata": {},
   "outputs": [],
   "source": [
    "# 크롬 브라우저 실행\n",
    "driver = wb.Chrome('../chromedriver') #브라우저 실행"
   ]
  },
  {
   "cell_type": "code",
   "execution_count": 33,
   "id": "ede72064-3270-4532-ba01-f223e3ccbabf",
   "metadata": {},
   "outputs": [],
   "source": [
    "#특정 페이지 접속\n",
    "url = 'https://www.instagram.com/'\n",
    "driver.get(url)"
   ]
  },
  {
   "cell_type": "code",
   "execution_count": 34,
   "id": "0f68efe3-f7d3-42f9-a7d5-6e1e6b65a8e6",
   "metadata": {
    "tags": []
   },
   "outputs": [],
   "source": [
    "#loginForm > div > div:nth-child(1) > div > label > input"
   ]
  },
  {
   "cell_type": "code",
   "execution_count": 35,
   "id": "bd6e742b-b6bd-4e0a-b219-86f10a3a1ba6",
   "metadata": {},
   "outputs": [
    {
     "name": "stdin",
     "output_type": "stream",
     "text": [
      "아이디를 입력하세요:  sys975@hotmail.com\n",
      "비밀전호를 입력하세요:  ·············\n"
     ]
    }
   ],
   "source": [
    "from getpass import getpass\n",
    "id = input('아이디를 입력하세요: ')\n",
    "pw = getpass('비밀전호를 입력하세요: ')"
   ]
  },
  {
   "cell_type": "code",
   "execution_count": 42,
   "id": "487f7cf8-2c69-4e17-90db-3368fa1d698c",
   "metadata": {},
   "outputs": [],
   "source": [
    "# 로그인\n",
    "login_box = driver.find_element_by_css_selector('#loginForm > div > div:nth-child(1) > div > label > input')\n",
    "login_box.send_keys(id)\n",
    "time.sleep(1)\n",
    "login_box.send_keys(Keys.TAB, pw, Keys.ENTER)\n",
    "# pw_box = driver.current_window_handle\n",
    "# pw_box.send_keys(pw)\n",
    "# pw_box.send_keys(Keys.ENTER)\n",
    "time.sleep(1)"
   ]
  },
  {
   "cell_type": "code",
   "execution_count": 43,
   "id": "5181af5a-8b9c-4544-8c70-972b16096855",
   "metadata": {},
   "outputs": [],
   "source": [
    "#알람설정 -> 나중에 하기\n",
    "alarm_box = driver.find_element_by_css_selector('body > div.RnEpo.Yx5HN > div > div > div > div.mt3GC > button.aOOlW.HoLwm')\n",
    "alarm_box.click()\n"
   ]
  },
  {
   "cell_type": "code",
   "execution_count": 49,
   "id": "7cfb5a1d-c915-45a4-85e4-6e2583dd9cee",
   "metadata": {},
   "outputs": [
    {
     "data": {
      "text/plain": [
       "3"
      ]
     },
     "execution_count": 49,
     "metadata": {},
     "output_type": "execute_result"
    }
   ],
   "source": [
    "#좋아요 crawl\n",
    "like_box = driver.find_elements_by_css_selector('#react-root > section > main > section > div.CZW53.N2s2W > div.qF0y9.Igw0E.IwRSH.eGOV_._4EzTm > div > div > article > div > div.qF0y9.Igw0E.IwRSH.eGOV_._4EzTm > div > div > section.EDfFK.ygqzn > div > div > div > a > div > span')\n",
    "len(like_box)"
   ]
  },
  {
   "cell_type": "code",
   "execution_count": 68,
   "id": "1590a715-eb34-4a97-9d31-b8548a9c5fa2",
   "metadata": {},
   "outputs": [
    {
     "name": "stdout",
     "output_type": "stream",
     "text": [
      "<selenium.webdriver.remote.webelement.WebElement (session=\"f6018610e302e8fe75995313d1dcc1fb\", element=\"ddf9b1de-c6e4-432e-aaa3-cae773ee785d\")>\n"
     ]
    },
    {
     "ename": "TypeError",
     "evalue": "'WebElement' object is not iterable",
     "output_type": "error",
     "traceback": [
      "\u001b[1;31m---------------------------------------------------------------------------\u001b[0m",
      "\u001b[1;31mTypeError\u001b[0m                                 Traceback (most recent call last)",
      "\u001b[1;32m~\\AppData\\Local\\Temp\\ipykernel_12084\\1638442515.py\u001b[0m in \u001b[0;36m<module>\u001b[1;34m\u001b[0m\n\u001b[0;32m      2\u001b[0m \u001b[0msee_more\u001b[0m \u001b[1;33m=\u001b[0m \u001b[0mdriver\u001b[0m\u001b[1;33m.\u001b[0m\u001b[0mfind_element_by_css_selector\u001b[0m\u001b[1;33m(\u001b[0m\u001b[1;34m'#react-root > section > main > section > div.CZW53.N2s2W > div.qF0y9.Igw0E.IwRSH.eGOV_._4EzTm > div > div > article > div > div.qF0y9.Igw0E.IwRSH.eGOV_._4EzTm > div > div > div.EtaWk > div > div.qF0y9.Igw0E.IwRSH.eGOV_._4EzTm.pjcA_ > div > span> span > div > div'\u001b[0m\u001b[1;33m)\u001b[0m\u001b[1;33m\u001b[0m\u001b[1;33m\u001b[0m\u001b[0m\n\u001b[0;32m      3\u001b[0m \u001b[0mprint\u001b[0m\u001b[1;33m(\u001b[0m\u001b[0msee_more\u001b[0m\u001b[1;33m)\u001b[0m\u001b[1;33m\u001b[0m\u001b[1;33m\u001b[0m\u001b[0m\n\u001b[1;32m----> 4\u001b[1;33m \u001b[1;32mfor\u001b[0m \u001b[0mmore\u001b[0m \u001b[1;32min\u001b[0m \u001b[0msee_more\u001b[0m\u001b[1;33m:\u001b[0m\u001b[1;33m\u001b[0m\u001b[1;33m\u001b[0m\u001b[0m\n\u001b[0m\u001b[0;32m      5\u001b[0m     \u001b[0mmore\u001b[0m\u001b[1;33m.\u001b[0m\u001b[0mclick\u001b[0m\u001b[1;33m(\u001b[0m\u001b[1;33m)\u001b[0m\u001b[1;33m\u001b[0m\u001b[1;33m\u001b[0m\u001b[0m\n",
      "\u001b[1;31mTypeError\u001b[0m: 'WebElement' object is not iterable"
     ]
    }
   ],
   "source": [
    "# 더 보기 클릭하기\n",
    "see_more = driver.find_element_by_css_selector('#react-root > section > main > section > div.CZW53.N2s2W > div.qF0y9.Igw0E.IwRSH.eGOV_._4EzTm > div > div > article > div > div.qF0y9.Igw0E.IwRSH.eGOV_._4EzTm > div > div > div.EtaWk > div > div.qF0y9.Igw0E.IwRSH.eGOV_._4EzTm.pjcA_ > div > span> span > div > div')\n",
    "print(see_more)\n",
    "for more in see_more:\n",
    "    more.click()"
   ]
  },
  {
   "cell_type": "code",
   "execution_count": 59,
   "id": "71df9885-f10b-4906-9b01-d5934ffe41f0",
   "metadata": {},
   "outputs": [
    {
     "ename": "StaleElementReferenceException",
     "evalue": "Message: stale element reference: element is not attached to the page document\n  (Session info: chrome=99.0.4844.84)\nStacktrace:\nBacktrace:\n\tOrdinal0 [0x00E8A0A3+2597027]\n\tOrdinal0 [0x00E1BA61+2144865]\n\tOrdinal0 [0x00D13C58+1064024]\n\tOrdinal0 [0x00D16477+1074295]\n\tOrdinal0 [0x00D1633E+1073982]\n\tOrdinal0 [0x00D165B0+1074608]\n\tOrdinal0 [0x00D3BBB0+1227696]\n\tOrdinal0 [0x00D587AC+1345452]\n\tOrdinal0 [0x00D36874+1206388]\n\tOrdinal0 [0x00D58904+1345796]\n\tOrdinal0 [0x00D68B1A+1411866]\n\tOrdinal0 [0x00D585C6+1344966]\n\tOrdinal0 [0x00D354C6+1201350]\n\tOrdinal0 [0x00D363B6+1205174]\n\tGetHandleVerifier [0x010310A2+1681842]\n\tGetHandleVerifier [0x010E3B0C+2413596]\n\tGetHandleVerifier [0x00F21221+568113]\n\tGetHandleVerifier [0x00F1FFA3+563379]\n\tOrdinal0 [0x00E2174E+2168654]\n\tOrdinal0 [0x00E26538+2188600]\n\tOrdinal0 [0x00E26680+2188928]\n\tOrdinal0 [0x00E3030C+2229004]\n\tBaseThreadInitThunk [0x7503FA29+25]\n\tRtlGetAppContainerNamedObjectPath [0x76EE7A7E+286]\n\tRtlGetAppContainerNamedObjectPath [0x76EE7A4E+238]\n",
     "output_type": "error",
     "traceback": [
      "\u001b[1;31m---------------------------------------------------------------------------\u001b[0m",
      "\u001b[1;31mStaleElementReferenceException\u001b[0m            Traceback (most recent call last)",
      "\u001b[1;32m~\\AppData\\Local\\Temp\\ipykernel_12084\\4249235872.py\u001b[0m in \u001b[0;36m<module>\u001b[1;34m\u001b[0m\n\u001b[0;32m      1\u001b[0m \u001b[0mlike_list\u001b[0m \u001b[1;33m=\u001b[0m \u001b[1;33m[\u001b[0m\u001b[1;33m]\u001b[0m\u001b[1;33m\u001b[0m\u001b[1;33m\u001b[0m\u001b[0m\n\u001b[0;32m      2\u001b[0m \u001b[1;32mfor\u001b[0m \u001b[0mlikes\u001b[0m \u001b[1;32min\u001b[0m \u001b[0mlike_box\u001b[0m\u001b[1;33m:\u001b[0m\u001b[1;33m\u001b[0m\u001b[1;33m\u001b[0m\u001b[0m\n\u001b[1;32m----> 3\u001b[1;33m     \u001b[0mlike_list\u001b[0m\u001b[1;33m.\u001b[0m\u001b[0mappend\u001b[0m\u001b[1;33m(\u001b[0m\u001b[0mlikes\u001b[0m\u001b[1;33m.\u001b[0m\u001b[0mtext\u001b[0m\u001b[1;33m)\u001b[0m\u001b[1;33m\u001b[0m\u001b[1;33m\u001b[0m\u001b[0m\n\u001b[0m\u001b[0;32m      4\u001b[0m \u001b[0mlike_list\u001b[0m\u001b[1;33m\u001b[0m\u001b[1;33m\u001b[0m\u001b[0m\n",
      "\u001b[1;32m~\\Anaconda3\\lib\\site-packages\\selenium\\webdriver\\remote\\webelement.py\u001b[0m in \u001b[0;36mtext\u001b[1;34m(self)\u001b[0m\n\u001b[0;32m     75\u001b[0m     \u001b[1;32mdef\u001b[0m \u001b[0mtext\u001b[0m\u001b[1;33m(\u001b[0m\u001b[0mself\u001b[0m\u001b[1;33m)\u001b[0m \u001b[1;33m->\u001b[0m \u001b[0mstr\u001b[0m\u001b[1;33m:\u001b[0m\u001b[1;33m\u001b[0m\u001b[1;33m\u001b[0m\u001b[0m\n\u001b[0;32m     76\u001b[0m         \u001b[1;34m\"\"\"The text of the element.\"\"\"\u001b[0m\u001b[1;33m\u001b[0m\u001b[1;33m\u001b[0m\u001b[0m\n\u001b[1;32m---> 77\u001b[1;33m         \u001b[1;32mreturn\u001b[0m \u001b[0mself\u001b[0m\u001b[1;33m.\u001b[0m\u001b[0m_execute\u001b[0m\u001b[1;33m(\u001b[0m\u001b[0mCommand\u001b[0m\u001b[1;33m.\u001b[0m\u001b[0mGET_ELEMENT_TEXT\u001b[0m\u001b[1;33m)\u001b[0m\u001b[1;33m[\u001b[0m\u001b[1;34m'value'\u001b[0m\u001b[1;33m]\u001b[0m\u001b[1;33m\u001b[0m\u001b[1;33m\u001b[0m\u001b[0m\n\u001b[0m\u001b[0;32m     78\u001b[0m \u001b[1;33m\u001b[0m\u001b[0m\n\u001b[0;32m     79\u001b[0m     \u001b[1;32mdef\u001b[0m \u001b[0mclick\u001b[0m\u001b[1;33m(\u001b[0m\u001b[0mself\u001b[0m\u001b[1;33m)\u001b[0m \u001b[1;33m->\u001b[0m \u001b[1;32mNone\u001b[0m\u001b[1;33m:\u001b[0m\u001b[1;33m\u001b[0m\u001b[1;33m\u001b[0m\u001b[0m\n",
      "\u001b[1;32m~\\Anaconda3\\lib\\site-packages\\selenium\\webdriver\\remote\\webelement.py\u001b[0m in \u001b[0;36m_execute\u001b[1;34m(self, command, params)\u001b[0m\n\u001b[0;32m    708\u001b[0m             \u001b[0mparams\u001b[0m \u001b[1;33m=\u001b[0m \u001b[1;33m{\u001b[0m\u001b[1;33m}\u001b[0m\u001b[1;33m\u001b[0m\u001b[1;33m\u001b[0m\u001b[0m\n\u001b[0;32m    709\u001b[0m         \u001b[0mparams\u001b[0m\u001b[1;33m[\u001b[0m\u001b[1;34m'id'\u001b[0m\u001b[1;33m]\u001b[0m \u001b[1;33m=\u001b[0m \u001b[0mself\u001b[0m\u001b[1;33m.\u001b[0m\u001b[0m_id\u001b[0m\u001b[1;33m\u001b[0m\u001b[1;33m\u001b[0m\u001b[0m\n\u001b[1;32m--> 710\u001b[1;33m         \u001b[1;32mreturn\u001b[0m \u001b[0mself\u001b[0m\u001b[1;33m.\u001b[0m\u001b[0m_parent\u001b[0m\u001b[1;33m.\u001b[0m\u001b[0mexecute\u001b[0m\u001b[1;33m(\u001b[0m\u001b[0mcommand\u001b[0m\u001b[1;33m,\u001b[0m \u001b[0mparams\u001b[0m\u001b[1;33m)\u001b[0m\u001b[1;33m\u001b[0m\u001b[1;33m\u001b[0m\u001b[0m\n\u001b[0m\u001b[0;32m    711\u001b[0m \u001b[1;33m\u001b[0m\u001b[0m\n\u001b[0;32m    712\u001b[0m     \u001b[1;32mdef\u001b[0m \u001b[0mfind_element\u001b[0m\u001b[1;33m(\u001b[0m\u001b[0mself\u001b[0m\u001b[1;33m,\u001b[0m \u001b[0mby\u001b[0m\u001b[1;33m=\u001b[0m\u001b[0mBy\u001b[0m\u001b[1;33m.\u001b[0m\u001b[0mID\u001b[0m\u001b[1;33m,\u001b[0m \u001b[0mvalue\u001b[0m\u001b[1;33m=\u001b[0m\u001b[1;32mNone\u001b[0m\u001b[1;33m)\u001b[0m\u001b[1;33m:\u001b[0m\u001b[1;33m\u001b[0m\u001b[1;33m\u001b[0m\u001b[0m\n",
      "\u001b[1;32m~\\Anaconda3\\lib\\site-packages\\selenium\\webdriver\\remote\\webdriver.py\u001b[0m in \u001b[0;36mexecute\u001b[1;34m(self, driver_command, params)\u001b[0m\n\u001b[0;32m    423\u001b[0m         \u001b[0mresponse\u001b[0m \u001b[1;33m=\u001b[0m \u001b[0mself\u001b[0m\u001b[1;33m.\u001b[0m\u001b[0mcommand_executor\u001b[0m\u001b[1;33m.\u001b[0m\u001b[0mexecute\u001b[0m\u001b[1;33m(\u001b[0m\u001b[0mdriver_command\u001b[0m\u001b[1;33m,\u001b[0m \u001b[0mparams\u001b[0m\u001b[1;33m)\u001b[0m\u001b[1;33m\u001b[0m\u001b[1;33m\u001b[0m\u001b[0m\n\u001b[0;32m    424\u001b[0m         \u001b[1;32mif\u001b[0m \u001b[0mresponse\u001b[0m\u001b[1;33m:\u001b[0m\u001b[1;33m\u001b[0m\u001b[1;33m\u001b[0m\u001b[0m\n\u001b[1;32m--> 425\u001b[1;33m             \u001b[0mself\u001b[0m\u001b[1;33m.\u001b[0m\u001b[0merror_handler\u001b[0m\u001b[1;33m.\u001b[0m\u001b[0mcheck_response\u001b[0m\u001b[1;33m(\u001b[0m\u001b[0mresponse\u001b[0m\u001b[1;33m)\u001b[0m\u001b[1;33m\u001b[0m\u001b[1;33m\u001b[0m\u001b[0m\n\u001b[0m\u001b[0;32m    426\u001b[0m             response['value'] = self._unwrap_value(\n\u001b[0;32m    427\u001b[0m                 response.get('value', None))\n",
      "\u001b[1;32m~\\Anaconda3\\lib\\site-packages\\selenium\\webdriver\\remote\\errorhandler.py\u001b[0m in \u001b[0;36mcheck_response\u001b[1;34m(self, response)\u001b[0m\n\u001b[0;32m    245\u001b[0m                 \u001b[0malert_text\u001b[0m \u001b[1;33m=\u001b[0m \u001b[0mvalue\u001b[0m\u001b[1;33m[\u001b[0m\u001b[1;34m'alert'\u001b[0m\u001b[1;33m]\u001b[0m\u001b[1;33m.\u001b[0m\u001b[0mget\u001b[0m\u001b[1;33m(\u001b[0m\u001b[1;34m'text'\u001b[0m\u001b[1;33m)\u001b[0m\u001b[1;33m\u001b[0m\u001b[1;33m\u001b[0m\u001b[0m\n\u001b[0;32m    246\u001b[0m             \u001b[1;32mraise\u001b[0m \u001b[0mexception_class\u001b[0m\u001b[1;33m(\u001b[0m\u001b[0mmessage\u001b[0m\u001b[1;33m,\u001b[0m \u001b[0mscreen\u001b[0m\u001b[1;33m,\u001b[0m \u001b[0mstacktrace\u001b[0m\u001b[1;33m,\u001b[0m \u001b[0malert_text\u001b[0m\u001b[1;33m)\u001b[0m  \u001b[1;31m# type: ignore[call-arg]  # mypy is not smart enough here\u001b[0m\u001b[1;33m\u001b[0m\u001b[1;33m\u001b[0m\u001b[0m\n\u001b[1;32m--> 247\u001b[1;33m         \u001b[1;32mraise\u001b[0m \u001b[0mexception_class\u001b[0m\u001b[1;33m(\u001b[0m\u001b[0mmessage\u001b[0m\u001b[1;33m,\u001b[0m \u001b[0mscreen\u001b[0m\u001b[1;33m,\u001b[0m \u001b[0mstacktrace\u001b[0m\u001b[1;33m)\u001b[0m\u001b[1;33m\u001b[0m\u001b[1;33m\u001b[0m\u001b[0m\n\u001b[0m\u001b[0;32m    248\u001b[0m \u001b[1;33m\u001b[0m\u001b[0m\n\u001b[0;32m    249\u001b[0m     \u001b[1;32mdef\u001b[0m \u001b[0m_value_or_default\u001b[0m\u001b[1;33m(\u001b[0m\u001b[0mself\u001b[0m\u001b[1;33m,\u001b[0m \u001b[0mobj\u001b[0m\u001b[1;33m:\u001b[0m \u001b[0mMapping\u001b[0m\u001b[1;33m[\u001b[0m\u001b[0m_KT\u001b[0m\u001b[1;33m,\u001b[0m \u001b[0m_VT\u001b[0m\u001b[1;33m]\u001b[0m\u001b[1;33m,\u001b[0m \u001b[0mkey\u001b[0m\u001b[1;33m:\u001b[0m \u001b[0m_KT\u001b[0m\u001b[1;33m,\u001b[0m \u001b[0mdefault\u001b[0m\u001b[1;33m:\u001b[0m \u001b[0m_VT\u001b[0m\u001b[1;33m)\u001b[0m \u001b[1;33m->\u001b[0m \u001b[0m_VT\u001b[0m\u001b[1;33m:\u001b[0m\u001b[1;33m\u001b[0m\u001b[1;33m\u001b[0m\u001b[0m\n",
      "\u001b[1;31mStaleElementReferenceException\u001b[0m: Message: stale element reference: element is not attached to the page document\n  (Session info: chrome=99.0.4844.84)\nStacktrace:\nBacktrace:\n\tOrdinal0 [0x00E8A0A3+2597027]\n\tOrdinal0 [0x00E1BA61+2144865]\n\tOrdinal0 [0x00D13C58+1064024]\n\tOrdinal0 [0x00D16477+1074295]\n\tOrdinal0 [0x00D1633E+1073982]\n\tOrdinal0 [0x00D165B0+1074608]\n\tOrdinal0 [0x00D3BBB0+1227696]\n\tOrdinal0 [0x00D587AC+1345452]\n\tOrdinal0 [0x00D36874+1206388]\n\tOrdinal0 [0x00D58904+1345796]\n\tOrdinal0 [0x00D68B1A+1411866]\n\tOrdinal0 [0x00D585C6+1344966]\n\tOrdinal0 [0x00D354C6+1201350]\n\tOrdinal0 [0x00D363B6+1205174]\n\tGetHandleVerifier [0x010310A2+1681842]\n\tGetHandleVerifier [0x010E3B0C+2413596]\n\tGetHandleVerifier [0x00F21221+568113]\n\tGetHandleVerifier [0x00F1FFA3+563379]\n\tOrdinal0 [0x00E2174E+2168654]\n\tOrdinal0 [0x00E26538+2188600]\n\tOrdinal0 [0x00E26680+2188928]\n\tOrdinal0 [0x00E3030C+2229004]\n\tBaseThreadInitThunk [0x7503FA29+25]\n\tRtlGetAppContainerNamedObjectPath [0x76EE7A7E+286]\n\tRtlGetAppContainerNamedObjectPath [0x76EE7A4E+238]\n"
     ]
    }
   ],
   "source": [
    "# 좋아요 list 생성\n",
    "like_list = []\n",
    "for likes in like_box:\n",
    "    like_list.append(likes.text)\n",
    "like_list"
   ]
  },
  {
   "cell_type": "code",
   "execution_count": null,
   "id": "ed1ca875-16f6-4654-ac02-b2be9161f037",
   "metadata": {},
   "outputs": [],
   "source": []
  }
 ],
 "metadata": {
  "kernelspec": {
   "display_name": "Python 3 (ipykernel)",
   "language": "python",
   "name": "python3"
  },
  "language_info": {
   "codemirror_mode": {
    "name": "ipython",
    "version": 3
   },
   "file_extension": ".py",
   "mimetype": "text/x-python",
   "name": "python",
   "nbconvert_exporter": "python",
   "pygments_lexer": "ipython3",
   "version": "3.7.11"
  }
 },
 "nbformat": 4,
 "nbformat_minor": 5
}
