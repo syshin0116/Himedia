{
 "cells": [
  {
   "cell_type": "code",
   "execution_count": 3,
   "id": "c901b166-cb15-44d7-8872-c66bf330ecbf",
   "metadata": {},
   "outputs": [],
   "source": [
    "import warnings\n",
    "warnings.filterwarnings(action='ignore')\n",
    "from selenium.webdriver.common.by import By\n",
    "from selenium.webdriver.support.ui import WebDriverWait \n",
    "from selenium.webdriver.support import expected_conditions as EC\n",
    "#step1.selenium 패키지와 time 모듈 import\n",
    "from selenium import webdriver as wb\n",
    "from selenium.webdriver.common.keys import Keys\n",
    "import time\n",
    "from IPython.display import Image\n",
    "import pandas as pd\n",
    "import numpy as np\n",
    "from bs4 import BeautifulSoup"
   ]
  },
  {
   "cell_type": "code",
   "execution_count": 18,
   "id": "f2c79f93-dfa3-489d-a908-d80b3bdbcf15",
   "metadata": {},
   "outputs": [],
   "source": [
    "driver = wb.Chrome('/usr/local/bin/chromedriver') #브라우저 실행"
   ]
  },
  {
   "cell_type": "code",
   "execution_count": 19,
   "id": "d09581c4-9c3b-4750-9101-115db4c8dd20",
   "metadata": {},
   "outputs": [],
   "source": [
    "url = 'https://www.benzinga.com/pressreleases/22/05/n27071608/former-senior-vice-president-of-autonomous-driving-at-vw-group-alexander-hitzinger-joins-arbe-boar'\n",
    "driver.get(url)"
   ]
  },
  {
   "cell_type": "code",
   "execution_count": null,
   "id": "daf9f61f-0562-46c0-aabf-215c09541a35",
   "metadata": {},
   "outputs": [],
   "source": []
  }
 ],
 "metadata": {
  "kernelspec": {
   "display_name": "Python 3 (ipykernel)",
   "language": "python",
   "name": "python3"
  },
  "language_info": {
   "codemirror_mode": {
    "name": "ipython",
    "version": 3
   },
   "file_extension": ".py",
   "mimetype": "text/x-python",
   "name": "python",
   "nbconvert_exporter": "python",
   "pygments_lexer": "ipython3",
   "version": "3.7.11"
  }
 },
 "nbformat": 4,
 "nbformat_minor": 5
}
