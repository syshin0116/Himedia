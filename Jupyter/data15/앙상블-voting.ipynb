{
 "cells": [
  {
   "cell_type": "code",
   "execution_count": 29,
   "id": "98c1e4f8-0a80-4e41-9ded-2d860fa26e90",
   "metadata": {},
   "outputs": [],
   "source": [
    "import pandas as pd\n",
    "from sklearn import datasets\n",
    "from sklearn.tree import DecisionTreeClassifier\n",
    "from sklearn.svm import SVC\n",
    "from sklearn.ensemble import VotingClassifier\n",
    "from sklearn.linear_model import LogisticRegression\n",
    "from sklearn.neighbors import KNeighborsClassifier\n",
    "from sklearn.datasets import load_breast_cancer\n",
    "from sklearn.model_selection import train_test_split\n",
    "from sklearn.metrics import accuracy_score\n",
    "import numpy as np\n",
    "from warnings import filterwarnings\n",
    "filterwarnings('ignore')\n",
    "\n"
   ]
  },
  {
   "cell_type": "code",
   "execution_count": 10,
   "id": "e8cd7359-a9a4-45a0-94c2-6916dff98032",
   "metadata": {},
   "outputs": [],
   "source": [
    "mnist = datasets.load_digits()\n",
    "features, labels = mnist.data, mnist.target\n",
    "X_train,X_test,y_train,y_test=train_test_split(features,labels,test_size=0.2)"
   ]
  },
  {
   "cell_type": "code",
   "execution_count": 22,
   "id": "98117ae2-3416-4074-952b-863454fcc6e6",
   "metadata": {},
   "outputs": [],
   "source": [
    "dtree = DecisionTreeClassifier(\n",
    "    criterion=\"gini\", \n",
    "    max_depth=8, \n",
    "    max_features=32,\n",
    "    random_state=35)\n",
    "\n",
    "dtree = dtree.fit(X_train, y_train)\n",
    "dtree_predicted = dtree.predict(X_test)\n",
    "\n",
    "knn = KNeighborsClassifier(n_neighbors=299).fit(X_train, y_train)\n",
    "knn_predicted = knn.predict(X_test)\n",
    "\n",
    "svm = SVC(\n",
    "    C=0.1, \n",
    "    gamma=0.003,\n",
    "          \n",
    "    probability=True,\n",
    "    random_state=35\n",
    ").fit(X_train, y_train)\n",
    "svm_predicted = svm.predict(X_test)"
   ]
  },
  {
   "cell_type": "code",
   "execution_count": 23,
   "id": "5d703948-66be-4f11-b728-0e87a72fff45",
   "metadata": {},
   "outputs": [
    {
     "name": "stdout",
     "output_type": "stream",
     "text": [
      "[accuarcy]\n",
      "d-tree:  0.8055555555555556\n",
      "knn   :  0.8166666666666667\n",
      "svm   :  0.8861111111111111\n"
     ]
    }
   ],
   "source": [
    "print(\"[accuarcy]\")\n",
    "print(\"d-tree: \",accuracy_score(y_test, dtree_predicted))\n",
    "print(\"knn   : \",accuracy_score(y_test, knn_predicted))\n",
    "print(\"svm   : \",accuracy_score(y_test, svm_predicted))"
   ]
  },
  {
   "cell_type": "code",
   "execution_count": 16,
   "id": "c7a76467-3548-42ff-a436-08f92a602e01",
   "metadata": {},
   "outputs": [
    {
     "name": "stdout",
     "output_type": "stream",
     "text": [
      "[[5.21455752e-03 6.16351636e-01 2.68308894e-02 1.55578845e-02\n",
      "  1.10980715e-02 3.39059856e-02 5.80379715e-03 1.64672008e-02\n",
      "  2.42391320e-01 2.63786576e-02]\n",
      " [3.91801983e-04 4.49144903e-04 2.91271388e-04 2.50072757e-04\n",
      "  3.07378099e-04 2.98902703e-04 9.96777870e-01 3.50465180e-04\n",
      "  4.96488466e-04 3.86604311e-04]]\n"
     ]
    }
   ],
   "source": [
    "svm_proba = svm.predict_proba(X_test)\n",
    "print(svm_proba[0:2])"
   ]
  },
  {
   "cell_type": "code",
   "execution_count": 25,
   "id": "8a462b90-5dc5-4606-90f8-8f52000a5307",
   "metadata": {},
   "outputs": [
    {
     "name": "stdout",
     "output_type": "stream",
     "text": [
      "[[0.         0.84337349 0.03614458 0.01204819 0.03614458 0.\n",
      "  0.         0.         0.07228916 0.        ]\n",
      " [0.         0.         0.         0.         0.         0.\n",
      "  1.         0.         0.         0.        ]]\n"
     ]
    }
   ],
   "source": [
    "dtree_proba = dtree.predict_proba(X_test)\n",
    "print(dtree_proba[0:2])"
   ]
  },
  {
   "cell_type": "code",
   "execution_count": 27,
   "id": "a5025f88-dacd-4422-b938-7c8ec1fd8dbf",
   "metadata": {},
   "outputs": [
    {
     "name": "stdout",
     "output_type": "stream",
     "text": [
      "[[0.00334448 0.27090301 0.20735786 0.04013378 0.00334448 0.11036789\n",
      "  0.03010033 0.08695652 0.23745819 0.01003344]\n",
      " [0.08361204 0.13377926 0.02675585 0.00668896 0.13712375 0.00334448\n",
      "  0.5083612  0.         0.10033445 0.        ]]\n"
     ]
    }
   ],
   "source": [
    "knn_proba = knn.predict_proba(X_test)\n",
    "print(knn_proba[0:2])\n",
    "\n",
    "##np.argmax"
   ]
  },
  {
   "cell_type": "code",
   "execution_count": 30,
   "id": "d2ceb933-4cae-4093-9f1f-e75f02d9fe54",
   "metadata": {},
   "outputs": [
    {
     "data": {
      "text/plain": [
       "(1, 0)"
      ]
     },
     "execution_count": 30,
     "metadata": {},
     "output_type": "execute_result"
    }
   ],
   "source": [
    "np.argmax(knn_proba[:1]), np.argmin(knn_proba[:1])"
   ]
  },
  {
   "cell_type": "code",
   "execution_count": 17,
   "id": "0b24770e-27de-4b71-b14c-ef79d897495e",
   "metadata": {},
   "outputs": [],
   "source": [
    "#### 앙상블 모델 #####"
   ]
  },
  {
   "cell_type": "code",
   "execution_count": 51,
   "id": "2a9e485d-d3f5-4ce8-8678-02fc34db5ad3",
   "metadata": {},
   "outputs": [],
   "source": [
    "voting_clf = VotingClassifier(\n",
    "    estimators=[\n",
    "        ('decision_tree', dtree), \n",
    "        ('knn', knn), \n",
    "        ('svm', svm)], \n",
    "    weights=[1,1,1], \n",
    "    voting='hard').fit(X_train, y_train)\n",
    "\n",
    "hard_voting_predicted = voting_clf.predict(X_test)\n",
    "hard_vote = accuracy_score(y_test, hard_voting_predicted)"
   ]
  },
  {
   "cell_type": "code",
   "execution_count": 52,
   "id": "4dc3c03e-b1ba-4b21-918a-1992f5e9178f",
   "metadata": {},
   "outputs": [
    {
     "data": {
      "text/plain": [
       "0.8944444444444445"
      ]
     },
     "execution_count": 52,
     "metadata": {},
     "output_type": "execute_result"
    }
   ],
   "source": [
    "hard_vote"
   ]
  },
  {
   "cell_type": "code",
   "execution_count": 31,
   "id": "607713b7-da24-4de5-b652-9ffab658a2b3",
   "metadata": {},
   "outputs": [
    {
     "data": {
      "text/plain": [
       "array([6, 4])"
      ]
     },
     "execution_count": 31,
     "metadata": {},
     "output_type": "execute_result"
    }
   ],
   "source": [
    "hard_voting_predicted[[1,50]]"
   ]
  },
  {
   "cell_type": "code",
   "execution_count": null,
   "id": "3555b999-2e49-47ad-b580-ca7203ac3529",
   "metadata": {},
   "outputs": [],
   "source": [
    "## dtree: 2, knn:2, svm:1==> 2(2):1(1) -==> 다수결의 워칙에 따라 2로 판단!\n"
   ]
  },
  {
   "cell_type": "code",
   "execution_count": 50,
   "id": "2fccbf8d-6f6c-48ec-85a5-d9c8be452f7c",
   "metadata": {},
   "outputs": [],
   "source": [
    "voting_clf2 = VotingClassifier(\n",
    "    estimators=[\n",
    "        ('decision_tree', dtree), \n",
    "        ('knn', knn), \n",
    "        ('svm', svm)], \n",
    "    weights=[1,1,1], \n",
    "    voting='soft').fit(X_train, y_train)\n",
    "\n",
    "soft_voting_predicted = voting_clf2.predict(X_test)\n",
    "soft_vote = accuracy_score(y_test, soft_voting_predicted)"
   ]
  },
  {
   "cell_type": "code",
   "execution_count": 33,
   "id": "e284b685-9756-4b38-9b16-b5d31bd16fa5",
   "metadata": {},
   "outputs": [],
   "source": [
    "## 그래프로 그려보세요. accuracy(dtree, knn, svm, hard voting, soft voting)"
   ]
  },
  {
   "cell_type": "code",
   "execution_count": 34,
   "id": "9b92becf-37c3-4b45-9619-558e794ae3ae",
   "metadata": {
    "tags": []
   },
   "outputs": [],
   "source": [
    "import matplotlib.pyplot as plt"
   ]
  },
  {
   "cell_type": "code",
   "execution_count": 54,
   "id": "3114a0b4-b97a-4efb-9c2e-850d2d502014",
   "metadata": {},
   "outputs": [],
   "source": [
    "xlist = ['knn', 'svm', 'dtree', 'hard', 'soft']\n",
    "ylist = [accuracy_score(y_test, knn_predicted), accuracy_score(y_test, svm_predicted), accuracy_score(y_test, dtree_predicted), hard_vote, soft_vote]"
   ]
  },
  {
   "cell_type": "code",
   "execution_count": 59,
   "id": "43c01b47-43fb-476c-8307-691148d07988",
   "metadata": {},
   "outputs": [
    {
     "data": {
      "image/png": "[encoded data removed]",
      "text/plain": [
       "<Figure size 432x288 with 1 Axes>"
      ]
     },
     "metadata": {
      "needs_background": "light"
     },
     "output_type": "display_data"
    }
   ],
   "source": [
    "plt.bar(xlist,ylist)\n",
    "plt.show()"
   ]
  },
  {
   "cell_type": "code",
   "execution_count": null,
   "id": "f642b9ea-f141-40cd-b8e0-3d9579b14ea5",
   "metadata": {},
   "outputs": [],
   "source": [
    "f"
   ]
  },
  {
   "cell_type": "code",
   "execution_count": 4,
   "id": "7f8ab4ac-0609-4ea3-899b-2281485c3f37",
   "metadata": {},
   "outputs": [
    {
     "name": "stdout",
     "output_type": "stream",
     "text": [
      "40722\n"
     ]
    }
   ],
   "source": [
    "i, hap = 0, 0\n",
    "for i in range(3333,10000):\n",
    "    if (i%1234==0) :\n",
    "        hap = hap+i\n",
    "    if(hap>100000):\n",
    "        print(\"%d\" %hap-i)\n",
    "    \n",
    "print(hap)"
   ]
  },
  {
   "cell_type": "code",
   "execution_count": 32,
   "id": "4466a61d-e9e5-4ba5-bde4-3ba4fc93c9af",
   "metadata": {},
   "outputs": [
    {
     "name": "stdout",
     "output_type": "stream",
     "text": [
      "3333\n",
      "3334\n",
      "3335\n",
      "3336\n",
      "3337\n",
      "3338\n",
      "3339\n",
      "3340\n",
      "3341\n",
      "3342\n",
      "3343\n",
      "3344\n",
      "3345\n",
      "3346\n",
      "3347\n",
      "3348\n",
      "3349\n",
      "3350\n",
      "3351\n",
      "3352\n",
      "3353\n",
      "3354\n",
      "3355\n",
      "3356\n",
      "3357\n",
      "3358\n",
      "3359\n",
      "3360\n",
      "3361\n",
      "3362\n",
      "97063\n"
     ]
    }
   ],
   "source": [
    "hap = 0\n",
    "for i in range(3333,10000,1):\n",
    "    if i%1234==0:\n",
    "        continue\n",
    "    print(i)\n",
    "    hap+=i\n",
    "    if hap>100000:\n",
    "        hap-=i\n",
    "        break\n",
    "print(hap)"
   ]
  },
  {
   "cell_type": "code",
   "execution_count": 42,
   "id": "205f3ba7-73a2-4b6d-a798-ea6ff9ce5132",
   "metadata": {},
   "outputs": [
    {
     "name": "stdout",
     "output_type": "stream",
     "text": [
      "97063\n"
     ]
    }
   ],
   "source": [
    "hap = 0\n",
    "for i in range(3333,10000):\n",
    "    if (i%1234!=0) :\n",
    "        hap = hap+i\n",
    "    if(hap>100000):\n",
    "        print(\"%d\" %(hap-i))\n",
    "        break"
   ]
  },
  {
   "cell_type": "code",
   "execution_count": 39,
   "id": "a3c9c1db-5bb6-4690-b9db-d3f701e045cf",
   "metadata": {},
   "outputs": [
    {
     "name": "stdout",
     "output_type": "stream",
     "text": [
      "<class 'int'>\n"
     ]
    }
   ],
   "source": [
    "i, hap = 0, 0\n",
    "print(type(hap))"
   ]
  },
  {
   "cell_type": "code",
   "execution_count": 49,
   "id": "a379705f-a409-491c-8b40-cf83b52d1c02",
   "metadata": {},
   "outputs": [
    {
     "name": "stdout",
     "output_type": "stream",
     "text": [
      "40722\n",
      "40722\n",
      "합:40722\n",
      "합: 40722\n",
      "합:40722\n"
     ]
    }
   ],
   "source": [
    "hap = 0 #합 초기값\n",
    "for i in range(3333,10000): #i를 3333부터 10000까지 증가\n",
    "    if (i%1234!=0) :#i가 1234의 배수가 아닐때\n",
    "        continue #skip하고 다음 i로 넘어감\n",
    "    hap = hap+i #1234의 배구라면 합에 i더함\n",
    "    if(hap>100000): #합이 100000가 넘으면 \n",
    "        break #for문 escape!!!돔향챠!!\n",
    "print(\"%d\" %(hap))# 1.숫자인 합 프린트, 숫자아니면 에러남\n",
    "print(hap)# 2.고냥 합 프린트\n",
    "print(\"합:%d\" %(hap))# 3.\"합:\"프린트하고 숫자 합 프린트\n",
    "print(\"합:\",hap)# 4.\"합:\"쓰고 2번처럼 합 프린트 (띄어쓰기 들어감)\n",
    "print(\"합:\"+str(hap)) # 5. 합(숫자)를 string으로 바꾼뒤 \"합:\"뒤에 더한 뒤에 프린트"
   ]
  },
  {
   "cell_type": "code",
   "execution_count": null,
   "id": "192ebeab-bde6-4d9c-9c43-0bac000bbc1f",
   "metadata": {},
   "outputs": [],
   "source": []
  }
 ],
 "metadata": {
  "kernelspec": {
   "display_name": "Python 3 (ipykernel)",
   "language": "python",
   "name": "python3"
  },
  "language_info": {
   "codemirror_mode": {
    "name": "ipython",
    "version": 3
   },
   "file_extension": ".py",
   "mimetype": "text/x-python",
   "name": "python",
   "nbconvert_exporter": "python",
   "pygments_lexer": "ipython3",
   "version": "3.9.10"
  }
 },
 "nbformat": 4,
 "nbformat_minor": 5
}
