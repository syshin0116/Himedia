{
  "nbformat": 4,
  "nbformat_minor": 0,
  "metadata": {
    "kernelspec": {
      "display_name": "Python 3",
      "language": "python",
      "name": "python3"
    },
    "language_info": {
      "codemirror_mode": {
        "name": "ipython",
        "version": 3
      },
      "file_extension": ".py",
      "mimetype": "text/x-python",
      "name": "python",
      "nbconvert_exporter": "python",
      "pygments_lexer": "ipython3",
      "version": "3.6.4"
    },
    "colab": {
      "name": "4.6_랜덤포레스트_손글씨분류.ipynb",
      "provenance": []
    }
  },
  "cells": [
    {
      "cell_type": "markdown",
      "metadata": {
        "id": "dxsB_A3SO8WK"
      },
      "source": [
        "<a href=\"https://colab.research.google.com/github/wikibook/machine-learning/blob/2.0/jupyter_notebook/4.6_랜덤포레스트_손글씨분류.ipynb\" target=\"_parent\"><img src=\"https://colab.research.google.com/assets/colab-badge.svg\" alt=\"Open In Colab\"/></a>"
      ]
    },
    {
      "cell_type": "markdown",
      "metadata": {
        "id": "HGRDeMckO8WO"
      },
      "source": [
        "# 라이브러리 임포트\n",
        "실습에 필요한 라이브러리를 임포트합니다."
      ]
    },
    {
      "cell_type": "code",
      "metadata": {
        "id": "E_FnFGQkO8WO"
      },
      "source": [
        "from sklearn import datasets\n",
        "from sklearn import tree\n",
        "from sklearn.ensemble import RandomForestClassifier\n",
        "from sklearn.model_selection import cross_val_score\n",
        "\n",
        "import matplotlib.pyplot as plt\n",
        "import pandas as pd\n",
        "import numpy as np\n",
        "# sklearn 모델의 동일한 결과 출력을 위해 선언합니다.\n",
        "np.random.seed(5)"
      ],
      "execution_count": null,
      "outputs": []
    },
    {
      "cell_type": "markdown",
      "metadata": {
        "id": "WSaBiySZO8WP"
      },
      "source": [
        "# 손글씨 데이터 로드"
      ]
    },
    {
      "cell_type": "code",
      "metadata": {
        "id": "24WNdtzEO8WQ"
      },
      "source": [
        "mnist = datasets.load_digits()\n",
        "features, labels = mnist.data, mnist.target"
      ],
      "execution_count": null,
      "outputs": []
    },
    {
      "cell_type": "markdown",
      "metadata": {
        "id": "oK4f08rZO8WQ"
      },
      "source": [
        "# 교차 검증\n",
        "교차 검증을 10번 수행하여, 10번의 교차 검증 평균 정확도를 저장합니다."
      ]
    },
    {
      "cell_type": "code",
      "metadata": {
        "id": "4YbJu9JEO8WR"
      },
      "source": [
        "def cross_validation(classifier,features, labels):\n",
        "    cv_scores = []\n",
        "\n",
        "    for i in range(10):\n",
        "        scores = cross_val_score(classifier, features, labels, cv=10, scoring='accuracy')\n",
        "        cv_scores.append(scores.mean())\n",
        "    \n",
        "    return cv_scores"
      ],
      "execution_count": null,
      "outputs": []
    },
    {
      "cell_type": "code",
      "metadata": {
        "id": "6GliqSi9O8WR"
      },
      "source": [
        "dt_cv_scores = cross_validation(tree.DecisionTreeClassifier(), features, labels)"
      ],
      "execution_count": null,
      "outputs": []
    },
    {
      "cell_type": "code",
      "metadata": {
        "id": "0mVw5FD6O8WR"
      },
      "source": [
        "rf_cv_scores = cross_validation(RandomForestClassifier(), features, labels)"
      ],
      "execution_count": null,
      "outputs": []
    },
    {
      "cell_type": "markdown",
      "metadata": {
        "id": "Jc272uUyO8WS"
      },
      "source": [
        "# 랜덤포레스트 VS 의사결정트리 시각화\n",
        "라인 차트를 통해 랜덤포레스트가 의사결정트리보다 매번 정확도가 높은 것을 확인할 수 있습니다."
      ]
    },
    {
      "cell_type": "code",
      "metadata": {
        "id": "iy_6hr8rO8WS"
      },
      "source": [
        "cv_list = [    \n",
        "            ['random_forest',rf_cv_scores],\n",
        "            ['decision_tree',dt_cv_scores],\n",
        "          ]\n",
        "df = pd.DataFrame.from_items(cv_list)"
      ],
      "execution_count": null,
      "outputs": []
    },
    {
      "cell_type": "code",
      "metadata": {
        "id": "pnFv76_ZO8WS",
        "outputId": "35d5c47d-25fc-4b8b-fd5e-200b51d8da9f"
      },
      "source": [
        "df.plot()"
      ],
      "execution_count": null,
      "outputs": [
        {
          "data": {
            "text/plain": [
              "<matplotlib.axes._subplots.AxesSubplot at 0x113b09208>"
            ]
          },
          "execution_count": 7,
          "metadata": {},
          "output_type": "execute_result"
        },
        {
          "data": {
            "image/png": "[encoded data removed]",
            "text/plain": [
              "<Figure size 432x288 with 1 Axes>"
            ]
          },
          "metadata": {},
          "output_type": "display_data"
        }
      ]
    },
    {
      "cell_type": "markdown",
      "metadata": {
        "id": "S6bUkucTO8WT"
      },
      "source": [
        "# 의사결정트리 정확도"
      ]
    },
    {
      "cell_type": "code",
      "metadata": {
        "id": "A_28MPiKO8WU",
        "outputId": "562e7f2a-b4f1-4314-8cdc-f13a7068bca8"
      },
      "source": [
        "np.mean(dt_cv_scores)"
      ],
      "execution_count": null,
      "outputs": [
        {
          "data": {
            "text/plain": [
              "0.8283415823472055"
            ]
          },
          "execution_count": 8,
          "metadata": {},
          "output_type": "execute_result"
        }
      ]
    },
    {
      "cell_type": "markdown",
      "metadata": {
        "id": "i3EJBt_lO8WU"
      },
      "source": [
        "# 랜덤포레스트 정확도"
      ]
    },
    {
      "cell_type": "code",
      "metadata": {
        "id": "TJN4wzWKO8WU",
        "outputId": "19b111eb-625b-4ea3-cbd3-4e8659baf884"
      },
      "source": [
        "np.mean(rf_cv_scores)"
      ],
      "execution_count": null,
      "outputs": [
        {
          "data": {
            "text/plain": [
              "0.9175264703389825"
            ]
          },
          "execution_count": 9,
          "metadata": {},
          "output_type": "execute_result"
        }
      ]
    },
    {
      "cell_type": "code",
      "metadata": {
        "id": "UcZ7c1hZO8WV"
      },
      "source": [
        ""
      ],
      "execution_count": null,
      "outputs": []
    }
  ]
}