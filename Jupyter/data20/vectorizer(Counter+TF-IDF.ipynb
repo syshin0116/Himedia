{
 "cells": [
  {
   "cell_type": "code",
   "execution_count": 12,
   "id": "e0b8942a-7919-4d3f-a5f8-ab7869e0eb2b",
   "metadata": {},
   "outputs": [],
   "source": [
    "from sklearn.feature_extraction.text import CountVectorizer, TfidfVectorizer\n",
    "import numpy as np"
   ]
  },
  {
   "cell_type": "code",
   "execution_count": 2,
   "id": "ae43af0f-3784-425b-96da-d0e1f7dd5284",
   "metadata": {},
   "outputs": [],
   "source": [
    "corpus = [\n",
    "    'you know I want your love',\n",
    "    'I like you',\n",
    "    'what should I do ',    \n",
    "]"
   ]
  },
  {
   "cell_type": "code",
   "execution_count": 14,
   "id": "d12b4029-8df3-45ad-ad85-1f36737f2936",
   "metadata": {},
   "outputs": [],
   "source": [
    "cv = CountVectorizer()\n",
    "tfidfv = TfidfVectorizer()"
   ]
  },
  {
   "cell_type": "code",
   "execution_count": 17,
   "id": "84fcf213-02f7-40fc-80c4-fc8206cbc9c4",
   "metadata": {},
   "outputs": [
    {
     "name": "stdout",
     "output_type": "stream",
     "text": [
      "CountVectorizer()\n",
      "[[0 1 0 1 0 1 0 1 1]\n",
      " [0 0 1 0 0 0 0 1 0]\n",
      " [1 0 0 0 1 0 1 0 0]]\n"
     ]
    }
   ],
   "source": [
    "print(cv.fit(corpus))\n",
    "print(cv.fit_transform(corpus).toarray())\n",
    "# DTM(Document Term Matrix)"
   ]
  },
  {
   "cell_type": "code",
   "execution_count": 19,
   "id": "86c70cc6-2039-425c-a3c0-44f15d25641b",
   "metadata": {},
   "outputs": [
    {
     "name": "stdout",
     "output_type": "stream",
     "text": [
      "{'you': 7, 'know': 1, 'want': 5, 'your': 8, 'love': 3, 'like': 2, 'what': 6, 'should': 4, 'do': 0}\n"
     ]
    }
   ],
   "source": [
    "print(cv.vocabulary_) # 사전"
   ]
  },
  {
   "cell_type": "code",
   "execution_count": 28,
   "id": "35271569-15b7-472c-aa8f-18036b0b5cf3",
   "metadata": {},
   "outputs": [
    {
     "data": {
      "text/plain": [
       "['you', 'know', 'want', 'your', 'love', 'like', 'what', 'should', 'do']"
      ]
     },
     "execution_count": 28,
     "metadata": {},
     "output_type": "execute_result"
    }
   ],
   "source": [
    "list(cv.vocabulary_)"
   ]
  },
  {
   "cell_type": "code",
   "execution_count": 20,
   "id": "c35b92a5-b176-4fa6-ae68-ea31bad70051",
   "metadata": {},
   "outputs": [
    {
     "name": "stdout",
     "output_type": "stream",
     "text": [
      "[[0.         0.46735098 0.         0.46735098 0.         0.46735098\n",
      "  0.         0.35543247 0.46735098]\n",
      " [0.         0.         0.79596054 0.         0.         0.\n",
      "  0.         0.60534851 0.        ]\n",
      " [0.57735027 0.         0.         0.         0.57735027 0.\n",
      "  0.57735027 0.         0.        ]]\n"
     ]
    }
   ],
   "source": [
    "print(tfidfv.fit_transform(corpus).toarray())"
   ]
  },
  {
   "cell_type": "code",
   "execution_count": 21,
   "id": "72e39dd3-bb71-4291-868f-d8b208460d41",
   "metadata": {},
   "outputs": [
    {
     "name": "stdout",
     "output_type": "stream",
     "text": [
      "{'you': 7, 'know': 1, 'want': 5, 'your': 8, 'love': 3, 'like': 2, 'what': 6, 'should': 4, 'do': 0}\n"
     ]
    }
   ],
   "source": [
    "print(tfidfv.vocabulary_)"
   ]
  },
  {
   "cell_type": "code",
   "execution_count": 22,
   "id": "6a4c4f34-5f69-4a2e-9e86-d5f1f94e9130",
   "metadata": {},
   "outputs": [
    {
     "data": {
      "text/plain": [
       "[array(['know', 'love', 'want', 'you', 'your'], dtype='<U6'),\n",
       " array(['like', 'you'], dtype='<U6'),\n",
       " array(['do', 'should', 'what'], dtype='<U6')]"
      ]
     },
     "execution_count": 22,
     "metadata": {},
     "output_type": "execute_result"
    }
   ],
   "source": [
    "## transform 결과를 역으로 추출\n",
    "cv.inverse_transform(cv.fit_transform(corpus).toarray())"
   ]
  },
  {
   "cell_type": "code",
   "execution_count": 25,
   "id": "7d20f5d2-0844-49b6-8d7a-77ee2da14227",
   "metadata": {},
   "outputs": [
    {
     "data": {
      "text/plain": [
       "['do', 'know', 'like', 'love', 'should', 'want', 'what', 'you', 'your']"
      ]
     },
     "execution_count": 25,
     "metadata": {},
     "output_type": "execute_result"
    }
   ],
   "source": [
    "cv.get_feature_names() #단어만 확인"
   ]
  },
  {
   "cell_type": "code",
   "execution_count": 26,
   "id": "b7120d56-0aac-4a9f-8736-bf65aab82ff6",
   "metadata": {},
   "outputs": [
    {
     "name": "stdout",
     "output_type": "stream",
     "text": [
      "0 :  do\n",
      "1 :  know\n",
      "2 :  like\n",
      "3 :  love\n",
      "4 :  should\n",
      "5 :  want\n",
      "6 :  what\n",
      "7 :  you\n",
      "8 :  your\n"
     ]
    }
   ],
   "source": [
    "for i, value in enumerate(cv.get_feature_names()):\n",
    "    print(i, ': ', value)"
   ]
  },
  {
   "cell_type": "code",
   "execution_count": 29,
   "id": "f788961c-82e3-4923-a0b0-ca5181f79436",
   "metadata": {},
   "outputs": [],
   "source": [
    "## 새로운 문장을 넣어서 어떤 단어들이 들어갔는지 판단해보자!\n",
    "sentence = ['i like like smile want']"
   ]
  },
  {
   "cell_type": "code",
   "execution_count": 30,
   "id": "786c4079-f33c-4325-9254-ed2a39173c35",
   "metadata": {},
   "outputs": [
    {
     "data": {
      "text/plain": [
       "array([[0, 0, 2, 0, 0, 1, 0, 0, 0]])"
      ]
     },
     "execution_count": 30,
     "metadata": {},
     "output_type": "execute_result"
    }
   ],
   "source": [
    "cv.transform(sentence).toarray()"
   ]
  },
  {
   "cell_type": "code",
   "execution_count": 69,
   "id": "2361b985-5b17-4ea4-a8ca-fa3b38375155",
   "metadata": {},
   "outputs": [],
   "source": [
    "ham_dict = ['order', 'confirm', 'check', 'customer', 'payment', 'send', 'general', 'club']\n",
    "spam_dict = ['advertise', 'promotion', 'sales', 'hu', 'special', 'sale', 'member', 'company']"
   ]
  },
  {
   "cell_type": "code",
   "execution_count": 70,
   "id": "be8b987d-bfeb-42dd-bbf7-333d05b57ff2",
   "metadata": {},
   "outputs": [],
   "source": [
    "cv1 = CountVectorizer()\n",
    "tfidfv1 = TfidfVectorizer()"
   ]
  },
  {
   "cell_type": "code",
   "execution_count": 124,
   "id": "ca6e77bc-5648-4e87-8c12-09b063b58eec",
   "metadata": {},
   "outputs": [],
   "source": [
    "cv2 = CountVectorizer()\n",
    "tfidfv2 = TfidfVectorizer()"
   ]
  },
  {
   "cell_type": "code",
   "execution_count": 125,
   "id": "5e819085-d9bf-4e4b-a440-350f666c6393",
   "metadata": {},
   "outputs": [
    {
     "data": {
      "text/plain": [
       "TfidfVectorizer()"
      ]
     },
     "execution_count": 125,
     "metadata": {},
     "output_type": "execute_result"
    }
   ],
   "source": [
    "cv1.fit(spam_dict)\n",
    "tfidfv1.fit(spam_dict)"
   ]
  },
  {
   "cell_type": "code",
   "execution_count": 126,
   "id": "7c375250-c8d9-4b0f-a56a-8632033fd3ff",
   "metadata": {},
   "outputs": [
    {
     "data": {
      "text/plain": [
       "{'advertise': 0,\n",
       " 'promotion': 4,\n",
       " 'sales': 6,\n",
       " 'hu': 2,\n",
       " 'special': 7,\n",
       " 'sale': 5,\n",
       " 'member': 3,\n",
       " 'company': 1}"
      ]
     },
     "execution_count": 126,
     "metadata": {},
     "output_type": "execute_result"
    }
   ],
   "source": [
    "cv1.vocabulary_"
   ]
  },
  {
   "cell_type": "code",
   "execution_count": 127,
   "id": "7bc762d7-77cd-4680-93f4-972516efc053",
   "metadata": {},
   "outputs": [
    {
     "data": {
      "text/plain": [
       "{'advertise': 0,\n",
       " 'promotion': 4,\n",
       " 'sales': 6,\n",
       " 'hu': 2,\n",
       " 'special': 7,\n",
       " 'sale': 5,\n",
       " 'member': 3,\n",
       " 'company': 1}"
      ]
     },
     "execution_count": 127,
     "metadata": {},
     "output_type": "execute_result"
    }
   ],
   "source": [
    "tfidfv1.vocabulary_"
   ]
  },
  {
   "cell_type": "code",
   "execution_count": 128,
   "id": "c7b4f841-28db-4052-8aff-80e2ae3b8aa3",
   "metadata": {},
   "outputs": [],
   "source": [
    "email = [\" promotion !! hu good sales sale check payment\"]"
   ]
  },
  {
   "cell_type": "code",
   "execution_count": 129,
   "id": "396825f2-3a25-4811-b3df-fbc76557e8cc",
   "metadata": {},
   "outputs": [
    {
     "data": {
      "text/plain": [
       "array([[0, 0, 1, 0, 1, 1, 1, 0]])"
      ]
     },
     "execution_count": 129,
     "metadata": {},
     "output_type": "execute_result"
    }
   ],
   "source": [
    "spam_cv = cv1.transform(email).toarray()\n",
    "spam_tfidfv = tfidfv1.transform(email).toarray()\n",
    "spam_cv"
   ]
  },
  {
   "cell_type": "code",
   "execution_count": 130,
   "id": "9ac5a721-6c96-4a4c-b8a4-fcd0f52f9e6a",
   "metadata": {},
   "outputs": [
    {
     "data": {
      "text/plain": [
       "array([[0. , 0. , 0.5, 0. , 0.5, 0.5, 0.5, 0. ]])"
      ]
     },
     "execution_count": 130,
     "metadata": {},
     "output_type": "execute_result"
    }
   ],
   "source": [
    "spam_tfidfv"
   ]
  },
  {
   "cell_type": "code",
   "execution_count": 131,
   "id": "62cd2d3b-416c-4143-952c-2ae1ee33e345",
   "metadata": {},
   "outputs": [
    {
     "data": {
      "text/plain": [
       "TfidfVectorizer()"
      ]
     },
     "execution_count": 131,
     "metadata": {},
     "output_type": "execute_result"
    }
   ],
   "source": [
    "cv2.fit(ham_dict)\n",
    "tfidfv2.fit(ham_dict)"
   ]
  },
  {
   "cell_type": "code",
   "execution_count": 132,
   "id": "00bb3cad-ae4e-4d9c-a7f6-4d0bb1b634c4",
   "metadata": {},
   "outputs": [
    {
     "data": {
      "text/plain": [
       "array([[1, 0, 0, 0, 0, 0, 1, 0]])"
      ]
     },
     "execution_count": 132,
     "metadata": {},
     "output_type": "execute_result"
    }
   ],
   "source": [
    "ham_cv = cv2.transform(email).toarray()\n",
    "ham_tfidfv = tfidfv2.transform(email).toarray()\n",
    "ham_cv"
   ]
  },
  {
   "cell_type": "code",
   "execution_count": 133,
   "id": "40771767-266c-42b4-b9b1-001a07222d57",
   "metadata": {},
   "outputs": [
    {
     "data": {
      "text/plain": [
       "array([[0.70710678, 0.        , 0.        , 0.        , 0.        ,\n",
       "        0.        , 0.70710678, 0.        ]])"
      ]
     },
     "execution_count": 133,
     "metadata": {},
     "output_type": "execute_result"
    }
   ],
   "source": [
    "ham_tfidfv"
   ]
  },
  {
   "cell_type": "code",
   "execution_count": 134,
   "id": "5030e828-92f4-49c8-b9aa-22837f8936ab",
   "metadata": {},
   "outputs": [],
   "source": [
    "## result의 0이 아닌 개수의 합, ham의 0이 아닌 개수의 합\n",
    "spam_count_cv = 0\n",
    "spam_count_tfidfv = 0\n",
    "ham_count_cv = 0\n",
    "ham_count_tfidfv = 0"
   ]
  },
  {
   "cell_type": "code",
   "execution_count": 135,
   "id": "c33f31ec-fb19-4c60-8c7a-655427834b42",
   "metadata": {},
   "outputs": [
    {
     "data": {
      "text/plain": [
       "4"
      ]
     },
     "execution_count": 135,
     "metadata": {},
     "output_type": "execute_result"
    }
   ],
   "source": [
    "for item in spam_cv[0]:\n",
    "    if (item!=0):\n",
    "        spam_count_cv+=1\n",
    "spam_count_cv"
   ]
  },
  {
   "cell_type": "code",
   "execution_count": 136,
   "id": "c1ab82ac-ec42-40ef-ab09-f3956fe65259",
   "metadata": {},
   "outputs": [
    {
     "data": {
      "text/plain": [
       "4"
      ]
     },
     "execution_count": 136,
     "metadata": {},
     "output_type": "execute_result"
    }
   ],
   "source": [
    "for item in spam_tfidfv[0]:\n",
    "    if (item!=0):\n",
    "        spam_count_tfidfv+=1\n",
    "spam_count_tfidfv"
   ]
  },
  {
   "cell_type": "code",
   "execution_count": 137,
   "id": "89983d5e-5c9f-4675-bee9-083430e11fd0",
   "metadata": {},
   "outputs": [
    {
     "data": {
      "text/plain": [
       "2"
      ]
     },
     "execution_count": 137,
     "metadata": {},
     "output_type": "execute_result"
    }
   ],
   "source": [
    "for item in ham_cv[0]:\n",
    "    if (item!=0):\n",
    "        ham_count_cv+=1\n",
    "ham_count_cv"
   ]
  },
  {
   "cell_type": "code",
   "execution_count": 138,
   "id": "344dd01a-0feb-4035-a1aa-6589c495953d",
   "metadata": {},
   "outputs": [
    {
     "data": {
      "text/plain": [
       "2"
      ]
     },
     "execution_count": 138,
     "metadata": {},
     "output_type": "execute_result"
    }
   ],
   "source": [
    "for item in ham_tfidfv[0]:\n",
    "    if (item!=0):\n",
    "        ham_count_tfidfv+=1\n",
    "ham_count_tfidfv"
   ]
  },
  {
   "cell_type": "code",
   "execution_count": 139,
   "id": "dc5a1877-3837-4c8f-9ca9-bc624876922a",
   "metadata": {},
   "outputs": [
    {
     "name": "stdout",
     "output_type": "stream",
     "text": [
      "spam email!\n"
     ]
    }
   ],
   "source": [
    "if spam_count_cv > ham_count_cv:\n",
    "    print(\"spam email!\")\n",
    "else:\n",
    "    print(\"ham email!!\")\n"
   ]
  },
  {
   "cell_type": "code",
   "execution_count": 140,
   "id": "99354259-e319-4fc3-97e2-0a9fcbc75d12",
   "metadata": {},
   "outputs": [
    {
     "name": "stdout",
     "output_type": "stream",
     "text": [
      "spam email!\n"
     ]
    }
   ],
   "source": [
    "if spam_count_tfidfv > ham_count_tfidfv:\n",
    "    print(\"spam email!\")\n",
    "else:\n",
    "    print(\"ham email!!\")\n"
   ]
  },
  {
   "cell_type": "code",
   "execution_count": 141,
   "id": "50fd6606-b5ff-472c-bde0-8549fff108e1",
   "metadata": {},
   "outputs": [],
   "source": [
    "## 한글로 사전 만들어보시고, 다음을 스팸인지 아닌지 판단해보세요.\n",
    "email2 = ['광고!! 허경영 good 세일 확인 지불']\n",
    "spam_kor = ['광고', '허경영', '세일', '스팸', '특가']\n",
    "ham_kor = ['환불', '영수증', '확인', '구매', '완료']"
   ]
  },
  {
   "cell_type": "code",
   "execution_count": 143,
   "id": "7338c5f1-2b6b-4658-ad3c-5fed79338596",
   "metadata": {},
   "outputs": [],
   "source": [
    "cv_kor= CountVectorizer()\n",
    "tfidfv_kor = TfidfVectorizer()"
   ]
  },
  {
   "cell_type": "code",
   "execution_count": 238,
   "id": "c6abf6da-e1cb-493e-a3e6-66517b1ec3d1",
   "metadata": {},
   "outputs": [],
   "source": [
    "def model_vectorizing(model1, model2, good, bad, sentence):\n",
    "    model1.fit(good)\n",
    "    good_model = model1.transform(sentence).toarray()\n",
    "    \n",
    "    model2.fit(bad)\n",
    "    bad_model = model2.transform(sentence).toarray()\n",
    "    count_bad=0\n",
    "    count_good=0\n",
    "    # print(good_model)\n",
    "    # print(bad_model)\n",
    "    # print(good_model)\n",
    "    # print(bad_model)\n",
    "    for item in good_model[0]:\n",
    "        if (item!=0):\n",
    "            count_good+=1\n",
    "    for item in bad_model[0]:\n",
    "        if (item!=0):\n",
    "            count_bad+=1\n",
    "    \n",
    "    print(\"count_good:\", count_good)\n",
    "    print(\"count_bad:\", count_bad)\n",
    "    if count_good > count_bad:\n",
    "        print(\"good!!\")\n",
    "    else:\n",
    "        print(\"bad!!\")"
   ]
  },
  {
   "cell_type": "code",
   "execution_count": 239,
   "id": "5a562be8-0aa7-4297-94da-fd2c15ef229c",
   "metadata": {},
   "outputs": [
    {
     "name": "stdout",
     "output_type": "stream",
     "text": [
      "count_good: 1\n",
      "count_bad: 3\n",
      "bad!!\n"
     ]
    }
   ],
   "source": [
    "model_vectorizing(cv_kor,cv, ham_kor, spam_kor, email2)"
   ]
  },
  {
   "cell_type": "code",
   "execution_count": 240,
   "id": "d7bb019f-7b40-41c5-8768-a6012cccece2",
   "metadata": {},
   "outputs": [
    {
     "name": "stdout",
     "output_type": "stream",
     "text": [
      "count_good: 1\n",
      "count_bad: 3\n",
      "bad!!\n"
     ]
    }
   ],
   "source": [
    "model_vectorizing(tfidfv_kor,tfidfv, ham_kor, spam_kor, email2)"
   ]
  },
  {
   "cell_type": "code",
   "execution_count": null,
   "id": "610e0b64-a61b-404c-b152-e37872d17077",
   "metadata": {},
   "outputs": [],
   "source": []
  },
  {
   "cell_type": "code",
   "execution_count": null,
   "id": "a061e83f-4e7f-4644-83d3-f5a1d0a22adf",
   "metadata": {},
   "outputs": [],
   "source": []
  },
  {
   "cell_type": "code",
   "execution_count": 241,
   "id": "15be3184-20f5-4671-8600-141d105562e6",
   "metadata": {},
   "outputs": [],
   "source": [
    "## 감정분류기를 만들어보세요.\n",
    "## 긍정/부정 사전을 만들어보세요.\n",
    "## input()을 이용해서 문장을 입력받으면, 긍정인지 부정인지 판단해보세요.\n",
    "## tf-idf vectorizer를 사용하세요!!"
   ]
  },
  {
   "cell_type": "code",
   "execution_count": 242,
   "id": "ebe0430c-e0f9-401c-a2e1-cddd701efcfd",
   "metadata": {},
   "outputs": [],
   "source": [
    "tfidfv_good = TfidfVectorizer()\n",
    "tfidfv_bad = TfidfVectorizer()\n",
    "good = ['optimistic', 'success', 'benefit', 'significant', 'successful', 'encouraging', 'heartning', 'promising', 'bright', 'practical']\n",
    "bad = ['tragic', 'pessimistic', 'horiffic', 'disaster', 'sad', 'discouraging', 'disheartning', 'unpromising', 'fail', 'failure']\n",
    "emotional_phrase= \"Son scores significant amount of goal for Tottenham Tottenham finishes a successful, promising, bright month\""
   ]
  },
  {
   "cell_type": "code",
   "execution_count": 248,
   "id": "02fd388c-c622-4977-81c5-c4c95870248d",
   "metadata": {},
   "outputs": [],
   "source": [
    "def op_or_pes():\n",
    "    sentence=[]\n",
    "    sentence.append(input(\"sentence>>\"))\n",
    "    print(\"sentence:\", sentence)\n",
    "    model_vectorizing(tfidfv_good,tfidfv_bad, good, bad, sentence)"
   ]
  },
  {
   "cell_type": "code",
   "execution_count": 249,
   "id": "f0f60e79-ef59-4ec2-bd81-ea1580e1d007",
   "metadata": {},
   "outputs": [
    {
     "name": "stdin",
     "output_type": "stream",
     "text": [
      "sentence>> Son scores significant amount of goal for Tottenham Tottenham finishes a successful, promising, bright month\n"
     ]
    },
    {
     "name": "stdout",
     "output_type": "stream",
     "text": [
      "sentence: ['Son scores significant amount of goal for Tottenham Tottenham finishes a successful, promising, bright month']\n",
      "count_good: 4\n",
      "count_bad: 0\n",
      "good!!\n"
     ]
    }
   ],
   "source": [
    "op_or_pes()"
   ]
  },
  {
   "cell_type": "code",
   "execution_count": null,
   "id": "5b705ab5-6d84-4552-8dac-beb787fa762c",
   "metadata": {},
   "outputs": [],
   "source": []
  }
 ],
 "metadata": {
  "kernelspec": {
   "display_name": "Python 3 (ipykernel)",
   "language": "python",
   "name": "python3"
  },
  "language_info": {
   "codemirror_mode": {
    "name": "ipython",
    "version": 3
   },
   "file_extension": ".py",
   "mimetype": "text/x-python",
   "name": "python",
   "nbconvert_exporter": "python",
   "pygments_lexer": "ipython3",
   "version": "3.9.10"
  }
 },
 "nbformat": 4,
 "nbformat_minor": 5
}
