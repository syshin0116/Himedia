{
 "cells": [
  {
   "cell_type": "code",
   "execution_count": 1,
   "id": "56e92a3e-892d-4b8b-a545-c26c16790a8f",
   "metadata": {},
   "outputs": [],
   "source": [
    "import pandas as pd\n",
    "import numpy as np"
   ]
  },
  {
   "cell_type": "code",
   "execution_count": 2,
   "id": "8ed294a4-c332-4a21-9063-3f5d42560d82",
   "metadata": {},
   "outputs": [],
   "source": [
    "import konlpy"
   ]
  },
  {
   "cell_type": "code",
   "execution_count": 3,
   "id": "cf48439a-f945-4368-bea8-61860fa30ccb",
   "metadata": {},
   "outputs": [],
   "source": [
    "train_df = pd.read_table('../data18/data_list/ratings_train.txt')\n",
    "test_df = pd.read_table('../data18/data_list/ratings_test.txt')"
   ]
  },
  {
   "cell_type": "code",
   "execution_count": 4,
   "id": "478f1ff2-1191-49bf-a845-5b90432f355b",
   "metadata": {},
   "outputs": [
    {
     "data": {
      "text/html": [
       "<div>\n",
       "<style scoped>\n",
       "    .dataframe tbody tr th:only-of-type {\n",
       "        vertical-align: middle;\n",
       "    }\n",
       "\n",
       "    .dataframe tbody tr th {\n",
       "        vertical-align: top;\n",
       "    }\n",
       "\n",
       "    .dataframe thead th {\n",
       "        text-align: right;\n",
       "    }\n",
       "</style>\n",
       "<table border=\"1\" class=\"dataframe\">\n",
       "  <thead>\n",
       "    <tr style=\"text-align: right;\">\n",
       "      <th></th>\n",
       "      <th>id</th>\n",
       "      <th>document</th>\n",
       "      <th>label</th>\n",
       "    </tr>\n",
       "  </thead>\n",
       "  <tbody>\n",
       "    <tr>\n",
       "      <th>0</th>\n",
       "      <td>9976970</td>\n",
       "      <td>아 더빙.. 진짜 짜증나네요 목소리</td>\n",
       "      <td>0</td>\n",
       "    </tr>\n",
       "    <tr>\n",
       "      <th>1</th>\n",
       "      <td>3819312</td>\n",
       "      <td>흠...포스터보고 초딩영화줄....오버연기조차 가볍지 않구나</td>\n",
       "      <td>1</td>\n",
       "    </tr>\n",
       "    <tr>\n",
       "      <th>2</th>\n",
       "      <td>10265843</td>\n",
       "      <td>너무재밓었다그래서보는것을추천한다</td>\n",
       "      <td>0</td>\n",
       "    </tr>\n",
       "    <tr>\n",
       "      <th>3</th>\n",
       "      <td>9045019</td>\n",
       "      <td>교도소 이야기구먼 ..솔직히 재미는 없다..평점 조정</td>\n",
       "      <td>0</td>\n",
       "    </tr>\n",
       "    <tr>\n",
       "      <th>4</th>\n",
       "      <td>6483659</td>\n",
       "      <td>사이몬페그의 익살스런 연기가 돋보였던 영화!스파이더맨에서 늙어보이기만 했던 커스틴 ...</td>\n",
       "      <td>1</td>\n",
       "    </tr>\n",
       "    <tr>\n",
       "      <th>...</th>\n",
       "      <td>...</td>\n",
       "      <td>...</td>\n",
       "      <td>...</td>\n",
       "    </tr>\n",
       "    <tr>\n",
       "      <th>149995</th>\n",
       "      <td>6222902</td>\n",
       "      <td>인간이 문제지.. 소는 뭔죄인가..</td>\n",
       "      <td>0</td>\n",
       "    </tr>\n",
       "    <tr>\n",
       "      <th>149996</th>\n",
       "      <td>8549745</td>\n",
       "      <td>평점이 너무 낮아서...</td>\n",
       "      <td>1</td>\n",
       "    </tr>\n",
       "    <tr>\n",
       "      <th>149997</th>\n",
       "      <td>9311800</td>\n",
       "      <td>이게 뭐요? 한국인은 거들먹거리고 필리핀 혼혈은 착하다?</td>\n",
       "      <td>0</td>\n",
       "    </tr>\n",
       "    <tr>\n",
       "      <th>149998</th>\n",
       "      <td>2376369</td>\n",
       "      <td>청춘 영화의 최고봉.방황과 우울했던 날들의 자화상</td>\n",
       "      <td>1</td>\n",
       "    </tr>\n",
       "    <tr>\n",
       "      <th>149999</th>\n",
       "      <td>9619869</td>\n",
       "      <td>한국 영화 최초로 수간하는 내용이 담긴 영화</td>\n",
       "      <td>0</td>\n",
       "    </tr>\n",
       "  </tbody>\n",
       "</table>\n",
       "<p>150000 rows × 3 columns</p>\n",
       "</div>"
      ],
      "text/plain": [
       "              id                                           document  label\n",
       "0        9976970                                아 더빙.. 진짜 짜증나네요 목소리      0\n",
       "1        3819312                  흠...포스터보고 초딩영화줄....오버연기조차 가볍지 않구나      1\n",
       "2       10265843                                  너무재밓었다그래서보는것을추천한다      0\n",
       "3        9045019                      교도소 이야기구먼 ..솔직히 재미는 없다..평점 조정      0\n",
       "4        6483659  사이몬페그의 익살스런 연기가 돋보였던 영화!스파이더맨에서 늙어보이기만 했던 커스틴 ...      1\n",
       "...          ...                                                ...    ...\n",
       "149995   6222902                                인간이 문제지.. 소는 뭔죄인가..      0\n",
       "149996   8549745                                      평점이 너무 낮아서...      1\n",
       "149997   9311800                    이게 뭐요? 한국인은 거들먹거리고 필리핀 혼혈은 착하다?      0\n",
       "149998   2376369                        청춘 영화의 최고봉.방황과 우울했던 날들의 자화상      1\n",
       "149999   9619869                           한국 영화 최초로 수간하는 내용이 담긴 영화      0\n",
       "\n",
       "[150000 rows x 3 columns]"
      ]
     },
     "execution_count": 4,
     "metadata": {},
     "output_type": "execute_result"
    }
   ],
   "source": [
    "train_df"
   ]
  },
  {
   "cell_type": "code",
   "execution_count": 5,
   "id": "1475a93b-7281-4d47-ad8a-3795406c603b",
   "metadata": {},
   "outputs": [
    {
     "data": {
      "text/plain": [
       "0    75173\n",
       "1    74827\n",
       "Name: label, dtype: int64"
      ]
     },
     "execution_count": 5,
     "metadata": {},
     "output_type": "execute_result"
    }
   ],
   "source": [
    "train_df['label'].value_counts()"
   ]
  },
  {
   "cell_type": "code",
   "execution_count": 6,
   "id": "f4ef4444-13fd-4ebf-860e-1feea4bf3654",
   "metadata": {},
   "outputs": [],
   "source": [
    "train_df = train_df[train_df['document'].notnull()]\n",
    "test_df = test_df[test_df['document'].notnull()]"
   ]
  },
  {
   "cell_type": "code",
   "execution_count": 7,
   "id": "55f0925e-d52e-4085-b3b2-5cb1015f81c0",
   "metadata": {},
   "outputs": [],
   "source": [
    "import re\n",
    "import warnings\n",
    "warnings.filterwarnings(action='ignore')"
   ]
  },
  {
   "cell_type": "code",
   "execution_count": 8,
   "id": "eebfc485-dce5-4a4c-9182-644aa349037c",
   "metadata": {},
   "outputs": [],
   "source": [
    "train_df['document'] = train_df['document'].apply(lambda x: re.sub(r'[^ ㄱ-ㅣ가-힣]+', \"\", x))\n",
    "test_df['document'] = test_df['document'].apply(lambda x: re.sub(r'[^ ㄱ-ㅣ가-힣]+', \"\", x))"
   ]
  },
  {
   "cell_type": "code",
   "execution_count": 9,
   "id": "02f5d226-feef-462d-8fa1-b3071c2d6f69",
   "metadata": {},
   "outputs": [],
   "source": [
    "# !pip install sklearn"
   ]
  },
  {
   "cell_type": "code",
   "execution_count": 10,
   "id": "c7d15c1b-bf7e-48f5-b7ab-684bb825cee6",
   "metadata": {},
   "outputs": [],
   "source": [
    "from sklearn.feature_extraction.text import TfidfVectorizer\n",
    "from konlpy.tag import Okt"
   ]
  },
  {
   "cell_type": "code",
   "execution_count": 11,
   "id": "2b8785be-63c2-4082-8c8d-5975bf54c9c9",
   "metadata": {},
   "outputs": [
    {
     "name": "stdout",
     "output_type": "stream",
     "text": [
      "[0.009s][warning][os,thread] Attempt to protect stack guard pages failed (0x0000000169014000-0x0000000169020000).\n",
      "[0.009s][warning][os,thread] Attempt to deallocate stack guard pages failed.\n"
     ]
    }
   ],
   "source": [
    "okt = Okt()"
   ]
  },
  {
   "cell_type": "code",
   "execution_count": 12,
   "id": "d4943ce5-909d-406c-b04d-04b4030748a5",
   "metadata": {},
   "outputs": [],
   "source": [
    "tfidf = TfidfVectorizer(tokenizer= okt.morphs,\n",
    "                        ngram_range=(1,2),\n",
    "                        min_df=3,\n",
    "                        max_df=0.9)"
   ]
  },
  {
   "cell_type": "code",
   "execution_count": 13,
   "id": "0e426163-6ee6-4396-badf-93757d79930e",
   "metadata": {},
   "outputs": [
    {
     "data": {
      "text/plain": [
       "TfidfVectorizer(max_df=0.9, min_df=3, ngram_range=(1, 2),\n",
       "                tokenizer=<bound method Okt.morphs of <konlpy.tag._okt.Okt object at 0x1663cf0a0>>)"
      ]
     },
     "execution_count": 13,
     "metadata": {},
     "output_type": "execute_result"
    }
   ],
   "source": [
    "tfidf.fit(train_df['document'])"
   ]
  },
  {
   "cell_type": "code",
   "execution_count": 14,
   "id": "a05a5e90-305f-44bb-84c6-d52f533727e0",
   "metadata": {},
   "outputs": [
    {
     "data": {
      "text/plain": [
       "<149995x115612 sparse matrix of type '<class 'numpy.float64'>'\n",
       "\twith 2703859 stored elements in Compressed Sparse Row format>"
      ]
     },
     "execution_count": 14,
     "metadata": {},
     "output_type": "execute_result"
    }
   ],
   "source": [
    "train_tfidf_df = tfidf.transform(train_df['document'])\n",
    "train_tfidf_df"
   ]
  },
  {
   "cell_type": "code",
   "execution_count": 15,
   "id": "a9914b4c-6090-4573-9837-8671538ede05",
   "metadata": {},
   "outputs": [
    {
     "data": {
      "text/plain": [
       "<49997x115612 sparse matrix of type '<class 'numpy.float64'>'\n",
       "\twith 871912 stored elements in Compressed Sparse Row format>"
      ]
     },
     "execution_count": 15,
     "metadata": {},
     "output_type": "execute_result"
    }
   ],
   "source": [
    "test_tfidf_df = tfidf.transform(test_df['document'])\n",
    "test_tfidf_df"
   ]
  },
  {
   "cell_type": "code",
   "execution_count": 16,
   "id": "9ac67b91-72f6-4196-a8b2-0ad540eec84e",
   "metadata": {},
   "outputs": [
    {
     "data": {
      "text/plain": [
       "array([[0., 0., 0., ..., 0., 0., 0.],\n",
       "       [0., 0., 0., ..., 0., 0., 0.],\n",
       "       [0., 0., 0., ..., 0., 0., 0.],\n",
       "       ...,\n",
       "       [0., 0., 0., ..., 0., 0., 0.],\n",
       "       [0., 0., 0., ..., 0., 0., 0.],\n",
       "       [0., 0., 0., ..., 0., 0., 0.]])"
      ]
     },
     "execution_count": 16,
     "metadata": {},
     "output_type": "execute_result"
    }
   ],
   "source": [
    "test_tfidf_df.toarray()"
   ]
  },
  {
   "cell_type": "code",
   "execution_count": 17,
   "id": "d939acb3-938c-434d-894a-4e6ff38f509a",
   "metadata": {},
   "outputs": [],
   "source": [
    "from sklearn.linear_model import LogisticRegression\n",
    "SA_lr = LogisticRegression(random_state=0)"
   ]
  },
  {
   "cell_type": "code",
   "execution_count": 18,
   "id": "6be0cb14-6864-487a-9977-bc253086aca2",
   "metadata": {},
   "outputs": [
    {
     "data": {
      "text/plain": [
       "LogisticRegression(random_state=0)"
      ]
     },
     "execution_count": 18,
     "metadata": {},
     "output_type": "execute_result"
    }
   ],
   "source": [
    "SA_lr.fit(train_tfidf_df, train_df['label'])"
   ]
  },
  {
   "cell_type": "code",
   "execution_count": 19,
   "id": "40672e94-c072-4d3c-b281-837039734e74",
   "metadata": {},
   "outputs": [],
   "source": [
    "test_predict = SA_lr.predict(test_tfidf_df)"
   ]
  },
  {
   "cell_type": "code",
   "execution_count": 20,
   "id": "658ac224-9bd0-4c9b-99ab-0663ebaaa3c2",
   "metadata": {},
   "outputs": [
    {
     "name": "stdout",
     "output_type": "stream",
     "text": [
      "감성 분석 정확도 :  0.852\n"
     ]
    }
   ],
   "source": [
    "from sklearn.metrics import accuracy_score\n",
    "\n",
    "print('감성 분석 정확도 : ', round(accuracy_score(test_df['label'], test_predict), 3))\n"
   ]
  },
  {
   "cell_type": "code",
   "execution_count": 21,
   "id": "af775ea4-da60-479c-817d-4b7de9605ccb",
   "metadata": {},
   "outputs": [],
   "source": [
    "st = \"웃자 ^o^ 오늘은 좋은 날이 될 것 같은 예감100%! ^^*\""
   ]
  },
  {
   "cell_type": "code",
   "execution_count": 22,
   "id": "de9faeef-580b-49da-b3fa-86504c4920c3",
   "metadata": {},
   "outputs": [
    {
     "data": {
      "text/plain": [
       "'웃자  오늘은 좋은 날이 될 것 같은 예감 '"
      ]
     },
     "execution_count": 22,
     "metadata": {},
     "output_type": "execute_result"
    }
   ],
   "source": [
    "st2 = re.sub(r'[^ ㄱ-ㅎ|가-힣]+', \"\", st)\n",
    "st2"
   ]
  },
  {
   "cell_type": "code",
   "execution_count": 23,
   "id": "36401948-1c06-4801-82e8-d40dfb6f43ce",
   "metadata": {},
   "outputs": [
    {
     "data": {
      "text/plain": [
       "<1x115612 sparse matrix of type '<class 'numpy.float64'>'\n",
       "\twith 16 stored elements in Compressed Sparse Row format>"
      ]
     },
     "execution_count": 23,
     "metadata": {},
     "output_type": "execute_result"
    }
   ],
   "source": [
    "st_tfidf_df = tfidf.transform([st2])\n",
    "st_tfidf_df"
   ]
  },
  {
   "cell_type": "code",
   "execution_count": 24,
   "id": "738f5704-3159-47ad-b071-f35a2b7367c8",
   "metadata": {},
   "outputs": [
    {
     "data": {
      "text/plain": [
       "(array([1]), 1)"
      ]
     },
     "execution_count": 24,
     "metadata": {},
     "output_type": "execute_result"
    }
   ],
   "source": [
    "st2_predict = SA_lr.predict(st_tfidf_df)\n",
    "st2_predict, st2_predict[0]"
   ]
  },
  {
   "cell_type": "code",
   "execution_count": 25,
   "id": "0f39019c-d36d-49cb-9c00-256087579e6e",
   "metadata": {},
   "outputs": [
    {
     "name": "stdout",
     "output_type": "stream",
     "text": [
      "웃자  오늘은 좋은 날이 될 것 같은 예감  ==> 긍정 감정\n"
     ]
    }
   ],
   "source": [
    "if(st2_predict[0] == 0):\n",
    "    print(st2, '==> 부정 감정')\n",
    "else:\n",
    "    print(st2, '==> 긍정 감정')"
   ]
  },
  {
   "cell_type": "code",
   "execution_count": 37,
   "id": "0a05e88e-cd70-486f-b22a-27db9d732953",
   "metadata": {},
   "outputs": [],
   "source": [
    "st3 = \"짱나! 진짜야\""
   ]
  },
  {
   "cell_type": "code",
   "execution_count": 38,
   "id": "ccf45c74-9576-45b3-a0ca-a2dd944ffa2e",
   "metadata": {},
   "outputs": [
    {
     "data": {
      "text/plain": [
       "'짱나 진짜야'"
      ]
     },
     "execution_count": 38,
     "metadata": {},
     "output_type": "execute_result"
    }
   ],
   "source": [
    "st4 = re.sub(r'[^ ㄱ-ㅎ|가-힣]+', \"\", st3)\n",
    "st4"
   ]
  },
  {
   "cell_type": "code",
   "execution_count": 39,
   "id": "633815b6-ebfe-4101-9f1e-2a122c5a9ec4",
   "metadata": {},
   "outputs": [],
   "source": [
    "# 1) 입력 텍스트의 피처 벡터화\n",
    "st4_tfidf = tfidf.transform([st4])\n",
    "\n",
    "# 2) 최적 감성분석 모델에 적용하여 감성 분석 평가\n",
    "st4_predict2 = SA_lr.predict(st4_tfidf)"
   ]
  },
  {
   "cell_type": "code",
   "execution_count": 40,
   "id": "5f323eb8-f893-46fe-8dae-3c66de64ddb8",
   "metadata": {},
   "outputs": [
    {
     "data": {
      "text/plain": [
       "0"
      ]
     },
     "execution_count": 40,
     "metadata": {},
     "output_type": "execute_result"
    }
   ],
   "source": [
    "st4_predict2[0]"
   ]
  },
  {
   "cell_type": "code",
   "execution_count": 41,
   "id": "eac1cd44-790d-48ed-bfd4-7c707d5bdc0e",
   "metadata": {},
   "outputs": [
    {
     "name": "stdout",
     "output_type": "stream",
     "text": [
      "짱나! 진짜야 ==> 부정 감정\n"
     ]
    }
   ],
   "source": [
    "if(st4_predict2[0] == 0):\n",
    "    print(st3, '==> 부정 감정')\n",
    "else:\n",
    "    print(st3, '==> 긍정 감정')"
   ]
  },
  {
   "cell_type": "code",
   "execution_count": 42,
   "id": "726c961c-d9a9-45d5-a105-9338a65e6315",
   "metadata": {},
   "outputs": [],
   "source": [
    "import pickle \n",
    "import joblib"
   ]
  },
  {
   "cell_type": "code",
   "execution_count": 43,
   "id": "63e67241-e51b-4e2f-8fcf-82af01a525b9",
   "metadata": {},
   "outputs": [
    {
     "data": {
      "text/plain": [
       "TfidfVectorizer(max_df=0.9, min_df=3, ngram_range=(1, 2),\n",
       "                tokenizer=<bound method Okt.morphs of <konlpy.tag._okt.Okt object at 0x1663cf0a0>>)"
      ]
     },
     "execution_count": 43,
     "metadata": {},
     "output_type": "execute_result"
    }
   ],
   "source": [
    "tfidf_fit = tfidf.fit(train_df['document'])\n",
    "tfidf_fit"
   ]
  },
  {
   "cell_type": "code",
   "execution_count": 44,
   "id": "8d301446-e45e-4b48-9b3a-b96d148ca579",
   "metadata": {},
   "outputs": [],
   "source": [
    "saved_model = pickle.dumps(SA_lr)"
   ]
  },
  {
   "cell_type": "code",
   "execution_count": 45,
   "id": "ff33faed-2b9c-4a2e-a913-ea121c988d68",
   "metadata": {},
   "outputs": [
    {
     "data": {
      "text/plain": [
       "array([1])"
      ]
     },
     "execution_count": 45,
     "metadata": {},
     "output_type": "execute_result"
    }
   ],
   "source": [
    "lr_from_pickle = pickle.loads(saved_model)\n",
    "lr_from_pickle.predict(st_tfidf_df[0])"
   ]
  },
  {
   "cell_type": "code",
   "execution_count": null,
   "id": "02695ca1-8ea6-42e3-b86d-b3f1cd2fe340",
   "metadata": {},
   "outputs": [],
   "source": []
  },
  {
   "cell_type": "code",
   "execution_count": 46,
   "id": "f9d4db4a-8130-45a8-b22e-4595f8364b3c",
   "metadata": {},
   "outputs": [
    {
     "data": {
      "text/plain": [
       "['movie_SA_lr.pkl']"
      ]
     },
     "execution_count": 46,
     "metadata": {},
     "output_type": "execute_result"
    }
   ],
   "source": [
    "joblib.dump(SA_lr, 'movie_SA_lr.pkl')"
   ]
  },
  {
   "cell_type": "code",
   "execution_count": 47,
   "id": "8d6e773e-1643-46ea-b7fa-ad313588eeea",
   "metadata": {},
   "outputs": [
    {
     "data": {
      "text/plain": [
       "LogisticRegression(random_state=0)"
      ]
     },
     "execution_count": 47,
     "metadata": {},
     "output_type": "execute_result"
    }
   ],
   "source": [
    "lr_from_joblib = joblib.load('movie_SA_lr.pkl')\n",
    "lr_from_joblib"
   ]
  },
  {
   "cell_type": "code",
   "execution_count": 48,
   "id": "87e1b090-5b17-41e7-8e90-1f3a5e2bd1e3",
   "metadata": {},
   "outputs": [
    {
     "data": {
      "text/plain": [
       "array([1])"
      ]
     },
     "execution_count": 48,
     "metadata": {},
     "output_type": "execute_result"
    }
   ],
   "source": [
    "lr_from_joblib.predict(st_tfidf_df[0])\n"
   ]
  },
  {
   "cell_type": "code",
   "execution_count": null,
   "id": "b77cdfcb-3c61-4ada-a47c-3ef32d061b12",
   "metadata": {},
   "outputs": [],
   "source": []
  }
 ],
 "metadata": {
  "kernelspec": {
   "display_name": "Python 3.9 (tensorflow)",
   "language": "python",
   "name": "tensorflow"
  },
  "language_info": {
   "codemirror_mode": {
    "name": "ipython",
    "version": 3
   },
   "file_extension": ".py",
   "mimetype": "text/x-python",
   "name": "python",
   "nbconvert_exporter": "python",
   "pygments_lexer": "ipython3",
   "version": "3.9.12"
  }
 },
 "nbformat": 4,
 "nbformat_minor": 5
}
