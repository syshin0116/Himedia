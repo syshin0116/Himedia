{
 "cells": [
  {
   "cell_type": "code",
   "execution_count": 5,
   "id": "125e0334-25bf-4df2-964a-7a1369802431",
   "metadata": {},
   "outputs": [],
   "source": [
    "import mlxtend #apiori알고리즘 관련 라이브러리\n",
    "import numpy as np\n",
    "import pandas as pd\n",
    "import warnings\n",
    "warnings.filterwarnings(action='ignore')\n",
    "from mlxtend.preprocessing import TransactionEncoder\n"
   ]
  },
  {
   "cell_type": "code",
   "execution_count": 7,
   "id": "36198367-84f2-4e71-a461-3ba58b82486a",
   "metadata": {},
   "outputs": [],
   "source": [
    "data = np.array([\n",
    "    ['우유', '기저귀', '쥬스'],\n",
    "    ['양상추', '기저귀', '맥주'],\n",
    "    ['우유', '양상추', '기저귀', '쥬스'],\n",
    "    ['양상추', '맥주']\n",
    "])"
   ]
  },
  {
   "cell_type": "code",
   "execution_count": 8,
   "id": "08e0667a-f879-439b-a10c-0253d75d97e6",
   "metadata": {},
   "outputs": [],
   "source": [
    "te = TransactionEncoder()"
   ]
  },
  {
   "cell_type": "code",
   "execution_count": 9,
   "id": "b4cf910c-9c34-4a19-8ccb-440c9573fb46",
   "metadata": {},
   "outputs": [
    {
     "data": {
      "text/plain": [
       "array([[ True, False, False,  True,  True],\n",
       "       [ True,  True,  True, False, False],\n",
       "       [ True, False,  True,  True,  True],\n",
       "       [False,  True,  True, False, False]])"
      ]
     },
     "execution_count": 9,
     "metadata": {},
     "output_type": "execute_result"
    }
   ],
   "source": [
    "te_ary = te.fit(data).transform(data)\n",
    "te_ary"
   ]
  },
  {
   "cell_type": "code",
   "execution_count": 10,
   "id": "3aa31016-1b39-4581-ab28-d9333b898302",
   "metadata": {},
   "outputs": [
    {
     "data": {
      "text/plain": [
       "['기저귀', '맥주', '양상추', '우유', '쥬스']"
      ]
     },
     "execution_count": 10,
     "metadata": {},
     "output_type": "execute_result"
    }
   ],
   "source": [
    "te.columns_"
   ]
  },
  {
   "cell_type": "code",
   "execution_count": 11,
   "id": "62e202ce-222c-45fd-be2a-d2b33819395a",
   "metadata": {},
   "outputs": [
    {
     "data": {
      "text/html": [
       "<div>\n",
       "<style scoped>\n",
       "    .dataframe tbody tr th:only-of-type {\n",
       "        vertical-align: middle;\n",
       "    }\n",
       "\n",
       "    .dataframe tbody tr th {\n",
       "        vertical-align: top;\n",
       "    }\n",
       "\n",
       "    .dataframe thead th {\n",
       "        text-align: right;\n",
       "    }\n",
       "</style>\n",
       "<table border=\"1\" class=\"dataframe\">\n",
       "  <thead>\n",
       "    <tr style=\"text-align: right;\">\n",
       "      <th></th>\n",
       "      <th>기저귀</th>\n",
       "      <th>맥주</th>\n",
       "      <th>양상추</th>\n",
       "      <th>우유</th>\n",
       "      <th>쥬스</th>\n",
       "    </tr>\n",
       "  </thead>\n",
       "  <tbody>\n",
       "    <tr>\n",
       "      <th>0</th>\n",
       "      <td>True</td>\n",
       "      <td>False</td>\n",
       "      <td>False</td>\n",
       "      <td>True</td>\n",
       "      <td>True</td>\n",
       "    </tr>\n",
       "    <tr>\n",
       "      <th>1</th>\n",
       "      <td>True</td>\n",
       "      <td>True</td>\n",
       "      <td>True</td>\n",
       "      <td>False</td>\n",
       "      <td>False</td>\n",
       "    </tr>\n",
       "    <tr>\n",
       "      <th>2</th>\n",
       "      <td>True</td>\n",
       "      <td>False</td>\n",
       "      <td>True</td>\n",
       "      <td>True</td>\n",
       "      <td>True</td>\n",
       "    </tr>\n",
       "    <tr>\n",
       "      <th>3</th>\n",
       "      <td>False</td>\n",
       "      <td>True</td>\n",
       "      <td>True</td>\n",
       "      <td>False</td>\n",
       "      <td>False</td>\n",
       "    </tr>\n",
       "  </tbody>\n",
       "</table>\n",
       "</div>"
      ],
      "text/plain": [
       "     기저귀     맥주    양상추     우유     쥬스\n",
       "0   True  False  False   True   True\n",
       "1   True   True   True  False  False\n",
       "2   True  False   True   True   True\n",
       "3  False   True   True  False  False"
      ]
     },
     "execution_count": 11,
     "metadata": {},
     "output_type": "execute_result"
    }
   ],
   "source": [
    "df = pd.DataFrame(te_ary, columns=te.columns_)\n",
    "df"
   ]
  },
  {
   "cell_type": "code",
   "execution_count": 12,
   "id": "22a20c21-9efe-4d85-aa78-bc9e1b398ea5",
   "metadata": {},
   "outputs": [],
   "source": [
    "from mlxtend.frequent_patterns import apriori"
   ]
  },
  {
   "cell_type": "code",
   "execution_count": 39,
   "id": "ab831766-1f07-4c2b-af8a-adc79b30dfd8",
   "metadata": {},
   "outputs": [
    {
     "data": {
      "text/html": [
       "<div>\n",
       "<style scoped>\n",
       "    .dataframe tbody tr th:only-of-type {\n",
       "        vertical-align: middle;\n",
       "    }\n",
       "\n",
       "    .dataframe tbody tr th {\n",
       "        vertical-align: top;\n",
       "    }\n",
       "\n",
       "    .dataframe thead th {\n",
       "        text-align: right;\n",
       "    }\n",
       "</style>\n",
       "<table border=\"1\" class=\"dataframe\">\n",
       "  <thead>\n",
       "    <tr style=\"text-align: right;\">\n",
       "      <th></th>\n",
       "      <th>support</th>\n",
       "      <th>itemsets</th>\n",
       "    </tr>\n",
       "  </thead>\n",
       "  <tbody>\n",
       "    <tr>\n",
       "      <th>0</th>\n",
       "      <td>0.75</td>\n",
       "      <td>(기저귀)</td>\n",
       "    </tr>\n",
       "    <tr>\n",
       "      <th>1</th>\n",
       "      <td>0.50</td>\n",
       "      <td>(맥주)</td>\n",
       "    </tr>\n",
       "    <tr>\n",
       "      <th>2</th>\n",
       "      <td>0.75</td>\n",
       "      <td>(양상추)</td>\n",
       "    </tr>\n",
       "    <tr>\n",
       "      <th>3</th>\n",
       "      <td>0.50</td>\n",
       "      <td>(우유)</td>\n",
       "    </tr>\n",
       "    <tr>\n",
       "      <th>4</th>\n",
       "      <td>0.50</td>\n",
       "      <td>(쥬스)</td>\n",
       "    </tr>\n",
       "    <tr>\n",
       "      <th>5</th>\n",
       "      <td>0.50</td>\n",
       "      <td>(기저귀, 양상추)</td>\n",
       "    </tr>\n",
       "    <tr>\n",
       "      <th>6</th>\n",
       "      <td>0.50</td>\n",
       "      <td>(기저귀, 우유)</td>\n",
       "    </tr>\n",
       "    <tr>\n",
       "      <th>7</th>\n",
       "      <td>0.50</td>\n",
       "      <td>(쥬스, 기저귀)</td>\n",
       "    </tr>\n",
       "    <tr>\n",
       "      <th>8</th>\n",
       "      <td>0.50</td>\n",
       "      <td>(맥주, 양상추)</td>\n",
       "    </tr>\n",
       "    <tr>\n",
       "      <th>9</th>\n",
       "      <td>0.50</td>\n",
       "      <td>(쥬스, 우유)</td>\n",
       "    </tr>\n",
       "    <tr>\n",
       "      <th>10</th>\n",
       "      <td>0.50</td>\n",
       "      <td>(쥬스, 기저귀, 우유)</td>\n",
       "    </tr>\n",
       "  </tbody>\n",
       "</table>\n",
       "</div>"
      ],
      "text/plain": [
       "    support       itemsets\n",
       "0      0.75          (기저귀)\n",
       "1      0.50           (맥주)\n",
       "2      0.75          (양상추)\n",
       "3      0.50           (우유)\n",
       "4      0.50           (쥬스)\n",
       "5      0.50     (기저귀, 양상추)\n",
       "6      0.50      (기저귀, 우유)\n",
       "7      0.50      (쥬스, 기저귀)\n",
       "8      0.50      (맥주, 양상추)\n",
       "9      0.50       (쥬스, 우유)\n",
       "10     0.50  (쥬스, 기저귀, 우유)"
      ]
     },
     "execution_count": 39,
     "metadata": {},
     "output_type": "execute_result"
    }
   ],
   "source": [
    "result = apriori(df, min_support=0.5, use_colnames=True)\n",
    "result"
   ]
  },
  {
   "cell_type": "code",
   "execution_count": 53,
   "id": "6103f031-b206-4f6f-a597-6bd32bf21cfc",
   "metadata": {},
   "outputs": [
    {
     "data": {
      "text/html": [
       "<div>\n",
       "<style scoped>\n",
       "    .dataframe tbody tr th:only-of-type {\n",
       "        vertical-align: middle;\n",
       "    }\n",
       "\n",
       "    .dataframe tbody tr th {\n",
       "        vertical-align: top;\n",
       "    }\n",
       "\n",
       "    .dataframe thead th {\n",
       "        text-align: right;\n",
       "    }\n",
       "</style>\n",
       "<table border=\"1\" class=\"dataframe\">\n",
       "  <thead>\n",
       "    <tr style=\"text-align: right;\">\n",
       "      <th></th>\n",
       "      <th>support</th>\n",
       "      <th>itemsets</th>\n",
       "    </tr>\n",
       "  </thead>\n",
       "  <tbody>\n",
       "    <tr>\n",
       "      <th>10</th>\n",
       "      <td>0.5</td>\n",
       "      <td>(쥬스, 기저귀, 우유)</td>\n",
       "    </tr>\n",
       "  </tbody>\n",
       "</table>\n",
       "</div>"
      ],
      "text/plain": [
       "    support       itemsets\n",
       "10      0.5  (쥬스, 기저귀, 우유)"
      ]
     },
     "execution_count": 53,
     "metadata": {},
     "output_type": "execute_result"
    }
   ],
   "source": [
    "# result에서 마지막 itemsets 컬럼값 추출\n",
    "\n",
    "result.iloc[-1:,:]"
   ]
  },
  {
   "cell_type": "code",
   "execution_count": 54,
   "id": "dfc71d06-80ea-4c47-b642-a34ffa3203a0",
   "metadata": {},
   "outputs": [
    {
     "name": "stdout",
     "output_type": "stream",
     "text": [
      "support               0.5\n",
      "itemsets    (쥬스, 기저귀, 우유)\n",
      "Name: 10, dtype: object\n"
     ]
    }
   ],
   "source": [
    "## 쥬스, 우유와 함께추천하면 좋을 item은??\n",
    "\n",
    "for index in result.index:\n",
    "    if '우유' in (result.loc[index,'itemsets']) and '쥬스' in (result.loc[index,'itemsets']) and len(result.loc[index,'itemsets'])>2:\n",
    "        print(result.loc[index,:])"
   ]
  },
  {
   "cell_type": "code",
   "execution_count": null,
   "id": "9a109d91-0b4e-4869-b8b1-3b4e0a203504",
   "metadata": {},
   "outputs": [],
   "source": []
  },
  {
   "cell_type": "code",
   "execution_count": null,
   "id": "1503eb05-2b31-488d-ab76-aa8af73b60ee",
   "metadata": {},
   "outputs": [],
   "source": []
  },
  {
   "cell_type": "code",
   "execution_count": null,
   "id": "16a1fa81-bc64-4745-aa04-c47842602e4b",
   "metadata": {},
   "outputs": [],
   "source": []
  },
  {
   "cell_type": "code",
   "execution_count": 55,
   "id": "a682fa9a-9e2f-49c6-be1b-92852998140c",
   "metadata": {},
   "outputs": [],
   "source": [
    "## TF-IDF, CounterVectorizor, TransactionEncoder"
   ]
  },
  {
   "cell_type": "code",
   "execution_count": 56,
   "id": "ad8baf0b-83b2-45c3-adc2-eeed3337e09a",
   "metadata": {},
   "outputs": [],
   "source": [
    "from gensim.models import Word2Vec"
   ]
  },
  {
   "cell_type": "code",
   "execution_count": 18,
   "id": "3d195faf-ddab-4769-a640-5ae46d4a5003",
   "metadata": {},
   "outputs": [],
   "source": [
    "doc = [\n",
    "    'you say goodbye and I say hello', \n",
    "    'i say happy or he said white',\n",
    "    'we say unhappy and angry black'\n",
    "]"
   ]
  },
  {
   "cell_type": "code",
   "execution_count": 57,
   "id": "7cf712d5-db49-457a-8f05-ff20027ccd58",
   "metadata": {},
   "outputs": [],
   "source": [
    "doc2 = [\n",
    "    '나는 굿바이라고 했고, 너는 헬로우라고 했어.', \n",
    "    '나는 기쁘다고 했고, 너는 하얗게 슬프다고 했어.',\n",
    "    '우리는 행복하지 않고, 블랙으로 슬퍼'\n",
    "]"
   ]
  },
  {
   "cell_type": "code",
   "execution_count": 20,
   "id": "af212588-d0df-411e-b428-df372ec56ffd",
   "metadata": {},
   "outputs": [
    {
     "data": {
      "text/plain": [
       "[['you', 'say', 'goodbye', 'and', 'I', 'say', 'hello'],\n",
       " ['i', 'say', 'happy', 'or', 'he', 'said', 'white'],\n",
       " ['we', 'say', 'unhappy', 'and', 'angry', 'black']]"
      ]
     },
     "execution_count": 20,
     "metadata": {},
     "output_type": "execute_result"
    }
   ],
   "source": [
    "## 문장을 토큰으로 끊어내자.\n",
    "sentences = [ one.split(' ') for one in doc ] \n",
    "#[처리내용 for one in 복수형태의자료구조] => 항상 결과는 리스트\n",
    "sentences"
   ]
  },
  {
   "cell_type": "code",
   "execution_count": 21,
   "id": "06f7a398-81d7-4081-81f8-af827735c5bd",
   "metadata": {},
   "outputs": [
    {
     "data": {
      "text/plain": [
       "[['나는', '굿바이라고', '했고,', '너는', '헬로우라고', '했어.'],\n",
       " ['나는', '기쁘다고', '했고,', '너는', '하얗게', '슬프다고', '했어.'],\n",
       " ['우리는', '행복하지', '않고,', '블랙으로', '슬퍼']]"
      ]
     },
     "execution_count": 21,
     "metadata": {},
     "output_type": "execute_result"
    }
   ],
   "source": [
    "sentences2 = [ one.split(' ') for one in doc2 ] \n",
    "sentences2"
   ]
  },
  {
   "cell_type": "code",
   "execution_count": 58,
   "id": "7c81136a-b40c-449c-a1cb-202a0ab73b9c",
   "metadata": {},
   "outputs": [],
   "source": [
    "model = Word2Vec(window=1, min_count=1) ## 특정한 단어의 앞뒤 단어를 유추 가능\n",
    "## window: 유추하는 계산을 할 때 특정한 단어의 앞뒤 몇개를 가지고 계산을 할지의 단위\n",
    "## min_count: 특정한 패턴의 출현 횟수"
   ]
  },
  {
   "cell_type": "code",
   "execution_count": 59,
   "id": "0cc8155d-1539-4c3c-acf4-cdb76d2c0c24",
   "metadata": {},
   "outputs": [],
   "source": [
    "#embedding_model = Word2Vec(tokenized_contents, size=100, window = 2, min_count=50, workers=4, iter=100, sg=1)"
   ]
  },
  {
   "cell_type": "code",
   "execution_count": 60,
   "id": "9d11b285-392f-4092-b2ab-f07c778327d4",
   "metadata": {},
   "outputs": [],
   "source": [
    "model2 = Word2Vec(window=2, min_count=1)"
   ]
  },
  {
   "cell_type": "code",
   "execution_count": 61,
   "id": "ca483971-1e8b-4802-a851-34cba800cba2",
   "metadata": {},
   "outputs": [],
   "source": [
    "model.build_vocab(sentences) # 영문문장을 가지고 계산을 함"
   ]
  },
  {
   "cell_type": "code",
   "execution_count": 63,
   "id": "064d229d-17cc-40fa-b73a-659c20647f9e",
   "metadata": {},
   "outputs": [
    {
     "data": {
      "text/plain": [
       "[('or', 0.21617142856121063),\n",
       " ('hello', 0.0931011214852333),\n",
       " ('said', 0.09291722625494003),\n",
       " ('i', 0.0796348825097084),\n",
       " ('happy', 0.06285078078508377),\n",
       " ('you', 0.05433366447687149),\n",
       " ('he', 0.0270574688911438),\n",
       " ('white', 0.016134681180119514),\n",
       " ('and', -0.01083916611969471),\n",
       " ('unhappy', -0.02775036171078682)]"
      ]
     },
     "execution_count": 63,
     "metadata": {},
     "output_type": "execute_result"
    }
   ],
   "source": [
    "## 특정한 단어를 주고 앞뒤 단어를 추론해보자.\n",
    "model.wv.most_similar('say') ## 비지도"
   ]
  },
  {
   "cell_type": "code",
   "execution_count": 64,
   "id": "ac99d83f-20cc-4163-b7b9-4c5f89fde31c",
   "metadata": {},
   "outputs": [
    {
     "data": {
      "text/plain": [
       "[('say', 0.21617141366004944),\n",
       " ('he', 0.044689226895570755),\n",
       " ('happy', 0.015025204978883266),\n",
       " ('you', 0.01069522276520729),\n",
       " ('white', 0.0019510603742673993),\n",
       " ('black', -0.03284316882491112),\n",
       " ('goodbye', -0.04552275687456131),\n",
       " ('hello', -0.04568909481167793),\n",
       " ('i', -0.0742427185177803),\n",
       " ('said', -0.09326909482479095)]"
      ]
     },
     "execution_count": 64,
     "metadata": {},
     "output_type": "execute_result"
    }
   ],
   "source": [
    "model.wv.most_similar('or')"
   ]
  },
  {
   "cell_type": "code",
   "execution_count": null,
   "id": "202f4e31-9fff-4f71-8ec1-5917b05e2504",
   "metadata": {},
   "outputs": [],
   "source": [
    "## or 단어 앞으로는 say가 나올 가능성이 제일 크고,\n",
    "## or 단어 뒤로는 black단어가 나올 가능성이 제일 큰 것을 알 수 있다"
   ]
  },
  {
   "cell_type": "code",
   "execution_count": null,
   "id": "6be8dec8-80a5-4550-b79d-b8224bfa8b06",
   "metadata": {},
   "outputs": [],
   "source": []
  },
  {
   "cell_type": "code",
   "execution_count": 65,
   "id": "c7e69e50-fc5c-4cc3-a071-2cf8c602d4f4",
   "metadata": {},
   "outputs": [],
   "source": [
    "model2.build_vocab(sentences2)"
   ]
  },
  {
   "cell_type": "code",
   "execution_count": 66,
   "id": "7b46b02b-3987-4ece-9164-c78390b4b9e3",
   "metadata": {},
   "outputs": [
    {
     "data": {
      "text/plain": [
       "[('했어.', 0.13149002194404602),\n",
       " ('슬프다고', 0.07497557997703552),\n",
       " ('굿바이라고', 0.06797594577074051),\n",
       " ('기쁘다고', 0.04157734289765358),\n",
       " ('않고,', 0.04130808636546135),\n",
       " ('행복하지', 0.012979966588318348),\n",
       " ('슬퍼', 0.006598460953682661),\n",
       " ('블랙으로', -0.009253415279090405),\n",
       " ('했고,', -0.013514935038983822),\n",
       " ('하얗게', -0.013679753057658672)]"
      ]
     },
     "execution_count": 66,
     "metadata": {},
     "output_type": "execute_result"
    }
   ],
   "source": [
    "model2.wv.most_similar('너는') "
   ]
  },
  {
   "cell_type": "code",
   "execution_count": 68,
   "id": "73269f03-e845-4294-ac78-e29a02233b86",
   "metadata": {},
   "outputs": [],
   "source": [
    "## '너는' 한글 단어 앞으로 나올단어로는 '굿바이라고'를 추천,\n",
    "## '너는' 한글 단어 뒤로 나올 단어로는 헬로우라고를 추천"
   ]
  },
  {
   "cell_type": "code",
   "execution_count": 67,
   "id": "9c5b7248-6bfc-4846-9387-5614b68ec81a",
   "metadata": {},
   "outputs": [
    {
     "data": {
      "text/plain": [
       "[('슬프다고', 0.19912061095237732),\n",
       " ('않고,', 0.17272791266441345),\n",
       " ('헬로우라고', 0.17018885910511017),\n",
       " ('기쁘다고', 0.14595060050487518),\n",
       " ('했어.', 0.06408978998661041),\n",
       " ('블랙으로', 0.04652618616819382),\n",
       " ('하얗게', -0.002754023764282465),\n",
       " ('너는', -0.013514941558241844),\n",
       " ('굿바이라고', -0.023671653121709824),\n",
       " ('우리는', -0.032843176275491714)]"
      ]
     },
     "execution_count": 67,
     "metadata": {},
     "output_type": "execute_result"
    }
   ],
   "source": [
    "model2.wv.most_similar('했고,') "
   ]
  },
  {
   "cell_type": "code",
   "execution_count": 30,
   "id": "95c64822-2fcb-480b-8253-a11e35835cd5",
   "metadata": {},
   "outputs": [],
   "source": [
    "import pandas as pd\n",
    "from sklearn.feature_extraction.text import TfidfVectorizer\n",
    "from sklearn.metrics.pairwise import cosine_similarity, euclidean_distances"
   ]
  },
  {
   "cell_type": "code",
   "execution_count": 69,
   "id": "13639b80-d674-4175-93c9-b6da24a8f421",
   "metadata": {},
   "outputs": [],
   "source": [
    "tfidf = TfidfVectorizer(stop_words='english')\n",
    "## tfidf는 빈도수를 구하긴 하지만, 문서마다 자주 등장하는 문서는 각 문서를 구분할 단어로 사용하기는 \n",
    "## 부적합하여 가중치를 낮추어 계싼"
   ]
  },
  {
   "cell_type": "code",
   "execution_count": 70,
   "id": "bf92c702-1ca9-4968-9bef-0fa6f320114e",
   "metadata": {},
   "outputs": [
    {
     "name": "stdout",
     "output_type": "stream",
     "text": [
      "TF-IDF 행렬의 크기(shape) : (3, 9)\n"
     ]
    }
   ],
   "source": [
    "tfidf_matrix = tfidf.fit_transform(doc)\n",
    "print('TF-IDF 행렬의 크기(shape) :',tfidf_matrix.shape)"
   ]
  },
  {
   "cell_type": "code",
   "execution_count": 32,
   "id": "0a4d4367-b995-4a83-8c66-cce0c13e5e68",
   "metadata": {},
   "outputs": [
    {
     "data": {
      "text/plain": [
       "array([[0.        , 0.        , 0.54270061, 0.        , 0.54270061,\n",
       "        0.        , 0.64105545, 0.        , 0.        ],\n",
       "       [0.        , 0.        , 0.        , 0.54645401, 0.        ,\n",
       "        0.54645401, 0.32274454, 0.        , 0.54645401],\n",
       "       [0.54645401, 0.54645401, 0.        , 0.        , 0.        ,\n",
       "        0.        , 0.32274454, 0.54645401, 0.        ]])"
      ]
     },
     "execution_count": 32,
     "metadata": {},
     "output_type": "execute_result"
    }
   ],
   "source": [
    "tfidf_matrix.toarray()"
   ]
  },
  {
   "cell_type": "code",
   "execution_count": 33,
   "id": "b31d3d93-eac0-4b6b-81b3-811656a6f552",
   "metadata": {},
   "outputs": [
    {
     "data": {
      "text/plain": [
       "array([[1.        , 0.20689715, 0.20689715],\n",
       "       [0.20689715, 1.        , 0.10416404],\n",
       "       [0.20689715, 0.10416404, 1.        ]])"
      ]
     },
     "execution_count": 33,
     "metadata": {},
     "output_type": "execute_result"
    }
   ],
   "source": [
    "# 문서간의 유사도를 구해봅시다!!\n",
    "cosine_similarity(tfidf_matrix, tfidf_matrix) ##문장에 대한 코사인유사도"
   ]
  },
  {
   "cell_type": "code",
   "execution_count": null,
   "id": "f07cf616-6ab8-425e-b805-096884e3ffda",
   "metadata": {},
   "outputs": [],
   "source": [
    "## 행은 문서1, 문서2, 문서3\n",
    "## 열도 문서1, 문서2, 문서3\n",
    "## 문서1 + 문서2: 0.21\n",
    "## 문서1 + 문서3: 0.21\n",
    "## 문서2 + 문서3: 0.10\n",
    "## 문서1과 2, 문서1과 3이 유사\n",
    "## 문서2와 3은 유가하지 않다"
   ]
  },
  {
   "cell_type": "code",
   "execution_count": 34,
   "id": "79ae1e11-ce38-48f3-a424-d8afb5c62a03",
   "metadata": {},
   "outputs": [],
   "source": [
    "## 문서1과 문서2는 21%정도 유사도가 있다.\n",
    "## 문서1과 문서3은 21%정도 유사도가 있다.\n",
    "## 문서2와 문서3은 10%정도 유사도가 있다."
   ]
  },
  {
   "cell_type": "code",
   "execution_count": 74,
   "id": "1119bebe-2270-4fd8-a0e8-ccc73c243de3",
   "metadata": {},
   "outputs": [
    {
     "data": {
      "text/plain": [
       "array([[1.        , 0.33333333, 0.8660254 , 0.        ],\n",
       "       [0.33333333, 1.        , 0.57735027, 0.81649658],\n",
       "       [0.8660254 , 0.57735027, 1.        , 0.35355339],\n",
       "       [0.        , 0.81649658, 0.35355339, 1.        ]])"
      ]
     },
     "execution_count": 74,
     "metadata": {},
     "output_type": "execute_result"
    }
   ],
   "source": [
    "## 1. 모든 장바구니 유사도를 구해보세요\n",
    "similarity = cosine_similarity(te_ary, te_ary) ##장바구니에 대한 코사인유사도\n",
    "similarity\n",
    "\n"
   ]
  },
  {
   "cell_type": "code",
   "execution_count": 92,
   "id": "3f2133c8-56bf-4854-b665-14182091108e",
   "metadata": {},
   "outputs": [
    {
     "data": {
      "image/png": "[encoded data removed]",
      "text/plain": [
       "<Figure size 360x360 with 1 Axes>"
      ]
     },
     "metadata": {
      "needs_background": "light"
     },
     "output_type": "display_data"
    }
   ],
   "source": [
    "from matplotlib import pyplot as plt\n",
    "plt.figure(figsize=(5,5))\n",
    "plt.imshow(similarity, alpha=0.75)\n",
    "plt.show()"
   ]
  },
  {
   "cell_type": "code",
   "execution_count": 99,
   "id": "305bc536-3e3e-4d46-b5fd-9d6b16053482",
   "metadata": {},
   "outputs": [
    {
     "data": {
      "image/png": "[encoded data removed]",
      "text/plain": [
       "<Figure size 432x288 with 2 Axes>"
      ]
     },
     "metadata": {
      "needs_background": "light"
     },
     "output_type": "display_data"
    }
   ],
   "source": [
    "import seaborn as sns\n",
    "import matplotlib.pylab as plt\n",
    "\n",
    "ax = sns.heatmap(similarity, linewidth=0.5)\n",
    "plt.show()"
   ]
  },
  {
   "cell_type": "code",
   "execution_count": 98,
   "id": "77c3fd1b-3627-4a27-acbc-03fe1a1bfa8d",
   "metadata": {},
   "outputs": [
    {
     "data": {
      "text/plain": [
       "array([[0.73871004, 0.22724011, 0.07778963, 0.17922356],\n",
       "       [0.27661892, 0.05934138, 0.80305761, 0.66836217],\n",
       "       [0.26497854, 0.1719185 , 0.461801  , 0.26355236],\n",
       "       [0.15045944, 0.64824855, 0.94164335, 0.97706822]])"
      ]
     },
     "execution_count": 98,
     "metadata": {},
     "output_type": "execute_result"
    }
   ],
   "source": [
    "np.random.rand(4, 4)"
   ]
  },
  {
   "cell_type": "code",
   "execution_count": 75,
   "id": "92d35a8a-29a4-4388-b518-9730a41edd21",
   "metadata": {},
   "outputs": [],
   "source": [
    "## 2. 장바구니 1번과 제일 유사도가 높은 장바구니를 찾아서\n",
    "## 장바구니 1번과 제일 유사도가 높은 장바구니는 3번이다"
   ]
  },
  {
   "cell_type": "code",
   "execution_count": 83,
   "id": "c75d9d3b-2e46-463d-a76b-30f5f1915e30",
   "metadata": {},
   "outputs": [
    {
     "data": {
      "text/plain": [
       "['양상추']"
      ]
     },
     "execution_count": 83,
     "metadata": {},
     "output_type": "execute_result"
    }
   ],
   "source": [
    "## 3. 장바구니 1번에게 추천해주고 싶은 item을 추천해주세요\n",
    "sorted_nums = sorted(similarity[0], reverse=True)\n",
    "def recommend(x):\n",
    "    for i, item in enumerate(similarity[x]):\n",
    "        if item == sorted_nums[1]:\n",
    "            return i, x\n",
    "i, x = recommend(0)\n",
    "recommend_result = list(set(data[i]) - set(data[x]))\n",
    "recommend_result"
   ]
  },
  {
   "cell_type": "code",
   "execution_count": null,
   "id": "0dc89a0a-d1da-499c-af2a-8e131ea98db3",
   "metadata": {},
   "outputs": [],
   "source": []
  }
 ],
 "metadata": {
  "kernelspec": {
   "display_name": "Python 3 (ipykernel)",
   "language": "python",
   "name": "python3"
  },
  "language_info": {
   "codemirror_mode": {
    "name": "ipython",
    "version": 3
   },
   "file_extension": ".py",
   "mimetype": "text/x-python",
   "name": "python",
   "nbconvert_exporter": "python",
   "pygments_lexer": "ipython3",
   "version": "3.9.10"
  }
 },
 "nbformat": 4,
 "nbformat_minor": 5
}
