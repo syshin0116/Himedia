{
 "cells": [
  {
   "cell_type": "code",
   "execution_count": 1,
   "id": "2f19e242-61cf-407c-b4e4-4d43d594715b",
   "metadata": {},
   "outputs": [
    {
     "name": "stdout",
     "output_type": "stream",
     "text": [
      "Collecting pymongo\n",
      "  Downloading pymongo-4.1.1.tar.gz (776 kB)\n",
      "\u001b[2K     \u001b[90m━━━━━━━━━━━━━━━━━━━━━━━━━━━━━━━━━━━━━━━\u001b[0m \u001b[32m776.3/776.3 kB\u001b[0m \u001b[31m8.2 MB/s\u001b[0m eta \u001b[36m0:00:00\u001b[0m00:01\u001b[0m00:01\u001b[0m\n",
      "\u001b[?25h  Preparing metadata (setup.py) ... \u001b[?25ldone\n",
      "\u001b[?25hBuilding wheels for collected packages: pymongo\n",
      "  Building wheel for pymongo (setup.py) ... \u001b[?25ldone\n",
      "\u001b[?25h  Created wheel for pymongo: filename=pymongo-4.1.1-cp39-cp39-macosx_11_0_arm64.whl size=362560 sha256=30ecdf7af176a360228e828332732e0783c52602a6f9d7517499b473b2b293a4\n",
      "  Stored in directory: /Users/syshin/Library/Caches/pip/wheels/bc/32/e8/d091a7490583892ee4cb580bcaba7d6dd3bebf96686e791947\n",
      "Successfully built pymongo\n",
      "Installing collected packages: pymongo\n",
      "Successfully installed pymongo-4.1.1\n"
     ]
    }
   ],
   "source": [
    "#!pip install pymongo"
   ]
  },
  {
   "cell_type": "code",
   "execution_count": 2,
   "id": "d11b5305-338f-4a30-834a-0a559f1f054d",
   "metadata": {},
   "outputs": [],
   "source": [
    "import pymongo"
   ]
  },
  {
   "cell_type": "code",
   "execution_count": 3,
   "id": "5070d358-1814-494f-bcd3-f1b9af2b66f3",
   "metadata": {},
   "outputs": [],
   "source": [
    "# db연결하는 객체 필요\n",
    "## 1. db연결\n",
    "## 2. collection연결\n",
    "## 3. documents 조작"
   ]
  },
  {
   "cell_type": "code",
   "execution_count": 5,
   "id": "d26adca9-a96e-474e-b7bc-690abef5eecc",
   "metadata": {},
   "outputs": [
    {
     "data": {
      "text/plain": [
       "MongoClient(host=['localhost:27017'], document_class=dict, tz_aware=False, connect=True)"
      ]
     },
     "execution_count": 5,
     "metadata": {},
     "output_type": "execute_result"
    }
   ],
   "source": [
    "conn = pymongo.MongoClient()\n",
    "conn"
   ]
  },
  {
   "cell_type": "code",
   "execution_count": 6,
   "id": "85ceab2f-658b-400e-9685-2d1297e3b036",
   "metadata": {},
   "outputs": [
    {
     "data": {
      "text/plain": [
       "Database(MongoClient(host=['localhost:27017'], document_class=dict, tz_aware=False, connect=True), 'shop')"
      ]
     },
     "execution_count": 6,
     "metadata": {},
     "output_type": "execute_result"
    }
   ],
   "source": [
    "shop = conn.shop\n",
    "shop"
   ]
  },
  {
   "cell_type": "code",
   "execution_count": 7,
   "id": "099f03c4-e98f-4e16-b65f-99f2708e5dea",
   "metadata": {},
   "outputs": [
    {
     "data": {
      "text/plain": [
       "Database(MongoClient(host=['localhost:27017'], document_class=dict, tz_aware=False, connect=True), 'test')"
      ]
     },
     "execution_count": 7,
     "metadata": {},
     "output_type": "execute_result"
    }
   ],
   "source": [
    "test = conn.test # db생성\n",
    "test"
   ]
  },
  {
   "cell_type": "code",
   "execution_count": 8,
   "id": "7a72e59e-54da-47cc-8526-d1cf387552f5",
   "metadata": {},
   "outputs": [
    {
     "data": {
      "text/plain": [
       "Collection(Database(MongoClient(host=['localhost:27017'], document_class=dict, tz_aware=False, connect=True), 'test'), 'board')"
      ]
     },
     "execution_count": 8,
     "metadata": {},
     "output_type": "execute_result"
    }
   ],
   "source": [
    "board = test.board\n",
    "board \n",
    "# in-memory방식: 모든 처리가 끝난 후 저장을 하는 방식\n",
    "#               데이터가 업으면 저장 공간에 저장되지 않아서 클라이언트 프로그램에서 보이지 않음."
   ]
  },
  {
   "cell_type": "code",
   "execution_count": 9,
   "id": "b7d34343-5d02-4f07-b02b-83f10801e4e6",
   "metadata": {},
   "outputs": [
    {
     "data": {
      "text/plain": [
       "Collection(Database(MongoClient(host=['localhost:27017'], document_class=dict, tz_aware=False, connect=True), 'shop'), 'member')"
      ]
     },
     "execution_count": 9,
     "metadata": {},
     "output_type": "execute_result"
    }
   ],
   "source": [
    "member = shop.member\n",
    "member"
   ]
  },
  {
   "cell_type": "code",
   "execution_count": 13,
   "id": "84df37b8-7be5-4e62-aa0b-3ae5416cf079",
   "metadata": {},
   "outputs": [],
   "source": [
    "## create documents\n",
    "data1 = {\"name\":\"song\", \"age\" : 100}\n",
    "data2 = {\"name\":\"summer\", \"age\" : 200, \"addr\" : \"jongro\"}\n",
    "data3 = [\n",
    "         {\"name\":\"jun\", \"age\" : 100},\n",
    "         {\"name\":\"winter\", \"age\" : 200, \"addr\" : \"kangnam\"}\n",
    "         ]"
   ]
  },
  {
   "cell_type": "code",
   "execution_count": 14,
   "id": "a4d65303-03eb-468d-ae27-2fd1dc623868",
   "metadata": {},
   "outputs": [
    {
     "data": {
      "text/plain": [
       "<pymongo.results.InsertOneResult at 0x104300370>"
      ]
     },
     "execution_count": 14,
     "metadata": {},
     "output_type": "execute_result"
    }
   ],
   "source": [
    "member.insert_one(data1)"
   ]
  },
  {
   "cell_type": "code",
   "execution_count": 22,
   "id": "131f5151-e694-497f-aaae-ac51b2c4194d",
   "metadata": {},
   "outputs": [
    {
     "data": {
      "text/plain": [
       "<pymongo.results.InsertOneResult at 0x104c33e50>"
      ]
     },
     "execution_count": 22,
     "metadata": {},
     "output_type": "execute_result"
    }
   ],
   "source": [
    "member.insert_one(data2)"
   ]
  },
  {
   "cell_type": "code",
   "execution_count": 15,
   "id": "5f2185a7-c020-49ce-bb66-a35bfcb84d73",
   "metadata": {},
   "outputs": [
    {
     "data": {
      "text/plain": [
       "<pymongo.results.InsertManyResult at 0x1042fc4f0>"
      ]
     },
     "execution_count": 15,
     "metadata": {},
     "output_type": "execute_result"
    }
   ],
   "source": [
    "member.insert_many(data3)"
   ]
  },
  {
   "cell_type": "code",
   "execution_count": 11,
   "id": "2a0d27f8-0cba-4e9c-9569-5fe6e6f064a3",
   "metadata": {},
   "outputs": [],
   "source": [
    "## read documents"
   ]
  },
  {
   "cell_type": "code",
   "execution_count": 16,
   "id": "eb81de98-2471-4ff0-bad9-1052168be1b1",
   "metadata": {},
   "outputs": [
    {
     "data": {
      "text/plain": [
       "<pymongo.cursor.Cursor at 0x1043005b0>"
      ]
     },
     "execution_count": 16,
     "metadata": {},
     "output_type": "execute_result"
    }
   ],
   "source": [
    "docs = member.find() ## 전체검색\n",
    "docs"
   ]
  },
  {
   "cell_type": "code",
   "execution_count": 18,
   "id": "95c5c9a9-10db-473a-96dc-a4e1aaf9fba1",
   "metadata": {},
   "outputs": [],
   "source": [
    "# for doc in docs:\n",
    "#     print(docs)"
   ]
  },
  {
   "cell_type": "code",
   "execution_count": 27,
   "id": "e47609cb-b99e-4a1f-a84f-ec96938d9bbf",
   "metadata": {},
   "outputs": [
    {
     "name": "stdout",
     "output_type": "stream",
     "text": [
      "{'_id': ObjectId('62a7ec0177906d0fe35021cd'), 'name': 'happy', 'age': 200, 'addr': 'kangnam'}\n",
      "{'_id': ObjectId('62a7ed5a77906d0fe35021ce'), 'name': 'summer', 'age': 200, 'addr': 'jongro'}\n"
     ]
    }
   ],
   "source": [
    "docs = member.find({\"age\":200})\n",
    "for doc in docs:\n",
    "    print(doc)"
   ]
  },
  {
   "cell_type": "code",
   "execution_count": 20,
   "id": "6d3b63ec-0b34-41d0-8fe4-0097d900720a",
   "metadata": {},
   "outputs": [],
   "source": [
    "## update documents"
   ]
  },
  {
   "cell_type": "code",
   "execution_count": 26,
   "id": "5e6d8a88-97e1-4b95-8911-543cbc5a8b6e",
   "metadata": {},
   "outputs": [
    {
     "data": {
      "text/plain": [
       "<pymongo.results.UpdateResult at 0x104c36190>"
      ]
     },
     "execution_count": 26,
     "metadata": {},
     "output_type": "execute_result"
    }
   ],
   "source": [
    "member.update_one(\n",
    "    {\"age\":200}, ##조건 dic\n",
    "    {\n",
    "        \"$set\":\n",
    "            {\"name\":\"happy\"}\n",
    "    }##처리내용\n",
    ")"
   ]
  },
  {
   "cell_type": "code",
   "execution_count": 31,
   "id": "c65365cf-6754-4083-b5a4-be3304c9b0bd",
   "metadata": {},
   "outputs": [
    {
     "data": {
      "text/plain": [
       "<pymongo.results.UpdateResult at 0x104c36880>"
      ]
     },
     "execution_count": 31,
     "metadata": {},
     "output_type": "execute_result"
    }
   ],
   "source": [
    "member.update_many(\n",
    "    {\"age\":100}, ##조건 dic\n",
    "    {\n",
    "        \"$set\":\n",
    "            {\"name\":\"smile\"}\n",
    "    }##처리내용\n",
    ")"
   ]
  },
  {
   "cell_type": "code",
   "execution_count": 32,
   "id": "7503306a-859c-42c8-a8b9-f84b53b549a9",
   "metadata": {},
   "outputs": [
    {
     "name": "stdout",
     "output_type": "stream",
     "text": [
      "{'_id': ObjectId('62a7eace77906d0fe35021cb'), 'name': 'smile', 'age': 100}\n",
      "{'_id': ObjectId('62a7ec0177906d0fe35021cc'), 'name': 'smile', 'age': 100}\n"
     ]
    }
   ],
   "source": [
    "docs = member.find({\"age\":100})\n",
    "for doc in docs:\n",
    "    print(doc)"
   ]
  },
  {
   "cell_type": "code",
   "execution_count": 33,
   "id": "98694363-8033-4b90-9b2c-f493361a3424",
   "metadata": {},
   "outputs": [],
   "source": [
    "## delete documents"
   ]
  },
  {
   "cell_type": "code",
   "execution_count": 34,
   "id": "ca5831af-1e9d-4745-94ac-a6af4b09f141",
   "metadata": {},
   "outputs": [
    {
     "data": {
      "text/plain": [
       "<pymongo.results.DeleteResult at 0x103850a00>"
      ]
     },
     "execution_count": 34,
     "metadata": {},
     "output_type": "execute_result"
    }
   ],
   "source": [
    "member.delete_one({\"age\":200})"
   ]
  },
  {
   "cell_type": "code",
   "execution_count": 35,
   "id": "ca6f86cc-5bc2-493d-85fd-f8e8cfb8bf99",
   "metadata": {},
   "outputs": [
    {
     "name": "stdout",
     "output_type": "stream",
     "text": [
      "{'_id': ObjectId('62a7ed5a77906d0fe35021ce'), 'name': 'smile', 'age': 200, 'addr': 'jongro'}\n"
     ]
    }
   ],
   "source": [
    "docs = member.find({\"age\":200})\n",
    "for doc in docs:\n",
    "    print(doc)"
   ]
  },
  {
   "cell_type": "code",
   "execution_count": 36,
   "id": "77b4b861-ec5e-4468-b5d6-2c7352fcbeac",
   "metadata": {},
   "outputs": [
    {
     "data": {
      "text/plain": [
       "<pymongo.results.DeleteResult at 0x103f34d90>"
      ]
     },
     "execution_count": 36,
     "metadata": {},
     "output_type": "execute_result"
    }
   ],
   "source": [
    "member.delete_many({\"age\":100})\n"
   ]
  },
  {
   "cell_type": "code",
   "execution_count": 37,
   "id": "826172bf-eb9d-449e-a9cc-4fe083c6bdc3",
   "metadata": {},
   "outputs": [],
   "source": [
    "docs = member.find({\"age\":100})\n",
    "for doc in docs:\n",
    "    print(doc)"
   ]
  },
  {
   "cell_type": "code",
   "execution_count": 39,
   "id": "37115eaf-e477-4137-bbe5-84cf60b25f8d",
   "metadata": {},
   "outputs": [
    {
     "data": {
      "text/plain": [
       "6928"
      ]
     },
     "execution_count": 39,
     "metadata": {},
     "output_type": "execute_result"
    }
   ],
   "source": [
    "member.count_documents({})"
   ]
  },
  {
   "cell_type": "code",
   "execution_count": 41,
   "id": "22d193df-a96b-4a25-976a-4a493501248b",
   "metadata": {},
   "outputs": [
    {
     "data": {
      "text/plain": [
       "1"
      ]
     },
     "execution_count": 41,
     "metadata": {},
     "output_type": "execute_result"
    }
   ],
   "source": [
    "member.count_documents({\"age\":200})"
   ]
  },
  {
   "cell_type": "code",
   "execution_count": 42,
   "id": "9163d5ba-239b-4e0b-80df-8d9b6f24eb3f",
   "metadata": {},
   "outputs": [
    {
     "data": {
      "text/plain": [
       "0"
      ]
     },
     "execution_count": 42,
     "metadata": {},
     "output_type": "execute_result"
    }
   ],
   "source": [
    "member.delete_many({})\n",
    "member.count_documents({})"
   ]
  },
  {
   "cell_type": "code",
   "execution_count": null,
   "id": "97126342-3abb-4508-a662-8b450ef35cf9",
   "metadata": {},
   "outputs": [],
   "source": []
  }
 ],
 "metadata": {
  "kernelspec": {
   "display_name": "Python 3 (ipykernel)",
   "language": "python",
   "name": "python3"
  },
  "language_info": {
   "codemirror_mode": {
    "name": "ipython",
    "version": 3
   },
   "file_extension": ".py",
   "mimetype": "text/x-python",
   "name": "python",
   "nbconvert_exporter": "python",
   "pygments_lexer": "ipython3",
   "version": "3.9.10"
  }
 },
 "nbformat": 4,
 "nbformat_minor": 5
}
