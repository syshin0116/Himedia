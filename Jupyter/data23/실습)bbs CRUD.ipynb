{
 "cells": [
  {
   "cell_type": "markdown",
   "id": "bdb1a72b-6bc8-4c92-bb55-a91abb499477",
   "metadata": {},
   "source": [
    "# MongoDB bbs에 CRUD를 완성"
   ]
  },
  {
   "cell_type": "code",
   "execution_count": 1,
   "id": "06ab8841-b4e1-4dc1-8c02-b35171aefa81",
   "metadata": {},
   "outputs": [],
   "source": [
    "import pymongo"
   ]
  },
  {
   "cell_type": "code",
   "execution_count": 2,
   "id": "aa265619-c1cf-4328-a74f-3d9233d4de4a",
   "metadata": {},
   "outputs": [
    {
     "data": {
      "text/plain": [
       "MongoClient(host=['localhost:27017'], document_class=dict, tz_aware=False, connect=True)"
      ]
     },
     "execution_count": 2,
     "metadata": {},
     "output_type": "execute_result"
    }
   ],
   "source": [
    "conn = pymongo.MongoClient()\n",
    "conn"
   ]
  },
  {
   "cell_type": "code",
   "execution_count": 3,
   "id": "5e56a1ed-c72f-4e58-b279-cd41943a1675",
   "metadata": {},
   "outputs": [
    {
     "data": {
      "text/plain": [
       "Database(MongoClient(host=['localhost:27017'], document_class=dict, tz_aware=False, connect=True), 'board')"
      ]
     },
     "execution_count": 3,
     "metadata": {},
     "output_type": "execute_result"
    }
   ],
   "source": [
    "board = conn.board\n",
    "board"
   ]
  },
  {
   "cell_type": "code",
   "execution_count": 4,
   "id": "86944893-48a9-46c0-bb27-1b903e28e6ea",
   "metadata": {},
   "outputs": [
    {
     "data": {
      "text/plain": [
       "Collection(Database(MongoClient(host=['localhost:27017'], document_class=dict, tz_aware=False, connect=True), 'board'), 'bbs')"
      ]
     },
     "execution_count": 4,
     "metadata": {},
     "output_type": "execute_result"
    }
   ],
   "source": [
    "bbs = board.bbs\n",
    "bbs"
   ]
  },
  {
   "cell_type": "code",
   "execution_count": null,
   "id": "4a85eed1-b187-48fa-a031-639d740daa06",
   "metadata": {},
   "outputs": [],
   "source": []
  },
  {
   "cell_type": "markdown",
   "id": "674a353e-7f63-4aa1-be67-a24e9beadd74",
   "metadata": {
    "tags": []
   },
   "source": [
    "## create"
   ]
  },
  {
   "cell_type": "code",
   "execution_count": 5,
   "id": "fd248e71-a95a-4911-8abf-d62ffa44d5ac",
   "metadata": {},
   "outputs": [],
   "source": [
    "## create documents\n",
    "data1 = {\"title\":\"summer\", \"content\" : \"hot\", \"user\":\"song\"}\n",
    "data2 = {\"title\":\"winter\", \"content\" : \"cold\", \"user\" : \"jongro\"}\n",
    "data3 = [\n",
    "         {\"title\":\"june\", \"content\" : \"endofclass\"},\n",
    "         {\"title\":\"spring\", \"content\" : \"warm\", \"user\" : \"kangnam\"}\n",
    "         ]"
   ]
  },
  {
   "cell_type": "code",
   "execution_count": 6,
   "id": "46649292-e5a0-4066-be79-f865e15a7458",
   "metadata": {},
   "outputs": [
    {
     "data": {
      "text/plain": [
       "<pymongo.results.InsertOneResult at 0x103cdd0a0>"
      ]
     },
     "execution_count": 6,
     "metadata": {},
     "output_type": "execute_result"
    }
   ],
   "source": [
    "bbs.insert_one(data1)"
   ]
  },
  {
   "cell_type": "code",
   "execution_count": 7,
   "id": "ce3ae49c-9113-4fb6-bc69-a51045365d5c",
   "metadata": {},
   "outputs": [
    {
     "data": {
      "text/plain": [
       "<pymongo.results.InsertOneResult at 0x1034052e0>"
      ]
     },
     "execution_count": 7,
     "metadata": {},
     "output_type": "execute_result"
    }
   ],
   "source": [
    "bbs.insert_one(data2)"
   ]
  },
  {
   "cell_type": "code",
   "execution_count": 8,
   "id": "809dcd4f-8d03-480f-8d12-26697f7bc986",
   "metadata": {},
   "outputs": [
    {
     "data": {
      "text/plain": [
       "<pymongo.results.InsertManyResult at 0x103cf96d0>"
      ]
     },
     "execution_count": 8,
     "metadata": {},
     "output_type": "execute_result"
    }
   ],
   "source": [
    "bbs.insert_many(data3)"
   ]
  },
  {
   "cell_type": "markdown",
   "id": "360f6554-62d1-43b3-91cd-06e76e627d73",
   "metadata": {},
   "source": [
    "## read"
   ]
  },
  {
   "cell_type": "code",
   "execution_count": 9,
   "id": "349fe64e-7183-4641-8109-3ba55c53ba7a",
   "metadata": {},
   "outputs": [
    {
     "name": "stdout",
     "output_type": "stream",
     "text": [
      "{'_id': ObjectId('62a7f133b398f01c3a2d19db'), 'title': 'summer', 'content': 'hot', 'user': 'song'}\n",
      "{'_id': ObjectId('62a7f133b398f01c3a2d19dc'), 'title': 'winter', 'content': 'cold', 'user': 'jongro'}\n",
      "{'_id': ObjectId('62a7f133b398f01c3a2d19dd'), 'title': 'june', 'content': 'endofclass'}\n",
      "{'_id': ObjectId('62a7f133b398f01c3a2d19de'), 'title': 'spring', 'content': 'warm', 'user': 'kangnam'}\n"
     ]
    }
   ],
   "source": [
    "## read all\n",
    "docs = bbs.find() ## 전체검색\n",
    "for doc in docs:\n",
    "    print(doc)"
   ]
  },
  {
   "cell_type": "code",
   "execution_count": 10,
   "id": "3c02e56b-c32e-48f0-8709-61a06c27ae35",
   "metadata": {},
   "outputs": [
    {
     "name": "stdout",
     "output_type": "stream",
     "text": [
      "{'_id': ObjectId('62a7f133b398f01c3a2d19db'), 'title': 'summer', 'content': 'hot', 'user': 'song'}\n"
     ]
    }
   ],
   "source": [
    "## read one\n",
    "docs = bbs.find({\"title\":\"summer\"})\n",
    "for doc in docs:\n",
    "    print(doc)"
   ]
  },
  {
   "cell_type": "markdown",
   "id": "b7c70ea6-d0e8-4f28-a24c-576c9f65551d",
   "metadata": {},
   "source": [
    "## update"
   ]
  },
  {
   "cell_type": "code",
   "execution_count": 11,
   "id": "37d9251e-7065-4305-8c17-abc98a0e8a51",
   "metadata": {},
   "outputs": [
    {
     "name": "stdout",
     "output_type": "stream",
     "text": [
      "{'_id': ObjectId('62a7f133b398f01c3a2d19db'), 'title': 'summer', 'content': 'hot', 'user': 'song'}\n",
      "{'_id': ObjectId('62a7f133b398f01c3a2d19dc'), 'title': 'winter', 'content': 'freezing', 'user': 'jongro'}\n",
      "{'_id': ObjectId('62a7f133b398f01c3a2d19dd'), 'title': 'june', 'content': 'endofclass'}\n",
      "{'_id': ObjectId('62a7f133b398f01c3a2d19de'), 'title': 'spring', 'content': 'warm', 'user': 'kangnam'}\n"
     ]
    }
   ],
   "source": [
    "## update one\n",
    "bbs.update_one(\n",
    "    {\"title\":\"winter\"}, ##조건 dic\n",
    "    {\n",
    "        \"$set\":\n",
    "            {\"content\":\"freezing\"}\n",
    "    }##처리내용\n",
    ")\n",
    "docs = bbs.find() ## 전체검색\n",
    "for doc in docs:\n",
    "    print(doc)"
   ]
  },
  {
   "cell_type": "code",
   "execution_count": 12,
   "id": "9887f646-490d-4512-ac73-531050c0bc3f",
   "metadata": {},
   "outputs": [
    {
     "data": {
      "text/plain": [
       "<pymongo.results.InsertOneResult at 0x103cf9cd0>"
      ]
     },
     "execution_count": 12,
     "metadata": {},
     "output_type": "execute_result"
    }
   ],
   "source": [
    "bbs.insert_one(\n",
    "    {\"title\":\"winter\"})"
   ]
  },
  {
   "cell_type": "code",
   "execution_count": 13,
   "id": "e3c662f8-7440-4ee0-8335-7c70064f92bf",
   "metadata": {},
   "outputs": [
    {
     "name": "stdout",
     "output_type": "stream",
     "text": [
      "{'_id': ObjectId('62a7f133b398f01c3a2d19db'), 'title': 'summer', 'content': 'hot', 'user': 'song'}\n",
      "{'_id': ObjectId('62a7f133b398f01c3a2d19dc'), 'title': 'winter', 'content': 'freezing', 'user': 'jongro', 'contet': 'smile'}\n",
      "{'_id': ObjectId('62a7f133b398f01c3a2d19dd'), 'title': 'june', 'content': 'endofclass'}\n",
      "{'_id': ObjectId('62a7f133b398f01c3a2d19de'), 'title': 'spring', 'content': 'warm', 'user': 'kangnam'}\n",
      "{'_id': ObjectId('62a7f133b398f01c3a2d19df'), 'title': 'winter', 'contet': 'smile'}\n"
     ]
    }
   ],
   "source": [
    "## update multiple\n",
    "bbs.update_many(\n",
    "    {\"title\":\"winter\"}, ##조건 dic\n",
    "    {\n",
    "        \"$set\":\n",
    "            {\"contet\":\"smile\"}\n",
    "    }##처리내용\n",
    ")\n",
    "docs = bbs.find() ## 전체검색\n",
    "for doc in docs:\n",
    "    print(doc)"
   ]
  },
  {
   "cell_type": "markdown",
   "id": "4ed32971-bd0a-4758-af13-89c51f24f567",
   "metadata": {},
   "source": [
    "## delete"
   ]
  },
  {
   "cell_type": "code",
   "execution_count": 14,
   "id": "cc38f339-fb95-48f4-a204-e190427ef89d",
   "metadata": {},
   "outputs": [
    {
     "name": "stdout",
     "output_type": "stream",
     "text": [
      "{'_id': ObjectId('62a7f133b398f01c3a2d19dc'), 'title': 'winter', 'content': 'freezing', 'user': 'jongro', 'contet': 'smile'}\n",
      "{'_id': ObjectId('62a7f133b398f01c3a2d19dd'), 'title': 'june', 'content': 'endofclass'}\n",
      "{'_id': ObjectId('62a7f133b398f01c3a2d19de'), 'title': 'spring', 'content': 'warm', 'user': 'kangnam'}\n",
      "{'_id': ObjectId('62a7f133b398f01c3a2d19df'), 'title': 'winter', 'contet': 'smile'}\n"
     ]
    }
   ],
   "source": [
    "bbs.delete_one({\"title\":\"summer\"})\n",
    "docs = bbs.find() ## 전체검색\n",
    "for doc in docs:\n",
    "    print(doc)"
   ]
  },
  {
   "cell_type": "code",
   "execution_count": 15,
   "id": "49409959-54ca-4284-b0ad-28c0503a24dd",
   "metadata": {},
   "outputs": [
    {
     "data": {
      "text/plain": [
       "4"
      ]
     },
     "execution_count": 15,
     "metadata": {},
     "output_type": "execute_result"
    }
   ],
   "source": [
    "bbs.count_documents({})"
   ]
  },
  {
   "cell_type": "code",
   "execution_count": 16,
   "id": "15bd0f53-31bc-4989-93dc-179a5c7424b7",
   "metadata": {},
   "outputs": [
    {
     "data": {
      "text/plain": [
       "2"
      ]
     },
     "execution_count": 16,
     "metadata": {},
     "output_type": "execute_result"
    }
   ],
   "source": [
    "bbs.count_documents({\"title\":\"winter\"})"
   ]
  },
  {
   "cell_type": "code",
   "execution_count": 17,
   "id": "72b6c119-b0f8-460d-aae8-81e769f6cd45",
   "metadata": {},
   "outputs": [],
   "source": [
    "bbs.delete_many({})\n",
    "docs = bbs.find() ## 전체검색\n",
    "for doc in docs:\n",
    "    print(doc)"
   ]
  },
  {
   "cell_type": "code",
   "execution_count": 18,
   "id": "84c8d8f7-0fe1-446d-aae6-c45077d28cab",
   "metadata": {},
   "outputs": [
    {
     "data": {
      "text/plain": [
       "0"
      ]
     },
     "execution_count": 18,
     "metadata": {},
     "output_type": "execute_result"
    }
   ],
   "source": [
    "bbs.count_documents({})"
   ]
  }
 ],
 "metadata": {
  "kernelspec": {
   "display_name": "Python 3 (ipykernel)",
   "language": "python",
   "name": "python3"
  },
  "language_info": {
   "codemirror_mode": {
    "name": "ipython",
    "version": 3
   },
   "file_extension": ".py",
   "mimetype": "text/x-python",
   "name": "python",
   "nbconvert_exporter": "python",
   "pygments_lexer": "ipython3",
   "version": "3.9.10"
  }
 },
 "nbformat": 4,
 "nbformat_minor": 5
}
