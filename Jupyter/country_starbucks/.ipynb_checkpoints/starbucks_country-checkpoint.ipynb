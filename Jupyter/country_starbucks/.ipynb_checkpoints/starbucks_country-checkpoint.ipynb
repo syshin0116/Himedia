{
 "cells": [
  {
   "cell_type": "code",
   "execution_count": 1,
   "metadata": {},
   "outputs": [],
   "source": [
    "import pandas as pd\n",
    "import numpy as np\n"
   ]
  },
  {
   "cell_type": "code",
   "execution_count": null,
   "metadata": {},
   "outputs": [],
   "source": [
    "df_bc = pd.read_csv(\"best cities for a workation.csv\") # 일하기 좋은 도시 랭킹 csv 읽어오기"
   ]
  },
  {
   "cell_type": "code",
   "execution_count": null,
   "metadata": {
    "scrolled": true
   },
   "outputs": [],
   "source": [
    "df_st = pd.read_csv(\"directory.csv\") # 전세계 스타벅스 매장 csv 읽어오기"
   ]
  },
  {
   "cell_type": "code",
   "execution_count": null,
   "metadata": {},
   "outputs": [],
   "source": [
    "df_code = pd.read_csv(\"wikipedia-iso-country-codes.csv\")\n",
    "df_code[[\"English short name lower case\", \"Alpha-2 code\"]]"
   ]
  },
  {
   "cell_type": "code",
   "execution_count": null,
   "metadata": {},
   "outputs": [],
   "source": [
    "df_code[\"Alpha-2 code\"]\n"
   ]
  },
  {
   "cell_type": "code",
   "execution_count": null,
   "metadata": {},
   "outputs": [],
   "source": [
    "country_list =[]\n",
    "df_bc['code']=0\n",
    "for i in range(len(df_bc)):\n",
    "    for j in range(len(df_code)):\n",
    "        if (df_code[\"English short name lower case\"][j].find(df_bc['Country'][i]))!=-1:\n",
    "              df_bc['code'][i]=df_code['Alpha-2 code'][j]\n"
   ]
  },
  {
   "cell_type": "code",
   "execution_count": null,
   "metadata": {},
   "outputs": [],
   "source": [
    "df_bc.loc[:,['Country', 'code']]"
   ]
  },
  {
   "cell_type": "code",
   "execution_count": null,
   "metadata": {},
   "outputs": [],
   "source": [
    "df_bc[df_bc['code']==0].loc[:,['Country', 'code']]"
   ]
  },
  {
   "cell_type": "code",
   "execution_count": null,
   "metadata": {},
   "outputs": [],
   "source": [
    "df_bc['code'][80]='BU'\n",
    "df_bc['code'][104]='US'\n",
    "df_bc['code'][120]='LA'"
   ]
  },
  {
   "cell_type": "code",
   "execution_count": null,
   "metadata": {
    "scrolled": true
   },
   "outputs": [],
   "source": [
    "df_bc[df_bc['code']==0].loc[:,['Country', 'code']]"
   ]
  },
  {
   "cell_type": "code",
   "execution_count": null,
   "metadata": {},
   "outputs": [],
   "source": [
    "df_bc = df_bc[[\"Ranking\", \"City\", \"Country\", \"code\"]]"
   ]
  },
  {
   "cell_type": "code",
   "execution_count": null,
   "metadata": {},
   "outputs": [],
   "source": [
    "df_bc"
   ]
  },
  {
   "cell_type": "code",
   "execution_count": null,
   "metadata": {},
   "outputs": [],
   "source": [
    "df_st=df_st[['City', 'Country']]\n",
    "df_st=df_st.rename(columns={'Country':'code'})\n",
    "df_st"
   ]
  },
  {
   "cell_type": "code",
   "execution_count": null,
   "metadata": {},
   "outputs": [],
   "source": [
    "st_list=[]\n",
    "st_list=df_st['code'].value_counts()\n",
    "st_list"
   ]
  },
  {
   "cell_type": "code",
   "execution_count": null,
   "metadata": {
    "scrolled": false
   },
   "outputs": [],
   "source": [
    "df_bc['num_st_country']=0\n",
    "for i in range(len(df_bc)):\n",
    "    for j in range(len(st_list)):\n",
    "        if df_bc['code'][i]==st_list.index[j]:\n",
    "              df_bc['num_st_country'][i]=st_list[j]\n",
    "df_bc.sort_values(by='num_st_country', ascending=False)"
   ]
  },
  {
   "cell_type": "code",
   "execution_count": null,
   "metadata": {},
   "outputs": [],
   "source": [
    "df_st"
   ]
  },
  {
   "cell_type": "code",
   "execution_count": null,
   "metadata": {},
   "outputs": [],
   "source": [
    "type(df_st[\"City\"][0])"
   ]
  },
  {
   "cell_type": "code",
   "execution_count": null,
   "metadata": {},
   "outputs": [],
   "source": [
    "df_bc['num_st_city']=0\n",
    "\n",
    "for i in range(len(df_bc)):\n",
    "    count=0\n",
    "    for j in range(len(df_st)):\n",
    "        if (str(df_st[\"City\"][j]).find(df_bc['City'][i]))!=-1:\n",
    "              count+=1\n",
    "        df_bc['num_st_city'][i]=count\n",
    "\n",
    "df_bc.sort_values(by='num_st_city', ascending=False)"
   ]
  },
  {
   "cell_type": "code",
   "execution_count": null,
   "metadata": {},
   "outputs": [],
   "source": [
    "df_bc['num_st_country']=0    \n",
    "for i in range(len(df_bc)):\n",
    "    for j in range(len(df_st)):\n",
    "        if (df_st[\"code\"][j].find(df_bc['code'][i]))!=-1:\n",
    "            df_stcountry = pd.concat([df_stcountry, df_bc.loc[j]])\n",
    "#             if (df_st[\"City\"][].find(df_bc['City'][]))!=-1:\n",
    "df_stcountry"
   ]
  },
  {
   "cell_type": "code",
   "execution_count": null,
   "metadata": {},
   "outputs": [],
   "source": []
  },
  {
   "cell_type": "code",
   "execution_count": null,
   "metadata": {},
   "outputs": [],
   "source": [
    "df"
   ]
  }
 ],
 "metadata": {
  "kernelspec": {
   "display_name": "Python 3",
   "language": "python",
   "name": "python3"
  },
  "language_info": {
   "codemirror_mode": {
    "name": "ipython",
    "version": 3
   },
   "file_extension": ".py",
   "mimetype": "text/x-python",
   "name": "python",
   "nbconvert_exporter": "python",
   "pygments_lexer": "ipython3",
   "version": "3.7.4"
  }
 },
 "nbformat": 4,
 "nbformat_minor": 2
}
