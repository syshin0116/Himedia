{
 "cells": [
  {
   "cell_type": "code",
   "execution_count": 21,
   "metadata": {},
   "outputs": [],
   "source": [
    "import pandas as pd\n",
    "import numpy as np"
   ]
  },
  {
   "cell_type": "code",
   "execution_count": 22,
   "metadata": {},
   "outputs": [
    {
     "data": {
      "text/plain": [
       "DatetimeIndex(['2020-06-25', '2020-06-26', '2020-06-27', '2020-06-28',\n",
       "               '2020-06-29', '2020-06-30'],\n",
       "              dtype='datetime64[ns]', freq='D')"
      ]
     },
     "execution_count": 22,
     "metadata": {},
     "output_type": "execute_result"
    }
   ],
   "source": [
    "dates = pd.date_range('20200625', periods=6)\n",
    "dates"
   ]
  },
  {
   "cell_type": "code",
   "execution_count": 23,
   "metadata": {},
   "outputs": [
    {
     "data": {
      "text/plain": [
       "array([[ 0.94894782,  0.0524822 ,  0.75357717,  1.40265766],\n",
       "       [-1.30450646, -1.48749475, -0.70461514, -0.46768119],\n",
       "       [-0.18458891, -0.24856649,  1.58261394,  0.59583295],\n",
       "       [ 0.36928429, -0.38830264,  3.23764673,  1.48814682],\n",
       "       [ 1.83070324,  0.90384599,  0.96895436, -0.40353973],\n",
       "       [-0.73758406, -0.67099473,  0.59555536, -0.89264958]])"
      ]
     },
     "execution_count": 23,
     "metadata": {},
     "output_type": "execute_result"
    }
   ],
   "source": [
    "np.random.randn(6,4)"
   ]
  },
  {
   "cell_type": "code",
   "execution_count": 24,
   "metadata": {},
   "outputs": [
    {
     "data": {
      "text/html": [
       "<div>\n",
       "<style scoped>\n",
       "    .dataframe tbody tr th:only-of-type {\n",
       "        vertical-align: middle;\n",
       "    }\n",
       "\n",
       "    .dataframe tbody tr th {\n",
       "        vertical-align: top;\n",
       "    }\n",
       "\n",
       "    .dataframe thead th {\n",
       "        text-align: right;\n",
       "    }\n",
       "</style>\n",
       "<table border=\"1\" class=\"dataframe\">\n",
       "  <thead>\n",
       "    <tr style=\"text-align: right;\">\n",
       "      <th></th>\n",
       "      <th>A</th>\n",
       "      <th>B</th>\n",
       "      <th>C</th>\n",
       "      <th>D</th>\n",
       "    </tr>\n",
       "  </thead>\n",
       "  <tbody>\n",
       "    <tr>\n",
       "      <td>0</td>\n",
       "      <td>0.529512</td>\n",
       "      <td>0.013154</td>\n",
       "      <td>-0.248240</td>\n",
       "      <td>-0.575082</td>\n",
       "    </tr>\n",
       "    <tr>\n",
       "      <td>1</td>\n",
       "      <td>-0.903633</td>\n",
       "      <td>-0.403140</td>\n",
       "      <td>-0.541145</td>\n",
       "      <td>1.114976</td>\n",
       "    </tr>\n",
       "    <tr>\n",
       "      <td>2</td>\n",
       "      <td>-0.591011</td>\n",
       "      <td>0.086953</td>\n",
       "      <td>2.393127</td>\n",
       "      <td>-0.995368</td>\n",
       "    </tr>\n",
       "    <tr>\n",
       "      <td>3</td>\n",
       "      <td>0.765612</td>\n",
       "      <td>1.900393</td>\n",
       "      <td>0.051393</td>\n",
       "      <td>-0.662570</td>\n",
       "    </tr>\n",
       "    <tr>\n",
       "      <td>4</td>\n",
       "      <td>0.257443</td>\n",
       "      <td>-0.274768</td>\n",
       "      <td>-1.126487</td>\n",
       "      <td>-1.308297</td>\n",
       "    </tr>\n",
       "    <tr>\n",
       "      <td>5</td>\n",
       "      <td>0.396133</td>\n",
       "      <td>-0.692762</td>\n",
       "      <td>-0.205202</td>\n",
       "      <td>0.379219</td>\n",
       "    </tr>\n",
       "  </tbody>\n",
       "</table>\n",
       "</div>"
      ],
      "text/plain": [
       "          A         B         C         D\n",
       "0  0.529512  0.013154 -0.248240 -0.575082\n",
       "1 -0.903633 -0.403140 -0.541145  1.114976\n",
       "2 -0.591011  0.086953  2.393127 -0.995368\n",
       "3  0.765612  1.900393  0.051393 -0.662570\n",
       "4  0.257443 -0.274768 -1.126487 -1.308297\n",
       "5  0.396133 -0.692762 -0.205202  0.379219"
      ]
     },
     "execution_count": 24,
     "metadata": {},
     "output_type": "execute_result"
    }
   ],
   "source": [
    "df = pd.DataFrame(np.random.randn(6,4), columns=['A', 'B', 'C', 'D'])\n",
    "# df = pd.DataFrame(ndarray(values), column=['컬럼명', '컬럼명', ...])\n",
    "df"
   ]
  },
  {
   "cell_type": "code",
   "execution_count": 25,
   "metadata": {},
   "outputs": [
    {
     "data": {
      "text/html": [
       "<div>\n",
       "<style scoped>\n",
       "    .dataframe tbody tr th:only-of-type {\n",
       "        vertical-align: middle;\n",
       "    }\n",
       "\n",
       "    .dataframe tbody tr th {\n",
       "        vertical-align: top;\n",
       "    }\n",
       "\n",
       "    .dataframe thead th {\n",
       "        text-align: right;\n",
       "    }\n",
       "</style>\n",
       "<table border=\"1\" class=\"dataframe\">\n",
       "  <thead>\n",
       "    <tr style=\"text-align: right;\">\n",
       "      <th></th>\n",
       "      <th>A</th>\n",
       "      <th>B</th>\n",
       "      <th>C</th>\n",
       "      <th>D</th>\n",
       "    </tr>\n",
       "  </thead>\n",
       "  <tbody>\n",
       "    <tr>\n",
       "      <td>2020-06-25</td>\n",
       "      <td>0.094025</td>\n",
       "      <td>-1.806594</td>\n",
       "      <td>-0.179807</td>\n",
       "      <td>0.078818</td>\n",
       "    </tr>\n",
       "    <tr>\n",
       "      <td>2020-06-26</td>\n",
       "      <td>1.015352</td>\n",
       "      <td>0.939969</td>\n",
       "      <td>0.132857</td>\n",
       "      <td>0.101466</td>\n",
       "    </tr>\n",
       "    <tr>\n",
       "      <td>2020-06-27</td>\n",
       "      <td>2.217247</td>\n",
       "      <td>-0.125059</td>\n",
       "      <td>-1.331207</td>\n",
       "      <td>-0.730427</td>\n",
       "    </tr>\n",
       "    <tr>\n",
       "      <td>2020-06-28</td>\n",
       "      <td>1.836485</td>\n",
       "      <td>-0.011821</td>\n",
       "      <td>0.045486</td>\n",
       "      <td>1.625395</td>\n",
       "    </tr>\n",
       "    <tr>\n",
       "      <td>2020-06-29</td>\n",
       "      <td>0.536040</td>\n",
       "      <td>-0.894712</td>\n",
       "      <td>1.819183</td>\n",
       "      <td>0.376436</td>\n",
       "    </tr>\n",
       "    <tr>\n",
       "      <td>2020-06-30</td>\n",
       "      <td>-0.523379</td>\n",
       "      <td>-0.344124</td>\n",
       "      <td>0.482767</td>\n",
       "      <td>0.288819</td>\n",
       "    </tr>\n",
       "  </tbody>\n",
       "</table>\n",
       "</div>"
      ],
      "text/plain": [
       "                   A         B         C         D\n",
       "2020-06-25  0.094025 -1.806594 -0.179807  0.078818\n",
       "2020-06-26  1.015352  0.939969  0.132857  0.101466\n",
       "2020-06-27  2.217247 -0.125059 -1.331207 -0.730427\n",
       "2020-06-28  1.836485 -0.011821  0.045486  1.625395\n",
       "2020-06-29  0.536040 -0.894712  1.819183  0.376436\n",
       "2020-06-30 -0.523379 -0.344124  0.482767  0.288819"
      ]
     },
     "execution_count": 25,
     "metadata": {},
     "output_type": "execute_result"
    }
   ],
   "source": [
    "# df2 = pd.DataFrame(data(default) = ndarray(values), index = [indexlist], column=['컬럼명', '컬럼명', ...])\n",
    "df2 = pd.DataFrame(data = np.random.randn(6,4), \n",
    "                   index = dates,\n",
    "                   columns=['A', 'B', 'C', 'D'])\n",
    "df2"
   ]
  },
  {
   "cell_type": "code",
   "execution_count": 26,
   "metadata": {},
   "outputs": [],
   "source": [
    "#df는 기본적으로 행, 열의 위치값을 가지고 있음.\n",
    "# 기본적으로 가지고 있는 위치값(index)를 이용해서 조작하는 경우\n",
    "# ilocp[를 사용\n",
    "# 일부 그래프나 분석시 특정항목을 index항목으로 수동으로 설정해야 하는 경우가 있음.\n",
    "# 특정 항목을 index항목으로 설정가능한 경우에는 unique한 값을 가지는 항목만 설정가능\n",
    "#\"unique/not null인 값을 가지는 항목\"만 설정 가능\n",
    "# user_id, bbs_id pk 조건과 일치"
   ]
  },
  {
   "cell_type": "code",
   "execution_count": 27,
   "metadata": {},
   "outputs": [],
   "source": [
    "df2.reset_index(inplace=True)"
   ]
  },
  {
   "cell_type": "code",
   "execution_count": 28,
   "metadata": {},
   "outputs": [
    {
     "data": {
      "text/html": [
       "<div>\n",
       "<style scoped>\n",
       "    .dataframe tbody tr th:only-of-type {\n",
       "        vertical-align: middle;\n",
       "    }\n",
       "\n",
       "    .dataframe tbody tr th {\n",
       "        vertical-align: top;\n",
       "    }\n",
       "\n",
       "    .dataframe thead th {\n",
       "        text-align: right;\n",
       "    }\n",
       "</style>\n",
       "<table border=\"1\" class=\"dataframe\">\n",
       "  <thead>\n",
       "    <tr style=\"text-align: right;\">\n",
       "      <th></th>\n",
       "      <th>index</th>\n",
       "      <th>A</th>\n",
       "      <th>B</th>\n",
       "      <th>C</th>\n",
       "      <th>D</th>\n",
       "    </tr>\n",
       "  </thead>\n",
       "  <tbody>\n",
       "    <tr>\n",
       "      <td>0</td>\n",
       "      <td>2020-06-25</td>\n",
       "      <td>0.094025</td>\n",
       "      <td>-1.806594</td>\n",
       "      <td>-0.179807</td>\n",
       "      <td>0.078818</td>\n",
       "    </tr>\n",
       "    <tr>\n",
       "      <td>1</td>\n",
       "      <td>2020-06-26</td>\n",
       "      <td>1.015352</td>\n",
       "      <td>0.939969</td>\n",
       "      <td>0.132857</td>\n",
       "      <td>0.101466</td>\n",
       "    </tr>\n",
       "    <tr>\n",
       "      <td>2</td>\n",
       "      <td>2020-06-27</td>\n",
       "      <td>2.217247</td>\n",
       "      <td>-0.125059</td>\n",
       "      <td>-1.331207</td>\n",
       "      <td>-0.730427</td>\n",
       "    </tr>\n",
       "    <tr>\n",
       "      <td>3</td>\n",
       "      <td>2020-06-28</td>\n",
       "      <td>1.836485</td>\n",
       "      <td>-0.011821</td>\n",
       "      <td>0.045486</td>\n",
       "      <td>1.625395</td>\n",
       "    </tr>\n",
       "    <tr>\n",
       "      <td>4</td>\n",
       "      <td>2020-06-29</td>\n",
       "      <td>0.536040</td>\n",
       "      <td>-0.894712</td>\n",
       "      <td>1.819183</td>\n",
       "      <td>0.376436</td>\n",
       "    </tr>\n",
       "    <tr>\n",
       "      <td>5</td>\n",
       "      <td>2020-06-30</td>\n",
       "      <td>-0.523379</td>\n",
       "      <td>-0.344124</td>\n",
       "      <td>0.482767</td>\n",
       "      <td>0.288819</td>\n",
       "    </tr>\n",
       "  </tbody>\n",
       "</table>\n",
       "</div>"
      ],
      "text/plain": [
       "       index         A         B         C         D\n",
       "0 2020-06-25  0.094025 -1.806594 -0.179807  0.078818\n",
       "1 2020-06-26  1.015352  0.939969  0.132857  0.101466\n",
       "2 2020-06-27  2.217247 -0.125059 -1.331207 -0.730427\n",
       "3 2020-06-28  1.836485 -0.011821  0.045486  1.625395\n",
       "4 2020-06-29  0.536040 -0.894712  1.819183  0.376436\n",
       "5 2020-06-30 -0.523379 -0.344124  0.482767  0.288819"
      ]
     },
     "execution_count": 28,
     "metadata": {},
     "output_type": "execute_result"
    }
   ],
   "source": [
    "df2"
   ]
  },
  {
   "cell_type": "code",
   "execution_count": 29,
   "metadata": {},
   "outputs": [
    {
     "data": {
      "text/html": [
       "<div>\n",
       "<style scoped>\n",
       "    .dataframe tbody tr th:only-of-type {\n",
       "        vertical-align: middle;\n",
       "    }\n",
       "\n",
       "    .dataframe tbody tr th {\n",
       "        vertical-align: top;\n",
       "    }\n",
       "\n",
       "    .dataframe thead th {\n",
       "        text-align: right;\n",
       "    }\n",
       "</style>\n",
       "<table border=\"1\" class=\"dataframe\">\n",
       "  <thead>\n",
       "    <tr style=\"text-align: right;\">\n",
       "      <th></th>\n",
       "      <th>A</th>\n",
       "      <th>B</th>\n",
       "      <th>C</th>\n",
       "      <th>D</th>\n",
       "    </tr>\n",
       "    <tr>\n",
       "      <th>index</th>\n",
       "      <th></th>\n",
       "      <th></th>\n",
       "      <th></th>\n",
       "      <th></th>\n",
       "    </tr>\n",
       "  </thead>\n",
       "  <tbody>\n",
       "    <tr>\n",
       "      <td>2020-06-25</td>\n",
       "      <td>0.094025</td>\n",
       "      <td>-1.806594</td>\n",
       "      <td>-0.179807</td>\n",
       "      <td>0.078818</td>\n",
       "    </tr>\n",
       "    <tr>\n",
       "      <td>2020-06-26</td>\n",
       "      <td>1.015352</td>\n",
       "      <td>0.939969</td>\n",
       "      <td>0.132857</td>\n",
       "      <td>0.101466</td>\n",
       "    </tr>\n",
       "    <tr>\n",
       "      <td>2020-06-27</td>\n",
       "      <td>2.217247</td>\n",
       "      <td>-0.125059</td>\n",
       "      <td>-1.331207</td>\n",
       "      <td>-0.730427</td>\n",
       "    </tr>\n",
       "    <tr>\n",
       "      <td>2020-06-28</td>\n",
       "      <td>1.836485</td>\n",
       "      <td>-0.011821</td>\n",
       "      <td>0.045486</td>\n",
       "      <td>1.625395</td>\n",
       "    </tr>\n",
       "    <tr>\n",
       "      <td>2020-06-29</td>\n",
       "      <td>0.536040</td>\n",
       "      <td>-0.894712</td>\n",
       "      <td>1.819183</td>\n",
       "      <td>0.376436</td>\n",
       "    </tr>\n",
       "    <tr>\n",
       "      <td>2020-06-30</td>\n",
       "      <td>-0.523379</td>\n",
       "      <td>-0.344124</td>\n",
       "      <td>0.482767</td>\n",
       "      <td>0.288819</td>\n",
       "    </tr>\n",
       "  </tbody>\n",
       "</table>\n",
       "</div>"
      ],
      "text/plain": [
       "                   A         B         C         D\n",
       "index                                             \n",
       "2020-06-25  0.094025 -1.806594 -0.179807  0.078818\n",
       "2020-06-26  1.015352  0.939969  0.132857  0.101466\n",
       "2020-06-27  2.217247 -0.125059 -1.331207 -0.730427\n",
       "2020-06-28  1.836485 -0.011821  0.045486  1.625395\n",
       "2020-06-29  0.536040 -0.894712  1.819183  0.376436\n",
       "2020-06-30 -0.523379 -0.344124  0.482767  0.288819"
      ]
     },
     "execution_count": 29,
     "metadata": {},
     "output_type": "execute_result"
    }
   ],
   "source": [
    "df2.set_index('index', inplace=True)\n",
    "df2"
   ]
  },
  {
   "cell_type": "code",
   "execution_count": 30,
   "metadata": {},
   "outputs": [
    {
     "data": {
      "text/html": [
       "<div>\n",
       "<style scoped>\n",
       "    .dataframe tbody tr th:only-of-type {\n",
       "        vertical-align: middle;\n",
       "    }\n",
       "\n",
       "    .dataframe tbody tr th {\n",
       "        vertical-align: top;\n",
       "    }\n",
       "\n",
       "    .dataframe thead th {\n",
       "        text-align: right;\n",
       "    }\n",
       "</style>\n",
       "<table border=\"1\" class=\"dataframe\">\n",
       "  <thead>\n",
       "    <tr style=\"text-align: right;\">\n",
       "      <th></th>\n",
       "      <th>A</th>\n",
       "      <th>B</th>\n",
       "      <th>C</th>\n",
       "      <th>D</th>\n",
       "      <th>E</th>\n",
       "    </tr>\n",
       "    <tr>\n",
       "      <th>index</th>\n",
       "      <th></th>\n",
       "      <th></th>\n",
       "      <th></th>\n",
       "      <th></th>\n",
       "      <th></th>\n",
       "    </tr>\n",
       "  </thead>\n",
       "  <tbody>\n",
       "    <tr>\n",
       "      <td>2020-06-25</td>\n",
       "      <td>0.094025</td>\n",
       "      <td>-1.806594</td>\n",
       "      <td>-0.179807</td>\n",
       "      <td>0.078818</td>\n",
       "      <td>1.094025</td>\n",
       "    </tr>\n",
       "    <tr>\n",
       "      <td>2020-06-26</td>\n",
       "      <td>1.015352</td>\n",
       "      <td>0.939969</td>\n",
       "      <td>0.132857</td>\n",
       "      <td>0.101466</td>\n",
       "      <td>2.015352</td>\n",
       "    </tr>\n",
       "    <tr>\n",
       "      <td>2020-06-27</td>\n",
       "      <td>2.217247</td>\n",
       "      <td>-0.125059</td>\n",
       "      <td>-1.331207</td>\n",
       "      <td>-0.730427</td>\n",
       "      <td>3.217247</td>\n",
       "    </tr>\n",
       "    <tr>\n",
       "      <td>2020-06-28</td>\n",
       "      <td>1.836485</td>\n",
       "      <td>-0.011821</td>\n",
       "      <td>0.045486</td>\n",
       "      <td>1.625395</td>\n",
       "      <td>2.836485</td>\n",
       "    </tr>\n",
       "    <tr>\n",
       "      <td>2020-06-29</td>\n",
       "      <td>0.536040</td>\n",
       "      <td>-0.894712</td>\n",
       "      <td>1.819183</td>\n",
       "      <td>0.376436</td>\n",
       "      <td>1.536040</td>\n",
       "    </tr>\n",
       "    <tr>\n",
       "      <td>2020-06-30</td>\n",
       "      <td>-0.523379</td>\n",
       "      <td>-0.344124</td>\n",
       "      <td>0.482767</td>\n",
       "      <td>0.288819</td>\n",
       "      <td>0.476621</td>\n",
       "    </tr>\n",
       "  </tbody>\n",
       "</table>\n",
       "</div>"
      ],
      "text/plain": [
       "                   A         B         C         D         E\n",
       "index                                                       \n",
       "2020-06-25  0.094025 -1.806594 -0.179807  0.078818  1.094025\n",
       "2020-06-26  1.015352  0.939969  0.132857  0.101466  2.015352\n",
       "2020-06-27  2.217247 -0.125059 -1.331207 -0.730427  3.217247\n",
       "2020-06-28  1.836485 -0.011821  0.045486  1.625395  2.836485\n",
       "2020-06-29  0.536040 -0.894712  1.819183  0.376436  1.536040\n",
       "2020-06-30 -0.523379 -0.344124  0.482767  0.288819  0.476621"
      ]
     },
     "execution_count": 30,
     "metadata": {},
     "output_type": "execute_result"
    }
   ],
   "source": [
    "df2[\"E\"] = df2.A + 1 #브로드캐스팅!\n",
    "df2"
   ]
  },
  {
   "cell_type": "code",
   "execution_count": 31,
   "metadata": {},
   "outputs": [
    {
     "data": {
      "text/plain": [
       "Index(['A', 'B', 'C', 'D', 'E'], dtype='object')"
      ]
     },
     "execution_count": 31,
     "metadata": {},
     "output_type": "execute_result"
    }
   ],
   "source": [
    "df2.columns"
   ]
  },
  {
   "cell_type": "code",
   "execution_count": 32,
   "metadata": {},
   "outputs": [
    {
     "data": {
      "text/plain": [
       "index\n",
       "2020-06-25    1.094025\n",
       "2020-06-26    2.015352\n",
       "2020-06-27    3.217247\n",
       "2020-06-28    2.836485\n",
       "2020-06-29    1.536040\n",
       "2020-06-30    0.476621\n",
       "Name: E, dtype: float64"
      ]
     },
     "execution_count": 32,
     "metadata": {},
     "output_type": "execute_result"
    }
   ],
   "source": [
    "df2['E']"
   ]
  },
  {
   "cell_type": "code",
   "execution_count": 33,
   "metadata": {},
   "outputs": [
    {
     "data": {
      "text/html": [
       "<div>\n",
       "<style scoped>\n",
       "    .dataframe tbody tr th:only-of-type {\n",
       "        vertical-align: middle;\n",
       "    }\n",
       "\n",
       "    .dataframe tbody tr th {\n",
       "        vertical-align: top;\n",
       "    }\n",
       "\n",
       "    .dataframe thead th {\n",
       "        text-align: right;\n",
       "    }\n",
       "</style>\n",
       "<table border=\"1\" class=\"dataframe\">\n",
       "  <thead>\n",
       "    <tr style=\"text-align: right;\">\n",
       "      <th></th>\n",
       "      <th>A</th>\n",
       "      <th>B</th>\n",
       "      <th>C</th>\n",
       "      <th>D</th>\n",
       "      <th>E</th>\n",
       "      <th>F</th>\n",
       "    </tr>\n",
       "    <tr>\n",
       "      <th>index</th>\n",
       "      <th></th>\n",
       "      <th></th>\n",
       "      <th></th>\n",
       "      <th></th>\n",
       "      <th></th>\n",
       "      <th></th>\n",
       "    </tr>\n",
       "  </thead>\n",
       "  <tbody>\n",
       "    <tr>\n",
       "      <td>2020-06-25</td>\n",
       "      <td>0.094025</td>\n",
       "      <td>-1.806594</td>\n",
       "      <td>-0.179807</td>\n",
       "      <td>0.078818</td>\n",
       "      <td>1.094025</td>\n",
       "      <td>0</td>\n",
       "    </tr>\n",
       "    <tr>\n",
       "      <td>2020-06-26</td>\n",
       "      <td>1.015352</td>\n",
       "      <td>0.939969</td>\n",
       "      <td>0.132857</td>\n",
       "      <td>0.101466</td>\n",
       "      <td>2.015352</td>\n",
       "      <td>0</td>\n",
       "    </tr>\n",
       "    <tr>\n",
       "      <td>2020-06-27</td>\n",
       "      <td>2.217247</td>\n",
       "      <td>-0.125059</td>\n",
       "      <td>-1.331207</td>\n",
       "      <td>-0.730427</td>\n",
       "      <td>3.217247</td>\n",
       "      <td>0</td>\n",
       "    </tr>\n",
       "    <tr>\n",
       "      <td>2020-06-28</td>\n",
       "      <td>1.836485</td>\n",
       "      <td>-0.011821</td>\n",
       "      <td>0.045486</td>\n",
       "      <td>1.625395</td>\n",
       "      <td>2.836485</td>\n",
       "      <td>0</td>\n",
       "    </tr>\n",
       "    <tr>\n",
       "      <td>2020-06-29</td>\n",
       "      <td>0.536040</td>\n",
       "      <td>-0.894712</td>\n",
       "      <td>1.819183</td>\n",
       "      <td>0.376436</td>\n",
       "      <td>1.536040</td>\n",
       "      <td>0</td>\n",
       "    </tr>\n",
       "    <tr>\n",
       "      <td>2020-06-30</td>\n",
       "      <td>-0.523379</td>\n",
       "      <td>-0.344124</td>\n",
       "      <td>0.482767</td>\n",
       "      <td>0.288819</td>\n",
       "      <td>0.476621</td>\n",
       "      <td>0</td>\n",
       "    </tr>\n",
       "  </tbody>\n",
       "</table>\n",
       "</div>"
      ],
      "text/plain": [
       "                   A         B         C         D         E  F\n",
       "index                                                          \n",
       "2020-06-25  0.094025 -1.806594 -0.179807  0.078818  1.094025  0\n",
       "2020-06-26  1.015352  0.939969  0.132857  0.101466  2.015352  0\n",
       "2020-06-27  2.217247 -0.125059 -1.331207 -0.730427  3.217247  0\n",
       "2020-06-28  1.836485 -0.011821  0.045486  1.625395  2.836485  0\n",
       "2020-06-29  0.536040 -0.894712  1.819183  0.376436  1.536040  0\n",
       "2020-06-30 -0.523379 -0.344124  0.482767  0.288819  0.476621  0"
      ]
     },
     "execution_count": 33,
     "metadata": {},
     "output_type": "execute_result"
    }
   ],
   "source": [
    "df2['F'] = 0\n",
    "df2"
   ]
  },
  {
   "cell_type": "code",
   "execution_count": 36,
   "metadata": {},
   "outputs": [
    {
     "data": {
      "text/plain": [
       "index\n",
       "2020-06-25    0\n",
       "2020-06-26    1\n",
       "2020-06-27    2\n",
       "2020-06-28    3\n",
       "2020-06-29    4\n",
       "2020-06-30    5\n",
       "Name: G, dtype: int32"
      ]
     },
     "execution_count": 36,
     "metadata": {},
     "output_type": "execute_result"
    }
   ],
   "source": [
    "df2['G'] = range(0,6)\n",
    "df2['G']"
   ]
  },
  {
   "cell_type": "code",
   "execution_count": 37,
   "metadata": {},
   "outputs": [
    {
     "data": {
      "text/html": [
       "<div>\n",
       "<style scoped>\n",
       "    .dataframe tbody tr th:only-of-type {\n",
       "        vertical-align: middle;\n",
       "    }\n",
       "\n",
       "    .dataframe tbody tr th {\n",
       "        vertical-align: top;\n",
       "    }\n",
       "\n",
       "    .dataframe thead th {\n",
       "        text-align: right;\n",
       "    }\n",
       "</style>\n",
       "<table border=\"1\" class=\"dataframe\">\n",
       "  <thead>\n",
       "    <tr style=\"text-align: right;\">\n",
       "      <th></th>\n",
       "      <th>A</th>\n",
       "      <th>B</th>\n",
       "      <th>C</th>\n",
       "      <th>D</th>\n",
       "      <th>E</th>\n",
       "      <th>F</th>\n",
       "      <th>G</th>\n",
       "    </tr>\n",
       "    <tr>\n",
       "      <th>G</th>\n",
       "      <th></th>\n",
       "      <th></th>\n",
       "      <th></th>\n",
       "      <th></th>\n",
       "      <th></th>\n",
       "      <th></th>\n",
       "      <th></th>\n",
       "    </tr>\n",
       "  </thead>\n",
       "  <tbody>\n",
       "    <tr>\n",
       "      <td>0</td>\n",
       "      <td>0.094025</td>\n",
       "      <td>-1.806594</td>\n",
       "      <td>-0.179807</td>\n",
       "      <td>0.078818</td>\n",
       "      <td>1.094025</td>\n",
       "      <td>0</td>\n",
       "      <td>0</td>\n",
       "    </tr>\n",
       "    <tr>\n",
       "      <td>1</td>\n",
       "      <td>1.015352</td>\n",
       "      <td>0.939969</td>\n",
       "      <td>0.132857</td>\n",
       "      <td>0.101466</td>\n",
       "      <td>2.015352</td>\n",
       "      <td>0</td>\n",
       "      <td>1</td>\n",
       "    </tr>\n",
       "    <tr>\n",
       "      <td>2</td>\n",
       "      <td>2.217247</td>\n",
       "      <td>-0.125059</td>\n",
       "      <td>-1.331207</td>\n",
       "      <td>-0.730427</td>\n",
       "      <td>3.217247</td>\n",
       "      <td>0</td>\n",
       "      <td>2</td>\n",
       "    </tr>\n",
       "    <tr>\n",
       "      <td>3</td>\n",
       "      <td>1.836485</td>\n",
       "      <td>-0.011821</td>\n",
       "      <td>0.045486</td>\n",
       "      <td>1.625395</td>\n",
       "      <td>2.836485</td>\n",
       "      <td>0</td>\n",
       "      <td>3</td>\n",
       "    </tr>\n",
       "    <tr>\n",
       "      <td>4</td>\n",
       "      <td>0.536040</td>\n",
       "      <td>-0.894712</td>\n",
       "      <td>1.819183</td>\n",
       "      <td>0.376436</td>\n",
       "      <td>1.536040</td>\n",
       "      <td>0</td>\n",
       "      <td>4</td>\n",
       "    </tr>\n",
       "    <tr>\n",
       "      <td>5</td>\n",
       "      <td>-0.523379</td>\n",
       "      <td>-0.344124</td>\n",
       "      <td>0.482767</td>\n",
       "      <td>0.288819</td>\n",
       "      <td>0.476621</td>\n",
       "      <td>0</td>\n",
       "      <td>5</td>\n",
       "    </tr>\n",
       "  </tbody>\n",
       "</table>\n",
       "</div>"
      ],
      "text/plain": [
       "          A         B         C         D         E  F  G\n",
       "G                                                        \n",
       "0  0.094025 -1.806594 -0.179807  0.078818  1.094025  0  0\n",
       "1  1.015352  0.939969  0.132857  0.101466  2.015352  0  1\n",
       "2  2.217247 -0.125059 -1.331207 -0.730427  3.217247  0  2\n",
       "3  1.836485 -0.011821  0.045486  1.625395  2.836485  0  3\n",
       "4  0.536040 -0.894712  1.819183  0.376436  1.536040  0  4\n",
       "5 -0.523379 -0.344124  0.482767  0.288819  0.476621  0  5"
      ]
     },
     "execution_count": 37,
     "metadata": {},
     "output_type": "execute_result"
    }
   ],
   "source": [
    "#인덱스를 G로\n",
    "#인덱스를 변경하고 싶은 경우, 기존의 인덱스를 살리고 싶으면 먼저 reset_index()하고 나서 해야함\n",
    "# or set_index(df2['G'])\n",
    "\n",
    "# 사라지게 하고 싶을 경우, set_index('G')\n",
    "df2.set_index(df2['G'], inplace=True)\n",
    "df2"
   ]
  },
  {
   "cell_type": "code",
   "execution_count": 39,
   "metadata": {},
   "outputs": [
    {
     "data": {
      "text/plain": [
       "Index(['A', 'B', 'C', 'D', 'E', 'F', 'G'], dtype='object')"
      ]
     },
     "execution_count": 39,
     "metadata": {},
     "output_type": "execute_result"
    }
   ],
   "source": [
    "df2.columns"
   ]
  },
  {
   "cell_type": "code",
   "execution_count": 40,
   "metadata": {},
   "outputs": [
    {
     "data": {
      "text/html": [
       "<div>\n",
       "<style scoped>\n",
       "    .dataframe tbody tr th:only-of-type {\n",
       "        vertical-align: middle;\n",
       "    }\n",
       "\n",
       "    .dataframe tbody tr th {\n",
       "        vertical-align: top;\n",
       "    }\n",
       "\n",
       "    .dataframe thead th {\n",
       "        text-align: right;\n",
       "    }\n",
       "</style>\n",
       "<table border=\"1\" class=\"dataframe\">\n",
       "  <thead>\n",
       "    <tr style=\"text-align: right;\">\n",
       "      <th></th>\n",
       "      <th>A</th>\n",
       "      <th>B</th>\n",
       "      <th>C</th>\n",
       "      <th>D</th>\n",
       "    </tr>\n",
       "  </thead>\n",
       "  <tbody>\n",
       "    <tr>\n",
       "      <td>0</td>\n",
       "      <td>0.529512</td>\n",
       "      <td>0.013154</td>\n",
       "      <td>-0.248240</td>\n",
       "      <td>-0.575082</td>\n",
       "    </tr>\n",
       "    <tr>\n",
       "      <td>1</td>\n",
       "      <td>-0.903633</td>\n",
       "      <td>-0.403140</td>\n",
       "      <td>-0.541145</td>\n",
       "      <td>1.114976</td>\n",
       "    </tr>\n",
       "    <tr>\n",
       "      <td>2</td>\n",
       "      <td>-0.591011</td>\n",
       "      <td>0.086953</td>\n",
       "      <td>2.393127</td>\n",
       "      <td>-0.995368</td>\n",
       "    </tr>\n",
       "    <tr>\n",
       "      <td>3</td>\n",
       "      <td>0.765612</td>\n",
       "      <td>1.900393</td>\n",
       "      <td>0.051393</td>\n",
       "      <td>-0.662570</td>\n",
       "    </tr>\n",
       "    <tr>\n",
       "      <td>4</td>\n",
       "      <td>0.257443</td>\n",
       "      <td>-0.274768</td>\n",
       "      <td>-1.126487</td>\n",
       "      <td>-1.308297</td>\n",
       "    </tr>\n",
       "    <tr>\n",
       "      <td>5</td>\n",
       "      <td>0.396133</td>\n",
       "      <td>-0.692762</td>\n",
       "      <td>-0.205202</td>\n",
       "      <td>0.379219</td>\n",
       "    </tr>\n",
       "  </tbody>\n",
       "</table>\n",
       "</div>"
      ],
      "text/plain": [
       "          A         B         C         D\n",
       "0  0.529512  0.013154 -0.248240 -0.575082\n",
       "1 -0.903633 -0.403140 -0.541145  1.114976\n",
       "2 -0.591011  0.086953  2.393127 -0.995368\n",
       "3  0.765612  1.900393  0.051393 -0.662570\n",
       "4  0.257443 -0.274768 -1.126487 -1.308297\n",
       "5  0.396133 -0.692762 -0.205202  0.379219"
      ]
     },
     "execution_count": 40,
     "metadata": {},
     "output_type": "execute_result"
    }
   ],
   "source": [
    "df"
   ]
  },
  {
   "cell_type": "code",
   "execution_count": 41,
   "metadata": {},
   "outputs": [
    {
     "data": {
      "text/html": [
       "<div>\n",
       "<style scoped>\n",
       "    .dataframe tbody tr th:only-of-type {\n",
       "        vertical-align: middle;\n",
       "    }\n",
       "\n",
       "    .dataframe tbody tr th {\n",
       "        vertical-align: top;\n",
       "    }\n",
       "\n",
       "    .dataframe thead th {\n",
       "        text-align: right;\n",
       "    }\n",
       "</style>\n",
       "<table border=\"1\" class=\"dataframe\">\n",
       "  <thead>\n",
       "    <tr style=\"text-align: right;\">\n",
       "      <th></th>\n",
       "      <th>A</th>\n",
       "      <th>B</th>\n",
       "      <th>C</th>\n",
       "      <th>D</th>\n",
       "    </tr>\n",
       "  </thead>\n",
       "  <tbody>\n",
       "    <tr>\n",
       "      <td>0</td>\n",
       "      <td>0.529512</td>\n",
       "      <td>0.013154</td>\n",
       "      <td>-0.248240</td>\n",
       "      <td>-0.575082</td>\n",
       "    </tr>\n",
       "    <tr>\n",
       "      <td>1</td>\n",
       "      <td>-0.903633</td>\n",
       "      <td>-0.403140</td>\n",
       "      <td>-0.541145</td>\n",
       "      <td>1.114976</td>\n",
       "    </tr>\n",
       "    <tr>\n",
       "      <td>2</td>\n",
       "      <td>-0.591011</td>\n",
       "      <td>0.086953</td>\n",
       "      <td>2.393127</td>\n",
       "      <td>-0.995368</td>\n",
       "    </tr>\n",
       "    <tr>\n",
       "      <td>3</td>\n",
       "      <td>0.765612</td>\n",
       "      <td>1.900393</td>\n",
       "      <td>0.051393</td>\n",
       "      <td>-0.662570</td>\n",
       "    </tr>\n",
       "    <tr>\n",
       "      <td>4</td>\n",
       "      <td>0.257443</td>\n",
       "      <td>-0.274768</td>\n",
       "      <td>-1.126487</td>\n",
       "      <td>-1.308297</td>\n",
       "    </tr>\n",
       "    <tr>\n",
       "      <td>5</td>\n",
       "      <td>0.396133</td>\n",
       "      <td>-0.692762</td>\n",
       "      <td>-0.205202</td>\n",
       "      <td>0.379219</td>\n",
       "    </tr>\n",
       "  </tbody>\n",
       "</table>\n",
       "</div>"
      ],
      "text/plain": [
       "          A         B         C         D\n",
       "0  0.529512  0.013154 -0.248240 -0.575082\n",
       "1 -0.903633 -0.403140 -0.541145  1.114976\n",
       "2 -0.591011  0.086953  2.393127 -0.995368\n",
       "3  0.765612  1.900393  0.051393 -0.662570\n",
       "4  0.257443 -0.274768 -1.126487 -1.308297\n",
       "5  0.396133 -0.692762 -0.205202  0.379219"
      ]
     },
     "execution_count": 41,
     "metadata": {},
     "output_type": "execute_result"
    }
   ],
   "source": [
    "df3 = df.copy()\n",
    "df3"
   ]
  },
  {
   "cell_type": "code",
   "execution_count": 49,
   "metadata": {},
   "outputs": [
    {
     "data": {
      "text/html": [
       "<div>\n",
       "<style scoped>\n",
       "    .dataframe tbody tr th:only-of-type {\n",
       "        vertical-align: middle;\n",
       "    }\n",
       "\n",
       "    .dataframe tbody tr th {\n",
       "        vertical-align: top;\n",
       "    }\n",
       "\n",
       "    .dataframe thead th {\n",
       "        text-align: right;\n",
       "    }\n",
       "</style>\n",
       "<table border=\"1\" class=\"dataframe\">\n",
       "  <thead>\n",
       "    <tr style=\"text-align: right;\">\n",
       "      <th></th>\n",
       "      <th>A</th>\n",
       "      <th>B</th>\n",
       "      <th>C</th>\n",
       "      <th>D</th>\n",
       "      <th>E</th>\n",
       "      <th>F</th>\n",
       "      <th>H</th>\n",
       "    </tr>\n",
       "  </thead>\n",
       "  <tbody>\n",
       "    <tr>\n",
       "      <td>0</td>\n",
       "      <td>0.529512</td>\n",
       "      <td>0.013154</td>\n",
       "      <td>-0.248240</td>\n",
       "      <td>-0.575082</td>\n",
       "      <td>4</td>\n",
       "      <td>0.281271</td>\n",
       "      <td>1</td>\n",
       "    </tr>\n",
       "    <tr>\n",
       "      <td>1</td>\n",
       "      <td>-0.903633</td>\n",
       "      <td>-0.403140</td>\n",
       "      <td>-0.541145</td>\n",
       "      <td>1.114976</td>\n",
       "      <td>4</td>\n",
       "      <td>-1.444779</td>\n",
       "      <td>1</td>\n",
       "    </tr>\n",
       "    <tr>\n",
       "      <td>2</td>\n",
       "      <td>-0.591011</td>\n",
       "      <td>0.086953</td>\n",
       "      <td>2.393127</td>\n",
       "      <td>-0.995368</td>\n",
       "      <td>4</td>\n",
       "      <td>1.802116</td>\n",
       "      <td>1</td>\n",
       "    </tr>\n",
       "    <tr>\n",
       "      <td>3</td>\n",
       "      <td>0.765612</td>\n",
       "      <td>1.900393</td>\n",
       "      <td>0.051393</td>\n",
       "      <td>-0.662570</td>\n",
       "      <td>4</td>\n",
       "      <td>0.817006</td>\n",
       "      <td>1</td>\n",
       "    </tr>\n",
       "    <tr>\n",
       "      <td>4</td>\n",
       "      <td>0.257443</td>\n",
       "      <td>-0.274768</td>\n",
       "      <td>-1.126487</td>\n",
       "      <td>-1.308297</td>\n",
       "      <td>4</td>\n",
       "      <td>-0.869044</td>\n",
       "      <td>1</td>\n",
       "    </tr>\n",
       "    <tr>\n",
       "      <td>5</td>\n",
       "      <td>0.396133</td>\n",
       "      <td>-0.692762</td>\n",
       "      <td>-0.205202</td>\n",
       "      <td>0.379219</td>\n",
       "      <td>4</td>\n",
       "      <td>0.190931</td>\n",
       "      <td>1</td>\n",
       "    </tr>\n",
       "  </tbody>\n",
       "</table>\n",
       "</div>"
      ],
      "text/plain": [
       "          A         B         C         D  E         F  H\n",
       "0  0.529512  0.013154 -0.248240 -0.575082  4  0.281271  1\n",
       "1 -0.903633 -0.403140 -0.541145  1.114976  4 -1.444779  1\n",
       "2 -0.591011  0.086953  2.393127 -0.995368  4  1.802116  1\n",
       "3  0.765612  1.900393  0.051393 -0.662570  4  0.817006  1\n",
       "4  0.257443 -0.274768 -1.126487 -1.308297  4 -0.869044  1\n",
       "5  0.396133 -0.692762 -0.205202  0.379219  4  0.190931  1"
      ]
     },
     "execution_count": 49,
     "metadata": {},
     "output_type": "execute_result"
    }
   ],
   "source": [
    "# E 항목을 파생변수로 만드세요. 1~10중 랜덤한 값\n",
    "import random\n",
    "df3['E'] = random.randint(1,11)\n",
    "df3"
   ]
  },
  {
   "cell_type": "code",
   "execution_count": 50,
   "metadata": {},
   "outputs": [
    {
     "data": {
      "text/html": [
       "<div>\n",
       "<style scoped>\n",
       "    .dataframe tbody tr th:only-of-type {\n",
       "        vertical-align: middle;\n",
       "    }\n",
       "\n",
       "    .dataframe tbody tr th {\n",
       "        vertical-align: top;\n",
       "    }\n",
       "\n",
       "    .dataframe thead th {\n",
       "        text-align: right;\n",
       "    }\n",
       "</style>\n",
       "<table border=\"1\" class=\"dataframe\">\n",
       "  <thead>\n",
       "    <tr style=\"text-align: right;\">\n",
       "      <th></th>\n",
       "      <th>A</th>\n",
       "      <th>B</th>\n",
       "      <th>C</th>\n",
       "      <th>D</th>\n",
       "      <th>E</th>\n",
       "      <th>F</th>\n",
       "      <th>H</th>\n",
       "    </tr>\n",
       "  </thead>\n",
       "  <tbody>\n",
       "    <tr>\n",
       "      <td>0</td>\n",
       "      <td>0.529512</td>\n",
       "      <td>0.013154</td>\n",
       "      <td>-0.248240</td>\n",
       "      <td>-0.575082</td>\n",
       "      <td>4</td>\n",
       "      <td>0.281271</td>\n",
       "      <td>1</td>\n",
       "    </tr>\n",
       "    <tr>\n",
       "      <td>1</td>\n",
       "      <td>-0.903633</td>\n",
       "      <td>-0.403140</td>\n",
       "      <td>-0.541145</td>\n",
       "      <td>1.114976</td>\n",
       "      <td>4</td>\n",
       "      <td>-1.444779</td>\n",
       "      <td>1</td>\n",
       "    </tr>\n",
       "    <tr>\n",
       "      <td>2</td>\n",
       "      <td>-0.591011</td>\n",
       "      <td>0.086953</td>\n",
       "      <td>2.393127</td>\n",
       "      <td>-0.995368</td>\n",
       "      <td>4</td>\n",
       "      <td>1.802116</td>\n",
       "      <td>1</td>\n",
       "    </tr>\n",
       "    <tr>\n",
       "      <td>3</td>\n",
       "      <td>0.765612</td>\n",
       "      <td>1.900393</td>\n",
       "      <td>0.051393</td>\n",
       "      <td>-0.662570</td>\n",
       "      <td>4</td>\n",
       "      <td>0.817006</td>\n",
       "      <td>1</td>\n",
       "    </tr>\n",
       "    <tr>\n",
       "      <td>4</td>\n",
       "      <td>0.257443</td>\n",
       "      <td>-0.274768</td>\n",
       "      <td>-1.126487</td>\n",
       "      <td>-1.308297</td>\n",
       "      <td>4</td>\n",
       "      <td>-0.869044</td>\n",
       "      <td>1</td>\n",
       "    </tr>\n",
       "    <tr>\n",
       "      <td>5</td>\n",
       "      <td>0.396133</td>\n",
       "      <td>-0.692762</td>\n",
       "      <td>-0.205202</td>\n",
       "      <td>0.379219</td>\n",
       "      <td>4</td>\n",
       "      <td>0.190931</td>\n",
       "      <td>1</td>\n",
       "    </tr>\n",
       "  </tbody>\n",
       "</table>\n",
       "</div>"
      ],
      "text/plain": [
       "          A         B         C         D  E         F  H\n",
       "0  0.529512  0.013154 -0.248240 -0.575082  4  0.281271  1\n",
       "1 -0.903633 -0.403140 -0.541145  1.114976  4 -1.444779  1\n",
       "2 -0.591011  0.086953  2.393127 -0.995368  4  1.802116  1\n",
       "3  0.765612  1.900393  0.051393 -0.662570  4  0.817006  1\n",
       "4  0.257443 -0.274768 -1.126487 -1.308297  4 -0.869044  1\n",
       "5  0.396133 -0.692762 -0.205202  0.379219  4  0.190931  1"
      ]
     },
     "execution_count": 50,
     "metadata": {},
     "output_type": "execute_result"
    }
   ],
   "source": [
    "#F항목을 파생변수로 만드세요. A열과 C열의 합\n",
    "\n",
    "df3['F'] = df3['A'] + df3['C']\n",
    "df3"
   ]
  },
  {
   "cell_type": "code",
   "execution_count": 51,
   "metadata": {},
   "outputs": [
    {
     "data": {
      "text/html": [
       "<div>\n",
       "<style scoped>\n",
       "    .dataframe tbody tr th:only-of-type {\n",
       "        vertical-align: middle;\n",
       "    }\n",
       "\n",
       "    .dataframe tbody tr th {\n",
       "        vertical-align: top;\n",
       "    }\n",
       "\n",
       "    .dataframe thead th {\n",
       "        text-align: right;\n",
       "    }\n",
       "</style>\n",
       "<table border=\"1\" class=\"dataframe\">\n",
       "  <thead>\n",
       "    <tr style=\"text-align: right;\">\n",
       "      <th></th>\n",
       "      <th>A</th>\n",
       "      <th>B</th>\n",
       "      <th>C</th>\n",
       "      <th>D</th>\n",
       "      <th>E</th>\n",
       "      <th>F</th>\n",
       "      <th>H</th>\n",
       "    </tr>\n",
       "  </thead>\n",
       "  <tbody>\n",
       "    <tr>\n",
       "      <td>0</td>\n",
       "      <td>0.529512</td>\n",
       "      <td>0.013154</td>\n",
       "      <td>-0.248240</td>\n",
       "      <td>-0.575082</td>\n",
       "      <td>4</td>\n",
       "      <td>0.281271</td>\n",
       "      <td>1</td>\n",
       "    </tr>\n",
       "    <tr>\n",
       "      <td>1</td>\n",
       "      <td>-0.903633</td>\n",
       "      <td>-0.403140</td>\n",
       "      <td>-0.541145</td>\n",
       "      <td>1.114976</td>\n",
       "      <td>4</td>\n",
       "      <td>-1.444779</td>\n",
       "      <td>1</td>\n",
       "    </tr>\n",
       "    <tr>\n",
       "      <td>2</td>\n",
       "      <td>-0.591011</td>\n",
       "      <td>0.086953</td>\n",
       "      <td>2.393127</td>\n",
       "      <td>-0.995368</td>\n",
       "      <td>4</td>\n",
       "      <td>1.802116</td>\n",
       "      <td>1</td>\n",
       "    </tr>\n",
       "    <tr>\n",
       "      <td>3</td>\n",
       "      <td>0.765612</td>\n",
       "      <td>1.900393</td>\n",
       "      <td>0.051393</td>\n",
       "      <td>-0.662570</td>\n",
       "      <td>4</td>\n",
       "      <td>0.817006</td>\n",
       "      <td>1</td>\n",
       "    </tr>\n",
       "    <tr>\n",
       "      <td>4</td>\n",
       "      <td>0.257443</td>\n",
       "      <td>-0.274768</td>\n",
       "      <td>-1.126487</td>\n",
       "      <td>-1.308297</td>\n",
       "      <td>4</td>\n",
       "      <td>-0.869044</td>\n",
       "      <td>1</td>\n",
       "    </tr>\n",
       "    <tr>\n",
       "      <td>5</td>\n",
       "      <td>0.396133</td>\n",
       "      <td>-0.692762</td>\n",
       "      <td>-0.205202</td>\n",
       "      <td>0.379219</td>\n",
       "      <td>4</td>\n",
       "      <td>0.190931</td>\n",
       "      <td>1</td>\n",
       "    </tr>\n",
       "  </tbody>\n",
       "</table>\n",
       "</div>"
      ],
      "text/plain": [
       "          A         B         C         D  E         F  H\n",
       "0  0.529512  0.013154 -0.248240 -0.575082  4  0.281271  1\n",
       "1 -0.903633 -0.403140 -0.541145  1.114976  4 -1.444779  1\n",
       "2 -0.591011  0.086953  2.393127 -0.995368  4  1.802116  1\n",
       "3  0.765612  1.900393  0.051393 -0.662570  4  0.817006  1\n",
       "4  0.257443 -0.274768 -1.126487 -1.308297  4 -0.869044  1\n",
       "5  0.396133 -0.692762 -0.205202  0.379219  4  0.190931  1"
      ]
     },
     "execution_count": 51,
     "metadata": {},
     "output_type": "execute_result"
    }
   ],
   "source": [
    "# H항목을 파생변수로 만드세요. 1로 설정\n",
    "\n",
    "df3['H']= 1\n",
    "df3"
   ]
  },
  {
   "cell_type": "code",
   "execution_count": 53,
   "metadata": {},
   "outputs": [
    {
     "data": {
      "text/html": [
       "<div>\n",
       "<style scoped>\n",
       "    .dataframe tbody tr th:only-of-type {\n",
       "        vertical-align: middle;\n",
       "    }\n",
       "\n",
       "    .dataframe tbody tr th {\n",
       "        vertical-align: top;\n",
       "    }\n",
       "\n",
       "    .dataframe thead th {\n",
       "        text-align: right;\n",
       "    }\n",
       "</style>\n",
       "<table border=\"1\" class=\"dataframe\">\n",
       "  <thead>\n",
       "    <tr style=\"text-align: right;\">\n",
       "      <th></th>\n",
       "      <th>A</th>\n",
       "      <th>B</th>\n",
       "      <th>C</th>\n",
       "      <th>D</th>\n",
       "      <th>E</th>\n",
       "      <th>F</th>\n",
       "      <th>H</th>\n",
       "      <th>Z</th>\n",
       "    </tr>\n",
       "  </thead>\n",
       "  <tbody>\n",
       "    <tr>\n",
       "      <td>0</td>\n",
       "      <td>0.529512</td>\n",
       "      <td>0.013154</td>\n",
       "      <td>-0.248240</td>\n",
       "      <td>-0.575082</td>\n",
       "      <td>4</td>\n",
       "      <td>0.281271</td>\n",
       "      <td>1</td>\n",
       "      <td>1</td>\n",
       "    </tr>\n",
       "    <tr>\n",
       "      <td>1</td>\n",
       "      <td>-0.903633</td>\n",
       "      <td>-0.403140</td>\n",
       "      <td>-0.541145</td>\n",
       "      <td>1.114976</td>\n",
       "      <td>4</td>\n",
       "      <td>-1.444779</td>\n",
       "      <td>1</td>\n",
       "      <td>9</td>\n",
       "    </tr>\n",
       "    <tr>\n",
       "      <td>2</td>\n",
       "      <td>-0.591011</td>\n",
       "      <td>0.086953</td>\n",
       "      <td>2.393127</td>\n",
       "      <td>-0.995368</td>\n",
       "      <td>4</td>\n",
       "      <td>1.802116</td>\n",
       "      <td>1</td>\n",
       "      <td>8</td>\n",
       "    </tr>\n",
       "    <tr>\n",
       "      <td>3</td>\n",
       "      <td>0.765612</td>\n",
       "      <td>1.900393</td>\n",
       "      <td>0.051393</td>\n",
       "      <td>-0.662570</td>\n",
       "      <td>4</td>\n",
       "      <td>0.817006</td>\n",
       "      <td>1</td>\n",
       "      <td>6</td>\n",
       "    </tr>\n",
       "    <tr>\n",
       "      <td>4</td>\n",
       "      <td>0.257443</td>\n",
       "      <td>-0.274768</td>\n",
       "      <td>-1.126487</td>\n",
       "      <td>-1.308297</td>\n",
       "      <td>4</td>\n",
       "      <td>-0.869044</td>\n",
       "      <td>1</td>\n",
       "      <td>4</td>\n",
       "    </tr>\n",
       "    <tr>\n",
       "      <td>5</td>\n",
       "      <td>0.396133</td>\n",
       "      <td>-0.692762</td>\n",
       "      <td>-0.205202</td>\n",
       "      <td>0.379219</td>\n",
       "      <td>4</td>\n",
       "      <td>0.190931</td>\n",
       "      <td>1</td>\n",
       "      <td>6</td>\n",
       "    </tr>\n",
       "  </tbody>\n",
       "</table>\n",
       "</div>"
      ],
      "text/plain": [
       "          A         B         C         D  E         F  H  Z\n",
       "0  0.529512  0.013154 -0.248240 -0.575082  4  0.281271  1  1\n",
       "1 -0.903633 -0.403140 -0.541145  1.114976  4 -1.444779  1  9\n",
       "2 -0.591011  0.086953  2.393127 -0.995368  4  1.802116  1  8\n",
       "3  0.765612  1.900393  0.051393 -0.662570  4  0.817006  1  6\n",
       "4  0.257443 -0.274768 -1.126487 -1.308297  4 -0.869044  1  4\n",
       "5  0.396133 -0.692762 -0.205202  0.379219  4  0.190931  1  6"
      ]
     },
     "execution_count": 53,
     "metadata": {},
     "output_type": "execute_result"
    }
   ],
   "source": [
    "#Z항목을 파생변수로 만드세요ㅕ 1~9까지의 랜덤한 값\n",
    "# df3['Z2'] = [random.randint(1, 10) for _ in range(6)]\n",
    "import random\n",
    "rand=[]\n",
    "for _ in range(6):\n",
    "    rand.append(random.randint(1, 10))\n",
    "df3['Z'] = rand\n",
    "df3"
   ]
  },
  {
   "cell_type": "code",
   "execution_count": 56,
   "metadata": {},
   "outputs": [
    {
     "data": {
      "text/plain": [
       "[8, 10, 7, 4, 6, 1]"
      ]
     },
     "execution_count": 56,
     "metadata": {},
     "output_type": "execute_result"
    }
   ],
   "source": [
    "# 리스트 내포: 결과가 항상 list\n",
    "# list comprehesion\n",
    "[random.randint(1, 10) for _ in range(6)]\n"
   ]
  },
  {
   "cell_type": "code",
   "execution_count": 60,
   "metadata": {},
   "outputs": [
    {
     "data": {
      "text/plain": [
       "[1, 2, 3, 4, 5, 6, 7, 8, 9, 10]"
      ]
     },
     "execution_count": 60,
     "metadata": {},
     "output_type": "execute_result"
    }
   ],
   "source": [
    "#['반복하면서 한번에 처리할 내용' for i in range(10)]\n",
    "[i+1 for i in range(10)]"
   ]
  },
  {
   "cell_type": "code",
   "execution_count": 62,
   "metadata": {},
   "outputs": [
    {
     "data": {
      "text/plain": [
       "[0, 1, 2, 3, 4, 5, 6, 7, 8, 9]"
      ]
     },
     "execution_count": 62,
     "metadata": {},
     "output_type": "execute_result"
    }
   ],
   "source": [
    "list(range(10))"
   ]
  },
  {
   "cell_type": "code",
   "execution_count": 67,
   "metadata": {},
   "outputs": [
    {
     "data": {
      "text/plain": [
       "[0, 2, 4, 6, 8]"
      ]
     },
     "execution_count": 67,
     "metadata": {},
     "output_type": "execute_result"
    }
   ],
   "source": [
    "#['반복하면서 한번에 처리할 내용' for i in range(10) if i%2 ==0]\n",
    "\n",
    "data3 = []\n",
    "for i in range(10):\n",
    "    if i%2==0:\n",
    "        data3.append(i)\n",
    "data3"
   ]
  },
  {
   "cell_type": "code",
   "execution_count": 69,
   "metadata": {},
   "outputs": [
    {
     "data": {
      "text/plain": [
       "[0, 2, 4, 6, 8]"
      ]
     },
     "execution_count": 69,
     "metadata": {},
     "output_type": "execute_result"
    }
   ],
   "source": [
    "[i for i in range(10) if i%2 ==0]"
   ]
  },
  {
   "cell_type": "code",
   "execution_count": 76,
   "metadata": {},
   "outputs": [
    {
     "name": "stdout",
     "output_type": "stream",
     "text": [
      "홍길동\n",
      "김길동\n",
      "송길동\n"
     ]
    }
   ],
   "source": [
    "name = ['홍길동', '김길동', '송길동']\n",
    "for x in name:\n",
    "    print(x)"
   ]
  },
  {
   "cell_type": "code",
   "execution_count": 78,
   "metadata": {},
   "outputs": [
    {
     "data": {
      "text/plain": [
       "['홍길동님', '김길동님', '송길동님']"
      ]
     },
     "execution_count": 78,
     "metadata": {},
     "output_type": "execute_result"
    }
   ],
   "source": [
    "# name에 들어있는 각각의 모든 데이터에 \"님\"자를 붙여주세요.\n",
    "name1 = [x+\"님\" for x in name]\n",
    "name1"
   ]
  },
  {
   "cell_type": "code",
   "execution_count": 83,
   "metadata": {},
   "outputs": [
    {
     "data": {
      "text/plain": [
       "['신입홍길동', '신입김길동', '신입송길동']"
      ]
     },
     "execution_count": 83,
     "metadata": {},
     "output_type": "execute_result"
    }
   ],
   "source": [
    "# name에 들어있는 각각의 모든 데이터 앞에 \"신입\"글자를 붙여주세요!\n",
    "name2 = [\"신입\"+i for i in name]\n",
    "name2"
   ]
  },
  {
   "cell_type": "code",
   "execution_count": 115,
   "metadata": {},
   "outputs": [],
   "source": [
    "a_list = range(1,100,2)"
   ]
  },
  {
   "cell_type": "code",
   "execution_count": 116,
   "metadata": {},
   "outputs": [
    {
     "data": {
      "text/plain": [
       "[1,\n",
       " 3,\n",
       " 5,\n",
       " 7,\n",
       " 9,\n",
       " 11,\n",
       " 13,\n",
       " 15,\n",
       " 17,\n",
       " 19,\n",
       " 21,\n",
       " 23,\n",
       " 25,\n",
       " 27,\n",
       " 29,\n",
       " 31,\n",
       " 33,\n",
       " 35,\n",
       " 37,\n",
       " 39,\n",
       " 41,\n",
       " 43,\n",
       " 45,\n",
       " 47,\n",
       " 49,\n",
       " 51,\n",
       " 53,\n",
       " 55,\n",
       " 57,\n",
       " 59,\n",
       " 61,\n",
       " 63,\n",
       " 65,\n",
       " 67,\n",
       " 69,\n",
       " 71,\n",
       " 73,\n",
       " 75,\n",
       " 77,\n",
       " 79,\n",
       " 81,\n",
       " 83,\n",
       " 85,\n",
       " 87,\n",
       " 89,\n",
       " 91,\n",
       " 93,\n",
       " 95,\n",
       " 97,\n",
       " 99]"
      ]
     },
     "execution_count": 116,
     "metadata": {},
     "output_type": "execute_result"
    }
   ],
   "source": [
    "# a_list에 몇개가 들어있는지 세어보세요\n",
    "list(a_list)"
   ]
  },
  {
   "cell_type": "code",
   "execution_count": 117,
   "metadata": {},
   "outputs": [
    {
     "data": {
      "text/plain": [
       "[0.1,\n",
       " 0.30000000000000004,\n",
       " 0.5,\n",
       " 0.7000000000000001,\n",
       " 0.9,\n",
       " 1.1,\n",
       " 1.3,\n",
       " 1.5,\n",
       " 1.7000000000000002,\n",
       " 1.9000000000000001,\n",
       " 2.1,\n",
       " 2.3000000000000003,\n",
       " 2.5,\n",
       " 2.7,\n",
       " 2.9000000000000004,\n",
       " 3.1,\n",
       " 3.3000000000000003,\n",
       " 3.5,\n",
       " 3.7,\n",
       " 3.9000000000000004,\n",
       " 4.1000000000000005,\n",
       " 4.3,\n",
       " 4.5,\n",
       " 4.7,\n",
       " 4.9,\n",
       " 5.1000000000000005,\n",
       " 5.300000000000001,\n",
       " 5.5,\n",
       " 5.7,\n",
       " 5.9,\n",
       " 6.1000000000000005,\n",
       " 6.300000000000001,\n",
       " 6.5,\n",
       " 6.7,\n",
       " 6.9,\n",
       " 7.1000000000000005,\n",
       " 7.300000000000001,\n",
       " 7.5,\n",
       " 7.7,\n",
       " 7.9,\n",
       " 8.1,\n",
       " 8.3,\n",
       " 8.5,\n",
       " 8.700000000000001,\n",
       " 8.9,\n",
       " 9.1,\n",
       " 9.3,\n",
       " 9.5,\n",
       " 9.700000000000001,\n",
       " 9.9]"
      ]
     },
     "execution_count": 117,
     "metadata": {},
     "output_type": "execute_result"
    }
   ],
   "source": [
    "# a_list 의 각각의 모든 데이터에 0.1 을 곱해보세요, 변경된 a_list의 합과 평균\n",
    "a_list = [i*0.1 for i in a_list]\n",
    "np.sum(a_list)\n",
    "a_list"
   ]
  },
  {
   "cell_type": "code",
   "execution_count": 119,
   "metadata": {},
   "outputs": [
    {
     "data": {
      "text/plain": [
       "5.0"
      ]
     },
     "execution_count": 119,
     "metadata": {},
     "output_type": "execute_result"
    }
   ],
   "source": [
    "avg = np.mean(a_list)\n",
    "avg"
   ]
  },
  {
   "cell_type": "code",
   "execution_count": 120,
   "metadata": {},
   "outputs": [
    {
     "data": {
      "text/plain": [
       "5.0"
      ]
     },
     "execution_count": 120,
     "metadata": {},
     "output_type": "execute_result"
    }
   ],
   "source": [
    "np.median(a_list)"
   ]
  },
  {
   "cell_type": "code",
   "execution_count": 121,
   "metadata": {},
   "outputs": [
    {
     "data": {
      "text/plain": [
       "2.8861739379323628"
      ]
     },
     "execution_count": 121,
     "metadata": {},
     "output_type": "execute_result"
    }
   ],
   "source": [
    "np.std(a_list)"
   ]
  },
  {
   "cell_type": "code",
   "execution_count": 122,
   "metadata": {},
   "outputs": [
    {
     "data": {
      "text/plain": [
       "[0.010000000000000002, 0.030000000000000006, 0.05]"
      ]
     },
     "execution_count": 122,
     "metadata": {},
     "output_type": "execute_result"
    }
   ],
   "source": [
    "[x*0.1 for x in a_list][:3]"
   ]
  },
  {
   "cell_type": "code",
   "execution_count": 123,
   "metadata": {},
   "outputs": [
    {
     "data": {
      "text/html": [
       "<div>\n",
       "<style scoped>\n",
       "    .dataframe tbody tr th:only-of-type {\n",
       "        vertical-align: middle;\n",
       "    }\n",
       "\n",
       "    .dataframe tbody tr th {\n",
       "        vertical-align: top;\n",
       "    }\n",
       "\n",
       "    .dataframe thead th {\n",
       "        text-align: right;\n",
       "    }\n",
       "</style>\n",
       "<table border=\"1\" class=\"dataframe\">\n",
       "  <thead>\n",
       "    <tr style=\"text-align: right;\">\n",
       "      <th></th>\n",
       "      <th>A</th>\n",
       "      <th>B</th>\n",
       "      <th>C</th>\n",
       "      <th>D</th>\n",
       "      <th>E</th>\n",
       "      <th>F</th>\n",
       "      <th>H</th>\n",
       "      <th>Z</th>\n",
       "    </tr>\n",
       "  </thead>\n",
       "  <tbody>\n",
       "    <tr>\n",
       "      <td>0</td>\n",
       "      <td>0.529512</td>\n",
       "      <td>0.013154</td>\n",
       "      <td>-0.248240</td>\n",
       "      <td>-0.575082</td>\n",
       "      <td>4</td>\n",
       "      <td>0.281271</td>\n",
       "      <td>1</td>\n",
       "      <td>1</td>\n",
       "    </tr>\n",
       "    <tr>\n",
       "      <td>1</td>\n",
       "      <td>-0.903633</td>\n",
       "      <td>-0.403140</td>\n",
       "      <td>-0.541145</td>\n",
       "      <td>1.114976</td>\n",
       "      <td>4</td>\n",
       "      <td>-1.444779</td>\n",
       "      <td>1</td>\n",
       "      <td>9</td>\n",
       "    </tr>\n",
       "    <tr>\n",
       "      <td>2</td>\n",
       "      <td>-0.591011</td>\n",
       "      <td>0.086953</td>\n",
       "      <td>2.393127</td>\n",
       "      <td>-0.995368</td>\n",
       "      <td>4</td>\n",
       "      <td>1.802116</td>\n",
       "      <td>1</td>\n",
       "      <td>8</td>\n",
       "    </tr>\n",
       "    <tr>\n",
       "      <td>3</td>\n",
       "      <td>0.765612</td>\n",
       "      <td>1.900393</td>\n",
       "      <td>0.051393</td>\n",
       "      <td>-0.662570</td>\n",
       "      <td>4</td>\n",
       "      <td>0.817006</td>\n",
       "      <td>1</td>\n",
       "      <td>6</td>\n",
       "    </tr>\n",
       "    <tr>\n",
       "      <td>4</td>\n",
       "      <td>0.257443</td>\n",
       "      <td>-0.274768</td>\n",
       "      <td>-1.126487</td>\n",
       "      <td>-1.308297</td>\n",
       "      <td>4</td>\n",
       "      <td>-0.869044</td>\n",
       "      <td>1</td>\n",
       "      <td>4</td>\n",
       "    </tr>\n",
       "    <tr>\n",
       "      <td>5</td>\n",
       "      <td>0.396133</td>\n",
       "      <td>-0.692762</td>\n",
       "      <td>-0.205202</td>\n",
       "      <td>0.379219</td>\n",
       "      <td>4</td>\n",
       "      <td>0.190931</td>\n",
       "      <td>1</td>\n",
       "      <td>6</td>\n",
       "    </tr>\n",
       "  </tbody>\n",
       "</table>\n",
       "</div>"
      ],
      "text/plain": [
       "          A         B         C         D  E         F  H  Z\n",
       "0  0.529512  0.013154 -0.248240 -0.575082  4  0.281271  1  1\n",
       "1 -0.903633 -0.403140 -0.541145  1.114976  4 -1.444779  1  9\n",
       "2 -0.591011  0.086953  2.393127 -0.995368  4  1.802116  1  8\n",
       "3  0.765612  1.900393  0.051393 -0.662570  4  0.817006  1  6\n",
       "4  0.257443 -0.274768 -1.126487 -1.308297  4 -0.869044  1  4\n",
       "5  0.396133 -0.692762 -0.205202  0.379219  4  0.190931  1  6"
      ]
     },
     "execution_count": 123,
     "metadata": {},
     "output_type": "execute_result"
    }
   ],
   "source": [
    "df3"
   ]
  },
  {
   "cell_type": "code",
   "execution_count": 125,
   "metadata": {},
   "outputs": [
    {
     "data": {
      "text/html": [
       "<div>\n",
       "<style scoped>\n",
       "    .dataframe tbody tr th:only-of-type {\n",
       "        vertical-align: middle;\n",
       "    }\n",
       "\n",
       "    .dataframe tbody tr th {\n",
       "        vertical-align: top;\n",
       "    }\n",
       "\n",
       "    .dataframe thead th {\n",
       "        text-align: right;\n",
       "    }\n",
       "</style>\n",
       "<table border=\"1\" class=\"dataframe\">\n",
       "  <thead>\n",
       "    <tr style=\"text-align: right;\">\n",
       "      <th></th>\n",
       "      <th>A</th>\n",
       "      <th>B</th>\n",
       "      <th>C</th>\n",
       "      <th>D</th>\n",
       "    </tr>\n",
       "  </thead>\n",
       "  <tbody>\n",
       "    <tr>\n",
       "      <td>0</td>\n",
       "      <td>0.529512</td>\n",
       "      <td>0.013154</td>\n",
       "      <td>-0.248240</td>\n",
       "      <td>-0.575082</td>\n",
       "    </tr>\n",
       "    <tr>\n",
       "      <td>1</td>\n",
       "      <td>-0.903633</td>\n",
       "      <td>-0.403140</td>\n",
       "      <td>-0.541145</td>\n",
       "      <td>1.114976</td>\n",
       "    </tr>\n",
       "    <tr>\n",
       "      <td>2</td>\n",
       "      <td>-0.591011</td>\n",
       "      <td>0.086953</td>\n",
       "      <td>2.393127</td>\n",
       "      <td>-0.995368</td>\n",
       "    </tr>\n",
       "    <tr>\n",
       "      <td>3</td>\n",
       "      <td>0.765612</td>\n",
       "      <td>1.900393</td>\n",
       "      <td>0.051393</td>\n",
       "      <td>-0.662570</td>\n",
       "    </tr>\n",
       "    <tr>\n",
       "      <td>4</td>\n",
       "      <td>0.257443</td>\n",
       "      <td>-0.274768</td>\n",
       "      <td>-1.126487</td>\n",
       "      <td>-1.308297</td>\n",
       "    </tr>\n",
       "    <tr>\n",
       "      <td>5</td>\n",
       "      <td>0.396133</td>\n",
       "      <td>-0.692762</td>\n",
       "      <td>-0.205202</td>\n",
       "      <td>0.379219</td>\n",
       "    </tr>\n",
       "  </tbody>\n",
       "</table>\n",
       "</div>"
      ],
      "text/plain": [
       "          A         B         C         D\n",
       "0  0.529512  0.013154 -0.248240 -0.575082\n",
       "1 -0.903633 -0.403140 -0.541145  1.114976\n",
       "2 -0.591011  0.086953  2.393127 -0.995368\n",
       "3  0.765612  1.900393  0.051393 -0.662570\n",
       "4  0.257443 -0.274768 -1.126487 -1.308297\n",
       "5  0.396133 -0.692762 -0.205202  0.379219"
      ]
     },
     "execution_count": 125,
     "metadata": {},
     "output_type": "execute_result"
    }
   ],
   "source": [
    "df3.drop(columns=[\"Z\", \"E\", \"F\", \"H\"], inplace=True)\n",
    "df3"
   ]
  },
  {
   "cell_type": "code",
   "execution_count": 126,
   "metadata": {},
   "outputs": [
    {
     "data": {
      "text/html": [
       "<div>\n",
       "<style scoped>\n",
       "    .dataframe tbody tr th:only-of-type {\n",
       "        vertical-align: middle;\n",
       "    }\n",
       "\n",
       "    .dataframe tbody tr th {\n",
       "        vertical-align: top;\n",
       "    }\n",
       "\n",
       "    .dataframe thead th {\n",
       "        text-align: right;\n",
       "    }\n",
       "</style>\n",
       "<table border=\"1\" class=\"dataframe\">\n",
       "  <thead>\n",
       "    <tr style=\"text-align: right;\">\n",
       "      <th></th>\n",
       "      <th>A</th>\n",
       "      <th>B</th>\n",
       "      <th>C</th>\n",
       "      <th>D</th>\n",
       "    </tr>\n",
       "  </thead>\n",
       "  <tbody>\n",
       "    <tr>\n",
       "      <td>0</td>\n",
       "      <td>0.529512</td>\n",
       "      <td>0.013154</td>\n",
       "      <td>-0.248240</td>\n",
       "      <td>-0.575082</td>\n",
       "    </tr>\n",
       "    <tr>\n",
       "      <td>1</td>\n",
       "      <td>-0.903633</td>\n",
       "      <td>-0.403140</td>\n",
       "      <td>-0.541145</td>\n",
       "      <td>1.114976</td>\n",
       "    </tr>\n",
       "    <tr>\n",
       "      <td>2</td>\n",
       "      <td>-0.591011</td>\n",
       "      <td>0.086953</td>\n",
       "      <td>2.393127</td>\n",
       "      <td>-0.995368</td>\n",
       "    </tr>\n",
       "    <tr>\n",
       "      <td>3</td>\n",
       "      <td>0.765612</td>\n",
       "      <td>1.900393</td>\n",
       "      <td>0.051393</td>\n",
       "      <td>-0.662570</td>\n",
       "    </tr>\n",
       "    <tr>\n",
       "      <td>4</td>\n",
       "      <td>0.257443</td>\n",
       "      <td>-0.274768</td>\n",
       "      <td>-1.126487</td>\n",
       "      <td>-1.308297</td>\n",
       "    </tr>\n",
       "    <tr>\n",
       "      <td>5</td>\n",
       "      <td>0.396133</td>\n",
       "      <td>-0.692762</td>\n",
       "      <td>-0.205202</td>\n",
       "      <td>0.379219</td>\n",
       "    </tr>\n",
       "  </tbody>\n",
       "</table>\n",
       "</div>"
      ],
      "text/plain": [
       "          A         B         C         D\n",
       "0  0.529512  0.013154 -0.248240 -0.575082\n",
       "1 -0.903633 -0.403140 -0.541145  1.114976\n",
       "2 -0.591011  0.086953  2.393127 -0.995368\n",
       "3  0.765612  1.900393  0.051393 -0.662570\n",
       "4  0.257443 -0.274768 -1.126487 -1.308297\n",
       "5  0.396133 -0.692762 -0.205202  0.379219"
      ]
     },
     "execution_count": 126,
     "metadata": {},
     "output_type": "execute_result"
    }
   ],
   "source": [
    "df3"
   ]
  },
  {
   "cell_type": "code",
   "execution_count": 129,
   "metadata": {},
   "outputs": [
    {
     "data": {
      "text/html": [
       "<div>\n",
       "<style scoped>\n",
       "    .dataframe tbody tr th:only-of-type {\n",
       "        vertical-align: middle;\n",
       "    }\n",
       "\n",
       "    .dataframe tbody tr th {\n",
       "        vertical-align: top;\n",
       "    }\n",
       "\n",
       "    .dataframe thead th {\n",
       "        text-align: right;\n",
       "    }\n",
       "</style>\n",
       "<table border=\"1\" class=\"dataframe\">\n",
       "  <thead>\n",
       "    <tr style=\"text-align: right;\">\n",
       "      <th></th>\n",
       "      <th>A</th>\n",
       "      <th>B</th>\n",
       "      <th>C</th>\n",
       "      <th>D</th>\n",
       "    </tr>\n",
       "  </thead>\n",
       "  <tbody>\n",
       "    <tr>\n",
       "      <td>0</td>\n",
       "      <td>0.529512</td>\n",
       "      <td>0.013154</td>\n",
       "      <td>-0.248240</td>\n",
       "      <td>-0.575082</td>\n",
       "    </tr>\n",
       "    <tr>\n",
       "      <td>1</td>\n",
       "      <td>-0.903633</td>\n",
       "      <td>-0.403140</td>\n",
       "      <td>-0.541145</td>\n",
       "      <td>1.114976</td>\n",
       "    </tr>\n",
       "    <tr>\n",
       "      <td>2</td>\n",
       "      <td>-0.591011</td>\n",
       "      <td>0.086953</td>\n",
       "      <td>2.393127</td>\n",
       "      <td>-0.995368</td>\n",
       "    </tr>\n",
       "    <tr>\n",
       "      <td>3</td>\n",
       "      <td>0.765612</td>\n",
       "      <td>1.900393</td>\n",
       "      <td>0.051393</td>\n",
       "      <td>-0.662570</td>\n",
       "    </tr>\n",
       "    <tr>\n",
       "      <td>4</td>\n",
       "      <td>0.257443</td>\n",
       "      <td>-0.274768</td>\n",
       "      <td>-1.126487</td>\n",
       "      <td>-1.308297</td>\n",
       "    </tr>\n",
       "    <tr>\n",
       "      <td>5</td>\n",
       "      <td>0.396133</td>\n",
       "      <td>-0.692762</td>\n",
       "      <td>-0.205202</td>\n",
       "      <td>0.379219</td>\n",
       "    </tr>\n",
       "    <tr>\n",
       "      <td>6</td>\n",
       "      <td>1.000000</td>\n",
       "      <td>1.000000</td>\n",
       "      <td>1.000000</td>\n",
       "      <td>1.000000</td>\n",
       "    </tr>\n",
       "  </tbody>\n",
       "</table>\n",
       "</div>"
      ],
      "text/plain": [
       "          A         B         C         D\n",
       "0  0.529512  0.013154 -0.248240 -0.575082\n",
       "1 -0.903633 -0.403140 -0.541145  1.114976\n",
       "2 -0.591011  0.086953  2.393127 -0.995368\n",
       "3  0.765612  1.900393  0.051393 -0.662570\n",
       "4  0.257443 -0.274768 -1.126487 -1.308297\n",
       "5  0.396133 -0.692762 -0.205202  0.379219\n",
       "6  1.000000  1.000000  1.000000  1.000000"
      ]
     },
     "execution_count": 129,
     "metadata": {},
     "output_type": "execute_result"
    }
   ],
   "source": [
    "df3.loc[6]=[1,1,1,1]\n",
    "df3"
   ]
  },
  {
   "cell_type": "code",
   "execution_count": null,
   "metadata": {},
   "outputs": [],
   "source": []
  }
 ],
 "metadata": {
  "kernelspec": {
   "display_name": "Python 3",
   "language": "python",
   "name": "python3"
  },
  "language_info": {
   "codemirror_mode": {
    "name": "ipython",
    "version": 3
   },
   "file_extension": ".py",
   "mimetype": "text/x-python",
   "name": "python",
   "nbconvert_exporter": "python",
   "pygments_lexer": "ipython3",
   "version": "3.7.4"
  }
 },
 "nbformat": 4,
 "nbformat_minor": 2
}
