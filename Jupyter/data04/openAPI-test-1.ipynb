{
 "cells": [
  {
   "cell_type": "code",
   "execution_count": 7,
   "metadata": {},
   "outputs": [
    {
     "name": "stdout",
     "output_type": "stream",
     "text": [
      "b'{\"header\":{\"resultCode\":\"00\",\"resultMsg\":\"NORMAL SERVICE.\"},\"body\":{\"pageNo\":1,\"totalCount\":1,\"numOfRows\":3,\"items\":[{\"YYYY\":\"2020\",\"MM\":\"12\",\"KIT_PROD_QTY\":\"8,037,499\",\"KIT_EXPRT_QTY\":\"7,770,134\",\"KIT_STOCK_QTY\":\"12,027,702\"}]}}'\n"
     ]
    }
   ],
   "source": [
    "import requests  \n",
    "url = 'http://apis.data.go.kr/1471000/CovidDagnsRgntProdExprtStusService/getCovidDagnsRgntProdExprtStusInq' \n",
    "params ={'serviceKey' : '1TanxHdS/5oT82LY6mFLABvV2vxxgnDfSMurOex4q4pDqMLbWSmajH8lolOLqqFKtLxfshqqC0BlSytwCL1KBA==', \n",
    "         'pageNo' : '1', \n",
    "         'numOfRows' : '3', \n",
    "         'type' : 'json', \n",
    "         'YYYY' : '2020', 'MM' : '12' }  \n",
    "response = requests.get(url, params=params) \n",
    "print(response.content)\n"
   ]
  },
  {
   "cell_type": "code",
   "execution_count": 8,
   "metadata": {},
   "outputs": [],
   "source": [
    "# encode: 1TanxHdS%2F5oT82LY6mFLABvV2vxxgnDfSMurOex4q4pDqMLbWSmajH8lolOLqqFKtLxfshqqC0BlSytwCL1KBA%3D%3D\n",
    "# decode: 1TanxHdS/5oT82LY6mFLABvV2vxxgnDfSMurOex4q4pDqMLbWSmajH8lolOLqqFKtLxfshqqC0BlSytwCL1KBA==\n"
   ]
  },
  {
   "cell_type": "code",
   "execution_count": 12,
   "metadata": {},
   "outputs": [
    {
     "data": {
      "text/plain": [
       "<Response [200]>"
      ]
     },
     "execution_count": 12,
     "metadata": {},
     "output_type": "execute_result"
    }
   ],
   "source": [
    "import requests\n",
    "\n",
    "headers = {\n",
    "    'accept': 'application/json',\n",
    "    'Authorization': '1TanxHdS/5oT82LY6mFLABvV2vxxgnDfSMurOex4q4pDqMLbWSmajH8lolOLqqFKtLxfshqqC0BlSytwCL1KBA==',\n",
    "}\n",
    "\n",
    "params = (\n",
    "    ('page', '1'),\n",
    "    ('perPage', '1000'),\n",
    "    ('serviceKey', '1TanxHdS/5oT82LY6mFLABvV2vxxgnDfSMurOex4q4pDqMLbWSmajH8lolOLqqFKtLxfshqqC0BlSytwCL1KBA=='),\n",
    ")\n",
    "url = 'https://api.odcloud.kr/api/15069309/v1/uddi:973ad0df-617a-4565-8e82-8ea7869e75d4'\n",
    "## decode key가 적용되었음.\n",
    "## api마다 연결이 되지 않는다고 한다면, encode, decode를 바꾸어 테스트해볼 것.\n",
    "response = requests.get(url, headers=headers, params=params)\n",
    "response"
   ]
  },
  {
   "cell_type": "code",
   "execution_count": 19,
   "metadata": {},
   "outputs": [
    {
     "data": {
      "text/plain": [
       "{'currentCount': 16,\n",
       " 'data': [{'시도': '제주', '여행 횟수(천회)': '681.03', '연도': 2018, '연령대': '15~19세'},\n",
       "  {'시도': '제주', '여행 횟수(천회)': '2425.62', '연도': 2018, '연령대': '20대'},\n",
       "  {'시도': '제주', '여행 횟수(천회)': '2793.06', '연도': 2018, '연령대': '30대'},\n",
       "  {'시도': '제주', '여행 횟수(천회)': '3329.35', '연도': 2018, '연령대': '40대'},\n",
       "  {'시도': '제주', '여행 횟수(천회)': '2617.75', '연도': 2018, '연령대': '50대'},\n",
       "  {'시도': '제주', '여행 횟수(천회)': '1375.87', '연도': 2018, '연령대': '60대'},\n",
       "  {'시도': '제주', '여행 횟수(천회)': '999.71', '연도': 2018, '연령대': '70세이상'},\n",
       "  {'시도': '제주', '여행 횟수(천회)': '14222.39', '연도': 2018, '연령대': '전체'},\n",
       "  {'시도': '제주', '여행 횟수(천회)': '380.03', '연도': 2019, '연령대': '15~19세'},\n",
       "  {'시도': '제주', '여행 횟수(천회)': '2519.80', '연도': 2019, '연령대': '20대'},\n",
       "  {'시도': '제주', '여행 횟수(천회)': '2685.78', '연도': 2019, '연령대': '30대'},\n",
       "  {'시도': '제주', '여행 횟수(천회)': '2075.70', '연도': 2019, '연령대': '40대'},\n",
       "  {'시도': '제주', '여행 횟수(천회)': '2870.27', '연도': 2019, '연령대': '50대'},\n",
       "  {'시도': '제주', '여행 횟수(천회)': '1368.37', '연도': 2019, '연령대': '60대'},\n",
       "  {'시도': '제주', '여행 횟수(천회)': '648.85', '연도': 2019, '연령대': '70세이상'},\n",
       "  {'시도': '제주', '여행 횟수(천회)': '12548.79', '연도': 2019, '연령대': '전체'}],\n",
       " 'matchCount': 16,\n",
       " 'page': 1,\n",
       " 'perPage': 1000,\n",
       " 'totalCount': 16}"
      ]
     },
     "execution_count": 19,
     "metadata": {},
     "output_type": "execute_result"
    }
   ],
   "source": [
    "json_total = response.json()\n",
    "json_total"
   ]
  },
  {
   "cell_type": "code",
   "execution_count": 15,
   "metadata": {},
   "outputs": [
    {
     "ename": "SyntaxError",
     "evalue": "invalid syntax (<ipython-input-15-932419df80b5>, line 1)",
     "output_type": "error",
     "traceback": [
      "\u001b[1;36m  File \u001b[1;32m\"<ipython-input-15-932419df80b5>\"\u001b[1;36m, line \u001b[1;32m1\u001b[0m\n\u001b[1;33m    https://api.odcloud.kr/api/15096952/v1/uddi:548a642e-0c99-41e0-b45c-afb7368e73cb?page=1&perPage=10&serviceKey=1TanxHdS%2F5oT82LY6mFLABvV2vxxgnDfSMurOex4q4pDqMLbWSmajH8lolOLqqFKtLxfshqqC0BlSytwCL1KBA%3D%3D\u001b[0m\n\u001b[1;37m           ^\u001b[0m\n\u001b[1;31mSyntaxError\u001b[0m\u001b[1;31m:\u001b[0m invalid syntax\n"
     ]
    }
   ],
   "source": [
    "https://api.odcloud.kr/api/15096952/v1/uddi:548a642e-0c99-41e0-b45c-afb7368e73cb?page=1&perPage=10&serviceKey=1TanxHdS%2F5oT82LY6mFLABvV2vxxgnDfSMurOex4q4pDqMLbWSmajH8lolOLqqFKtLxfshqqC0BlSytwCL1KBA%3D%3D"
   ]
  },
  {
   "cell_type": "code",
   "execution_count": 17,
   "metadata": {},
   "outputs": [
    {
     "data": {
      "text/plain": [
       "<Response [200]>"
      ]
     },
     "execution_count": 17,
     "metadata": {},
     "output_type": "execute_result"
    }
   ],
   "source": [
    "import requests\n",
    "\n",
    "headers = {\n",
    "    'accept': 'application/json',\n",
    "    'Authorization': '1TanxHdS/5oT82LY6mFLABvV2vxxgnDfSMurOex4q4pDqMLbWSmajH8lolOLqqFKtLxfshqqC0BlSytwCL1KBA==',\n",
    "}\n",
    "\n",
    "params = (\n",
    "    ('page', '1'),\n",
    "    ('perPage', '1000'),\n",
    "    ('serviceKey', '1TanxHdS/5oT82LY6mFLABvV2vxxgnDfSMurOex4q4pDqMLbWSmajH8lolOLqqFKtLxfshqqC0BlSytwCL1KBA=='),\n",
    ")\n",
    "url = 'https://api.odcloud.kr/api/15096952/v1/uddi:548a642e-0c99-41e0-b45c-afb7368e73cb'\n",
    "## decode key가 적용되었음.\n",
    "## api마다 연결이 되지 않는다고 한다면, encode, decode를 바꾸어 테스트해볼 것.\n",
    "response = requests.get(url, headers=headers, params=params)\n",
    "response"
   ]
  },
  {
   "cell_type": "code",
   "execution_count": 18,
   "metadata": {},
   "outputs": [
    {
     "data": {
      "text/plain": [
       "b'{\"currentCount\":16,\"data\":[{\"\\xec\\x8b\\x9c\\xeb\\x8f\\x84\":\"\\xec\\xa0\\x9c\\xec\\xa3\\xbc\",\"\\xec\\x97\\xac\\xed\\x96\\x89 \\xed\\x9a\\x9f\\xec\\x88\\x98(\\xec\\xb2\\x9c\\xed\\x9a\\x8c)\":\"681.03\",\"\\xec\\x97\\xb0\\xeb\\x8f\\x84\":2018,\"\\xec\\x97\\xb0\\xeb\\xa0\\xb9\\xeb\\x8c\\x80\":\"15~19\\xec\\x84\\xb8\"},{\"\\xec\\x8b\\x9c\\xeb\\x8f\\x84\":\"\\xec\\xa0\\x9c\\xec\\xa3\\xbc\",\"\\xec\\x97\\xac\\xed\\x96\\x89 \\xed\\x9a\\x9f\\xec\\x88\\x98(\\xec\\xb2\\x9c\\xed\\x9a\\x8c)\":\"2425.62\",\"\\xec\\x97\\xb0\\xeb\\x8f\\x84\":2018,\"\\xec\\x97\\xb0\\xeb\\xa0\\xb9\\xeb\\x8c\\x80\":\"20\\xeb\\x8c\\x80\"},{\"\\xec\\x8b\\x9c\\xeb\\x8f\\x84\":\"\\xec\\xa0\\x9c\\xec\\xa3\\xbc\",\"\\xec\\x97\\xac\\xed\\x96\\x89 \\xed\\x9a\\x9f\\xec\\x88\\x98(\\xec\\xb2\\x9c\\xed\\x9a\\x8c)\":\"2793.06\",\"\\xec\\x97\\xb0\\xeb\\x8f\\x84\":2018,\"\\xec\\x97\\xb0\\xeb\\xa0\\xb9\\xeb\\x8c\\x80\":\"30\\xeb\\x8c\\x80\"},{\"\\xec\\x8b\\x9c\\xeb\\x8f\\x84\":\"\\xec\\xa0\\x9c\\xec\\xa3\\xbc\",\"\\xec\\x97\\xac\\xed\\x96\\x89 \\xed\\x9a\\x9f\\xec\\x88\\x98(\\xec\\xb2\\x9c\\xed\\x9a\\x8c)\":\"3329.35\",\"\\xec\\x97\\xb0\\xeb\\x8f\\x84\":2018,\"\\xec\\x97\\xb0\\xeb\\xa0\\xb9\\xeb\\x8c\\x80\":\"40\\xeb\\x8c\\x80\"},{\"\\xec\\x8b\\x9c\\xeb\\x8f\\x84\":\"\\xec\\xa0\\x9c\\xec\\xa3\\xbc\",\"\\xec\\x97\\xac\\xed\\x96\\x89 \\xed\\x9a\\x9f\\xec\\x88\\x98(\\xec\\xb2\\x9c\\xed\\x9a\\x8c)\":\"2617.75\",\"\\xec\\x97\\xb0\\xeb\\x8f\\x84\":2018,\"\\xec\\x97\\xb0\\xeb\\xa0\\xb9\\xeb\\x8c\\x80\":\"50\\xeb\\x8c\\x80\"},{\"\\xec\\x8b\\x9c\\xeb\\x8f\\x84\":\"\\xec\\xa0\\x9c\\xec\\xa3\\xbc\",\"\\xec\\x97\\xac\\xed\\x96\\x89 \\xed\\x9a\\x9f\\xec\\x88\\x98(\\xec\\xb2\\x9c\\xed\\x9a\\x8c)\":\"1375.87\",\"\\xec\\x97\\xb0\\xeb\\x8f\\x84\":2018,\"\\xec\\x97\\xb0\\xeb\\xa0\\xb9\\xeb\\x8c\\x80\":\"60\\xeb\\x8c\\x80\"},{\"\\xec\\x8b\\x9c\\xeb\\x8f\\x84\":\"\\xec\\xa0\\x9c\\xec\\xa3\\xbc\",\"\\xec\\x97\\xac\\xed\\x96\\x89 \\xed\\x9a\\x9f\\xec\\x88\\x98(\\xec\\xb2\\x9c\\xed\\x9a\\x8c)\":\"999.71\",\"\\xec\\x97\\xb0\\xeb\\x8f\\x84\":2018,\"\\xec\\x97\\xb0\\xeb\\xa0\\xb9\\xeb\\x8c\\x80\":\"70\\xec\\x84\\xb8\\xec\\x9d\\xb4\\xec\\x83\\x81\"},{\"\\xec\\x8b\\x9c\\xeb\\x8f\\x84\":\"\\xec\\xa0\\x9c\\xec\\xa3\\xbc\",\"\\xec\\x97\\xac\\xed\\x96\\x89 \\xed\\x9a\\x9f\\xec\\x88\\x98(\\xec\\xb2\\x9c\\xed\\x9a\\x8c)\":\"14222.39\",\"\\xec\\x97\\xb0\\xeb\\x8f\\x84\":2018,\"\\xec\\x97\\xb0\\xeb\\xa0\\xb9\\xeb\\x8c\\x80\":\"\\xec\\xa0\\x84\\xec\\xb2\\xb4\"},{\"\\xec\\x8b\\x9c\\xeb\\x8f\\x84\":\"\\xec\\xa0\\x9c\\xec\\xa3\\xbc\",\"\\xec\\x97\\xac\\xed\\x96\\x89 \\xed\\x9a\\x9f\\xec\\x88\\x98(\\xec\\xb2\\x9c\\xed\\x9a\\x8c)\":\"380.03\",\"\\xec\\x97\\xb0\\xeb\\x8f\\x84\":2019,\"\\xec\\x97\\xb0\\xeb\\xa0\\xb9\\xeb\\x8c\\x80\":\"15~19\\xec\\x84\\xb8\"},{\"\\xec\\x8b\\x9c\\xeb\\x8f\\x84\":\"\\xec\\xa0\\x9c\\xec\\xa3\\xbc\",\"\\xec\\x97\\xac\\xed\\x96\\x89 \\xed\\x9a\\x9f\\xec\\x88\\x98(\\xec\\xb2\\x9c\\xed\\x9a\\x8c)\":\"2519.80\",\"\\xec\\x97\\xb0\\xeb\\x8f\\x84\":2019,\"\\xec\\x97\\xb0\\xeb\\xa0\\xb9\\xeb\\x8c\\x80\":\"20\\xeb\\x8c\\x80\"},{\"\\xec\\x8b\\x9c\\xeb\\x8f\\x84\":\"\\xec\\xa0\\x9c\\xec\\xa3\\xbc\",\"\\xec\\x97\\xac\\xed\\x96\\x89 \\xed\\x9a\\x9f\\xec\\x88\\x98(\\xec\\xb2\\x9c\\xed\\x9a\\x8c)\":\"2685.78\",\"\\xec\\x97\\xb0\\xeb\\x8f\\x84\":2019,\"\\xec\\x97\\xb0\\xeb\\xa0\\xb9\\xeb\\x8c\\x80\":\"30\\xeb\\x8c\\x80\"},{\"\\xec\\x8b\\x9c\\xeb\\x8f\\x84\":\"\\xec\\xa0\\x9c\\xec\\xa3\\xbc\",\"\\xec\\x97\\xac\\xed\\x96\\x89 \\xed\\x9a\\x9f\\xec\\x88\\x98(\\xec\\xb2\\x9c\\xed\\x9a\\x8c)\":\"2075.70\",\"\\xec\\x97\\xb0\\xeb\\x8f\\x84\":2019,\"\\xec\\x97\\xb0\\xeb\\xa0\\xb9\\xeb\\x8c\\x80\":\"40\\xeb\\x8c\\x80\"},{\"\\xec\\x8b\\x9c\\xeb\\x8f\\x84\":\"\\xec\\xa0\\x9c\\xec\\xa3\\xbc\",\"\\xec\\x97\\xac\\xed\\x96\\x89 \\xed\\x9a\\x9f\\xec\\x88\\x98(\\xec\\xb2\\x9c\\xed\\x9a\\x8c)\":\"2870.27\",\"\\xec\\x97\\xb0\\xeb\\x8f\\x84\":2019,\"\\xec\\x97\\xb0\\xeb\\xa0\\xb9\\xeb\\x8c\\x80\":\"50\\xeb\\x8c\\x80\"},{\"\\xec\\x8b\\x9c\\xeb\\x8f\\x84\":\"\\xec\\xa0\\x9c\\xec\\xa3\\xbc\",\"\\xec\\x97\\xac\\xed\\x96\\x89 \\xed\\x9a\\x9f\\xec\\x88\\x98(\\xec\\xb2\\x9c\\xed\\x9a\\x8c)\":\"1368.37\",\"\\xec\\x97\\xb0\\xeb\\x8f\\x84\":2019,\"\\xec\\x97\\xb0\\xeb\\xa0\\xb9\\xeb\\x8c\\x80\":\"60\\xeb\\x8c\\x80\"},{\"\\xec\\x8b\\x9c\\xeb\\x8f\\x84\":\"\\xec\\xa0\\x9c\\xec\\xa3\\xbc\",\"\\xec\\x97\\xac\\xed\\x96\\x89 \\xed\\x9a\\x9f\\xec\\x88\\x98(\\xec\\xb2\\x9c\\xed\\x9a\\x8c)\":\"648.85\",\"\\xec\\x97\\xb0\\xeb\\x8f\\x84\":2019,\"\\xec\\x97\\xb0\\xeb\\xa0\\xb9\\xeb\\x8c\\x80\":\"70\\xec\\x84\\xb8\\xec\\x9d\\xb4\\xec\\x83\\x81\"},{\"\\xec\\x8b\\x9c\\xeb\\x8f\\x84\":\"\\xec\\xa0\\x9c\\xec\\xa3\\xbc\",\"\\xec\\x97\\xac\\xed\\x96\\x89 \\xed\\x9a\\x9f\\xec\\x88\\x98(\\xec\\xb2\\x9c\\xed\\x9a\\x8c)\":\"12548.79\",\"\\xec\\x97\\xb0\\xeb\\x8f\\x84\":2019,\"\\xec\\x97\\xb0\\xeb\\xa0\\xb9\\xeb\\x8c\\x80\":\"\\xec\\xa0\\x84\\xec\\xb2\\xb4\"}],\"matchCount\":16,\"page\":1,\"perPage\":1000,\"totalCount\":16}\\n'"
      ]
     },
     "execution_count": 18,
     "metadata": {},
     "output_type": "execute_result"
    }
   ],
   "source": [
    "response.content"
   ]
  },
  {
   "cell_type": "code",
   "execution_count": null,
   "metadata": {},
   "outputs": [],
   "source": []
  }
 ],
 "metadata": {
  "kernelspec": {
   "display_name": "Python 3 (ipykernel)",
   "language": "python",
   "name": "python3"
  },
  "language_info": {
   "codemirror_mode": {
    "name": "ipython",
    "version": 3
   },
   "file_extension": ".py",
   "mimetype": "text/x-python",
   "name": "python",
   "nbconvert_exporter": "python",
   "pygments_lexer": "ipython3",
   "version": "3.9.10"
  }
 },
 "nbformat": 4,
 "nbformat_minor": 4
}
