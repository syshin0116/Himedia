{
 "cells": [
  {
   "cell_type": "code",
   "execution_count": 7,
   "metadata": {},
   "outputs": [
    {
     "name": "stdout",
     "output_type": "stream",
     "text": [
      "b'{\"header\":{\"resultCode\":\"00\",\"resultMsg\":\"NORMAL SERVICE.\"},\"body\":{\"pageNo\":1,\"totalCount\":1,\"numOfRows\":3,\"items\":[{\"YYYY\":\"2020\",\"MM\":\"12\",\"KIT_PROD_QTY\":\"8,037,499\",\"KIT_EXPRT_QTY\":\"7,770,134\",\"KIT_STOCK_QTY\":\"12,027,702\"}]}}'\n"
     ]
    }
   ],
   "source": [
    "import requests  \n",
    "url = 'http://apis.data.go.kr/1471000/CovidDagnsRgntProdExprtStusService/getCovidDagnsRgntProdExprtStusInq' \n",
    "params ={'serviceKey' : '1TanxHdS/5oT82LY6mFLABvV2vxxgnDfSMurOex4q4pDqMLbWSmajH8lolOLqqFKtLxfshqqC0BlSytwCL1KBA==', \n",
    "         'pageNo' : '1', \n",
    "         'numOfRows' : '3', \n",
    "         'type' : 'json', \n",
    "         'YYYY' : '2020', 'MM' : '12' }  \n",
    "response = requests.get(url, params=params) \n",
    "print(response.content)\n"
   ]
  },
  {
   "cell_type": "code",
   "execution_count": 8,
   "metadata": {},
   "outputs": [],
   "source": [
    "# encode: 1TanxHdS%2F5oT82LY6mFLABvV2vxxgnDfSMurOex4q4pDqMLbWSmajH8lolOLqqFKtLxfshqqC0BlSytwCL1KBA%3D%3D\n",
    "# decode: 1TanxHdS/5oT82LY6mFLABvV2vxxgnDfSMurOex4q4pDqMLbWSmajH8lolOLqqFKtLxfshqqC0BlSytwCL1KBA==\n"
   ]
  },
  {
   "cell_type": "code",
   "execution_count": 10,
   "metadata": {},
   "outputs": [
    {
     "data": {
      "text/plain": [
       "<Response [200]>"
      ]
     },
     "execution_count": 10,
     "metadata": {},
     "output_type": "execute_result"
    }
   ],
   "source": [
    "import requests\n",
    "\n",
    "headers = {\n",
    "    'accept': 'application/json',\n",
    "    'Authorization': '1TanxHdS/5oT82LY6mFLABvV2vxxgnDfSMurOex4q4pDqMLbWSmajH8lolOLqqFKtLxfshqqC0BlSytwCL1KBA==',\n",
    "}\n",
    "\n",
    "params = (\n",
    "    ('page', '1'),\n",
    "    ('perPage', '1000'),\n",
    "    ('serviceKey', '1TanxHdS/5oT82LY6mFLABvV2vxxgnDfSMurOex4q4pDqMLbWSmajH8lolOLqqFKtLxfshqqC0BlSytwCL1KBA=='),\n",
    ")\n",
    "url = 'https://api.odcloud.kr/api/15069309/v1/uddi:973ad0df-617a-4565-8e82-8ea7869e75d4'\n",
    "## decode key가 적용되었음.\n",
    "## api마다 연결이 되지 않는다고 한다면, encode, decode를 바꾸어 테스트해볼 것.\n",
    "response = requests.get(url, headers=headers, params=params)\n",
    "response"
   ]
  }
 ],
 "metadata": {
  "kernelspec": {
   "display_name": "Python 3",
   "language": "python",
   "name": "python3"
  },
  "language_info": {
   "codemirror_mode": {
    "name": "ipython",
    "version": 3
   },
   "file_extension": ".py",
   "mimetype": "text/x-python",
   "name": "python",
   "nbconvert_exporter": "python",
   "pygments_lexer": "ipython3",
   "version": "3.7.4"
  }
 },
 "nbformat": 4,
 "nbformat_minor": 2
}
