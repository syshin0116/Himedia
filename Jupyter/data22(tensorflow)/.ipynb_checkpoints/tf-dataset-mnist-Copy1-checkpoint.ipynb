{
 "cells": [
  {
   "cell_type": "code",
   "execution_count": 1,
   "id": "645945d0-5dbc-4c45-a749-f294c792e64b",
   "metadata": {},
   "outputs": [],
   "source": [
    "import tensorflow as tf\n",
    "from tensorflow.keras.layers import Dense, Conv2D, MaxPooling2D,Flatten\n",
    "from tensorflow.keras.models import Sequential\n",
    "from tensorflow.keras.datasets import mnist"
   ]
  },
  {
   "cell_type": "markdown",
   "id": "1245bb4f-3e40-4f20-8cf9-96aacd6af803",
   "metadata": {},
   "source": [
    "## 1. 이미지셋을 읽기"
   ]
  },
  {
   "cell_type": "code",
   "execution_count": 2,
   "id": "a8484c7f-3766-4b4d-bad0-474eeaf9c7a1",
   "metadata": {},
   "outputs": [
    {
     "data": {
      "text/plain": [
       "((60000, 28, 28), (60000,))"
      ]
     },
     "execution_count": 2,
     "metadata": {},
     "output_type": "execute_result"
    }
   ],
   "source": [
    "(train_images, train_labels), (test_images, test_labels) = mnist.load_data()\n",
    "train_images.shape, train_labels.shape"
   ]
  },
  {
   "cell_type": "code",
   "execution_count": 3,
   "id": "c358e597-132c-49d2-9995-a96fdb655385",
   "metadata": {},
   "outputs": [
    {
     "data": {
      "text/plain": [
       "(28, 28)"
      ]
     },
     "execution_count": 3,
     "metadata": {},
     "output_type": "execute_result"
    }
   ],
   "source": [
    "train_images[0].shape"
   ]
  },
  {
   "cell_type": "code",
   "execution_count": 4,
   "id": "40fb1902-4a4e-4c7b-938b-8ba4930b053b",
   "metadata": {},
   "outputs": [
    {
     "data": {
      "text/plain": [
       "array([5, 0, 4, 1, 9], dtype=uint8)"
      ]
     },
     "execution_count": 4,
     "metadata": {},
     "output_type": "execute_result"
    }
   ],
   "source": [
    "train_labels[:5]"
   ]
  },
  {
   "cell_type": "code",
   "execution_count": null,
   "id": "3a8328f2-4784-4e92-9742-2abb0e1cd3b5",
   "metadata": {},
   "outputs": [],
   "source": []
  },
  {
   "cell_type": "code",
   "execution_count": null,
   "id": "5fc665d6-faca-4af0-ab4f-2111ca96a8ce",
   "metadata": {},
   "outputs": [],
   "source": []
  },
  {
   "cell_type": "markdown",
   "id": "4fe7ceb7-92da-480f-a307-82d462f4cde1",
   "metadata": {
    "tags": []
   },
   "source": [
    "## 2. 이미지 데이터 전처리 -> 4차원\n",
    "###    1) 4차원을 만들어준다\n",
    "###      - 이미지셋 자체는 3차원: 이미지(2차원)이 여러장\n",
    "###      - 이미지 픽셀마다의 특정(특징)을 추출하는 처리를 하기 위한 차원 하나 더 추가\n",
    "###    2) 데이터를 읽어왔을 때 픽셀마다의 값의 명암정도만 가지고 있음(0-255) (검은색-흰색)\n",
    "###      - 0~1 사이로 스케일링(표준화)시켜줌\n",
    "###      - 방법)255로 나눠주면 됨\n",
    "###    3) 이미지는 크기가 아주 다양함 -> 크기를 표준화"
   ]
  },
  {
   "cell_type": "code",
   "execution_count": 5,
   "id": "d2ae2461-7dcd-407b-b3f2-185bf6712279",
   "metadata": {},
   "outputs": [],
   "source": [
    "# 1) 4차원 만들기\n",
    "train_images = train_images.reshape((60000, 28, 28, 1))\n",
    "test_images = test_images.reshape((10000, 28, 28, 1))"
   ]
  },
  {
   "cell_type": "code",
   "execution_count": 6,
   "id": "45335aeb-eb75-4cef-8f57-36ac783565af",
   "metadata": {},
   "outputs": [
    {
     "data": {
      "text/plain": [
       "((60000, 28, 28, 1), (10000, 28, 28, 1))"
      ]
     },
     "execution_count": 6,
     "metadata": {},
     "output_type": "execute_result"
    }
   ],
   "source": [
    "train_images.shape, test_images.shape"
   ]
  },
  {
   "cell_type": "code",
   "execution_count": 7,
   "id": "0c43d839-e6cd-4932-9cb5-0ae59897acec",
   "metadata": {},
   "outputs": [],
   "source": [
    "train_images, test_images = train_images/255.0, test_images/255.0"
   ]
  },
  {
   "cell_type": "markdown",
   "id": "ade70153-751c-4a18-bbeb-aa15c6864f77",
   "metadata": {},
   "source": [
    "## 3. 특성 추출처리"
   ]
  },
  {
   "cell_type": "code",
   "execution_count": 8,
   "id": "f986da27-6f3d-4d84-a8f4-b644849f9949",
   "metadata": {},
   "outputs": [
    {
     "name": "stdout",
     "output_type": "stream",
     "text": [
      "Metal device set to: Apple M1 Pro\n"
     ]
    },
    {
     "name": "stderr",
     "output_type": "stream",
     "text": [
      "2022-06-08 12:17:10.063392: I tensorflow/core/common_runtime/pluggable_device/pluggable_device_factory.cc:305] Could not identify NUMA node of platform GPU ID 0, defaulting to 0. Your kernel may not have been built with NUMA support.\n",
      "2022-06-08 12:17:10.063516: I tensorflow/core/common_runtime/pluggable_device/pluggable_device_factory.cc:271] Created TensorFlow device (/job:localhost/replica:0/task:0/device:GPU:0 with 0 MB memory) -> physical PluggableDevice (device: 0, name: METAL, pci bus id: <undefined>)\n"
     ]
    }
   ],
   "source": [
    "model = Sequential()"
   ]
  },
  {
   "cell_type": "code",
   "execution_count": 9,
   "id": "a749e6a3-9ff5-477d-b067-5b451e913885",
   "metadata": {},
   "outputs": [],
   "source": [
    "model.add(Conv2D(32, (3,3), activation='sigmoid', input_shape=(28, 28, 1)))\n",
    "model.add(MaxPooling2D((2, 2)))\n",
    "model.add(Conv2D(64, (3,3), activation='sigmoid'))\n",
    "model.add(MaxPooling2D((2, 2)))\n",
    "model.add(Conv2D(64, (3,3), activation='sigmoid'))"
   ]
  },
  {
   "cell_type": "markdown",
   "id": "8937b410-fa6d-4d00-8a78-b431f47384b5",
   "metadata": {},
   "source": [
    "## 4. 특성 추출한 결과를 학습 데이터로 넣어서 학습할 예정\n",
    "### deep modeling\n",
    "###     1) 특성추출한 이미지 데이터를 1차원으로 만들어주세요. (Flatten())\n",
    "###     2) 딥러닝 심층신경망(deep MLP)\n",
    "###     3) fit()"
   ]
  },
  {
   "cell_type": "code",
   "execution_count": 10,
   "id": "bc06e4c2-4503-4f32-9b83-2d1072a80259",
   "metadata": {},
   "outputs": [],
   "source": [
    "model.add(Flatten()) ## 입력층\n",
    "model.add(Dense(64, activation='sigmoid')) ## 히든층\n",
    "model.add(Dense(10, activation='softmax')) ## 출력층"
   ]
  },
  {
   "cell_type": "code",
   "execution_count": 11,
   "id": "7baf52e6-5002-4ce3-bd95-311a757c1ae3",
   "metadata": {},
   "outputs": [
    {
     "name": "stdout",
     "output_type": "stream",
     "text": [
      "Model: \"sequential\"\n",
      "_________________________________________________________________\n",
      " Layer (type)                Output Shape              Param #   \n",
      "=================================================================\n",
      " conv2d (Conv2D)             (None, 26, 26, 32)        320       \n",
      "                                                                 \n",
      " max_pooling2d (MaxPooling2D  (None, 13, 13, 32)       0         \n",
      " )                                                               \n",
      "                                                                 \n",
      " conv2d_1 (Conv2D)           (None, 11, 11, 64)        18496     \n",
      "                                                                 \n",
      " max_pooling2d_1 (MaxPooling  (None, 5, 5, 64)         0         \n",
      " 2D)                                                             \n",
      "                                                                 \n",
      " conv2d_2 (Conv2D)           (None, 3, 3, 64)          36928     \n",
      "                                                                 \n",
      " flatten (Flatten)           (None, 576)               0         \n",
      "                                                                 \n",
      " dense (Dense)               (None, 64)                36928     \n",
      "                                                                 \n",
      " dense_1 (Dense)             (None, 10)                650       \n",
      "                                                                 \n",
      "=================================================================\n",
      "Total params: 93,322\n",
      "Trainable params: 93,322\n",
      "Non-trainable params: 0\n",
      "_________________________________________________________________\n"
     ]
    }
   ],
   "source": [
    "model.summary()"
   ]
  },
  {
   "cell_type": "code",
   "execution_count": 12,
   "id": "dd9a8ce3-966b-42a2-b80b-e88fdad6df59",
   "metadata": {},
   "outputs": [],
   "source": [
    "model.compile(\n",
    "    optimizer='adam',\n",
    "    loss='sparse_categorical_crossentropy',\n",
    "    metrics=['accuracy']\n",
    ")"
   ]
  },
  {
   "cell_type": "code",
   "execution_count": 13,
   "id": "5fd6ef46-bbe7-4be9-9f2c-0fadd693081d",
   "metadata": {},
   "outputs": [
    {
     "name": "stdout",
     "output_type": "stream",
     "text": [
      "Epoch 1/2\n"
     ]
    },
    {
     "name": "stderr",
     "output_type": "stream",
     "text": [
      "2022-06-08 12:17:10.278182: W tensorflow/core/platform/profile_utils/cpu_utils.cc:128] Failed to get CPU frequency: 0 Hz\n",
      "2022-06-08 12:17:10.468332: I tensorflow/core/grappler/optimizers/custom_graph_optimizer_registry.cc:113] Plugin optimizer for device_type GPU is enabled.\n"
     ]
    },
    {
     "name": "stdout",
     "output_type": "stream",
     "text": [
      "600/600 [==============================] - 5s 7ms/step - loss: 1.1978 - accuracy: 0.5951\n",
      "Epoch 2/2\n",
      "600/600 [==============================] - 4s 7ms/step - loss: 0.1880 - accuracy: 0.9485\n"
     ]
    },
    {
     "data": {
      "text/plain": [
       "<keras.callbacks.History at 0x160334af0>"
      ]
     },
     "execution_count": 13,
     "metadata": {},
     "output_type": "execute_result"
    }
   ],
   "source": [
    "history = model.fit(train_images, train_labels, epochs=2, batch_size=100)\n",
    "history"
   ]
  },
  {
   "cell_type": "markdown",
   "id": "a6be2357-3793-431a-8cf3-bcde22f2260c",
   "metadata": {},
   "source": [
    "## 5. 모델에 대해 평가\n",
    "###     1) test데이터를 검증 => overfitting 여부 확인!!\n",
    "###     2) 시각화로 평가"
   ]
  },
  {
   "cell_type": "code",
   "execution_count": 14,
   "id": "468ff834-c3a5-48fb-91e8-ea2fc3883af8",
   "metadata": {},
   "outputs": [
    {
     "name": "stdout",
     "output_type": "stream",
     "text": [
      " 25/313 [=>............................] - ETA: 1s - loss: 0.1248 - accuracy: 0.9600"
     ]
    },
    {
     "name": "stderr",
     "output_type": "stream",
     "text": [
      "2022-06-08 12:17:19.668104: I tensorflow/core/grappler/optimizers/custom_graph_optimizer_registry.cc:113] Plugin optimizer for device_type GPU is enabled.\n"
     ]
    },
    {
     "name": "stdout",
     "output_type": "stream",
     "text": [
      "313/313 [==============================] - 2s 4ms/step - loss: 0.1201 - accuracy: 0.9672\n"
     ]
    },
    {
     "data": {
      "text/plain": [
       "(0.12005998194217682, 0.9672000408172607)"
      ]
     },
     "execution_count": 14,
     "metadata": {},
     "output_type": "execute_result"
    }
   ],
   "source": [
    "loss, acc = model.evaluate(test_images, test_labels)\n",
    "loss, acc"
   ]
  },
  {
   "cell_type": "code",
   "execution_count": 15,
   "id": "84e078df-bfca-42a3-bc59-e87a2a31071e",
   "metadata": {},
   "outputs": [
    {
     "name": "stdout",
     "output_type": "stream",
     "text": [
      " 88/313 [=======>......................] - ETA: 0s"
     ]
    },
    {
     "name": "stderr",
     "output_type": "stream",
     "text": [
      "2022-06-08 12:17:21.099264: I tensorflow/core/grappler/optimizers/custom_graph_optimizer_registry.cc:113] Plugin optimizer for device_type GPU is enabled.\n"
     ]
    },
    {
     "name": "stdout",
     "output_type": "stream",
     "text": [
      "313/313 [==============================] - 1s 2ms/step\n"
     ]
    },
    {
     "data": {
      "text/plain": [
       "array([1.6064175e-04, 2.8896268e-04, 9.6204929e-04, 1.7062698e-03,\n",
       "       1.9792689e-04, 9.9707744e-05, 1.6388364e-06, 9.9298090e-01,\n",
       "       1.0663650e-04, 3.4953649e-03], dtype=float32)"
      ]
     },
     "execution_count": 15,
     "metadata": {},
     "output_type": "execute_result"
    }
   ],
   "source": [
    "y_pred = model.predict(test_images)\n",
    "y_pred[0]"
   ]
  },
  {
   "cell_type": "code",
   "execution_count": 16,
   "id": "c29f7f37-cf7c-453c-9449-c38aa7b0ac01",
   "metadata": {},
   "outputs": [],
   "source": [
    "import numpy as np"
   ]
  },
  {
   "cell_type": "code",
   "execution_count": 17,
   "id": "108629b2-09e1-4499-a441-f8e417ea0b5b",
   "metadata": {},
   "outputs": [
    {
     "data": {
      "text/plain": [
       "7"
      ]
     },
     "execution_count": 17,
     "metadata": {},
     "output_type": "execute_result"
    }
   ],
   "source": [
    "y_pred0_index = np.argmax(y_pred[0]) \n",
    "y_pred0_index"
   ]
  },
  {
   "cell_type": "code",
   "execution_count": 18,
   "id": "6f9d09fb-8b14-4413-9e60-8b37ad81dac5",
   "metadata": {},
   "outputs": [
    {
     "data": {
      "text/plain": [
       "array([7, 2, 1, ..., 4, 5, 6])"
      ]
     },
     "execution_count": 18,
     "metadata": {},
     "output_type": "execute_result"
    }
   ],
   "source": [
    "y_pred_test = np.argmax(y_pred, axis= -1)\n",
    "y_pred_test"
   ]
  },
  {
   "cell_type": "code",
   "execution_count": 19,
   "id": "8ce15ffd-0ade-478b-8101-c0f3b6e3ab90",
   "metadata": {},
   "outputs": [
    {
     "name": "stdout",
     "output_type": "stream",
     "text": [
      "0.9672\n",
      "[[ 970    0    1    0    0    1    5    1    2    0]\n",
      " [   0 1124    3    2    0    0    4    0    2    0]\n",
      " [   8    2  996    7    2    0    4    9    4    0]\n",
      " [   1    0    7  980    0    4    0   10    8    0]\n",
      " [   1    1    2    0  940    0   12    2    1   23]\n",
      " [   7    1    0   17    2  845    7    3    9    1]\n",
      " [   6    2    2    0    4    2  941    0    1    0]\n",
      " [   2    5   19    0    0    0    0  997    3    2]\n",
      " [  11    0    5    6    3    2    9    6  927    5]\n",
      " [  10    7    0    5   14    3    1   11    6  952]]\n"
     ]
    }
   ],
   "source": [
    "from sklearn.metrics import accuracy_score, precision_score, recall_score, confusion_matrix\n",
    "\n",
    "print(accuracy_score(test_labels, y_pred_test))\n",
    "print(confusion_matrix(test_labels, y_pred_test))"
   ]
  },
  {
   "cell_type": "code",
   "execution_count": 20,
   "id": "bf091704-4c1e-4950-9aba-fe2110dadbc3",
   "metadata": {},
   "outputs": [
    {
     "data": {
      "text/plain": [
       "(10, 10)"
      ]
     },
     "execution_count": 20,
     "metadata": {},
     "output_type": "execute_result"
    }
   ],
   "source": [
    "result = confusion_matrix(test_labels, y_pred_test)\n",
    "result.shape"
   ]
  },
  {
   "cell_type": "code",
   "execution_count": 21,
   "id": "aa0eb7ad-0bb1-4e66-aaa4-cb4783fc3d8e",
   "metadata": {},
   "outputs": [
    {
     "data": {
      "text/plain": [
       "(970, 1124)"
      ]
     },
     "execution_count": 21,
     "metadata": {},
     "output_type": "execute_result"
    }
   ],
   "source": [
    "result[0][0], result[1][1]"
   ]
  },
  {
   "cell_type": "code",
   "execution_count": 22,
   "id": "6e177c49-cfb6-44df-83b8-d9cdd34b9fe5",
   "metadata": {},
   "outputs": [
    {
     "data": {
      "text/plain": [
       "[970, 1124, 996, 980, 940, 845, 941, 997, 927, 952]"
      ]
     },
     "execution_count": 22,
     "metadata": {},
     "output_type": "execute_result"
    }
   ],
   "source": [
    "result_acc = []\n",
    "for x in range(0, 10):\n",
    "    result_acc.append(result[x][x])\n",
    "result_acc"
   ]
  },
  {
   "cell_type": "code",
   "execution_count": 23,
   "id": "ff6a0e56-c022-47ae-b45a-3925f64ce621",
   "metadata": {},
   "outputs": [
    {
     "data": {
      "image/png": "[encoded data removed]",
      "text/plain": [
       "<Figure size 432x288 with 1 Axes>"
      ]
     },
     "metadata": {
      "needs_background": "light"
     },
     "output_type": "display_data"
    }
   ],
   "source": [
    "import matplotlib.pyplot as plt\n",
    "plt.plot(result_acc)\n",
    "plt.grid()\n",
    "plt.show()"
   ]
  },
  {
   "cell_type": "code",
   "execution_count": 24,
   "id": "1fa85cbe-d241-44fa-bf3b-a8626633cdb8",
   "metadata": {},
   "outputs": [
    {
     "data": {
      "text/plain": [
       "0.9673459135006962"
      ]
     },
     "execution_count": 24,
     "metadata": {},
     "output_type": "execute_result"
    }
   ],
   "source": [
    "precision_score(test_labels, y_pred_test, average='weighted')"
   ]
  },
  {
   "cell_type": "code",
   "execution_count": 28,
   "id": "663a2377-7237-42b7-97dd-f099bcc10304",
   "metadata": {},
   "outputs": [
    {
     "data": {
      "image/png": "[encoded data removed]",
      "text/plain": [
       "<Figure size 432x288 with 1 Axes>"
      ]
     },
     "metadata": {
      "needs_background": "light"
     },
     "output_type": "display_data"
    }
   ],
   "source": [
    "import matplotlib.pyplot as plt\n",
    "plt.plot(history.history['loss'])\n",
    "plt.plot(history.history['accuracy'])\n",
    "plt.legend(['train_loss','train_accuracy'])\n",
    "plt.grid()\n",
    "plt.show()"
   ]
  },
  {
   "cell_type": "code",
   "execution_count": null,
   "id": "734228f2-9d6f-4a6a-ab8d-d307b327e1b9",
   "metadata": {},
   "outputs": [],
   "source": []
  },
  {
   "cell_type": "code",
   "execution_count": null,
   "id": "145fd2f2-a068-4b30-9264-1ee9170202f9",
   "metadata": {},
   "outputs": [],
   "source": []
  },
  {
   "cell_type": "code",
   "execution_count": null,
   "id": "53ea1124-1af6-43bd-94ff-b2805647cb84",
   "metadata": {},
   "outputs": [],
   "source": []
  }
 ],
 "metadata": {
  "kernelspec": {
   "display_name": "Python 3 (ipykernel)",
   "language": "python",
   "name": "python3"
  },
  "language_info": {
   "codemirror_mode": {
    "name": "ipython",
    "version": 3
   },
   "file_extension": ".py",
   "mimetype": "text/x-python",
   "name": "python",
   "nbconvert_exporter": "python",
   "pygments_lexer": "ipython3",
   "version": "3.9.10"
  }
 },
 "nbformat": 4,
 "nbformat_minor": 5
}
