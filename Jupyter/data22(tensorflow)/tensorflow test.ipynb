{
 "cells": [
  {
   "cell_type": "code",
   "execution_count": null,
   "id": "21a02fe5-967e-4bb1-877d-8305ce56f391",
   "metadata": {},
   "outputs": [],
   "source": []
  },
  {
   "cell_type": "code",
   "execution_count": 1,
   "id": "7d5d3b27-8729-4309-a37a-b842d9a068c0",
   "metadata": {},
   "outputs": [
    {
     "name": "stdout",
     "output_type": "stream",
     "text": [
      "TensorFlow version: 2.9.0\n",
      "Num GPUs Available:  1\n",
      "Num CPUs Available:  1\n"
     ]
    }
   ],
   "source": [
    "import tensorflow as tf\n",
    "import tensorflow_datasets as tfds\n",
    "print(\"TensorFlow version:\", tf.__version__)\n",
    "print(\"Num GPUs Available: \", len(tf.config.experimental.list_physical_devices('GPU')))\n",
    "print(\"Num CPUs Available: \", len(tf.config.experimental.list_physical_devices('CPU')))"
   ]
  },
  {
   "cell_type": "code",
   "execution_count": 2,
   "id": "3829e861-4c8c-4ba8-a6fd-eade07b256c2",
   "metadata": {},
   "outputs": [
    {
     "name": "stdout",
     "output_type": "stream",
     "text": [
      "Metal device set to: Apple M1 Pro\n",
      "Epoch 1/12\n"
     ]
    },
    {
     "name": "stderr",
     "output_type": "stream",
     "text": [
      "2022-06-02 09:52:10.134488: I tensorflow/core/common_runtime/pluggable_device/pluggable_device_factory.cc:305] Could not identify NUMA node of platform GPU ID 0, defaulting to 0. Your kernel may not have been built with NUMA support.\n",
      "2022-06-02 09:52:10.134829: I tensorflow/core/common_runtime/pluggable_device/pluggable_device_factory.cc:271] Created TensorFlow device (/job:localhost/replica:0/task:0/device:GPU:0 with 0 MB memory) -> physical PluggableDevice (device: 0, name: METAL, pci bus id: <undefined>)\n",
      "2022-06-02 09:52:10.543959: W tensorflow/core/platform/profile_utils/cpu_utils.cc:128] Failed to get CPU frequency: 0 Hz\n",
      "2022-06-02 09:52:10.547161: I tensorflow/core/grappler/optimizers/custom_graph_optimizer_registry.cc:113] Plugin optimizer for device_type GPU is enabled.\n"
     ]
    },
    {
     "name": "stdout",
     "output_type": "stream",
     "text": [
      "469/469 [==============================] - ETA: 0s - loss: 0.1631 - accuracy: 0.9514"
     ]
    },
    {
     "name": "stderr",
     "output_type": "stream",
     "text": [
      "2022-06-02 09:52:16.823483: I tensorflow/core/grappler/optimizers/custom_graph_optimizer_registry.cc:113] Plugin optimizer for device_type GPU is enabled.\n"
     ]
    },
    {
     "name": "stdout",
     "output_type": "stream",
     "text": [
      "469/469 [==============================] - 7s 12ms/step - loss: 0.1631 - accuracy: 0.9514 - val_loss: 0.0528 - val_accuracy: 0.9841\n",
      "Epoch 2/12\n",
      "469/469 [==============================] - 5s 12ms/step - loss: 0.0438 - accuracy: 0.9871 - val_loss: 0.0373 - val_accuracy: 0.9880\n",
      "Epoch 3/12\n",
      "469/469 [==============================] - 5s 11ms/step - loss: 0.0283 - accuracy: 0.9911 - val_loss: 0.0360 - val_accuracy: 0.9878\n",
      "Epoch 4/12\n",
      "469/469 [==============================] - 5s 12ms/step - loss: 0.0187 - accuracy: 0.9941 - val_loss: 0.0290 - val_accuracy: 0.9905\n",
      "Epoch 5/12\n",
      "469/469 [==============================] - 6s 12ms/step - loss: 0.0149 - accuracy: 0.9951 - val_loss: 0.0371 - val_accuracy: 0.9892\n",
      "Epoch 6/12\n",
      "469/469 [==============================] - 5s 11ms/step - loss: 0.0098 - accuracy: 0.9969 - val_loss: 0.0350 - val_accuracy: 0.9896\n",
      "Epoch 7/12\n",
      "469/469 [==============================] - 5s 11ms/step - loss: 0.0080 - accuracy: 0.9973 - val_loss: 0.0361 - val_accuracy: 0.9896\n",
      "Epoch 8/12\n",
      "469/469 [==============================] - 5s 11ms/step - loss: 0.0065 - accuracy: 0.9978 - val_loss: 0.0348 - val_accuracy: 0.9903\n",
      "Epoch 9/12\n",
      "469/469 [==============================] - 5s 12ms/step - loss: 0.0062 - accuracy: 0.9979 - val_loss: 0.0345 - val_accuracy: 0.9913\n",
      "Epoch 10/12\n",
      "469/469 [==============================] - 5s 12ms/step - loss: 0.0062 - accuracy: 0.9978 - val_loss: 0.0376 - val_accuracy: 0.9901\n",
      "Epoch 11/12\n",
      "469/469 [==============================] - 6s 12ms/step - loss: 0.0060 - accuracy: 0.9980 - val_loss: 0.0383 - val_accuracy: 0.9893\n",
      "Epoch 12/12\n",
      "469/469 [==============================] - 6s 13ms/step - loss: 0.0026 - accuracy: 0.9993 - val_loss: 0.0418 - val_accuracy: 0.9890\n"
     ]
    },
    {
     "data": {
      "text/plain": [
       "<keras.callbacks.History at 0x2bbd46820>"
      ]
     },
     "execution_count": 2,
     "metadata": {},
     "output_type": "execute_result"
    }
   ],
   "source": [
    "(ds_train, ds_test), ds_info = tfds.load(\n",
    "    'mnist',\n",
    "    split=['train', 'test'],\n",
    "    shuffle_files=True,\n",
    "    as_supervised=True,\n",
    "    with_info=True,\n",
    ")\n",
    "\n",
    "def normalize_img(image, label):\n",
    "  \"\"\"Normalizes images: `uint8` -> `float32`.\"\"\"\n",
    "  return tf.cast(image, tf.float32) / 255., label\n",
    "\n",
    "batch_size = 128\n",
    "ds_train = ds_train.map(\n",
    "    normalize_img, num_parallel_calls=tf.data.experimental.AUTOTUNE)\n",
    "ds_train = ds_train.cache()\n",
    "ds_train = ds_train.shuffle(ds_info.splits['train'].num_examples)\n",
    "ds_train = ds_train.batch(batch_size)\n",
    "ds_train = ds_train.prefetch(tf.data.experimental.AUTOTUNE)\n",
    "ds_test = ds_test.map(\n",
    "    normalize_img, num_parallel_calls=tf.data.experimental.AUTOTUNE)\n",
    "\n",
    "ds_test = ds_test.batch(batch_size)\n",
    "ds_test = ds_test.cache()\n",
    "ds_test = ds_test.prefetch(tf.data.experimental.AUTOTUNE)\n",
    "\n",
    "model = tf.keras.models.Sequential([\n",
    "  tf.keras.layers.Conv2D(32, kernel_size=(3, 3),\n",
    "                 activation='relu'),\n",
    "  tf.keras.layers.Conv2D(64, kernel_size=(3, 3),\n",
    "                 activation='relu'),\n",
    "  tf.keras.layers.MaxPooling2D(pool_size=(2, 2)),\n",
    "  tf.keras.layers.Flatten(),\n",
    "  tf.keras.layers.Dense(128, activation='relu'),\n",
    "  tf.keras.layers.Dense(10, activation='softmax')\n",
    "])\n",
    "\n",
    "model.compile(\n",
    "    loss='sparse_categorical_crossentropy',\n",
    "    optimizer=tf.keras.optimizers.Adam(0.001),\n",
    "    metrics=['accuracy'],\n",
    ")\n",
    "\n",
    "model.fit(\n",
    "    ds_train,\n",
    "    epochs=12,\n",
    "    validation_data=ds_test,\n",
    ")"
   ]
  },
  {
   "cell_type": "code",
   "execution_count": 3,
   "id": "8c728785-45c8-4f38-bc3c-2366745e7b3a",
   "metadata": {},
   "outputs": [
    {
     "data": {
      "text/plain": [
       "'2.9.0'"
      ]
     },
     "execution_count": 3,
     "metadata": {},
     "output_type": "execute_result"
    }
   ],
   "source": [
    "tf.__version__"
   ]
  },
  {
   "cell_type": "code",
   "execution_count": null,
   "id": "24838b7e-04dd-4c92-9156-9fb3f6d6316f",
   "metadata": {},
   "outputs": [],
   "source": []
  }
 ],
 "metadata": {
  "kernelspec": {
   "display_name": "Python 3 (ipykernel)",
   "language": "python",
   "name": "python3"
  },
  "language_info": {
   "codemirror_mode": {
    "name": "ipython",
    "version": 3
   },
   "file_extension": ".py",
   "mimetype": "text/x-python",
   "name": "python",
   "nbconvert_exporter": "python",
   "pygments_lexer": "ipython3",
   "version": "3.9.10"
  }
 },
 "nbformat": 4,
 "nbformat_minor": 5
}
