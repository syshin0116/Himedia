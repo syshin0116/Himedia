{
 "cells": [
  {
   "cell_type": "code",
   "execution_count": 94,
   "id": "8d8249c9-b925-4d7b-bc41-bb3e9405919b",
   "metadata": {},
   "outputs": [],
   "source": [
    "list_data=[1,2,3]\n"
   ]
  },
  {
   "cell_type": "code",
   "execution_count": 95,
   "id": "901cb75d-0584-45fc-8c98-487ab7f326d3",
   "metadata": {},
   "outputs": [],
   "source": [
    "list_data2=[1,2,3,-1,5]\n"
   ]
  },
  {
   "cell_type": "code",
   "execution_count": 96,
   "id": "50cdac52-8568-45ac-bba0-999ed973ebcf",
   "metadata": {},
   "outputs": [],
   "source": [
    "positive_negative = lambda x:'양수' if x> 0 else '음수'"
   ]
  },
  {
   "cell_type": "code",
   "execution_count": 97,
   "id": "0ab1926c-1af8-4459-8a49-cb95f25def14",
   "metadata": {},
   "outputs": [
    {
     "data": {
      "text/plain": [
       "['양수', '양수', '양수', '음수', '양수']"
      ]
     },
     "execution_count": 97,
     "metadata": {},
     "output_type": "execute_result"
    }
   ],
   "source": [
    "result_pn = list(map(positive_negative, list_data2))\n",
    "result_pn"
   ]
  },
  {
   "cell_type": "code",
   "execution_count": 98,
   "id": "3b146562-78fe-4020-8a39-7b3d926a5673",
   "metadata": {},
   "outputs": [],
   "source": [
    "import pandas as pd"
   ]
  },
  {
   "cell_type": "code",
   "execution_count": 99,
   "id": "1953a337-76aa-406c-8f4e-c463c137619d",
   "metadata": {},
   "outputs": [],
   "source": [
    "import numpy as np"
   ]
  },
  {
   "cell_type": "code",
   "execution_count": 100,
   "id": "3ef4fb8a-0eba-47f6-9e0d-46f15e000d21",
   "metadata": {},
   "outputs": [
    {
     "data": {
      "text/html": [
       "<div>\n",
       "<style scoped>\n",
       "    .dataframe tbody tr th:only-of-type {\n",
       "        vertical-align: middle;\n",
       "    }\n",
       "\n",
       "    .dataframe tbody tr th {\n",
       "        vertical-align: top;\n",
       "    }\n",
       "\n",
       "    .dataframe thead th {\n",
       "        text-align: right;\n",
       "    }\n",
       "</style>\n",
       "<table border=\"1\" class=\"dataframe\">\n",
       "  <thead>\n",
       "    <tr style=\"text-align: right;\">\n",
       "      <th></th>\n",
       "      <th>name</th>\n",
       "      <th>age</th>\n",
       "    </tr>\n",
       "  </thead>\n",
       "  <tbody>\n",
       "    <tr>\n",
       "      <th>0</th>\n",
       "      <td>홍길동</td>\n",
       "      <td>100</td>\n",
       "    </tr>\n",
       "    <tr>\n",
       "      <th>1</th>\n",
       "      <td>김길동</td>\n",
       "      <td>200</td>\n",
       "    </tr>\n",
       "    <tr>\n",
       "      <th>2</th>\n",
       "      <td>홍순신</td>\n",
       "      <td>300</td>\n",
       "    </tr>\n",
       "    <tr>\n",
       "      <th>3</th>\n",
       "      <td>정길동</td>\n",
       "      <td>150</td>\n",
       "    </tr>\n",
       "    <tr>\n",
       "      <th>4</th>\n",
       "      <td>송사임</td>\n",
       "      <td>250</td>\n",
       "    </tr>\n",
       "  </tbody>\n",
       "</table>\n",
       "</div>"
      ],
      "text/plain": [
       "  name  age\n",
       "0  홍길동  100\n",
       "1  김길동  200\n",
       "2  홍순신  300\n",
       "3  정길동  150\n",
       "4  송사임  250"
      ]
     },
     "execution_count": 100,
     "metadata": {},
     "output_type": "execute_result"
    }
   ],
   "source": [
    "df1 = pd.DataFrame({\n",
    "    'name':['홍길동', '김길동', '홍순신', '정길동', '송사임'],\n",
    "    'age':[100,200,300,150,250]\n",
    "})\n",
    "df1"
   ]
  },
  {
   "cell_type": "code",
   "execution_count": 101,
   "id": "d0d97688-0437-4895-b2bb-1121d780a2e1",
   "metadata": {},
   "outputs": [
    {
     "data": {
      "text/html": [
       "<div>\n",
       "<style scoped>\n",
       "    .dataframe tbody tr th:only-of-type {\n",
       "        vertical-align: middle;\n",
       "    }\n",
       "\n",
       "    .dataframe tbody tr th {\n",
       "        vertical-align: top;\n",
       "    }\n",
       "\n",
       "    .dataframe thead th {\n",
       "        text-align: right;\n",
       "    }\n",
       "</style>\n",
       "<table border=\"1\" class=\"dataframe\">\n",
       "  <thead>\n",
       "    <tr style=\"text-align: right;\">\n",
       "      <th></th>\n",
       "      <th>name</th>\n",
       "      <th>age</th>\n",
       "      <th>result</th>\n",
       "    </tr>\n",
       "  </thead>\n",
       "  <tbody>\n",
       "    <tr>\n",
       "      <th>0</th>\n",
       "      <td>홍길동</td>\n",
       "      <td>100</td>\n",
       "      <td>양수</td>\n",
       "    </tr>\n",
       "    <tr>\n",
       "      <th>1</th>\n",
       "      <td>김길동</td>\n",
       "      <td>200</td>\n",
       "      <td>양수</td>\n",
       "    </tr>\n",
       "    <tr>\n",
       "      <th>2</th>\n",
       "      <td>홍순신</td>\n",
       "      <td>300</td>\n",
       "      <td>양수</td>\n",
       "    </tr>\n",
       "    <tr>\n",
       "      <th>3</th>\n",
       "      <td>정길동</td>\n",
       "      <td>150</td>\n",
       "      <td>음수</td>\n",
       "    </tr>\n",
       "    <tr>\n",
       "      <th>4</th>\n",
       "      <td>송사임</td>\n",
       "      <td>250</td>\n",
       "      <td>양수</td>\n",
       "    </tr>\n",
       "  </tbody>\n",
       "</table>\n",
       "</div>"
      ],
      "text/plain": [
       "  name  age result\n",
       "0  홍길동  100     양수\n",
       "1  김길동  200     양수\n",
       "2  홍순신  300     양수\n",
       "3  정길동  150     음수\n",
       "4  송사임  250     양수"
      ]
     },
     "execution_count": 101,
     "metadata": {},
     "output_type": "execute_result"
    }
   ],
   "source": [
    "df1['result'] = result_pn\n",
    "df1"
   ]
  },
  {
   "cell_type": "code",
   "execution_count": 102,
   "id": "04c334e7-3ad6-4c59-bcb8-e401f7612f26",
   "metadata": {},
   "outputs": [],
   "source": [
    "age_lambda = lambda x : '고령' if x >= 200 else '보통'"
   ]
  },
  {
   "cell_type": "code",
   "execution_count": 103,
   "id": "10cd5865-079e-4342-a303-4326c198fe9f",
   "metadata": {},
   "outputs": [],
   "source": [
    "age_result = list(map(age_lambda, df1['age'])) ## map(함수, 리스트형태의 자료구조)"
   ]
  },
  {
   "cell_type": "code",
   "execution_count": 104,
   "id": "9ab64778-988e-4cdb-bfe6-5f6c83a53582",
   "metadata": {},
   "outputs": [
    {
     "data": {
      "text/html": [
       "<div>\n",
       "<style scoped>\n",
       "    .dataframe tbody tr th:only-of-type {\n",
       "        vertical-align: middle;\n",
       "    }\n",
       "\n",
       "    .dataframe tbody tr th {\n",
       "        vertical-align: top;\n",
       "    }\n",
       "\n",
       "    .dataframe thead th {\n",
       "        text-align: right;\n",
       "    }\n",
       "</style>\n",
       "<table border=\"1\" class=\"dataframe\">\n",
       "  <thead>\n",
       "    <tr style=\"text-align: right;\">\n",
       "      <th></th>\n",
       "      <th>name</th>\n",
       "      <th>age</th>\n",
       "      <th>result</th>\n",
       "      <th>age_result</th>\n",
       "    </tr>\n",
       "  </thead>\n",
       "  <tbody>\n",
       "    <tr>\n",
       "      <th>0</th>\n",
       "      <td>홍길동</td>\n",
       "      <td>100</td>\n",
       "      <td>양수</td>\n",
       "      <td>보통</td>\n",
       "    </tr>\n",
       "    <tr>\n",
       "      <th>1</th>\n",
       "      <td>김길동</td>\n",
       "      <td>200</td>\n",
       "      <td>양수</td>\n",
       "      <td>고령</td>\n",
       "    </tr>\n",
       "    <tr>\n",
       "      <th>2</th>\n",
       "      <td>홍순신</td>\n",
       "      <td>300</td>\n",
       "      <td>양수</td>\n",
       "      <td>고령</td>\n",
       "    </tr>\n",
       "    <tr>\n",
       "      <th>3</th>\n",
       "      <td>정길동</td>\n",
       "      <td>150</td>\n",
       "      <td>음수</td>\n",
       "      <td>보통</td>\n",
       "    </tr>\n",
       "    <tr>\n",
       "      <th>4</th>\n",
       "      <td>송사임</td>\n",
       "      <td>250</td>\n",
       "      <td>양수</td>\n",
       "      <td>고령</td>\n",
       "    </tr>\n",
       "  </tbody>\n",
       "</table>\n",
       "</div>"
      ],
      "text/plain": [
       "  name  age result age_result\n",
       "0  홍길동  100     양수         보통\n",
       "1  김길동  200     양수         고령\n",
       "2  홍순신  300     양수         고령\n",
       "3  정길동  150     음수         보통\n",
       "4  송사임  250     양수         고령"
      ]
     },
     "execution_count": 104,
     "metadata": {},
     "output_type": "execute_result"
    }
   ],
   "source": [
    "df1['age_result'] = age_result\n",
    "df1"
   ]
  },
  {
   "cell_type": "code",
   "execution_count": 105,
   "id": "9ad7a381-5aef-4f37-a7cd-21af4f8f8715",
   "metadata": {},
   "outputs": [
    {
     "data": {
      "text/html": [
       "<div>\n",
       "<style scoped>\n",
       "    .dataframe tbody tr th:only-of-type {\n",
       "        vertical-align: middle;\n",
       "    }\n",
       "\n",
       "    .dataframe tbody tr th {\n",
       "        vertical-align: top;\n",
       "    }\n",
       "\n",
       "    .dataframe thead th {\n",
       "        text-align: right;\n",
       "    }\n",
       "</style>\n",
       "<table border=\"1\" class=\"dataframe\">\n",
       "  <thead>\n",
       "    <tr style=\"text-align: right;\">\n",
       "      <th></th>\n",
       "      <th>name</th>\n",
       "      <th>age</th>\n",
       "      <th>result</th>\n",
       "      <th>age_result</th>\n",
       "      <th>name_result</th>\n",
       "    </tr>\n",
       "  </thead>\n",
       "  <tbody>\n",
       "    <tr>\n",
       "      <th>0</th>\n",
       "      <td>홍길동</td>\n",
       "      <td>100</td>\n",
       "      <td>양수</td>\n",
       "      <td>보통</td>\n",
       "      <td>1</td>\n",
       "    </tr>\n",
       "    <tr>\n",
       "      <th>1</th>\n",
       "      <td>김길동</td>\n",
       "      <td>200</td>\n",
       "      <td>양수</td>\n",
       "      <td>고령</td>\n",
       "      <td>0</td>\n",
       "    </tr>\n",
       "    <tr>\n",
       "      <th>2</th>\n",
       "      <td>홍순신</td>\n",
       "      <td>300</td>\n",
       "      <td>양수</td>\n",
       "      <td>고령</td>\n",
       "      <td>1</td>\n",
       "    </tr>\n",
       "    <tr>\n",
       "      <th>3</th>\n",
       "      <td>정길동</td>\n",
       "      <td>150</td>\n",
       "      <td>음수</td>\n",
       "      <td>보통</td>\n",
       "      <td>0</td>\n",
       "    </tr>\n",
       "    <tr>\n",
       "      <th>4</th>\n",
       "      <td>송사임</td>\n",
       "      <td>250</td>\n",
       "      <td>양수</td>\n",
       "      <td>고령</td>\n",
       "      <td>0</td>\n",
       "    </tr>\n",
       "  </tbody>\n",
       "</table>\n",
       "</div>"
      ],
      "text/plain": [
       "  name  age result age_result  name_result\n",
       "0  홍길동  100     양수         보통            1\n",
       "1  김길동  200     양수         고령            0\n",
       "2  홍순신  300     양수         고령            1\n",
       "3  정길동  150     음수         보통            0\n",
       "4  송사임  250     양수         고령            0"
      ]
     },
     "execution_count": 105,
     "metadata": {},
     "output_type": "execute_result"
    }
   ],
   "source": [
    "##람다함수를 만들어보세요\n",
    "## name에 '홍'이라는 글자를 포함하고 있으면 1, 아니면 0\n",
    "## 결과를 name_result변수\n",
    "name_lambda = lambda name : 1 if '홍' in name else 0\n",
    "name_result = list(map(name_lambda, df1['name']))\n",
    "df1['name_result'] = name_result\n",
    "df1"
   ]
  },
  {
   "cell_type": "code",
   "execution_count": 106,
   "id": "59e13e3d-ae56-42aa-8955-c23ab1213059",
   "metadata": {},
   "outputs": [
    {
     "data": {
      "text/plain": [
       "True"
      ]
     },
     "execution_count": 106,
     "metadata": {},
     "output_type": "execute_result"
    }
   ],
   "source": [
    "1 in [1,2,3] # in 리슽, 리스트내에 1을 포함하는지"
   ]
  },
  {
   "cell_type": "code",
   "execution_count": 107,
   "id": "978bc7ab-b7a4-4e28-9fb8-b0ece5dbced7",
   "metadata": {},
   "outputs": [],
   "source": [
    "## 참석확인하려고 하는 이름이 '홍길동'\n",
    "## 참석자리스트가 '김길동', '박길동', '송길동'\n",
    "## 포함여부 확인용 --> in, not in"
   ]
  },
  {
   "cell_type": "code",
   "execution_count": 109,
   "id": "9c12e658-3b36-44d6-b388-67372ba7a279",
   "metadata": {},
   "outputs": [
    {
     "name": "stdin",
     "output_type": "stream",
     "text": [
      "확인하고 싶은 이름 입력>> 홍길동\n"
     ]
    },
    {
     "data": {
      "text/plain": [
       "'참석'"
      ]
     },
     "execution_count": 109,
     "metadata": {},
     "output_type": "execute_result"
    }
   ],
   "source": [
    "name = input('확인하고 싶은 이름 입력>>')\n",
    "check_name = lambda name : '참석' if name in list(df1['name']) else '불참석'\n",
    "check_result = check_name(name)\n",
    "check_result"
   ]
  },
  {
   "cell_type": "code",
   "execution_count": 110,
   "id": "d4d492b2-5f2d-44e2-9409-60124eba9773",
   "metadata": {
    "tags": []
   },
   "outputs": [],
   "source": [
    "# df의 result 변수의 값이 양수이면 1, 음수이면 0으로 바궈보세요."
   ]
  },
  {
   "cell_type": "code",
   "execution_count": 111,
   "id": "ac792ad5-0157-4d04-9766-094b0c27d571",
   "metadata": {},
   "outputs": [
    {
     "data": {
      "text/html": [
       "<div>\n",
       "<style scoped>\n",
       "    .dataframe tbody tr th:only-of-type {\n",
       "        vertical-align: middle;\n",
       "    }\n",
       "\n",
       "    .dataframe tbody tr th {\n",
       "        vertical-align: top;\n",
       "    }\n",
       "\n",
       "    .dataframe thead th {\n",
       "        text-align: right;\n",
       "    }\n",
       "</style>\n",
       "<table border=\"1\" class=\"dataframe\">\n",
       "  <thead>\n",
       "    <tr style=\"text-align: right;\">\n",
       "      <th></th>\n",
       "      <th>name</th>\n",
       "      <th>age</th>\n",
       "      <th>result</th>\n",
       "      <th>age_result</th>\n",
       "      <th>name_result</th>\n",
       "    </tr>\n",
       "  </thead>\n",
       "  <tbody>\n",
       "    <tr>\n",
       "      <th>0</th>\n",
       "      <td>홍길동</td>\n",
       "      <td>100</td>\n",
       "      <td>1</td>\n",
       "      <td>보통</td>\n",
       "      <td>1</td>\n",
       "    </tr>\n",
       "    <tr>\n",
       "      <th>1</th>\n",
       "      <td>김길동</td>\n",
       "      <td>200</td>\n",
       "      <td>1</td>\n",
       "      <td>고령</td>\n",
       "      <td>0</td>\n",
       "    </tr>\n",
       "    <tr>\n",
       "      <th>2</th>\n",
       "      <td>홍순신</td>\n",
       "      <td>300</td>\n",
       "      <td>1</td>\n",
       "      <td>고령</td>\n",
       "      <td>1</td>\n",
       "    </tr>\n",
       "    <tr>\n",
       "      <th>3</th>\n",
       "      <td>정길동</td>\n",
       "      <td>150</td>\n",
       "      <td>0</td>\n",
       "      <td>보통</td>\n",
       "      <td>0</td>\n",
       "    </tr>\n",
       "    <tr>\n",
       "      <th>4</th>\n",
       "      <td>송사임</td>\n",
       "      <td>250</td>\n",
       "      <td>1</td>\n",
       "      <td>고령</td>\n",
       "      <td>0</td>\n",
       "    </tr>\n",
       "  </tbody>\n",
       "</table>\n",
       "</div>"
      ],
      "text/plain": [
       "  name  age  result age_result  name_result\n",
       "0  홍길동  100       1         보통            1\n",
       "1  김길동  200       1         고령            0\n",
       "2  홍순신  300       1         고령            1\n",
       "3  정길동  150       0         보통            0\n",
       "4  송사임  250       1         고령            0"
      ]
     },
     "execution_count": 111,
     "metadata": {},
     "output_type": "execute_result"
    }
   ],
   "source": [
    "df1['result'] = list(map((lambda x: 1 if x>0 else 0), list_data2))\n",
    "df1"
   ]
  },
  {
   "cell_type": "code",
   "execution_count": 112,
   "id": "51eaffec-8f3e-41c4-acbd-c6d57a08800a",
   "metadata": {},
   "outputs": [],
   "source": [
    "# age_result의 값이 고령이면 1, 아니면 0으로 변경해보세요\n",
    "# age를 100~200 청년, 200~250 중년, 250 이상 고령"
   ]
  },
  {
   "cell_type": "code",
   "execution_count": 113,
   "id": "c3a7f2e1-8412-4e59-928b-024186a7113f",
   "metadata": {},
   "outputs": [
    {
     "data": {
      "text/html": [
       "<div>\n",
       "<style scoped>\n",
       "    .dataframe tbody tr th:only-of-type {\n",
       "        vertical-align: middle;\n",
       "    }\n",
       "\n",
       "    .dataframe tbody tr th {\n",
       "        vertical-align: top;\n",
       "    }\n",
       "\n",
       "    .dataframe thead th {\n",
       "        text-align: right;\n",
       "    }\n",
       "</style>\n",
       "<table border=\"1\" class=\"dataframe\">\n",
       "  <thead>\n",
       "    <tr style=\"text-align: right;\">\n",
       "      <th></th>\n",
       "      <th>name</th>\n",
       "      <th>age</th>\n",
       "      <th>result</th>\n",
       "      <th>age_result</th>\n",
       "      <th>name_result</th>\n",
       "    </tr>\n",
       "  </thead>\n",
       "  <tbody>\n",
       "    <tr>\n",
       "      <th>0</th>\n",
       "      <td>홍길동</td>\n",
       "      <td>100</td>\n",
       "      <td>1</td>\n",
       "      <td>0</td>\n",
       "      <td>1</td>\n",
       "    </tr>\n",
       "    <tr>\n",
       "      <th>1</th>\n",
       "      <td>김길동</td>\n",
       "      <td>200</td>\n",
       "      <td>1</td>\n",
       "      <td>1</td>\n",
       "      <td>0</td>\n",
       "    </tr>\n",
       "    <tr>\n",
       "      <th>2</th>\n",
       "      <td>홍순신</td>\n",
       "      <td>300</td>\n",
       "      <td>1</td>\n",
       "      <td>1</td>\n",
       "      <td>1</td>\n",
       "    </tr>\n",
       "    <tr>\n",
       "      <th>3</th>\n",
       "      <td>정길동</td>\n",
       "      <td>150</td>\n",
       "      <td>0</td>\n",
       "      <td>0</td>\n",
       "      <td>0</td>\n",
       "    </tr>\n",
       "    <tr>\n",
       "      <th>4</th>\n",
       "      <td>송사임</td>\n",
       "      <td>250</td>\n",
       "      <td>1</td>\n",
       "      <td>1</td>\n",
       "      <td>0</td>\n",
       "    </tr>\n",
       "  </tbody>\n",
       "</table>\n",
       "</div>"
      ],
      "text/plain": [
       "  name  age  result  age_result  name_result\n",
       "0  홍길동  100       1           0            1\n",
       "1  김길동  200       1           1            0\n",
       "2  홍순신  300       1           1            1\n",
       "3  정길동  150       0           0            0\n",
       "4  송사임  250       1           1            0"
      ]
     },
     "execution_count": 113,
     "metadata": {},
     "output_type": "execute_result"
    }
   ],
   "source": [
    "df1['age_result'] = list(map(lambda x: 1 if x=='고령' else 0, df1['age_result']))\n",
    "df1"
   ]
  },
  {
   "cell_type": "code",
   "execution_count": 114,
   "id": "94eaa7b6-c376-4b74-9da4-63c14ca6e814",
   "metadata": {},
   "outputs": [
    {
     "data": {
      "text/html": [
       "<div>\n",
       "<style scoped>\n",
       "    .dataframe tbody tr th:only-of-type {\n",
       "        vertical-align: middle;\n",
       "    }\n",
       "\n",
       "    .dataframe tbody tr th {\n",
       "        vertical-align: top;\n",
       "    }\n",
       "\n",
       "    .dataframe thead th {\n",
       "        text-align: right;\n",
       "    }\n",
       "</style>\n",
       "<table border=\"1\" class=\"dataframe\">\n",
       "  <thead>\n",
       "    <tr style=\"text-align: right;\">\n",
       "      <th></th>\n",
       "      <th>name</th>\n",
       "      <th>age</th>\n",
       "      <th>result</th>\n",
       "      <th>age_result</th>\n",
       "      <th>name_result</th>\n",
       "    </tr>\n",
       "  </thead>\n",
       "  <tbody>\n",
       "    <tr>\n",
       "      <th>0</th>\n",
       "      <td>홍길동</td>\n",
       "      <td>청년</td>\n",
       "      <td>1</td>\n",
       "      <td>0</td>\n",
       "      <td>1</td>\n",
       "    </tr>\n",
       "    <tr>\n",
       "      <th>1</th>\n",
       "      <td>김길동</td>\n",
       "      <td>중년</td>\n",
       "      <td>1</td>\n",
       "      <td>1</td>\n",
       "      <td>0</td>\n",
       "    </tr>\n",
       "    <tr>\n",
       "      <th>2</th>\n",
       "      <td>홍순신</td>\n",
       "      <td>고령</td>\n",
       "      <td>1</td>\n",
       "      <td>1</td>\n",
       "      <td>1</td>\n",
       "    </tr>\n",
       "    <tr>\n",
       "      <th>3</th>\n",
       "      <td>정길동</td>\n",
       "      <td>청년</td>\n",
       "      <td>0</td>\n",
       "      <td>0</td>\n",
       "      <td>0</td>\n",
       "    </tr>\n",
       "    <tr>\n",
       "      <th>4</th>\n",
       "      <td>송사임</td>\n",
       "      <td>고령</td>\n",
       "      <td>1</td>\n",
       "      <td>1</td>\n",
       "      <td>0</td>\n",
       "    </tr>\n",
       "  </tbody>\n",
       "</table>\n",
       "</div>"
      ],
      "text/plain": [
       "  name age  result  age_result  name_result\n",
       "0  홍길동  청년       1           0            1\n",
       "1  김길동  중년       1           1            0\n",
       "2  홍순신  고령       1           1            1\n",
       "3  정길동  청년       0           0            0\n",
       "4  송사임  고령       1           1            0"
      ]
     },
     "execution_count": 114,
     "metadata": {},
     "output_type": "execute_result"
    }
   ],
   "source": [
    "df1['age'] = list(map(lambda x: '청년' if x>=100 and x<200 else ('중년' if x >=200 and x<250 else'고령'), df1['age']))\n",
    "df1"
   ]
  },
  {
   "cell_type": "code",
   "execution_count": 115,
   "id": "7b090148-fc9f-4c2e-951a-e1c0d8165825",
   "metadata": {},
   "outputs": [],
   "source": [
    "### apply 함수 (적용시키다.)\n",
    "## 컬럼명. apply(함수)\n",
    "\n"
   ]
  },
  {
   "cell_type": "code",
   "execution_count": 116,
   "id": "dc19af9a-7931-4d1f-9b44-7a192327b338",
   "metadata": {},
   "outputs": [],
   "source": [
    "## 일반 함수를 만들어 apply를 적용해보세요\n",
    "## 이름의 첫 글자가 송으로 시작하면 '송', 아니면 첫글자에 해당하는 글자\n",
    "## 파생변수 name_apple"
   ]
  },
  {
   "cell_type": "code",
   "execution_count": 117,
   "id": "c546637a-f561-4514-a8a1-0f7d119674fd",
   "metadata": {},
   "outputs": [
    {
     "data": {
      "text/html": [
       "<div>\n",
       "<style scoped>\n",
       "    .dataframe tbody tr th:only-of-type {\n",
       "        vertical-align: middle;\n",
       "    }\n",
       "\n",
       "    .dataframe tbody tr th {\n",
       "        vertical-align: top;\n",
       "    }\n",
       "\n",
       "    .dataframe thead th {\n",
       "        text-align: right;\n",
       "    }\n",
       "</style>\n",
       "<table border=\"1\" class=\"dataframe\">\n",
       "  <thead>\n",
       "    <tr style=\"text-align: right;\">\n",
       "      <th></th>\n",
       "      <th>name</th>\n",
       "      <th>age</th>\n",
       "      <th>result</th>\n",
       "      <th>age_result</th>\n",
       "      <th>name_result</th>\n",
       "      <th>name_apple</th>\n",
       "    </tr>\n",
       "  </thead>\n",
       "  <tbody>\n",
       "    <tr>\n",
       "      <th>0</th>\n",
       "      <td>홍길동</td>\n",
       "      <td>청년</td>\n",
       "      <td>1</td>\n",
       "      <td>0</td>\n",
       "      <td>1</td>\n",
       "      <td>홍</td>\n",
       "    </tr>\n",
       "    <tr>\n",
       "      <th>1</th>\n",
       "      <td>김길동</td>\n",
       "      <td>중년</td>\n",
       "      <td>1</td>\n",
       "      <td>1</td>\n",
       "      <td>0</td>\n",
       "      <td>김</td>\n",
       "    </tr>\n",
       "    <tr>\n",
       "      <th>2</th>\n",
       "      <td>홍순신</td>\n",
       "      <td>고령</td>\n",
       "      <td>1</td>\n",
       "      <td>1</td>\n",
       "      <td>1</td>\n",
       "      <td>홍</td>\n",
       "    </tr>\n",
       "    <tr>\n",
       "      <th>3</th>\n",
       "      <td>정길동</td>\n",
       "      <td>청년</td>\n",
       "      <td>0</td>\n",
       "      <td>0</td>\n",
       "      <td>0</td>\n",
       "      <td>정</td>\n",
       "    </tr>\n",
       "    <tr>\n",
       "      <th>4</th>\n",
       "      <td>송사임</td>\n",
       "      <td>고령</td>\n",
       "      <td>1</td>\n",
       "      <td>1</td>\n",
       "      <td>0</td>\n",
       "      <td>송</td>\n",
       "    </tr>\n",
       "  </tbody>\n",
       "</table>\n",
       "</div>"
      ],
      "text/plain": [
       "  name age  result  age_result  name_result name_apple\n",
       "0  홍길동  청년       1           0            1          홍\n",
       "1  김길동  중년       1           1            0          김\n",
       "2  홍순신  고령       1           1            1          홍\n",
       "3  정길동  청년       0           0            0          정\n",
       "4  송사임  고령       1           1            0          송"
      ]
     },
     "execution_count": 117,
     "metadata": {},
     "output_type": "execute_result"
    }
   ],
   "source": [
    "df1['name_apple'] = df1['name'].apply(lambda x: '송' if x[0] == '송' else x[0])\n",
    "df1"
   ]
  },
  {
   "cell_type": "code",
   "execution_count": null,
   "id": "49820aaa-9715-4e17-968d-a5527e367c04",
   "metadata": {},
   "outputs": [],
   "source": []
  }
 ],
 "metadata": {
  "kernelspec": {
   "display_name": "Python 3 (ipykernel)",
   "language": "python",
   "name": "python3"
  },
  "language_info": {
   "codemirror_mode": {
    "name": "ipython",
    "version": 3
   },
   "file_extension": ".py",
   "mimetype": "text/x-python",
   "name": "python",
   "nbconvert_exporter": "python",
   "pygments_lexer": "ipython3",
   "version": "3.7.11"
  }
 },
 "nbformat": 4,
 "nbformat_minor": 5
}
