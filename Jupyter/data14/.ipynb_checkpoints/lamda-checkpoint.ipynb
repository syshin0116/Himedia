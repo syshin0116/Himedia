{
 "cells": [
  {
   "cell_type": "code",
   "execution_count": null,
   "id": "60b71475-f56c-4b19-944d-7f31ed37c108",
   "metadata": {},
   "outputs": [],
   "source": []
  },
  {
   "cell_type": "code",
   "execution_count": 1,
   "id": "1e56f5b3-4da4-4f58-8068-2f7d82ae66eb",
   "metadata": {},
   "outputs": [],
   "source": [
    "def call1(a,b,c):\n",
    "    print(a,b,c)"
   ]
  },
  {
   "cell_type": "code",
   "execution_count": 3,
   "id": "8cab880f-a46c-4c9e-8cb3-acfcc490b9f8",
   "metadata": {},
   "outputs": [
    {
     "name": "stdout",
     "output_type": "stream",
     "text": [
      "10 20 30\n"
     ]
    }
   ],
   "source": [
    "call1(10,20,30) #위치 매개변수"
   ]
  },
  {
   "cell_type": "code",
   "execution_count": 5,
   "id": "8863b1c4-48ef-4a09-a4eb-1ad0609e47ed",
   "metadata": {},
   "outputs": [],
   "source": [
    "def call2(a,b,c=50):\n",
    "    print(a,b,c)"
   ]
  },
  {
   "cell_type": "code",
   "execution_count": 6,
   "id": "f6192831-6011-4ee3-8132-2302a02143ea",
   "metadata": {},
   "outputs": [
    {
     "name": "stdout",
     "output_type": "stream",
     "text": [
      "10 20 30\n"
     ]
    }
   ],
   "source": [
    "call2(10,20,30)"
   ]
  },
  {
   "cell_type": "code",
   "execution_count": 7,
   "id": "f16817e3-b4da-4afa-9e6b-9be4ecb955f2",
   "metadata": {},
   "outputs": [
    {
     "name": "stdout",
     "output_type": "stream",
     "text": [
      "10 20 50\n"
     ]
    }
   ],
   "source": [
    "call2(10,20) "
   ]
  },
  {
   "cell_type": "code",
   "execution_count": 10,
   "id": "fc0b0706-2209-4823-81be-37a0233d0a74",
   "metadata": {},
   "outputs": [],
   "source": [
    "#default매개변수는 반드시 뒤에다 위치시켜야 한다\n",
    "# def call3(a=10, b, c): ## 오류!!\n",
    "def call3(a,b=50, c=100):\n",
    "    print(a,b,c)"
   ]
  },
  {
   "cell_type": "code",
   "execution_count": 11,
   "id": "8df87915-865b-4307-bb15-e69dda4a161b",
   "metadata": {},
   "outputs": [
    {
     "name": "stdout",
     "output_type": "stream",
     "text": [
      "10 50 100\n"
     ]
    }
   ],
   "source": [
    "call3(10)"
   ]
  },
  {
   "cell_type": "code",
   "execution_count": 12,
   "id": "56e2e473-1470-405a-837c-85d3035f4751",
   "metadata": {},
   "outputs": [],
   "source": [
    "def call4(a,b,c):\n",
    "    print(a,b,c)"
   ]
  },
  {
   "cell_type": "code",
   "execution_count": 15,
   "id": "9d6b16f0-130c-4636-9b49-de2fbde25ff9",
   "metadata": {},
   "outputs": [
    {
     "name": "stdout",
     "output_type": "stream",
     "text": [
      "100 333 200\n"
     ]
    }
   ],
   "source": [
    "call4(a=100, c=200, b=333) # 키워드 파라메터, 순서 상관x"
   ]
  },
  {
   "cell_type": "code",
   "execution_count": 17,
   "id": "fafee823-770f-4c2d-b1ce-11b3e3d39d0a",
   "metadata": {},
   "outputs": [],
   "source": [
    "## 파이썬은 오버라이딩은 지원, 오버로딩은 지원x\n",
    "## 오버라이딩(재정의): 상속했을 떄 자식클래스의 함수를 재정의하여 기능을 변경\n",
    "## 오버로딩(다형성): 하나의 이름으로 다양한 형태를 구현할 수 있는 기능\n",
    "## 자바는 하나의 함수 이름으로 다양한 입력값의 형태를 정의가능\n",
    "## 자바는 오버로딩 가능\n",
    "## public void add(int x, int y)\n",
    "## public void add(int x)\n",
    "\n",
    "## 파이썬은 오버로딩 불가능\n",
    "## 입력값으로 튜플과 딕셔너리를 여러개 넣을 수 있기 때문에\n",
    "## 파이썬의 함수 입력값은 0~ 무한대의 개수를 가지게 정의할 수 있다.\n",
    "## 가변 매개변수라고 부른다."
   ]
  },
  {
   "cell_type": "code",
   "execution_count": 22,
   "id": "bc2864c1-2bd1-45a0-a9b5-441fa4d93713",
   "metadata": {},
   "outputs": [],
   "source": [
    "def call5(*a, b):\n",
    "    print(a)\n",
    "    print(b)"
   ]
  },
  {
   "cell_type": "code",
   "execution_count": 28,
   "id": "ef9326d3-e2ef-427f-b827-54c5c4043bfa",
   "metadata": {},
   "outputs": [],
   "source": [
    "def call6(*a):\n",
    "    print(a)\n",
    "# 파이썬에서는 파라메터의 개수가 정확히 몇개인지 확인하려면\n",
    "# 한수의 정의를 보고 확인해야 한다(shift+tab)"
   ]
  },
  {
   "cell_type": "code",
   "execution_count": 29,
   "id": "e931f749-c8b2-45ca-b613-bb7e4a17632f",
   "metadata": {},
   "outputs": [],
   "source": [
    "# python.exe프로그램이 한줄을 읽어서 실행을 바로 해준다.\n",
    "# 번역기 "
   ]
  },
  {
   "cell_type": "code",
   "execution_count": 26,
   "id": "39157440-1ba0-4221-a1f7-1995028a840f",
   "metadata": {},
   "outputs": [
    {
     "name": "stdout",
     "output_type": "stream",
     "text": [
      "((1, 2, 3),)\n",
      "5\n"
     ]
    }
   ],
   "source": [
    "# call5((1,2,3),5) #에러! \n",
    "call5((1,2,3),b=5) # 위치 가변 매개변수는 보통 단독으로 많이 쓰임\n",
    "\n",
    "# 위치 가변 매개변수를 쓸 때는 다른 매개변수는 키워드(파라메터명)을 써주어야 헷갈리지 않는다.\n"
   ]
  },
  {
   "cell_type": "code",
   "execution_count": 27,
   "id": "646a46c5-646f-4710-811b-318528818023",
   "metadata": {},
   "outputs": [
    {
     "name": "stdout",
     "output_type": "stream",
     "text": [
      "((1, 2, 3, 4, 5), (6, 7, 8))\n"
     ]
    }
   ],
   "source": [
    "call6((1,2,3,4,5),(6,7,8)) ## 위치 가변매개변수는 튜플의 튜플도 가능"
   ]
  },
  {
   "cell_type": "code",
   "execution_count": 30,
   "id": "221cd029-d96f-43c2-a8ab-00f1decdac7f",
   "metadata": {},
   "outputs": [],
   "source": [
    "def call7(**kwargs):\n",
    "    print(kwargs)"
   ]
  },
  {
   "cell_type": "code",
   "execution_count": 37,
   "id": "6a5b2dc1-efa0-4358-a174-3e84ad2d9098",
   "metadata": {},
   "outputs": [
    {
     "name": "stdout",
     "output_type": "stream",
     "text": [
      "{'name': 'hong', 'age': 100, 'tel': '010'}\n"
     ]
    }
   ],
   "source": [
    "call7(name='hong', age=100, tel = '010')"
   ]
  },
  {
   "cell_type": "code",
   "execution_count": 39,
   "id": "3e864ffd-8a09-47ae-a0e6-1fea32c75861",
   "metadata": {},
   "outputs": [],
   "source": [
    "def call8(*tags, title, content, **kwargs):\n",
    "    print('tag>>', tags)\n",
    "    print('title>>', title)\n",
    "    print('content>>', content)\n",
    "    print('kwargs>>', kwargs)"
   ]
  },
  {
   "cell_type": "code",
   "execution_count": 40,
   "id": "03d0a7a2-676a-4b43-93c8-7ce7ce9d1d82",
   "metadata": {},
   "outputs": [],
   "source": [
    "## 가변변수와 함께 쓰는 일반변수는 키워드변수로 사용해야 한다.(변수명과 함께 써주어야 한다.)\n",
    "## 변수명과 함께 써야 한다.\n"
   ]
  },
  {
   "cell_type": "code",
   "execution_count": 41,
   "id": "a236e806-d397-43b5-862d-b343f3e88782",
   "metadata": {},
   "outputs": [
    {
     "name": "stdout",
     "output_type": "stream",
     "text": [
      "tag>> ('바다', '휴양자', '쉼')\n",
      "title>> 제주도여행\n",
      "content>> 해수욕장으로 고고고!\n",
      "kwargs>> {'location': '제주도 북동부', 'move': '날아서'}\n"
     ]
    }
   ],
   "source": [
    "call8('바다', '휴양자', '쉼', \n",
    "      title='제주도여행', \n",
    "      content='해수욕장으로 고고고!', \n",
    "      location = '제주도 북동부', \n",
    "      move = '날아서'\n",
    "     )"
   ]
  },
  {
   "cell_type": "code",
   "execution_count": 42,
   "id": "a5a5067e-a964-4092-8b0f-720c615c7f10",
   "metadata": {},
   "outputs": [],
   "source": [
    "## 람다함수"
   ]
  },
  {
   "cell_type": "code",
   "execution_count": 43,
   "id": "a80729d8-c676-4e85-ac96-775361f9e241",
   "metadata": {},
   "outputs": [],
   "source": [
    "def call9(a):\n",
    "    b = a-1\n",
    "    return b"
   ]
  },
  {
   "cell_type": "code",
   "execution_count": 44,
   "id": "9c55a251-d54c-4d06-9496-d6f00f7b4b1f",
   "metadata": {},
   "outputs": [],
   "source": [
    "## 함수의 4개 조건\n",
    "## 함수이름(입력값):\n",
    "## 함수처리 내용\n",
    "## 함수 처리 결과 리턴값\n",
    "\n",
    "## 람다 함수의 3대 조건\n",
    "## (입력값):\n",
    "## 함수 처리 내용"
   ]
  },
  {
   "cell_type": "code",
   "execution_count": null,
   "id": "9e8d597c-b656-4048-857d-68ad1c59255d",
   "metadata": {},
   "outputs": [],
   "source": []
  }
 ],
 "metadata": {
  "kernelspec": {
   "display_name": "Python 3 (ipykernel)",
   "language": "python",
   "name": "python3"
  },
  "language_info": {
   "codemirror_mode": {
    "name": "ipython",
    "version": 3
   },
   "file_extension": ".py",
   "mimetype": "text/x-python",
   "name": "python",
   "nbconvert_exporter": "python",
   "pygments_lexer": "ipython3",
   "version": "3.7.11"
  }
 },
 "nbformat": 4,
 "nbformat_minor": 5
}
