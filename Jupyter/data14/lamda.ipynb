{
 "cells": [
  {
   "cell_type": "code",
   "execution_count": null,
   "id": "60b71475-f56c-4b19-944d-7f31ed37c108",
   "metadata": {},
   "outputs": [],
   "source": []
  },
  {
   "cell_type": "code",
   "execution_count": 1,
   "id": "1e56f5b3-4da4-4f58-8068-2f7d82ae66eb",
   "metadata": {},
   "outputs": [],
   "source": [
    "def call1(a,b,c):\n",
    "    print(a,b,c)"
   ]
  },
  {
   "cell_type": "code",
   "execution_count": 3,
   "id": "8cab880f-a46c-4c9e-8cb3-acfcc490b9f8",
   "metadata": {},
   "outputs": [
    {
     "name": "stdout",
     "output_type": "stream",
     "text": [
      "10 20 30\n"
     ]
    }
   ],
   "source": [
    "call1(10,20,30) #위치 매개변수"
   ]
  },
  {
   "cell_type": "code",
   "execution_count": 5,
   "id": "8863b1c4-48ef-4a09-a4eb-1ad0609e47ed",
   "metadata": {},
   "outputs": [],
   "source": [
    "def call2(a,b,c=50):\n",
    "    print(a,b,c)"
   ]
  },
  {
   "cell_type": "code",
   "execution_count": 6,
   "id": "f6192831-6011-4ee3-8132-2302a02143ea",
   "metadata": {},
   "outputs": [
    {
     "name": "stdout",
     "output_type": "stream",
     "text": [
      "10 20 30\n"
     ]
    }
   ],
   "source": [
    "call2(10,20,30)"
   ]
  },
  {
   "cell_type": "code",
   "execution_count": 7,
   "id": "f16817e3-b4da-4afa-9e6b-9be4ecb955f2",
   "metadata": {},
   "outputs": [
    {
     "name": "stdout",
     "output_type": "stream",
     "text": [
      "10 20 50\n"
     ]
    }
   ],
   "source": [
    "call2(10,20) "
   ]
  },
  {
   "cell_type": "code",
   "execution_count": 10,
   "id": "fc0b0706-2209-4823-81be-37a0233d0a74",
   "metadata": {},
   "outputs": [],
   "source": [
    "#default매개변수는 반드시 뒤에다 위치시켜야 한다\n",
    "# def call3(a=10, b, c): ## 오류!!\n",
    "def call3(a,b=50, c=100):\n",
    "    print(a,b,c)"
   ]
  },
  {
   "cell_type": "code",
   "execution_count": 11,
   "id": "8df87915-865b-4307-bb15-e69dda4a161b",
   "metadata": {},
   "outputs": [
    {
     "name": "stdout",
     "output_type": "stream",
     "text": [
      "10 50 100\n"
     ]
    }
   ],
   "source": [
    "call3(10)"
   ]
  },
  {
   "cell_type": "code",
   "execution_count": 12,
   "id": "56e2e473-1470-405a-837c-85d3035f4751",
   "metadata": {},
   "outputs": [],
   "source": [
    "def call4(a,b,c):\n",
    "    print(a,b,c)"
   ]
  },
  {
   "cell_type": "code",
   "execution_count": 15,
   "id": "9d6b16f0-130c-4636-9b49-de2fbde25ff9",
   "metadata": {},
   "outputs": [
    {
     "name": "stdout",
     "output_type": "stream",
     "text": [
      "100 333 200\n"
     ]
    }
   ],
   "source": [
    "call4(a=100, c=200, b=333) # 키워드 파라메터, 순서 상관x"
   ]
  },
  {
   "cell_type": "code",
   "execution_count": 17,
   "id": "fafee823-770f-4c2d-b1ce-11b3e3d39d0a",
   "metadata": {},
   "outputs": [],
   "source": [
    "## 파이썬은 오버라이딩은 지원, 오버로딩은 지원x\n",
    "## 오버라이딩(재정의): 상속했을 떄 자식클래스의 함수를 재정의하여 기능을 변경\n",
    "## 오버로딩(다형성): 하나의 이름으로 다양한 형태를 구현할 수 있는 기능\n",
    "## 자바는 하나의 함수 이름으로 다양한 입력값의 형태를 정의가능\n",
    "## 자바는 오버로딩 가능\n",
    "## public void add(int x, int y)\n",
    "## public void add(int x)\n",
    "\n",
    "## 파이썬은 오버로딩 불가능\n",
    "## 입력값으로 튜플과 딕셔너리를 여러개 넣을 수 있기 때문에\n",
    "## 파이썬의 함수 입력값은 0~ 무한대의 개수를 가지게 정의할 수 있다.\n",
    "## 가변 매개변수라고 부른다."
   ]
  },
  {
   "cell_type": "code",
   "execution_count": 22,
   "id": "bc2864c1-2bd1-45a0-a9b5-441fa4d93713",
   "metadata": {},
   "outputs": [],
   "source": [
    "def call5(*a, b):\n",
    "    print(a)\n",
    "    print(b)"
   ]
  },
  {
   "cell_type": "code",
   "execution_count": 28,
   "id": "ef9326d3-e2ef-427f-b827-54c5c4043bfa",
   "metadata": {},
   "outputs": [],
   "source": [
    "def call6(*a):\n",
    "    print(a)\n",
    "# 파이썬에서는 파라메터의 개수가 정확히 몇개인지 확인하려면\n",
    "# 한수의 정의를 보고 확인해야 한다(shift+tab)"
   ]
  },
  {
   "cell_type": "code",
   "execution_count": 29,
   "id": "e931f749-c8b2-45ca-b613-bb7e4a17632f",
   "metadata": {},
   "outputs": [],
   "source": [
    "# python.exe프로그램이 한줄을 읽어서 실행을 바로 해준다.\n",
    "# 번역기 "
   ]
  },
  {
   "cell_type": "code",
   "execution_count": 26,
   "id": "39157440-1ba0-4221-a1f7-1995028a840f",
   "metadata": {},
   "outputs": [
    {
     "name": "stdout",
     "output_type": "stream",
     "text": [
      "((1, 2, 3),)\n",
      "5\n"
     ]
    }
   ],
   "source": [
    "# call5((1,2,3),5) #에러! \n",
    "call5((1,2,3),b=5) # 위치 가변 매개변수는 보통 단독으로 많이 쓰임\n",
    "\n",
    "# 위치 가변 매개변수를 쓸 때는 다른 매개변수는 키워드(파라메터명)을 써주어야 헷갈리지 않는다.\n"
   ]
  },
  {
   "cell_type": "code",
   "execution_count": 27,
   "id": "646a46c5-646f-4710-811b-318528818023",
   "metadata": {},
   "outputs": [
    {
     "name": "stdout",
     "output_type": "stream",
     "text": [
      "((1, 2, 3, 4, 5), (6, 7, 8))\n"
     ]
    }
   ],
   "source": [
    "call6((1,2,3,4,5),(6,7,8)) ## 위치 가변매개변수는 튜플의 튜플도 가능"
   ]
  },
  {
   "cell_type": "code",
   "execution_count": 30,
   "id": "221cd029-d96f-43c2-a8ab-00f1decdac7f",
   "metadata": {},
   "outputs": [],
   "source": [
    "def call7(**kwargs):\n",
    "    print(kwargs)"
   ]
  },
  {
   "cell_type": "code",
   "execution_count": 37,
   "id": "6a5b2dc1-efa0-4358-a174-3e84ad2d9098",
   "metadata": {},
   "outputs": [
    {
     "name": "stdout",
     "output_type": "stream",
     "text": [
      "{'name': 'hong', 'age': 100, 'tel': '010'}\n"
     ]
    }
   ],
   "source": [
    "call7(name='hong', age=100, tel = '010')"
   ]
  },
  {
   "cell_type": "code",
   "execution_count": 39,
   "id": "3e864ffd-8a09-47ae-a0e6-1fea32c75861",
   "metadata": {},
   "outputs": [],
   "source": [
    "def call8(*tags, title, content, **kwargs):\n",
    "    print('tag>>', tags)\n",
    "    print('title>>', title)\n",
    "    print('content>>', content)\n",
    "    print('kwargs>>', kwargs)"
   ]
  },
  {
   "cell_type": "code",
   "execution_count": 40,
   "id": "03d0a7a2-676a-4b43-93c8-7ce7ce9d1d82",
   "metadata": {},
   "outputs": [],
   "source": [
    "## 가변변수와 함께 쓰는 일반변수는 키워드변수로 사용해야 한다.(변수명과 함께 써주어야 한다.)\n",
    "## 변수명과 함께 써야 한다.\n"
   ]
  },
  {
   "cell_type": "code",
   "execution_count": 41,
   "id": "a236e806-d397-43b5-862d-b343f3e88782",
   "metadata": {},
   "outputs": [
    {
     "name": "stdout",
     "output_type": "stream",
     "text": [
      "tag>> ('바다', '휴양자', '쉼')\n",
      "title>> 제주도여행\n",
      "content>> 해수욕장으로 고고고!\n",
      "kwargs>> {'location': '제주도 북동부', 'move': '날아서'}\n"
     ]
    }
   ],
   "source": [
    "call8('바다', '휴양자', '쉼', \n",
    "      title='제주도여행', \n",
    "      content='해수욕장으로 고고고!', \n",
    "      location = '제주도 북동부', \n",
    "      move = '날아서'\n",
    "     )"
   ]
  },
  {
   "cell_type": "code",
   "execution_count": 42,
   "id": "a5a5067e-a964-4092-8b0f-720c615c7f10",
   "metadata": {},
   "outputs": [],
   "source": [
    "## 람다함수"
   ]
  },
  {
   "cell_type": "code",
   "execution_count": 43,
   "id": "a80729d8-c676-4e85-ac96-775361f9e241",
   "metadata": {},
   "outputs": [],
   "source": [
    "def call9(a):\n",
    "    b = a-1\n",
    "    return b"
   ]
  },
  {
   "cell_type": "code",
   "execution_count": 45,
   "id": "9c55a251-d54c-4d06-9496-d6f00f7b4b1f",
   "metadata": {},
   "outputs": [],
   "source": [
    "## 함수의 4개 조건\n",
    "## 함수이름(입력값): call9(a)\n",
    "## 함수처리 내용(a-1)\n",
    "## 함수 처리 결과 리턴값(b)\n",
    "\n",
    "## 람다 함수의 3대 조건\n",
    "## (입력값):\n",
    "## 함수 처리 내용\n",
    "## 함수 처리 결과 리턴값"
   ]
  },
  {
   "cell_type": "code",
   "execution_count": 46,
   "id": "9e8d597c-b656-4048-857d-68ad1c59255d",
   "metadata": {},
   "outputs": [],
   "source": [
    "## [list coomprehension] => 익명함수의 일종"
   ]
  },
  {
   "cell_type": "code",
   "execution_count": 47,
   "id": "530c252e-7fdd-4e7f-8c10-978d081e0775",
   "metadata": {},
   "outputs": [
    {
     "data": {
      "text/plain": [
       "<function __main__.<lambda>(a)>"
      ]
     },
     "execution_count": 47,
     "metadata": {},
     "output_type": "execute_result"
    }
   ],
   "source": [
    "# lambda #=> 익명함수의 일종\n",
    "lambda a:a-1"
   ]
  },
  {
   "cell_type": "code",
   "execution_count": 52,
   "id": "fd518785-031a-449a-b1ea-057366aaf117",
   "metadata": {},
   "outputs": [
    {
     "data": {
      "text/plain": [
       "9"
      ]
     },
     "execution_count": 52,
     "metadata": {},
     "output_type": "execute_result"
    }
   ],
   "source": [
    "(lambda a:a-1)(10)"
   ]
  },
  {
   "cell_type": "code",
   "execution_count": 53,
   "id": "d86b7827-f4fe-45fd-a9ea-fe51ac57eee0",
   "metadata": {},
   "outputs": [],
   "source": [
    "a_fun = lambda a:a-1"
   ]
  },
  {
   "cell_type": "code",
   "execution_count": 54,
   "id": "fe4ae0d9-e99f-40a3-96ef-c32789059002",
   "metadata": {},
   "outputs": [
    {
     "data": {
      "text/plain": [
       "9"
      ]
     },
     "execution_count": 54,
     "metadata": {},
     "output_type": "execute_result"
    }
   ],
   "source": [
    "a_fun(10)"
   ]
  },
  {
   "cell_type": "code",
   "execution_count": 56,
   "id": "cd7c4af9-1ead-4169-9287-4e16d97ae375",
   "metadata": {},
   "outputs": [
    {
     "data": {
      "text/plain": [
       "<function __main__.<lambda>(a)>"
      ]
     },
     "execution_count": 56,
     "metadata": {},
     "output_type": "execute_result"
    }
   ],
   "source": [
    "lambda a : True if a > 0 else False"
   ]
  },
  {
   "cell_type": "code",
   "execution_count": 62,
   "id": "2955b8eb-2baf-4d69-9077-8e35cceb1d81",
   "metadata": {},
   "outputs": [],
   "source": [
    "true_fun = lambda a : True if a > 0 else False"
   ]
  },
  {
   "cell_type": "code",
   "execution_count": 63,
   "id": "0e7b78a5-aa1e-4105-a1d0-2a17111bca0f",
   "metadata": {},
   "outputs": [
    {
     "data": {
      "text/plain": [
       "False"
      ]
     },
     "execution_count": 63,
     "metadata": {},
     "output_type": "execute_result"
    }
   ],
   "source": [
    "true_fun(0)"
   ]
  },
  {
   "cell_type": "code",
   "execution_count": 64,
   "id": "4bd8ce0e-202c-4ba7-a2f3-34a3fd509b35",
   "metadata": {},
   "outputs": [],
   "source": [
    "# 입력값이 양수이면 1, 음수이면 0"
   ]
  },
  {
   "cell_type": "code",
   "execution_count": 65,
   "id": "e0bc24f1-2f51-42ea-8d9f-fa3a6749a6a8",
   "metadata": {},
   "outputs": [],
   "source": [
    "pos_neg = lambda a: 1 if a>=0 else 0"
   ]
  },
  {
   "cell_type": "code",
   "execution_count": 68,
   "id": "dd27ca72-84f5-4a06-bbf3-981f3327f9b2",
   "metadata": {},
   "outputs": [
    {
     "data": {
      "text/plain": [
       "0"
      ]
     },
     "execution_count": 68,
     "metadata": {},
     "output_type": "execute_result"
    }
   ],
   "source": [
    "pos_neg(-1)"
   ]
  },
  {
   "cell_type": "code",
   "execution_count": 71,
   "id": "4523bd42-0670-4a07-8537-3eb65a693275",
   "metadata": {},
   "outputs": [
    {
     "data": {
      "text/plain": [
       "3"
      ]
     },
     "execution_count": 71,
     "metadata": {},
     "output_type": "execute_result"
    }
   ],
   "source": [
    "# 입력값을 2개 넣어 더해보세요\n",
    "add_two = lambda a, b: a+b\n",
    "add_two(1,2)"
   ]
  },
  {
   "cell_type": "code",
   "execution_count": null,
   "id": "ab0e904e-722f-4543-a29e-d69a20140240",
   "metadata": {},
   "outputs": [],
   "source": [
    "# 입력값이 2개의 리스트가 되도록 해보세요\n",
    "two_list = lambda "
   ]
  },
  {
   "cell_type": "code",
   "execution_count": 72,
   "id": "55afc564-1359-4966-8d88-8741fbdff14d",
   "metadata": {},
   "outputs": [],
   "source": [
    "## one_fun, one_fun2를 일반함수로 변경해보세요\n"
   ]
  },
  {
   "cell_type": "code",
   "execution_count": 73,
   "id": "c7eed4f4-fe69-456f-a780-dd150fe9eab5",
   "metadata": {},
   "outputs": [],
   "source": [
    "# 데이터분석에서 있어서 핵심은 df\n",
    "# 람다를 df를 다룰 때 어떻게 사용해야 하는가?"
   ]
  },
  {
   "cell_type": "code",
   "execution_count": 88,
   "id": "bea896e4-ce34-40b7-9332-458f1ea9b2a5",
   "metadata": {},
   "outputs": [],
   "source": [
    "import time\n",
    "from IPython.display import Image\n",
    "import pandas as pd\n",
    "import numpy as np\n",
    "import matplotlib.pyplot as plt\n",
    "import seaborn as sns\n",
    "from sklearn.preprocessing import LabelEncoder\n",
    "from sklearn.model_selection import train_test_split\n",
    "from sklearn.model_selection import KFold\n",
    "from sklearn.tree import DecisionTreeClassifier\n",
    "from sklearn.ensemble import RandomForestClassifier\n",
    "from sklearn.linear_model import LogisticRegression\n",
    "from sklearn.svm import SVC\n",
    "from sklearn.metrics import accuracy_score\n",
    "from sklearn.neighbors import KNeighborsClassifier\n",
    "from sklearn.model_selection import GridSearchCV\n",
    "from sklearn.model_selection import cross_val_score\n",
    "import warnings\n",
    "warnings.filterwarnings('ignore')\n",
    "from sklearn.preprocessing import StandardScaler # 표준화(평균을 기준)\n",
    "from sklearn.preprocessing import MinMaxScaler # 정규화(정해진 규칙 기준, mix-max기준)\n",
    "from sklearn.datasets import load_iris\n",
    "# cross_val_score: 다양한 샘플링으 ㄹ해서 여러번 테스트 --> 평균치를 구해본다.!\n",
    "from sklearn.metrics import *\n",
    "%matplotlib inline\n",
    "\n",
    "# 주요 라이브러리 import\n",
    "\n",
    "from matplotlib import rc, font_manager\n",
    "import matplotlib.font_manager as fm\n",
    "\n",
    "\n",
    "\n",
    "\n"
   ]
  },
  {
   "cell_type": "code",
   "execution_count": 105,
   "id": "f2d018a8-6c97-4bcd-b0c8-d3e753ce89f5",
   "metadata": {},
   "outputs": [
    {
     "data": {
      "text/html": [
       "<div>\n",
       "<style scoped>\n",
       "    .dataframe tbody tr th:only-of-type {\n",
       "        vertical-align: middle;\n",
       "    }\n",
       "\n",
       "    .dataframe tbody tr th {\n",
       "        vertical-align: top;\n",
       "    }\n",
       "\n",
       "    .dataframe thead th {\n",
       "        text-align: right;\n",
       "    }\n",
       "</style>\n",
       "<table border=\"1\" class=\"dataframe\">\n",
       "  <thead>\n",
       "    <tr style=\"text-align: right;\">\n",
       "      <th></th>\n",
       "      <th>ID</th>\n",
       "      <th>Gender</th>\n",
       "      <th>Height (Inch)</th>\n",
       "      <th>Weight (Pound)</th>\n",
       "    </tr>\n",
       "  </thead>\n",
       "  <tbody>\n",
       "    <tr>\n",
       "      <th>0</th>\n",
       "      <td>0</td>\n",
       "      <td>NaN</td>\n",
       "      <td>73.847017</td>\n",
       "      <td>241.893563</td>\n",
       "    </tr>\n",
       "    <tr>\n",
       "      <th>1</th>\n",
       "      <td>1</td>\n",
       "      <td>NaN</td>\n",
       "      <td>70.000000</td>\n",
       "      <td>200.000000</td>\n",
       "    </tr>\n",
       "    <tr>\n",
       "      <th>2</th>\n",
       "      <td>2</td>\n",
       "      <td>NaN</td>\n",
       "      <td>74.110105</td>\n",
       "      <td>212.740856</td>\n",
       "    </tr>\n",
       "    <tr>\n",
       "      <th>3</th>\n",
       "      <td>3</td>\n",
       "      <td>NaN</td>\n",
       "      <td>71.730978</td>\n",
       "      <td>220.042470</td>\n",
       "    </tr>\n",
       "    <tr>\n",
       "      <th>4</th>\n",
       "      <td>4</td>\n",
       "      <td>NaN</td>\n",
       "      <td>69.881796</td>\n",
       "      <td>206.349801</td>\n",
       "    </tr>\n",
       "    <tr>\n",
       "      <th>5</th>\n",
       "      <td>5</td>\n",
       "      <td>NaN</td>\n",
       "      <td>67.253016</td>\n",
       "      <td>152.212156</td>\n",
       "    </tr>\n",
       "    <tr>\n",
       "      <th>6</th>\n",
       "      <td>6</td>\n",
       "      <td>NaN</td>\n",
       "      <td>68.785081</td>\n",
       "      <td>183.927889</td>\n",
       "    </tr>\n",
       "    <tr>\n",
       "      <th>7</th>\n",
       "      <td>7</td>\n",
       "      <td>NaN</td>\n",
       "      <td>68.348516</td>\n",
       "      <td>167.971110</td>\n",
       "    </tr>\n",
       "    <tr>\n",
       "      <th>8</th>\n",
       "      <td>8</td>\n",
       "      <td>NaN</td>\n",
       "      <td>67.018950</td>\n",
       "      <td>175.929440</td>\n",
       "    </tr>\n",
       "    <tr>\n",
       "      <th>9</th>\n",
       "      <td>9</td>\n",
       "      <td>NaN</td>\n",
       "      <td>63.456494</td>\n",
       "      <td>156.399676</td>\n",
       "    </tr>\n",
       "    <tr>\n",
       "      <th>10</th>\n",
       "      <td>10</td>\n",
       "      <td>NaN</td>\n",
       "      <td>71.195382</td>\n",
       "      <td>186.604926</td>\n",
       "    </tr>\n",
       "    <tr>\n",
       "      <th>11</th>\n",
       "      <td>11</td>\n",
       "      <td>NaN</td>\n",
       "      <td>62.636675</td>\n",
       "      <td>102.853563</td>\n",
       "    </tr>\n",
       "    <tr>\n",
       "      <th>12</th>\n",
       "      <td>12</td>\n",
       "      <td>NaN</td>\n",
       "      <td>62.077832</td>\n",
       "      <td>138.691680</td>\n",
       "    </tr>\n",
       "    <tr>\n",
       "      <th>13</th>\n",
       "      <td>13</td>\n",
       "      <td>NaN</td>\n",
       "      <td>60.030434</td>\n",
       "      <td>97.687432</td>\n",
       "    </tr>\n",
       "    <tr>\n",
       "      <th>14</th>\n",
       "      <td>14</td>\n",
       "      <td>NaN</td>\n",
       "      <td>59.098250</td>\n",
       "      <td>110.529686</td>\n",
       "    </tr>\n",
       "    <tr>\n",
       "      <th>15</th>\n",
       "      <td>15</td>\n",
       "      <td>NaN</td>\n",
       "      <td>66.172652</td>\n",
       "      <td>136.777454</td>\n",
       "    </tr>\n",
       "    <tr>\n",
       "      <th>16</th>\n",
       "      <td>16</td>\n",
       "      <td>NaN</td>\n",
       "      <td>67.067155</td>\n",
       "      <td>170.867906</td>\n",
       "    </tr>\n",
       "    <tr>\n",
       "      <th>17</th>\n",
       "      <td>17</td>\n",
       "      <td>NaN</td>\n",
       "      <td>63.867992</td>\n",
       "      <td>128.475319</td>\n",
       "    </tr>\n",
       "    <tr>\n",
       "      <th>18</th>\n",
       "      <td>18</td>\n",
       "      <td>NaN</td>\n",
       "      <td>69.034243</td>\n",
       "      <td>163.852461</td>\n",
       "    </tr>\n",
       "    <tr>\n",
       "      <th>19</th>\n",
       "      <td>19</td>\n",
       "      <td>NaN</td>\n",
       "      <td>61.944246</td>\n",
       "      <td>113.649103</td>\n",
       "    </tr>\n",
       "    <tr>\n",
       "      <th>20</th>\n",
       "      <td>20</td>\n",
       "      <td>NaN</td>\n",
       "      <td>70.000000</td>\n",
       "      <td>200.000000</td>\n",
       "    </tr>\n",
       "  </tbody>\n",
       "</table>\n",
       "</div>"
      ],
      "text/plain": [
       "    ID  Gender  Height (Inch)  Weight (Pound)\n",
       "0    0     NaN      73.847017      241.893563\n",
       "1    1     NaN      70.000000      200.000000\n",
       "2    2     NaN      74.110105      212.740856\n",
       "3    3     NaN      71.730978      220.042470\n",
       "4    4     NaN      69.881796      206.349801\n",
       "5    5     NaN      67.253016      152.212156\n",
       "6    6     NaN      68.785081      183.927889\n",
       "7    7     NaN      68.348516      167.971110\n",
       "8    8     NaN      67.018950      175.929440\n",
       "9    9     NaN      63.456494      156.399676\n",
       "10  10     NaN      71.195382      186.604926\n",
       "11  11     NaN      62.636675      102.853563\n",
       "12  12     NaN      62.077832      138.691680\n",
       "13  13     NaN      60.030434       97.687432\n",
       "14  14     NaN      59.098250      110.529686\n",
       "15  15     NaN      66.172652      136.777454\n",
       "16  16     NaN      67.067155      170.867906\n",
       "17  17     NaN      63.867992      128.475319\n",
       "18  18     NaN      69.034243      163.852461\n",
       "19  19     NaN      61.944246      113.649103\n",
       "20  20     NaN      70.000000      200.000000"
      ]
     },
     "execution_count": 105,
     "metadata": {},
     "output_type": "execute_result"
    }
   ],
   "source": [
    "import pandas as pd\n",
    "df = pd.read_csv('C:/Users/hi/Downloads/body_imperial2.csv',encoding='utf-8')\n",
    "df"
   ]
  },
  {
   "cell_type": "code",
   "execution_count": 101,
   "id": "f4a036db-0dea-46f4-9584-1ea900fbfab9",
   "metadata": {},
   "outputs": [
    {
     "data": {
      "text/plain": [
       "0    NaN\n",
       "1    NaN\n",
       "2    NaN\n",
       "3    NaN\n",
       "4    NaN\n",
       "5    NaN\n",
       "6    NaN\n",
       "7    NaN\n",
       "8    NaN\n",
       "9    NaN\n",
       "10   NaN\n",
       "11   NaN\n",
       "12   NaN\n",
       "13   NaN\n",
       "14   NaN\n",
       "15   NaN\n",
       "16   NaN\n",
       "17   NaN\n",
       "18   NaN\n",
       "19   NaN\n",
       "20   NaN\n",
       "Name: Gender, dtype: float64"
      ]
     },
     "execution_count": 101,
     "metadata": {},
     "output_type": "execute_result"
    }
   ],
   "source": [
    "df.loc[:,'Gender']"
   ]
  },
  {
   "cell_type": "code",
   "execution_count": 106,
   "id": "22d93ed4-0626-4ef5-9fd7-a620288d1772",
   "metadata": {},
   "outputs": [
    {
     "data": {
      "text/html": [
       "<div>\n",
       "<style scoped>\n",
       "    .dataframe tbody tr th:only-of-type {\n",
       "        vertical-align: middle;\n",
       "    }\n",
       "\n",
       "    .dataframe tbody tr th {\n",
       "        vertical-align: top;\n",
       "    }\n",
       "\n",
       "    .dataframe thead th {\n",
       "        text-align: right;\n",
       "    }\n",
       "</style>\n",
       "<table border=\"1\" class=\"dataframe\">\n",
       "  <thead>\n",
       "    <tr style=\"text-align: right;\">\n",
       "      <th></th>\n",
       "      <th>ID</th>\n",
       "      <th>Gender</th>\n",
       "      <th>Height (Inch)</th>\n",
       "      <th>Weight (Pound)</th>\n",
       "      <th>비만도</th>\n",
       "    </tr>\n",
       "  </thead>\n",
       "  <tbody>\n",
       "    <tr>\n",
       "      <th>0</th>\n",
       "      <td>0</td>\n",
       "      <td>NaN</td>\n",
       "      <td>73.847017</td>\n",
       "      <td>241.893563</td>\n",
       "      <td>정상</td>\n",
       "    </tr>\n",
       "    <tr>\n",
       "      <th>1</th>\n",
       "      <td>1</td>\n",
       "      <td>NaN</td>\n",
       "      <td>70.000000</td>\n",
       "      <td>200.000000</td>\n",
       "      <td>정상</td>\n",
       "    </tr>\n",
       "    <tr>\n",
       "      <th>2</th>\n",
       "      <td>2</td>\n",
       "      <td>NaN</td>\n",
       "      <td>74.110105</td>\n",
       "      <td>212.740856</td>\n",
       "      <td>정상</td>\n",
       "    </tr>\n",
       "    <tr>\n",
       "      <th>3</th>\n",
       "      <td>3</td>\n",
       "      <td>NaN</td>\n",
       "      <td>71.730978</td>\n",
       "      <td>220.042470</td>\n",
       "      <td>정상</td>\n",
       "    </tr>\n",
       "    <tr>\n",
       "      <th>4</th>\n",
       "      <td>4</td>\n",
       "      <td>NaN</td>\n",
       "      <td>69.881796</td>\n",
       "      <td>206.349801</td>\n",
       "      <td>정상</td>\n",
       "    </tr>\n",
       "    <tr>\n",
       "      <th>5</th>\n",
       "      <td>5</td>\n",
       "      <td>NaN</td>\n",
       "      <td>67.253016</td>\n",
       "      <td>152.212156</td>\n",
       "      <td>정상</td>\n",
       "    </tr>\n",
       "    <tr>\n",
       "      <th>6</th>\n",
       "      <td>6</td>\n",
       "      <td>NaN</td>\n",
       "      <td>68.785081</td>\n",
       "      <td>183.927889</td>\n",
       "      <td>정상</td>\n",
       "    </tr>\n",
       "    <tr>\n",
       "      <th>7</th>\n",
       "      <td>7</td>\n",
       "      <td>NaN</td>\n",
       "      <td>68.348516</td>\n",
       "      <td>167.971110</td>\n",
       "      <td>정상</td>\n",
       "    </tr>\n",
       "    <tr>\n",
       "      <th>8</th>\n",
       "      <td>8</td>\n",
       "      <td>NaN</td>\n",
       "      <td>67.018950</td>\n",
       "      <td>175.929440</td>\n",
       "      <td>정상</td>\n",
       "    </tr>\n",
       "    <tr>\n",
       "      <th>9</th>\n",
       "      <td>9</td>\n",
       "      <td>NaN</td>\n",
       "      <td>63.456494</td>\n",
       "      <td>156.399676</td>\n",
       "      <td>정상</td>\n",
       "    </tr>\n",
       "    <tr>\n",
       "      <th>10</th>\n",
       "      <td>10</td>\n",
       "      <td>NaN</td>\n",
       "      <td>71.195382</td>\n",
       "      <td>186.604926</td>\n",
       "      <td>정상</td>\n",
       "    </tr>\n",
       "    <tr>\n",
       "      <th>11</th>\n",
       "      <td>11</td>\n",
       "      <td>NaN</td>\n",
       "      <td>62.636675</td>\n",
       "      <td>102.853563</td>\n",
       "      <td>정상</td>\n",
       "    </tr>\n",
       "    <tr>\n",
       "      <th>12</th>\n",
       "      <td>12</td>\n",
       "      <td>NaN</td>\n",
       "      <td>62.077832</td>\n",
       "      <td>138.691680</td>\n",
       "      <td>정상</td>\n",
       "    </tr>\n",
       "    <tr>\n",
       "      <th>13</th>\n",
       "      <td>13</td>\n",
       "      <td>NaN</td>\n",
       "      <td>60.030434</td>\n",
       "      <td>97.687432</td>\n",
       "      <td>정상</td>\n",
       "    </tr>\n",
       "    <tr>\n",
       "      <th>14</th>\n",
       "      <td>14</td>\n",
       "      <td>NaN</td>\n",
       "      <td>59.098250</td>\n",
       "      <td>110.529686</td>\n",
       "      <td>정상</td>\n",
       "    </tr>\n",
       "    <tr>\n",
       "      <th>15</th>\n",
       "      <td>15</td>\n",
       "      <td>NaN</td>\n",
       "      <td>66.172652</td>\n",
       "      <td>136.777454</td>\n",
       "      <td>정상</td>\n",
       "    </tr>\n",
       "    <tr>\n",
       "      <th>16</th>\n",
       "      <td>16</td>\n",
       "      <td>NaN</td>\n",
       "      <td>67.067155</td>\n",
       "      <td>170.867906</td>\n",
       "      <td>정상</td>\n",
       "    </tr>\n",
       "    <tr>\n",
       "      <th>17</th>\n",
       "      <td>17</td>\n",
       "      <td>NaN</td>\n",
       "      <td>63.867992</td>\n",
       "      <td>128.475319</td>\n",
       "      <td>정상</td>\n",
       "    </tr>\n",
       "    <tr>\n",
       "      <th>18</th>\n",
       "      <td>18</td>\n",
       "      <td>NaN</td>\n",
       "      <td>69.034243</td>\n",
       "      <td>163.852461</td>\n",
       "      <td>정상</td>\n",
       "    </tr>\n",
       "    <tr>\n",
       "      <th>19</th>\n",
       "      <td>19</td>\n",
       "      <td>NaN</td>\n",
       "      <td>61.944246</td>\n",
       "      <td>113.649103</td>\n",
       "      <td>정상</td>\n",
       "    </tr>\n",
       "    <tr>\n",
       "      <th>20</th>\n",
       "      <td>20</td>\n",
       "      <td>NaN</td>\n",
       "      <td>70.000000</td>\n",
       "      <td>200.000000</td>\n",
       "      <td>정상</td>\n",
       "    </tr>\n",
       "  </tbody>\n",
       "</table>\n",
       "</div>"
      ],
      "text/plain": [
       "    ID  Gender  Height (Inch)  Weight (Pound) 비만도\n",
       "0    0     NaN      73.847017      241.893563  정상\n",
       "1    1     NaN      70.000000      200.000000  정상\n",
       "2    2     NaN      74.110105      212.740856  정상\n",
       "3    3     NaN      71.730978      220.042470  정상\n",
       "4    4     NaN      69.881796      206.349801  정상\n",
       "5    5     NaN      67.253016      152.212156  정상\n",
       "6    6     NaN      68.785081      183.927889  정상\n",
       "7    7     NaN      68.348516      167.971110  정상\n",
       "8    8     NaN      67.018950      175.929440  정상\n",
       "9    9     NaN      63.456494      156.399676  정상\n",
       "10  10     NaN      71.195382      186.604926  정상\n",
       "11  11     NaN      62.636675      102.853563  정상\n",
       "12  12     NaN      62.077832      138.691680  정상\n",
       "13  13     NaN      60.030434       97.687432  정상\n",
       "14  14     NaN      59.098250      110.529686  정상\n",
       "15  15     NaN      66.172652      136.777454  정상\n",
       "16  16     NaN      67.067155      170.867906  정상\n",
       "17  17     NaN      63.867992      128.475319  정상\n",
       "18  18     NaN      69.034243      163.852461  정상\n",
       "19  19     NaN      61.944246      113.649103  정상\n",
       "20  20     NaN      70.000000      200.000000  정상"
      ]
     },
     "execution_count": 106,
     "metadata": {},
     "output_type": "execute_result"
    }
   ],
   "source": [
    "# 1. 비만도' column을 추가하고, 모든 ID에 대해 '정상'으로 설정해주세요.\n",
    "df.loc[:,'비만도'] = '정상'\n",
    "df"
   ]
  },
  {
   "cell_type": "code",
   "execution_count": 81,
   "id": "5bf5d804-a664-4945-9a08-8feba7cdf12c",
   "metadata": {},
   "outputs": [],
   "source": [
    "# 2.'Gender' column의 값을 ID 0~10까지는 'Male' 11~20까지는 'Female'로 변경하세요."
   ]
  },
  {
   "cell_type": "code",
   "execution_count": 107,
   "id": "a4e47b95-19b2-4f1e-b0d2-f64fe05a2993",
   "metadata": {},
   "outputs": [
    {
     "data": {
      "text/html": [
       "<div>\n",
       "<style scoped>\n",
       "    .dataframe tbody tr th:only-of-type {\n",
       "        vertical-align: middle;\n",
       "    }\n",
       "\n",
       "    .dataframe tbody tr th {\n",
       "        vertical-align: top;\n",
       "    }\n",
       "\n",
       "    .dataframe thead th {\n",
       "        text-align: right;\n",
       "    }\n",
       "</style>\n",
       "<table border=\"1\" class=\"dataframe\">\n",
       "  <thead>\n",
       "    <tr style=\"text-align: right;\">\n",
       "      <th></th>\n",
       "      <th>ID</th>\n",
       "      <th>Gender</th>\n",
       "      <th>Height (Inch)</th>\n",
       "      <th>Weight (Pound)</th>\n",
       "      <th>비만도</th>\n",
       "    </tr>\n",
       "  </thead>\n",
       "  <tbody>\n",
       "    <tr>\n",
       "      <th>0</th>\n",
       "      <td>0</td>\n",
       "      <td>Male</td>\n",
       "      <td>73.847017</td>\n",
       "      <td>241.893563</td>\n",
       "      <td>정상</td>\n",
       "    </tr>\n",
       "    <tr>\n",
       "      <th>1</th>\n",
       "      <td>1</td>\n",
       "      <td>Male</td>\n",
       "      <td>70.000000</td>\n",
       "      <td>200.000000</td>\n",
       "      <td>정상</td>\n",
       "    </tr>\n",
       "    <tr>\n",
       "      <th>2</th>\n",
       "      <td>2</td>\n",
       "      <td>Male</td>\n",
       "      <td>74.110105</td>\n",
       "      <td>212.740856</td>\n",
       "      <td>정상</td>\n",
       "    </tr>\n",
       "    <tr>\n",
       "      <th>3</th>\n",
       "      <td>3</td>\n",
       "      <td>Male</td>\n",
       "      <td>71.730978</td>\n",
       "      <td>220.042470</td>\n",
       "      <td>정상</td>\n",
       "    </tr>\n",
       "    <tr>\n",
       "      <th>4</th>\n",
       "      <td>4</td>\n",
       "      <td>Male</td>\n",
       "      <td>69.881796</td>\n",
       "      <td>206.349801</td>\n",
       "      <td>정상</td>\n",
       "    </tr>\n",
       "    <tr>\n",
       "      <th>5</th>\n",
       "      <td>5</td>\n",
       "      <td>Male</td>\n",
       "      <td>67.253016</td>\n",
       "      <td>152.212156</td>\n",
       "      <td>정상</td>\n",
       "    </tr>\n",
       "    <tr>\n",
       "      <th>6</th>\n",
       "      <td>6</td>\n",
       "      <td>Male</td>\n",
       "      <td>68.785081</td>\n",
       "      <td>183.927889</td>\n",
       "      <td>정상</td>\n",
       "    </tr>\n",
       "    <tr>\n",
       "      <th>7</th>\n",
       "      <td>7</td>\n",
       "      <td>Male</td>\n",
       "      <td>68.348516</td>\n",
       "      <td>167.971110</td>\n",
       "      <td>정상</td>\n",
       "    </tr>\n",
       "    <tr>\n",
       "      <th>8</th>\n",
       "      <td>8</td>\n",
       "      <td>Male</td>\n",
       "      <td>67.018950</td>\n",
       "      <td>175.929440</td>\n",
       "      <td>정상</td>\n",
       "    </tr>\n",
       "    <tr>\n",
       "      <th>9</th>\n",
       "      <td>9</td>\n",
       "      <td>Male</td>\n",
       "      <td>63.456494</td>\n",
       "      <td>156.399676</td>\n",
       "      <td>정상</td>\n",
       "    </tr>\n",
       "    <tr>\n",
       "      <th>10</th>\n",
       "      <td>10</td>\n",
       "      <td>Male</td>\n",
       "      <td>71.195382</td>\n",
       "      <td>186.604926</td>\n",
       "      <td>정상</td>\n",
       "    </tr>\n",
       "    <tr>\n",
       "      <th>11</th>\n",
       "      <td>11</td>\n",
       "      <td>Female</td>\n",
       "      <td>62.636675</td>\n",
       "      <td>102.853563</td>\n",
       "      <td>정상</td>\n",
       "    </tr>\n",
       "    <tr>\n",
       "      <th>12</th>\n",
       "      <td>12</td>\n",
       "      <td>Female</td>\n",
       "      <td>62.077832</td>\n",
       "      <td>138.691680</td>\n",
       "      <td>정상</td>\n",
       "    </tr>\n",
       "    <tr>\n",
       "      <th>13</th>\n",
       "      <td>13</td>\n",
       "      <td>Female</td>\n",
       "      <td>60.030434</td>\n",
       "      <td>97.687432</td>\n",
       "      <td>정상</td>\n",
       "    </tr>\n",
       "    <tr>\n",
       "      <th>14</th>\n",
       "      <td>14</td>\n",
       "      <td>Female</td>\n",
       "      <td>59.098250</td>\n",
       "      <td>110.529686</td>\n",
       "      <td>정상</td>\n",
       "    </tr>\n",
       "    <tr>\n",
       "      <th>15</th>\n",
       "      <td>15</td>\n",
       "      <td>Female</td>\n",
       "      <td>66.172652</td>\n",
       "      <td>136.777454</td>\n",
       "      <td>정상</td>\n",
       "    </tr>\n",
       "    <tr>\n",
       "      <th>16</th>\n",
       "      <td>16</td>\n",
       "      <td>Female</td>\n",
       "      <td>67.067155</td>\n",
       "      <td>170.867906</td>\n",
       "      <td>정상</td>\n",
       "    </tr>\n",
       "    <tr>\n",
       "      <th>17</th>\n",
       "      <td>17</td>\n",
       "      <td>Female</td>\n",
       "      <td>63.867992</td>\n",
       "      <td>128.475319</td>\n",
       "      <td>정상</td>\n",
       "    </tr>\n",
       "    <tr>\n",
       "      <th>18</th>\n",
       "      <td>18</td>\n",
       "      <td>Female</td>\n",
       "      <td>69.034243</td>\n",
       "      <td>163.852461</td>\n",
       "      <td>정상</td>\n",
       "    </tr>\n",
       "    <tr>\n",
       "      <th>19</th>\n",
       "      <td>19</td>\n",
       "      <td>Female</td>\n",
       "      <td>61.944246</td>\n",
       "      <td>113.649103</td>\n",
       "      <td>정상</td>\n",
       "    </tr>\n",
       "    <tr>\n",
       "      <th>20</th>\n",
       "      <td>20</td>\n",
       "      <td>Female</td>\n",
       "      <td>70.000000</td>\n",
       "      <td>200.000000</td>\n",
       "      <td>정상</td>\n",
       "    </tr>\n",
       "  </tbody>\n",
       "</table>\n",
       "</div>"
      ],
      "text/plain": [
       "    ID  Gender  Height (Inch)  Weight (Pound) 비만도\n",
       "0    0    Male      73.847017      241.893563  정상\n",
       "1    1    Male      70.000000      200.000000  정상\n",
       "2    2    Male      74.110105      212.740856  정상\n",
       "3    3    Male      71.730978      220.042470  정상\n",
       "4    4    Male      69.881796      206.349801  정상\n",
       "5    5    Male      67.253016      152.212156  정상\n",
       "6    6    Male      68.785081      183.927889  정상\n",
       "7    7    Male      68.348516      167.971110  정상\n",
       "8    8    Male      67.018950      175.929440  정상\n",
       "9    9    Male      63.456494      156.399676  정상\n",
       "10  10    Male      71.195382      186.604926  정상\n",
       "11  11  Female      62.636675      102.853563  정상\n",
       "12  12  Female      62.077832      138.691680  정상\n",
       "13  13  Female      60.030434       97.687432  정상\n",
       "14  14  Female      59.098250      110.529686  정상\n",
       "15  15  Female      66.172652      136.777454  정상\n",
       "16  16  Female      67.067155      170.867906  정상\n",
       "17  17  Female      63.867992      128.475319  정상\n",
       "18  18  Female      69.034243      163.852461  정상\n",
       "19  19  Female      61.944246      113.649103  정상\n",
       "20  20  Female      70.000000      200.000000  정상"
      ]
     },
     "execution_count": 107,
     "metadata": {},
     "output_type": "execute_result"
    }
   ],
   "source": [
    "df.loc[0:11,'Gender'] = 'Male'\n",
    "df.loc[11:21,'Gender'] = 'Female'\n",
    "df"
   ]
  },
  {
   "cell_type": "code",
   "execution_count": null,
   "id": "bc0edf62-0cd0-48d7-9bc4-e342181f2e1c",
   "metadata": {},
   "outputs": [],
   "source": []
  }
 ],
 "metadata": {
  "kernelspec": {
   "display_name": "Python 3 (ipykernel)",
   "language": "python",
   "name": "python3"
  },
  "language_info": {
   "codemirror_mode": {
    "name": "ipython",
    "version": 3
   },
   "file_extension": ".py",
   "mimetype": "text/x-python",
   "name": "python",
   "nbconvert_exporter": "python",
   "pygments_lexer": "ipython3",
   "version": "3.9.10"
  }
 },
 "nbformat": 4,
 "nbformat_minor": 5
}
