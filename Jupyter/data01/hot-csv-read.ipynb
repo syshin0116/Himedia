{
 "cells": [
  {
   "cell_type": "code",
   "execution_count": 2,
   "metadata": {},
   "outputs": [],
   "source": [
    "import pandas as pd"
   ]
  },
  {
   "cell_type": "code",
   "execution_count": 3,
   "metadata": {},
   "outputs": [
    {
     "data": {
      "text/html": [
       "<div>\n",
       "<style scoped>\n",
       "    .dataframe tbody tr th:only-of-type {\n",
       "        vertical-align: middle;\n",
       "    }\n",
       "\n",
       "    .dataframe tbody tr th {\n",
       "        vertical-align: top;\n",
       "    }\n",
       "\n",
       "    .dataframe thead th {\n",
       "        text-align: right;\n",
       "    }\n",
       "</style>\n",
       "<table border=\"1\" class=\"dataframe\">\n",
       "  <thead>\n",
       "    <tr style=\"text-align: right;\">\n",
       "      <th></th>\n",
       "      <th>title</th>\n",
       "      <th>brand</th>\n",
       "      <th>percent</th>\n",
       "      <th>price</th>\n",
       "    </tr>\n",
       "  </thead>\n",
       "  <tbody>\n",
       "    <tr>\n",
       "      <td>0</td>\n",
       "      <td>SAVAGE [미니 1집] [SYNK DIVE VER]</td>\n",
       "      <td>AESPA(에스파)</td>\n",
       "      <td>19%</td>\n",
       "      <td>20000</td>\n",
       "    </tr>\n",
       "    <tr>\n",
       "      <td>1</td>\n",
       "      <td>ODDINARY [MINI ALBUM] [SCANNING/ MASK OFF VER]...</td>\n",
       "      <td>STRAY KIDS(스트레이 키즈)</td>\n",
       "      <td>19%</td>\n",
       "      <td>20000</td>\n",
       "    </tr>\n",
       "    <tr>\n",
       "      <td>2</td>\n",
       "      <td>2021 WINTER SMTOWN: SMCU EXPRESS [RED VELVET]</td>\n",
       "      <td>RED VELVET(레드벨벳)</td>\n",
       "      <td>19%</td>\n",
       "      <td>16500</td>\n",
       "    </tr>\n",
       "    <tr>\n",
       "      <td>3</td>\n",
       "      <td>2021 WINTER SMTOWN: SMCU EXPRESS [NCT - DAYTIM...</td>\n",
       "      <td>NCT(엔시티)</td>\n",
       "      <td>19%</td>\n",
       "      <td>16500</td>\n",
       "    </tr>\n",
       "    <tr>\n",
       "      <td>4</td>\n",
       "      <td>2021 WINTER SMTOWN: SMCU EXPRESS [NCT - NIGHTT...</td>\n",
       "      <td>NCT(엔시티)</td>\n",
       "      <td>19%</td>\n",
       "      <td>16500</td>\n",
       "    </tr>\n",
       "    <tr>\n",
       "      <td>...</td>\n",
       "      <td>...</td>\n",
       "      <td>...</td>\n",
       "      <td>...</td>\n",
       "      <td>...</td>\n",
       "    </tr>\n",
       "    <tr>\n",
       "      <td>114</td>\n",
       "      <td>IT`S ME IT`S WE [미니 1집] [DIGIPACK VER]</td>\n",
       "      <td>TEMPEST(템페스트)</td>\n",
       "      <td>17%</td>\n",
       "      <td>18000</td>\n",
       "    </tr>\n",
       "    <tr>\n",
       "      <td>115</td>\n",
       "      <td>IT`S ME IT`S WE [미니 1집]</td>\n",
       "      <td>TEMPEST(템페스트)</td>\n",
       "      <td>19%</td>\n",
       "      <td>23000</td>\n",
       "    </tr>\n",
       "    <tr>\n",
       "      <td>116</td>\n",
       "      <td>IT`S ME IT`S WE [미니 1집] [2종 세트]</td>\n",
       "      <td>TEMPEST(템페스트)</td>\n",
       "      <td>0</td>\n",
       "      <td>0</td>\n",
       "    </tr>\n",
       "    <tr>\n",
       "      <td>117</td>\n",
       "      <td>LOVENDER [미니 1집]</td>\n",
       "      <td>한승윤</td>\n",
       "      <td>0</td>\n",
       "      <td>0</td>\n",
       "    </tr>\n",
       "    <tr>\n",
       "      <td>118</td>\n",
       "      <td>BORN (本) [정규 6집]</td>\n",
       "      <td>BIG MAMA(빅마마)</td>\n",
       "      <td>0</td>\n",
       "      <td>0</td>\n",
       "    </tr>\n",
       "  </tbody>\n",
       "</table>\n",
       "<p>119 rows × 4 columns</p>\n",
       "</div>"
      ],
      "text/plain": [
       "                                                 title                brand  \\\n",
       "0                       SAVAGE [미니 1집] [SYNK DIVE VER]           AESPA(에스파)   \n",
       "1    ODDINARY [MINI ALBUM] [SCANNING/ MASK OFF VER]...  STRAY KIDS(스트레이 키즈)   \n",
       "2        2021 WINTER SMTOWN: SMCU EXPRESS [RED VELVET]     RED VELVET(레드벨벳)   \n",
       "3    2021 WINTER SMTOWN: SMCU EXPRESS [NCT - DAYTIM...             NCT(엔시티)   \n",
       "4    2021 WINTER SMTOWN: SMCU EXPRESS [NCT - NIGHTT...             NCT(엔시티)   \n",
       "..                                                 ...                  ...   \n",
       "114             IT`S ME IT`S WE [미니 1집] [DIGIPACK VER]        TEMPEST(템페스트)   \n",
       "115                            IT`S ME IT`S WE [미니 1집]        TEMPEST(템페스트)   \n",
       "116                    IT`S ME IT`S WE [미니 1집] [2종 세트]        TEMPEST(템페스트)   \n",
       "117                                   LOVENDER [미니 1집]                  한승윤   \n",
       "118                                   BORN (本) [정규 6집]        BIG MAMA(빅마마)   \n",
       "\n",
       "    percent  price  \n",
       "0       19%  20000  \n",
       "1       19%  20000  \n",
       "2       19%  16500  \n",
       "3       19%  16500  \n",
       "4       19%  16500  \n",
       "..      ...    ...  \n",
       "114     17%  18000  \n",
       "115     19%  23000  \n",
       "116       0      0  \n",
       "117       0      0  \n",
       "118       0      0  \n",
       "\n",
       "[119 rows x 4 columns]"
      ]
     },
     "execution_count": 3,
     "metadata": {},
     "output_type": "execute_result"
    }
   ],
   "source": [
    "hot = pd.read_csv('hottract.csv', encoding='euc-kr')\n",
    "hot"
   ]
  },
  {
   "cell_type": "code",
   "execution_count": 5,
   "metadata": {},
   "outputs": [
    {
     "data": {
      "text/plain": [
       "'SAVAGE [미니 1집] [SYNK DIVE VER]'"
      ]
     },
     "execution_count": 5,
     "metadata": {},
     "output_type": "execute_result"
    }
   ],
   "source": [
    "hot['title'][0]"
   ]
  },
  {
   "cell_type": "code",
   "execution_count": 6,
   "metadata": {},
   "outputs": [
    {
     "data": {
      "text/plain": [
       "0                       SAVAGE [미니 1집] [SYNK DIVE VER]\n",
       "1    ODDINARY [MINI ALBUM] [SCANNING/ MASK OFF VER]...\n",
       "2        2021 WINTER SMTOWN: SMCU EXPRESS [RED VELVET]\n",
       "3    2021 WINTER SMTOWN: SMCU EXPRESS [NCT - DAYTIM...\n",
       "4    2021 WINTER SMTOWN: SMCU EXPRESS [NCT - NIGHTT...\n",
       "Name: title, dtype: object"
      ]
     },
     "execution_count": 6,
     "metadata": {},
     "output_type": "execute_result"
    }
   ],
   "source": [
    "hot['title'][0:5]"
   ]
  },
  {
   "cell_type": "code",
   "execution_count": 7,
   "metadata": {},
   "outputs": [
    {
     "data": {
      "text/plain": [
       "pandas.core.frame.DataFrame"
      ]
     },
     "execution_count": 7,
     "metadata": {},
     "output_type": "execute_result"
    }
   ],
   "source": [
    "type(hot)"
   ]
  },
  {
   "cell_type": "code",
   "execution_count": null,
   "metadata": {},
   "outputs": [],
   "source": []
  }
 ],
 "metadata": {
  "kernelspec": {
   "display_name": "Python 3 (ipykernel)",
   "language": "python",
   "name": "python3"
  },
  "language_info": {
   "codemirror_mode": {
    "name": "ipython",
    "version": 3
   },
   "file_extension": ".py",
   "mimetype": "text/x-python",
   "name": "python",
   "nbconvert_exporter": "python",
   "pygments_lexer": "ipython3",
   "version": "3.9.10"
  }
 },
 "nbformat": 4,
 "nbformat_minor": 4
}
