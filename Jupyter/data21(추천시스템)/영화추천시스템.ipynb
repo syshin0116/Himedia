{
 "cells": [
  {
   "cell_type": "code",
   "execution_count": 1,
   "id": "85160bd4-145d-4b32-b62d-41be01be13af",
   "metadata": {},
   "outputs": [],
   "source": [
    "import surprise"
   ]
  },
  {
   "cell_type": "code",
   "execution_count": 8,
   "id": "e077638a-515d-4c13-b58e-28a31650fe57",
   "metadata": {},
   "outputs": [
    {
     "name": "stdout",
     "output_type": "stream",
     "text": [
      "1.1.1\n"
     ]
    }
   ],
   "source": [
    "print(surprise.__version__)"
   ]
  },
  {
   "cell_type": "code",
   "execution_count": 9,
   "id": "4fa9ceeb-ea2a-4659-8a6d-868170b6a81f",
   "metadata": {},
   "outputs": [],
   "source": [
    "## 고유값(특이값)분해 방법\n",
    "from surprise import SVD\n",
    "## SGD(Stochastic 통계적인 Gradient 경사 하강법)"
   ]
  },
  {
   "cell_type": "code",
   "execution_count": 5,
   "id": "869b6f02-7bf8-4eec-9aa1-76ca4916f0d0",
   "metadata": {},
   "outputs": [],
   "source": [
    "## 고유값분해(행렬을 더 낮은 차원으로 분해)해서 다시 원본으로 살리면서 잠재적인 값을 추론하는 방법\n",
    "from surprise import Dataset, Reader ## SVD를 사용하기 위한 데이터셋 만들어주는 클래스\n",
    "                            ## 사용자, 아이템, 평점\n",
    "from surprise import accuracy ## RMSE, MAE, cross-validation(k-fold)\n",
    "from surprise.model_selection import train_test_split ## 훈련/검증 데이터 분류"
   ]
  },
  {
   "cell_type": "code",
   "execution_count": 11,
   "id": "2f5ad8be-e6f1-464b-8129-75f1ce9f9f80",
   "metadata": {},
   "outputs": [
    {
     "data": {
      "text/plain": [
       "<surprise.dataset.DatasetAutoFolds at 0x1172f50d0>"
      ]
     },
     "execution_count": 11,
     "metadata": {},
     "output_type": "execute_result"
    }
   ],
   "source": [
    "## 1. 데이터셋을 만들어주자(사용자, 아이템, 평점),  훈련/검증 데이터 분류\n",
    "data = Dataset.load_builtin('ml-100k')\n",
    "data"
   ]
  },
  {
   "cell_type": "code",
   "execution_count": 13,
   "id": "9d0e688c-b228-4edf-ba3f-f5d817af57a4",
   "metadata": {},
   "outputs": [
    {
     "data": {
      "text/plain": [
       "<surprise.trainset.Trainset at 0x106dd7d30>"
      ]
     },
     "execution_count": 13,
     "metadata": {},
     "output_type": "execute_result"
    }
   ],
   "source": [
    "trainset, testset = train_test_split(data, test_size= 0.25, random_state=0)\n",
    "trainset"
   ]
  },
  {
   "cell_type": "code",
   "execution_count": 20,
   "id": "fa3d7810-82e2-40ca-b978-9571f71f534e",
   "metadata": {},
   "outputs": [
    {
     "data": {
      "text/plain": [
       "[('120', '282', 4.0),\n",
       " ('882', '291', 4.0),\n",
       " ('535', '507', 5.0),\n",
       " ('697', '244', 5.0),\n",
       " ('751', '385', 4.0),\n",
       " ('219', '82', 1.0),\n",
       " ('279', '571', 4.0),\n",
       " ('429', '568', 3.0),\n",
       " ('456', '100', 3.0),\n",
       " ('249', '23', 4.0)]"
      ]
     },
     "execution_count": 20,
     "metadata": {},
     "output_type": "execute_result"
    }
   ],
   "source": [
    "testset[:10]"
   ]
  },
  {
   "cell_type": "code",
   "execution_count": 15,
   "id": "a668fc1f-a38e-43a8-8fce-504b83962b4f",
   "metadata": {},
   "outputs": [],
   "source": [
    "## 2. SVD() 모델 선정\n",
    "algo = SVD()"
   ]
  },
  {
   "cell_type": "code",
   "execution_count": 16,
   "id": "bb1a9567-c411-42a6-910d-8490e66a9b65",
   "metadata": {},
   "outputs": [
    {
     "data": {
      "text/plain": [
       "<surprise.prediction_algorithms.matrix_factorization.SVD at 0x1172f5280>"
      ]
     },
     "execution_count": 16,
     "metadata": {},
     "output_type": "execute_result"
    }
   ],
   "source": [
    "## 3. 훈련용 데이터로 fit()\n",
    "algo.fit(trainset)"
   ]
  },
  {
   "cell_type": "code",
   "execution_count": 22,
   "id": "8a1873ea-6189-4717-a19b-5b27f7fbaff4",
   "metadata": {},
   "outputs": [
    {
     "data": {
      "text/plain": [
       "Prediction(uid='882', iid='291', r_ui=4.0, est=3.719524013468171, details={'was_impossible': False})"
      ]
     },
     "execution_count": 22,
     "metadata": {},
     "output_type": "execute_result"
    }
   ],
   "source": [
    "## 4. 검증용 데이터로 예측\n",
    "prediction = algo.test(testset)[1]\n",
    "prediction ## 하나의 영화에 대한 예측값은 Prediction객체!"
   ]
  },
  {
   "cell_type": "code",
   "execution_count": 23,
   "id": "6450ab86-2e40-4fd9-89b8-4c1ded316b07",
   "metadata": {},
   "outputs": [
    {
     "data": {
      "text/plain": [
       "[Prediction(uid='120', iid='282', r_ui=4.0, est=3.5663858906270725, details={'was_impossible': False}),\n",
       " Prediction(uid='882', iid='291', r_ui=4.0, est=3.719524013468171, details={'was_impossible': False}),\n",
       " Prediction(uid='535', iid='507', r_ui=5.0, est=4.251826508012287, details={'was_impossible': False}),\n",
       " Prediction(uid='697', iid='244', r_ui=5.0, est=3.5505727106131095, details={'was_impossible': False}),\n",
       " Prediction(uid='751', iid='385', r_ui=4.0, est=3.4917541581066307, details={'was_impossible': False}),\n",
       " Prediction(uid='219', iid='82', r_ui=1.0, est=3.835783265664582, details={'was_impossible': False}),\n",
       " Prediction(uid='279', iid='571', r_ui=4.0, est=2.8106257396246694, details={'was_impossible': False}),\n",
       " Prediction(uid='429', iid='568', r_ui=3.0, est=3.278402420755893, details={'was_impossible': False}),\n",
       " Prediction(uid='456', iid='100', r_ui=3.0, est=4.160534835148915, details={'was_impossible': False}),\n",
       " Prediction(uid='249', iid='23', r_ui=4.0, est=4.618603918289853, details={'was_impossible': False})]"
      ]
     },
     "execution_count": 23,
     "metadata": {},
     "output_type": "execute_result"
    }
   ],
   "source": [
    "predictions = algo.test(testset)[:10]\n",
    "predictions ## 하나의 영화에 대한 예측값은 Prediction객체!"
   ]
  },
  {
   "cell_type": "code",
   "execution_count": 33,
   "id": "ba055d0c-b4ba-443a-8176-a6254178731d",
   "metadata": {},
   "outputs": [
    {
     "name": "stdout",
     "output_type": "stream",
     "text": [
      "userid:882 , iid:291 ==> est: 3.719524013468171\n"
     ]
    }
   ],
   "source": [
    "print('userid:' + prediction.uid, ', iid:' + prediction.iid, '==> est:', prediction.est)"
   ]
  },
  {
   "cell_type": "code",
   "execution_count": 34,
   "id": "8725ed50-afb0-47ba-aabd-611317967934",
   "metadata": {},
   "outputs": [
    {
     "name": "stdout",
     "output_type": "stream",
     "text": [
      "userid:120 , iid:282 ==> est: 3.5663858906270725\n",
      "userid:882 , iid:291 ==> est: 3.719524013468171\n",
      "userid:535 , iid:507 ==> est: 4.251826508012287\n",
      "userid:697 , iid:244 ==> est: 3.5505727106131095\n",
      "userid:751 , iid:385 ==> est: 3.4917541581066307\n",
      "userid:219 , iid:82 ==> est: 3.835783265664582\n",
      "userid:279 , iid:571 ==> est: 2.8106257396246694\n",
      "userid:429 , iid:568 ==> est: 3.278402420755893\n",
      "userid:456 , iid:100 ==> est: 4.160534835148915\n",
      "userid:249 , iid:23 ==> est: 4.618603918289853\n"
     ]
    }
   ],
   "source": [
    "for i in predictions:\n",
    "    print('userid:' + i.uid, ', iid:' + i.iid, '==> est:', i.est)"
   ]
  },
  {
   "cell_type": "code",
   "execution_count": 35,
   "id": "50f02829-8401-453e-9d60-a926108c53a8",
   "metadata": {},
   "outputs": [],
   "source": [
    "## 5. 정확도 계산 \n"
   ]
  },
  {
   "cell_type": "code",
   "execution_count": 36,
   "id": "2d20a8cd-6f3d-4e6d-90bc-d1f9b5375455",
   "metadata": {},
   "outputs": [
    {
     "data": {
      "text/plain": [
       "Prediction(uid='196', iid='302', r_ui=None, est=4.156486414813928, details={'was_impossible': False})"
      ]
     },
     "execution_count": 36,
     "metadata": {},
     "output_type": "execute_result"
    }
   ],
   "source": [
    "## 6. 사용자, 아이템정보 주고 예측 실행\n",
    "uid = str(196)\n",
    "iid = str(302)\n",
    "pred = algo.predict(uid, iid)\n",
    "pred"
   ]
  },
  {
   "cell_type": "code",
   "execution_count": 42,
   "id": "cf1e224f-f9c0-4101-96f1-5a922f318d3e",
   "metadata": {},
   "outputs": [],
   "source": [
    "import pandas as pd"
   ]
  },
  {
   "cell_type": "code",
   "execution_count": 38,
   "id": "993606ef-c037-4e96-b08e-43cf71409042",
   "metadata": {},
   "outputs": [],
   "source": [
    "## csv를 SVD하기 위한 DataSet를 주기 위해서는\n",
    "## 1) df <--- csv, 2) DataSet <--- df"
   ]
  },
  {
   "cell_type": "code",
   "execution_count": 39,
   "id": "2bc7d6e7-86eb-4f4a-becc-42b964578b5b",
   "metadata": {},
   "outputs": [],
   "source": [
    "result2 = algo.test(testset)"
   ]
  },
  {
   "cell_type": "code",
   "execution_count": 40,
   "id": "457be9a2-a53f-4426-a174-deaf0bd7f942",
   "metadata": {},
   "outputs": [
    {
     "data": {
      "text/plain": [
       "25000"
      ]
     },
     "execution_count": 40,
     "metadata": {},
     "output_type": "execute_result"
    }
   ],
   "source": [
    "len(result2)"
   ]
  },
  {
   "cell_type": "code",
   "execution_count": null,
   "id": "53ac4963-87b0-4b84-b257-eb318d0cb804",
   "metadata": {},
   "outputs": [],
   "source": []
  },
  {
   "cell_type": "code",
   "execution_count": 43,
   "id": "1343d7f9-84e8-4e25-bea5-4876b2644161",
   "metadata": {},
   "outputs": [
    {
     "data": {
      "text/html": [
       "<div>\n",
       "<style scoped>\n",
       "    .dataframe tbody tr th:only-of-type {\n",
       "        vertical-align: middle;\n",
       "    }\n",
       "\n",
       "    .dataframe tbody tr th {\n",
       "        vertical-align: top;\n",
       "    }\n",
       "\n",
       "    .dataframe thead th {\n",
       "        text-align: right;\n",
       "    }\n",
       "</style>\n",
       "<table border=\"1\" class=\"dataframe\">\n",
       "  <thead>\n",
       "    <tr style=\"text-align: right;\">\n",
       "      <th></th>\n",
       "      <th>movieId</th>\n",
       "      <th>title</th>\n",
       "      <th>genres</th>\n",
       "    </tr>\n",
       "  </thead>\n",
       "  <tbody>\n",
       "    <tr>\n",
       "      <th>0</th>\n",
       "      <td>1</td>\n",
       "      <td>Toy Story (1995)</td>\n",
       "      <td>Adventure|Animation|Children|Comedy|Fantasy</td>\n",
       "    </tr>\n",
       "    <tr>\n",
       "      <th>1</th>\n",
       "      <td>2</td>\n",
       "      <td>Jumanji (1995)</td>\n",
       "      <td>Adventure|Children|Fantasy</td>\n",
       "    </tr>\n",
       "    <tr>\n",
       "      <th>2</th>\n",
       "      <td>3</td>\n",
       "      <td>Grumpier Old Men (1995)</td>\n",
       "      <td>Comedy|Romance</td>\n",
       "    </tr>\n",
       "    <tr>\n",
       "      <th>3</th>\n",
       "      <td>4</td>\n",
       "      <td>Waiting to Exhale (1995)</td>\n",
       "      <td>Comedy|Drama|Romance</td>\n",
       "    </tr>\n",
       "    <tr>\n",
       "      <th>4</th>\n",
       "      <td>5</td>\n",
       "      <td>Father of the Bride Part II (1995)</td>\n",
       "      <td>Comedy</td>\n",
       "    </tr>\n",
       "    <tr>\n",
       "      <th>...</th>\n",
       "      <td>...</td>\n",
       "      <td>...</td>\n",
       "      <td>...</td>\n",
       "    </tr>\n",
       "    <tr>\n",
       "      <th>9737</th>\n",
       "      <td>193581</td>\n",
       "      <td>Black Butler: Book of the Atlantic (2017)</td>\n",
       "      <td>Action|Animation|Comedy|Fantasy</td>\n",
       "    </tr>\n",
       "    <tr>\n",
       "      <th>9738</th>\n",
       "      <td>193583</td>\n",
       "      <td>No Game No Life: Zero (2017)</td>\n",
       "      <td>Animation|Comedy|Fantasy</td>\n",
       "    </tr>\n",
       "    <tr>\n",
       "      <th>9739</th>\n",
       "      <td>193585</td>\n",
       "      <td>Flint (2017)</td>\n",
       "      <td>Drama</td>\n",
       "    </tr>\n",
       "    <tr>\n",
       "      <th>9740</th>\n",
       "      <td>193587</td>\n",
       "      <td>Bungo Stray Dogs: Dead Apple (2018)</td>\n",
       "      <td>Action|Animation</td>\n",
       "    </tr>\n",
       "    <tr>\n",
       "      <th>9741</th>\n",
       "      <td>193609</td>\n",
       "      <td>Andrew Dice Clay: Dice Rules (1991)</td>\n",
       "      <td>Comedy</td>\n",
       "    </tr>\n",
       "  </tbody>\n",
       "</table>\n",
       "<p>9742 rows × 3 columns</p>\n",
       "</div>"
      ],
      "text/plain": [
       "      movieId                                      title  \\\n",
       "0           1                           Toy Story (1995)   \n",
       "1           2                             Jumanji (1995)   \n",
       "2           3                    Grumpier Old Men (1995)   \n",
       "3           4                   Waiting to Exhale (1995)   \n",
       "4           5         Father of the Bride Part II (1995)   \n",
       "...       ...                                        ...   \n",
       "9737   193581  Black Butler: Book of the Atlantic (2017)   \n",
       "9738   193583               No Game No Life: Zero (2017)   \n",
       "9739   193585                               Flint (2017)   \n",
       "9740   193587        Bungo Stray Dogs: Dead Apple (2018)   \n",
       "9741   193609        Andrew Dice Clay: Dice Rules (1991)   \n",
       "\n",
       "                                           genres  \n",
       "0     Adventure|Animation|Children|Comedy|Fantasy  \n",
       "1                      Adventure|Children|Fantasy  \n",
       "2                                  Comedy|Romance  \n",
       "3                            Comedy|Drama|Romance  \n",
       "4                                          Comedy  \n",
       "...                                           ...  \n",
       "9737              Action|Animation|Comedy|Fantasy  \n",
       "9738                     Animation|Comedy|Fantasy  \n",
       "9739                                        Drama  \n",
       "9740                             Action|Animation  \n",
       "9741                                       Comedy  \n",
       "\n",
       "[9742 rows x 3 columns]"
      ]
     },
     "execution_count": 43,
     "metadata": {},
     "output_type": "execute_result"
    }
   ],
   "source": [
    "movies = pd.read_csv('./movie-ratings-data/movies.csv')\n",
    "movies"
   ]
  },
  {
   "cell_type": "code",
   "execution_count": 44,
   "id": "5c601b57-b6cd-44be-bfc4-27dab1556970",
   "metadata": {},
   "outputs": [
    {
     "data": {
      "text/html": [
       "<div>\n",
       "<style scoped>\n",
       "    .dataframe tbody tr th:only-of-type {\n",
       "        vertical-align: middle;\n",
       "    }\n",
       "\n",
       "    .dataframe tbody tr th {\n",
       "        vertical-align: top;\n",
       "    }\n",
       "\n",
       "    .dataframe thead th {\n",
       "        text-align: right;\n",
       "    }\n",
       "</style>\n",
       "<table border=\"1\" class=\"dataframe\">\n",
       "  <thead>\n",
       "    <tr style=\"text-align: right;\">\n",
       "      <th></th>\n",
       "      <th>userId</th>\n",
       "      <th>movieId</th>\n",
       "      <th>rating</th>\n",
       "      <th>timestamp</th>\n",
       "    </tr>\n",
       "  </thead>\n",
       "  <tbody>\n",
       "    <tr>\n",
       "      <th>0</th>\n",
       "      <td>1</td>\n",
       "      <td>1</td>\n",
       "      <td>4.0</td>\n",
       "      <td>964982703</td>\n",
       "    </tr>\n",
       "    <tr>\n",
       "      <th>1</th>\n",
       "      <td>1</td>\n",
       "      <td>3</td>\n",
       "      <td>4.0</td>\n",
       "      <td>964981247</td>\n",
       "    </tr>\n",
       "    <tr>\n",
       "      <th>2</th>\n",
       "      <td>1</td>\n",
       "      <td>6</td>\n",
       "      <td>4.0</td>\n",
       "      <td>964982224</td>\n",
       "    </tr>\n",
       "    <tr>\n",
       "      <th>3</th>\n",
       "      <td>1</td>\n",
       "      <td>47</td>\n",
       "      <td>5.0</td>\n",
       "      <td>964983815</td>\n",
       "    </tr>\n",
       "    <tr>\n",
       "      <th>4</th>\n",
       "      <td>1</td>\n",
       "      <td>50</td>\n",
       "      <td>5.0</td>\n",
       "      <td>964982931</td>\n",
       "    </tr>\n",
       "    <tr>\n",
       "      <th>...</th>\n",
       "      <td>...</td>\n",
       "      <td>...</td>\n",
       "      <td>...</td>\n",
       "      <td>...</td>\n",
       "    </tr>\n",
       "    <tr>\n",
       "      <th>100831</th>\n",
       "      <td>610</td>\n",
       "      <td>166534</td>\n",
       "      <td>4.0</td>\n",
       "      <td>1493848402</td>\n",
       "    </tr>\n",
       "    <tr>\n",
       "      <th>100832</th>\n",
       "      <td>610</td>\n",
       "      <td>168248</td>\n",
       "      <td>5.0</td>\n",
       "      <td>1493850091</td>\n",
       "    </tr>\n",
       "    <tr>\n",
       "      <th>100833</th>\n",
       "      <td>610</td>\n",
       "      <td>168250</td>\n",
       "      <td>5.0</td>\n",
       "      <td>1494273047</td>\n",
       "    </tr>\n",
       "    <tr>\n",
       "      <th>100834</th>\n",
       "      <td>610</td>\n",
       "      <td>168252</td>\n",
       "      <td>5.0</td>\n",
       "      <td>1493846352</td>\n",
       "    </tr>\n",
       "    <tr>\n",
       "      <th>100835</th>\n",
       "      <td>610</td>\n",
       "      <td>170875</td>\n",
       "      <td>3.0</td>\n",
       "      <td>1493846415</td>\n",
       "    </tr>\n",
       "  </tbody>\n",
       "</table>\n",
       "<p>100836 rows × 4 columns</p>\n",
       "</div>"
      ],
      "text/plain": [
       "        userId  movieId  rating   timestamp\n",
       "0            1        1     4.0   964982703\n",
       "1            1        3     4.0   964981247\n",
       "2            1        6     4.0   964982224\n",
       "3            1       47     5.0   964983815\n",
       "4            1       50     5.0   964982931\n",
       "...        ...      ...     ...         ...\n",
       "100831     610   166534     4.0  1493848402\n",
       "100832     610   168248     5.0  1493850091\n",
       "100833     610   168250     5.0  1494273047\n",
       "100834     610   168252     5.0  1493846352\n",
       "100835     610   170875     3.0  1493846415\n",
       "\n",
       "[100836 rows x 4 columns]"
      ]
     },
     "execution_count": 44,
     "metadata": {},
     "output_type": "execute_result"
    }
   ],
   "source": [
    "ratings = pd.read_csv('./movie-ratings-data/ratings.csv')\n",
    "ratings"
   ]
  },
  {
   "cell_type": "code",
   "execution_count": 49,
   "id": "3c283d24-5001-42a8-af8a-03beef62ea90",
   "metadata": {},
   "outputs": [
    {
     "data": {
      "text/html": [
       "<div>\n",
       "<style scoped>\n",
       "    .dataframe tbody tr th:only-of-type {\n",
       "        vertical-align: middle;\n",
       "    }\n",
       "\n",
       "    .dataframe tbody tr th {\n",
       "        vertical-align: top;\n",
       "    }\n",
       "\n",
       "    .dataframe thead th {\n",
       "        text-align: right;\n",
       "    }\n",
       "</style>\n",
       "<table border=\"1\" class=\"dataframe\">\n",
       "  <thead>\n",
       "    <tr style=\"text-align: right;\">\n",
       "      <th></th>\n",
       "      <th>userId</th>\n",
       "      <th>movieId</th>\n",
       "      <th>rating</th>\n",
       "      <th>timestamp</th>\n",
       "    </tr>\n",
       "  </thead>\n",
       "  <tbody>\n",
       "    <tr>\n",
       "      <th>1073</th>\n",
       "      <td>9</td>\n",
       "      <td>41</td>\n",
       "      <td>3.0</td>\n",
       "      <td>1044656650</td>\n",
       "    </tr>\n",
       "    <tr>\n",
       "      <th>1074</th>\n",
       "      <td>9</td>\n",
       "      <td>187</td>\n",
       "      <td>3.0</td>\n",
       "      <td>1044657119</td>\n",
       "    </tr>\n",
       "    <tr>\n",
       "      <th>1075</th>\n",
       "      <td>9</td>\n",
       "      <td>223</td>\n",
       "      <td>4.0</td>\n",
       "      <td>1044656650</td>\n",
       "    </tr>\n",
       "    <tr>\n",
       "      <th>1076</th>\n",
       "      <td>9</td>\n",
       "      <td>371</td>\n",
       "      <td>3.0</td>\n",
       "      <td>1044656716</td>\n",
       "    </tr>\n",
       "    <tr>\n",
       "      <th>1077</th>\n",
       "      <td>9</td>\n",
       "      <td>627</td>\n",
       "      <td>3.0</td>\n",
       "      <td>1044657102</td>\n",
       "    </tr>\n",
       "    <tr>\n",
       "      <th>1078</th>\n",
       "      <td>9</td>\n",
       "      <td>922</td>\n",
       "      <td>4.0</td>\n",
       "      <td>1044657026</td>\n",
       "    </tr>\n",
       "    <tr>\n",
       "      <th>1079</th>\n",
       "      <td>9</td>\n",
       "      <td>923</td>\n",
       "      <td>5.0</td>\n",
       "      <td>1044657026</td>\n",
       "    </tr>\n",
       "    <tr>\n",
       "      <th>1080</th>\n",
       "      <td>9</td>\n",
       "      <td>1037</td>\n",
       "      <td>2.0</td>\n",
       "      <td>1044656650</td>\n",
       "    </tr>\n",
       "    <tr>\n",
       "      <th>1081</th>\n",
       "      <td>9</td>\n",
       "      <td>1095</td>\n",
       "      <td>4.0</td>\n",
       "      <td>1044657088</td>\n",
       "    </tr>\n",
       "    <tr>\n",
       "      <th>1082</th>\n",
       "      <td>9</td>\n",
       "      <td>1198</td>\n",
       "      <td>5.0</td>\n",
       "      <td>1044656716</td>\n",
       "    </tr>\n",
       "    <tr>\n",
       "      <th>1083</th>\n",
       "      <td>9</td>\n",
       "      <td>1270</td>\n",
       "      <td>5.0</td>\n",
       "      <td>1044657088</td>\n",
       "    </tr>\n",
       "    <tr>\n",
       "      <th>1084</th>\n",
       "      <td>9</td>\n",
       "      <td>1674</td>\n",
       "      <td>4.0</td>\n",
       "      <td>1044656650</td>\n",
       "    </tr>\n",
       "    <tr>\n",
       "      <th>1085</th>\n",
       "      <td>9</td>\n",
       "      <td>1987</td>\n",
       "      <td>2.0</td>\n",
       "      <td>1044656716</td>\n",
       "    </tr>\n",
       "    <tr>\n",
       "      <th>1086</th>\n",
       "      <td>9</td>\n",
       "      <td>2011</td>\n",
       "      <td>3.0</td>\n",
       "      <td>1044657200</td>\n",
       "    </tr>\n",
       "    <tr>\n",
       "      <th>1087</th>\n",
       "      <td>9</td>\n",
       "      <td>2012</td>\n",
       "      <td>4.0</td>\n",
       "      <td>1044657237</td>\n",
       "    </tr>\n",
       "    <tr>\n",
       "      <th>1088</th>\n",
       "      <td>9</td>\n",
       "      <td>2023</td>\n",
       "      <td>3.0</td>\n",
       "      <td>1044656650</td>\n",
       "    </tr>\n",
       "    <tr>\n",
       "      <th>1089</th>\n",
       "      <td>9</td>\n",
       "      <td>2300</td>\n",
       "      <td>5.0</td>\n",
       "      <td>1044657072</td>\n",
       "    </tr>\n",
       "    <tr>\n",
       "      <th>1090</th>\n",
       "      <td>9</td>\n",
       "      <td>2877</td>\n",
       "      <td>3.0</td>\n",
       "      <td>1044657221</td>\n",
       "    </tr>\n",
       "    <tr>\n",
       "      <th>1091</th>\n",
       "      <td>9</td>\n",
       "      <td>2901</td>\n",
       "      <td>2.0</td>\n",
       "      <td>1044656716</td>\n",
       "    </tr>\n",
       "    <tr>\n",
       "      <th>1092</th>\n",
       "      <td>9</td>\n",
       "      <td>3173</td>\n",
       "      <td>2.0</td>\n",
       "      <td>1044656650</td>\n",
       "    </tr>\n",
       "    <tr>\n",
       "      <th>1093</th>\n",
       "      <td>9</td>\n",
       "      <td>3328</td>\n",
       "      <td>3.0</td>\n",
       "      <td>1044656650</td>\n",
       "    </tr>\n",
       "    <tr>\n",
       "      <th>1094</th>\n",
       "      <td>9</td>\n",
       "      <td>3735</td>\n",
       "      <td>3.0</td>\n",
       "      <td>1044657051</td>\n",
       "    </tr>\n",
       "    <tr>\n",
       "      <th>1095</th>\n",
       "      <td>9</td>\n",
       "      <td>4131</td>\n",
       "      <td>1.0</td>\n",
       "      <td>1044657221</td>\n",
       "    </tr>\n",
       "    <tr>\n",
       "      <th>1096</th>\n",
       "      <td>9</td>\n",
       "      <td>4558</td>\n",
       "      <td>1.0</td>\n",
       "      <td>1044656650</td>\n",
       "    </tr>\n",
       "    <tr>\n",
       "      <th>1097</th>\n",
       "      <td>9</td>\n",
       "      <td>4993</td>\n",
       "      <td>5.0</td>\n",
       "      <td>1044657051</td>\n",
       "    </tr>\n",
       "    <tr>\n",
       "      <th>1098</th>\n",
       "      <td>9</td>\n",
       "      <td>5218</td>\n",
       "      <td>4.0</td>\n",
       "      <td>1044656811</td>\n",
       "    </tr>\n",
       "    <tr>\n",
       "      <th>1099</th>\n",
       "      <td>9</td>\n",
       "      <td>5378</td>\n",
       "      <td>3.0</td>\n",
       "      <td>1044656811</td>\n",
       "    </tr>\n",
       "    <tr>\n",
       "      <th>1100</th>\n",
       "      <td>9</td>\n",
       "      <td>5445</td>\n",
       "      <td>4.0</td>\n",
       "      <td>1044656792</td>\n",
       "    </tr>\n",
       "    <tr>\n",
       "      <th>1101</th>\n",
       "      <td>9</td>\n",
       "      <td>5447</td>\n",
       "      <td>4.0</td>\n",
       "      <td>1044656836</td>\n",
       "    </tr>\n",
       "    <tr>\n",
       "      <th>1102</th>\n",
       "      <td>9</td>\n",
       "      <td>5451</td>\n",
       "      <td>4.0</td>\n",
       "      <td>1044656836</td>\n",
       "    </tr>\n",
       "    <tr>\n",
       "      <th>1103</th>\n",
       "      <td>9</td>\n",
       "      <td>5481</td>\n",
       "      <td>5.0</td>\n",
       "      <td>1044656836</td>\n",
       "    </tr>\n",
       "    <tr>\n",
       "      <th>1104</th>\n",
       "      <td>9</td>\n",
       "      <td>5507</td>\n",
       "      <td>1.0</td>\n",
       "      <td>1044656836</td>\n",
       "    </tr>\n",
       "    <tr>\n",
       "      <th>1105</th>\n",
       "      <td>9</td>\n",
       "      <td>5841</td>\n",
       "      <td>1.0</td>\n",
       "      <td>1044657318</td>\n",
       "    </tr>\n",
       "    <tr>\n",
       "      <th>1106</th>\n",
       "      <td>9</td>\n",
       "      <td>5843</td>\n",
       "      <td>3.0</td>\n",
       "      <td>1044657269</td>\n",
       "    </tr>\n",
       "    <tr>\n",
       "      <th>1107</th>\n",
       "      <td>9</td>\n",
       "      <td>5872</td>\n",
       "      <td>3.0</td>\n",
       "      <td>1044656962</td>\n",
       "    </tr>\n",
       "    <tr>\n",
       "      <th>1108</th>\n",
       "      <td>9</td>\n",
       "      <td>5890</td>\n",
       "      <td>4.0</td>\n",
       "      <td>1044656792</td>\n",
       "    </tr>\n",
       "    <tr>\n",
       "      <th>1109</th>\n",
       "      <td>9</td>\n",
       "      <td>5891</td>\n",
       "      <td>1.0</td>\n",
       "      <td>1044657318</td>\n",
       "    </tr>\n",
       "    <tr>\n",
       "      <th>1110</th>\n",
       "      <td>9</td>\n",
       "      <td>5893</td>\n",
       "      <td>4.0</td>\n",
       "      <td>1044657144</td>\n",
       "    </tr>\n",
       "    <tr>\n",
       "      <th>1111</th>\n",
       "      <td>9</td>\n",
       "      <td>5902</td>\n",
       "      <td>5.0</td>\n",
       "      <td>1044656934</td>\n",
       "    </tr>\n",
       "    <tr>\n",
       "      <th>1112</th>\n",
       "      <td>9</td>\n",
       "      <td>5952</td>\n",
       "      <td>5.0</td>\n",
       "      <td>1044656908</td>\n",
       "    </tr>\n",
       "    <tr>\n",
       "      <th>1113</th>\n",
       "      <td>9</td>\n",
       "      <td>5956</td>\n",
       "      <td>4.0</td>\n",
       "      <td>1044656962</td>\n",
       "    </tr>\n",
       "    <tr>\n",
       "      <th>1114</th>\n",
       "      <td>9</td>\n",
       "      <td>5962</td>\n",
       "      <td>1.0</td>\n",
       "      <td>1044657338</td>\n",
       "    </tr>\n",
       "    <tr>\n",
       "      <th>1115</th>\n",
       "      <td>9</td>\n",
       "      <td>5965</td>\n",
       "      <td>4.0</td>\n",
       "      <td>1044657185</td>\n",
       "    </tr>\n",
       "    <tr>\n",
       "      <th>1116</th>\n",
       "      <td>9</td>\n",
       "      <td>5988</td>\n",
       "      <td>2.0</td>\n",
       "      <td>1044657269</td>\n",
       "    </tr>\n",
       "    <tr>\n",
       "      <th>1117</th>\n",
       "      <td>9</td>\n",
       "      <td>6001</td>\n",
       "      <td>4.0</td>\n",
       "      <td>1044657072</td>\n",
       "    </tr>\n",
       "    <tr>\n",
       "      <th>1118</th>\n",
       "      <td>9</td>\n",
       "      <td>6044</td>\n",
       "      <td>2.0</td>\n",
       "      <td>1044657285</td>\n",
       "    </tr>\n",
       "  </tbody>\n",
       "</table>\n",
       "</div>"
      ],
      "text/plain": [
       "      userId  movieId  rating   timestamp\n",
       "1073       9       41     3.0  1044656650\n",
       "1074       9      187     3.0  1044657119\n",
       "1075       9      223     4.0  1044656650\n",
       "1076       9      371     3.0  1044656716\n",
       "1077       9      627     3.0  1044657102\n",
       "1078       9      922     4.0  1044657026\n",
       "1079       9      923     5.0  1044657026\n",
       "1080       9     1037     2.0  1044656650\n",
       "1081       9     1095     4.0  1044657088\n",
       "1082       9     1198     5.0  1044656716\n",
       "1083       9     1270     5.0  1044657088\n",
       "1084       9     1674     4.0  1044656650\n",
       "1085       9     1987     2.0  1044656716\n",
       "1086       9     2011     3.0  1044657200\n",
       "1087       9     2012     4.0  1044657237\n",
       "1088       9     2023     3.0  1044656650\n",
       "1089       9     2300     5.0  1044657072\n",
       "1090       9     2877     3.0  1044657221\n",
       "1091       9     2901     2.0  1044656716\n",
       "1092       9     3173     2.0  1044656650\n",
       "1093       9     3328     3.0  1044656650\n",
       "1094       9     3735     3.0  1044657051\n",
       "1095       9     4131     1.0  1044657221\n",
       "1096       9     4558     1.0  1044656650\n",
       "1097       9     4993     5.0  1044657051\n",
       "1098       9     5218     4.0  1044656811\n",
       "1099       9     5378     3.0  1044656811\n",
       "1100       9     5445     4.0  1044656792\n",
       "1101       9     5447     4.0  1044656836\n",
       "1102       9     5451     4.0  1044656836\n",
       "1103       9     5481     5.0  1044656836\n",
       "1104       9     5507     1.0  1044656836\n",
       "1105       9     5841     1.0  1044657318\n",
       "1106       9     5843     3.0  1044657269\n",
       "1107       9     5872     3.0  1044656962\n",
       "1108       9     5890     4.0  1044656792\n",
       "1109       9     5891     1.0  1044657318\n",
       "1110       9     5893     4.0  1044657144\n",
       "1111       9     5902     5.0  1044656934\n",
       "1112       9     5952     5.0  1044656908\n",
       "1113       9     5956     4.0  1044656962\n",
       "1114       9     5962     1.0  1044657338\n",
       "1115       9     5965     4.0  1044657185\n",
       "1116       9     5988     2.0  1044657269\n",
       "1117       9     6001     4.0  1044657072\n",
       "1118       9     6044     2.0  1044657285"
      ]
     },
     "execution_count": 49,
     "metadata": {},
     "output_type": "execute_result"
    }
   ],
   "source": [
    "movie_list_uid9 = ratings[ratings['userId'] == 9]\n",
    "movie_list_uid9"
   ]
  },
  {
   "cell_type": "code",
   "execution_count": 53,
   "id": "39b6669a-33d4-496a-b041-7b9a6f9e2154",
   "metadata": {},
   "outputs": [
    {
     "data": {
      "text/plain": [
       "(46, 4)"
      ]
     },
     "execution_count": 53,
     "metadata": {},
     "output_type": "execute_result"
    }
   ],
   "source": [
    "movie_list_uid9.shape ## uid가 인 사람은 46개의 영화를 보았음"
   ]
  },
  {
   "cell_type": "code",
   "execution_count": 54,
   "id": "cd82f0e9-e5e9-4bef-beca-b718cb40b82a",
   "metadata": {},
   "outputs": [],
   "source": [
    "## 안본 영화중에서 추천을 하려고 함"
   ]
  },
  {
   "cell_type": "code",
   "execution_count": 64,
   "id": "1652050b-60b4-428b-95e6-9821e2a92fb7",
   "metadata": {},
   "outputs": [
    {
     "data": {
      "text/plain": [
       "9742"
      ]
     },
     "execution_count": 64,
     "metadata": {},
     "output_type": "execute_result"
    }
   ],
   "source": [
    "## 1) 전체 영화수\n",
    "movie_count = movies.shape[0]\n",
    "movie_count\n",
    "## 9742개"
   ]
  },
  {
   "cell_type": "code",
   "execution_count": 65,
   "id": "71839d9b-3da4-421e-a1b2-0c74fa7abef6",
   "metadata": {},
   "outputs": [
    {
     "data": {
      "text/plain": [
       "46"
      ]
     },
     "execution_count": 65,
     "metadata": {},
     "output_type": "execute_result"
    }
   ],
   "source": [
    "## 2) 평점 매긴 영화수\n",
    "rat_uid9_count = movie_list_uid9.shape[0]\n",
    "rat_uid9_count\n",
    "# 46개"
   ]
  },
  {
   "cell_type": "code",
   "execution_count": 66,
   "id": "a61d0793-33f4-4135-825f-015b443930f3",
   "metadata": {},
   "outputs": [
    {
     "data": {
      "text/plain": [
       "9696"
      ]
     },
     "execution_count": 66,
     "metadata": {},
     "output_type": "execute_result"
    }
   ],
   "source": [
    "## 3) 보지 않은 영화수(추천 대상 영화수)\n",
    "movie_count - rat_uid9_count"
   ]
  },
  {
   "cell_type": "code",
   "execution_count": 68,
   "id": "61ec7933-92af-425a-89a7-8c57f8ec04f8",
   "metadata": {},
   "outputs": [
    {
     "data": {
      "text/html": [
       "<div>\n",
       "<style scoped>\n",
       "    .dataframe tbody tr th:only-of-type {\n",
       "        vertical-align: middle;\n",
       "    }\n",
       "\n",
       "    .dataframe tbody tr th {\n",
       "        vertical-align: top;\n",
       "    }\n",
       "\n",
       "    .dataframe thead th {\n",
       "        text-align: right;\n",
       "    }\n",
       "</style>\n",
       "<table border=\"1\" class=\"dataframe\">\n",
       "  <thead>\n",
       "    <tr style=\"text-align: right;\">\n",
       "      <th></th>\n",
       "      <th>userId</th>\n",
       "      <th>movieId</th>\n",
       "      <th>rating</th>\n",
       "      <th>timestamp</th>\n",
       "    </tr>\n",
       "  </thead>\n",
       "  <tbody>\n",
       "  </tbody>\n",
       "</table>\n",
       "</div>"
      ],
      "text/plain": [
       "Empty DataFrame\n",
       "Columns: [userId, movieId, rating, timestamp]\n",
       "Index: []"
      ]
     },
     "execution_count": 68,
     "metadata": {},
     "output_type": "execute_result"
    }
   ],
   "source": [
    "movie_list_uid9[movie_list_uid9['movieId']==42] ## 42번은 평점의 기록이 없음."
   ]
  },
  {
   "cell_type": "code",
   "execution_count": 70,
   "id": "41ff7d65-8ac4-4ff9-a771-81b5179977a4",
   "metadata": {},
   "outputs": [
    {
     "data": {
      "text/html": [
       "<div>\n",
       "<style scoped>\n",
       "    .dataframe tbody tr th:only-of-type {\n",
       "        vertical-align: middle;\n",
       "    }\n",
       "\n",
       "    .dataframe tbody tr th {\n",
       "        vertical-align: top;\n",
       "    }\n",
       "\n",
       "    .dataframe thead th {\n",
       "        text-align: right;\n",
       "    }\n",
       "</style>\n",
       "<table border=\"1\" class=\"dataframe\">\n",
       "  <thead>\n",
       "    <tr style=\"text-align: right;\">\n",
       "      <th></th>\n",
       "      <th>movieId</th>\n",
       "      <th>title</th>\n",
       "      <th>genres</th>\n",
       "    </tr>\n",
       "  </thead>\n",
       "  <tbody>\n",
       "    <tr>\n",
       "      <th>38</th>\n",
       "      <td>42</td>\n",
       "      <td>Dead Presidents (1995)</td>\n",
       "      <td>Action|Crime|Drama</td>\n",
       "    </tr>\n",
       "  </tbody>\n",
       "</table>\n",
       "</div>"
      ],
      "text/plain": [
       "    movieId                   title              genres\n",
       "38       42  Dead Presidents (1995)  Action|Crime|Drama"
      ]
     },
     "execution_count": 70,
     "metadata": {},
     "output_type": "execute_result"
    }
   ],
   "source": [
    "## 42번 영화는 어떤 영화였을까?\n",
    "movies[movies['movieId']==42]"
   ]
  },
  {
   "cell_type": "code",
   "execution_count": 73,
   "id": "ee302d8a-6278-4a4c-a6d7-a0bad40dc8db",
   "metadata": {},
   "outputs": [],
   "source": [
    "uid = 9\n",
    "iid = 42"
   ]
  },
  {
   "cell_type": "code",
   "execution_count": 74,
   "id": "7a1412fb-527e-44ae-afc6-be7e300a61a0",
   "metadata": {},
   "outputs": [
    {
     "name": "stdout",
     "output_type": "stream",
     "text": [
      "user: 9          item: 42         r_ui = None   est = 3.53   {'was_impossible': False}\n"
     ]
    },
    {
     "data": {
      "text/plain": [
       "Prediction(uid=9, iid=42, r_ui=None, est=3.52804, details={'was_impossible': False})"
      ]
     },
     "execution_count": 74,
     "metadata": {},
     "output_type": "execute_result"
    }
   ],
   "source": [
    "pred = algo.predict(uid, iid, verbose=True)\n",
    "pred"
   ]
  },
  {
   "cell_type": "code",
   "execution_count": 75,
   "id": "cd9fd5cb-c0f3-4b61-80b7-5feb9109893b",
   "metadata": {},
   "outputs": [],
   "source": [
    "## 같은 장르의 영화들의 개수를 구해보세요.\n",
    "## 평점이 제일 높은 영화"
   ]
  },
  {
   "cell_type": "code",
   "execution_count": 80,
   "id": "4d9c2fc3-c249-415a-8511-44046c901f3a",
   "metadata": {},
   "outputs": [
    {
     "data": {
      "text/plain": [
       "38    Action|Crime|Drama\n",
       "Name: genres, dtype: object"
      ]
     },
     "execution_count": 80,
     "metadata": {},
     "output_type": "execute_result"
    }
   ],
   "source": [
    "movies[movies['movieId']==42]['genres']"
   ]
  },
  {
   "cell_type": "code",
   "execution_count": 91,
   "id": "fd0425b3-20aa-4108-a2f9-7e15867ad4e5",
   "metadata": {},
   "outputs": [
    {
     "data": {
      "text/plain": [
       "(50, 3)"
      ]
     },
     "execution_count": 91,
     "metadata": {},
     "output_type": "execute_result"
    }
   ],
   "source": [
    "genre = movies.loc[movies['movieId']==42]['genres']\n",
    "same_genre = movies[movies['genres']=='Action|Crime|Drama']\n",
    "same_genre.shape"
   ]
  },
  {
   "cell_type": "code",
   "execution_count": 109,
   "id": "05b343a8-e700-457b-9b4e-090321992a16",
   "metadata": {},
   "outputs": [
    {
     "data": {
      "text/plain": [
       "{42: [34913    4.0\n",
       "  55402    2.0\n",
       "  62318    2.0\n",
       "  85122    4.0\n",
       "  90430    3.0\n",
       "  92168    3.0\n",
       "  92647    3.0\n",
       "  Name: rating, dtype: float64],\n",
       " 384: [14194    3.5\n",
       "  21882    3.0\n",
       "  Name: rating, dtype: float64],\n",
       " 390: [19960    2.0\n",
       "  27557    4.5\n",
       "  59285    3.0\n",
       "  61428    4.0\n",
       "  96201    5.0\n",
       "  Name: rating, dtype: float64],\n",
       " 493: [776      3.0\n",
       "  1283     3.0\n",
       "  8029     4.0\n",
       "  26183    3.5\n",
       "  38700    3.0\n",
       "  39320    3.5\n",
       "  44033    3.0\n",
       "  62513    4.0\n",
       "  65315    4.0\n",
       "  67521    4.0\n",
       "  79424    4.0\n",
       "  92217    5.0\n",
       "  Name: rating, dtype: float64],\n",
       " 694: [825      3.0\n",
       "  4989     3.0\n",
       "  31010    3.0\n",
       "  38708    1.0\n",
       "  62578    3.0\n",
       "  71278    4.0\n",
       "  79344    3.0\n",
       "  82193    3.0\n",
       "  84616    4.0\n",
       "  92895    2.5\n",
       "  98802    3.0\n",
       "  Name: rating, dtype: float64],\n",
       " 875: [10507    3.5\n",
       "  Name: rating, dtype: float64],\n",
       " 2194: [1727     4.0\n",
       "  1920     3.5\n",
       "  3848     3.0\n",
       "  4343     3.5\n",
       "  5327     2.5\n",
       "          ... \n",
       "  93338    3.0\n",
       "  96613    4.0\n",
       "  97729    4.0\n",
       "  98592    5.0\n",
       "  99024    3.5\n",
       "  Name: rating, Length: 65, dtype: float64],\n",
       " 2281: [93355    2.5\n",
       "  Name: rating, dtype: float64],\n",
       " 3430: [7650     4.0\n",
       "  29740    3.0\n",
       "  31470    2.0\n",
       "  55790    3.0\n",
       "  Name: rating, dtype: float64],\n",
       " 3442: [85785    1.0\n",
       "  Name: rating, dtype: float64],\n",
       " 4065: [59815    2.5\n",
       "  Name: rating, dtype: float64],\n",
       " 4203: [10224    4.0\n",
       "  35099    4.0\n",
       "  63631    3.0\n",
       "  65706    4.0\n",
       "  69312    2.0\n",
       "  93825    2.0\n",
       "  Name: rating, dtype: float64],\n",
       " 4262: [1966     4.0\n",
       "  3949     4.0\n",
       "  5736     2.0\n",
       "  6283     5.0\n",
       "  7686     5.0\n",
       "          ... \n",
       "  91000    4.5\n",
       "  93835    3.5\n",
       "  97973    4.0\n",
       "  99245    4.0\n",
       "  99815    4.5\n",
       "  Name: rating, Length: 67, dtype: float64],\n",
       " 4344: [3146     3.5\n",
       "  4449     1.0\n",
       "  7694     3.0\n",
       "  9295     4.0\n",
       "  10988    3.5\n",
       "  12872    3.5\n",
       "  16386    3.0\n",
       "  18572    4.0\n",
       "  26782    2.5\n",
       "  28262    3.0\n",
       "  28830    3.0\n",
       "  31806    2.5\n",
       "  33364    3.0\n",
       "  34086    4.0\n",
       "  36651    3.5\n",
       "  37777    4.0\n",
       "  39896    3.5\n",
       "  42898    3.0\n",
       "  44803    2.0\n",
       "  53741    4.0\n",
       "  57374    3.0\n",
       "  60850    2.0\n",
       "  61612    4.0\n",
       "  63676    4.0\n",
       "  66228    0.5\n",
       "  67903    3.5\n",
       "  69338    2.0\n",
       "  71131    4.0\n",
       "  77603    2.5\n",
       "  84469    4.0\n",
       "  91007    3.0\n",
       "  93849    2.5\n",
       "  99252    4.5\n",
       "  99822    2.5\n",
       "  Name: rating, dtype: float64],\n",
       " 4466: [6297     2.0\n",
       "  39133    3.0\n",
       "  Name: rating, dtype: float64],\n",
       " 4488: [63710    4.0\n",
       "  76191    3.0\n",
       "  97002    3.0\n",
       "  Name: rating, dtype: float64],\n",
       " 4572: [10232    4.0\n",
       "  63726    3.0\n",
       "  98009    2.0\n",
       "  Name: rating, dtype: float64],\n",
       " 5521: [63978    4.0\n",
       "  94045    2.5\n",
       "  Name: rating, dtype: float64],\n",
       " 6051: [15014    5.0\n",
       "  47977    4.5\n",
       "  94104    3.0\n",
       "  Name: rating, dtype: float64],\n",
       " 6057: [34181    2.0\n",
       "  Name: rating, dtype: float64],\n",
       " 6484: [12921    3.5\n",
       "  21591    2.5\n",
       "  34209    3.0\n",
       "  36730    3.0\n",
       "  75839    3.5\n",
       "  76797    2.5\n",
       "  94138    2.5\n",
       "  Name: rating, dtype: float64],\n",
       " 7047: [94232    2.5\n",
       "  Name: rating, dtype: float64],\n",
       " 7056: [32531    4.5\n",
       "  91104    4.0\n",
       "  Name: rating, dtype: float64],\n",
       " 7108: [94238     3.0\n",
       "  100004    3.5\n",
       "  Name: rating, dtype: float64],\n",
       " 26159: [94355     3.5\n",
       "  100074    4.0\n",
       "  Name: rating, dtype: float64],\n",
       " 26169: [100075    5.0\n",
       "  Name: rating, dtype: float64],\n",
       " 26322: [32746    3.5\n",
       "  43763    3.0\n",
       "  66978    4.0\n",
       "  94362    2.0\n",
       "  Name: rating, dtype: float64],\n",
       " 26464: [69644    3.0\n",
       "  Name: rating, dtype: float64],\n",
       " 31101: [4578     3.0\n",
       "  64390    4.0\n",
       "  Name: rating, dtype: float64],\n",
       " 33132: [40248    1.5\n",
       "  Name: rating, dtype: float64],\n",
       " 34534: [21660     4.5\n",
       "  34422     3.0\n",
       "  40265     3.5\n",
       "  47557     3.5\n",
       "  57670     4.0\n",
       "  64431     3.5\n",
       "  100143    3.0\n",
       "  Name: rating, dtype: float64],\n",
       " 36931: [100149    3.5\n",
       "  Name: rating, dtype: float64],\n",
       " 38095: [86398     4.0\n",
       "  94510     3.5\n",
       "  100157    5.0\n",
       "  Name: rating, dtype: float64],\n",
       " 49314: [47617    3.0\n",
       "  Name: rating, dtype: float64],\n",
       " 57843: [53143    4.5\n",
       "  Name: rating, dtype: float64],\n",
       " 73876: [100425    4.0\n",
       "  Name: rating, dtype: float64],\n",
       " 80124: [16713    5.0\n",
       "  Name: rating, dtype: float64],\n",
       " 81520: [100472    4.0\n",
       "  Name: rating, dtype: float64],\n",
       " 82744: [57876    5.0\n",
       "  Name: rating, dtype: float64],\n",
       " 85342: [33623    5.0\n",
       "  46446    4.0\n",
       "  49660    4.5\n",
       "  50593    4.5\n",
       "  52293    4.0\n",
       "  53171    3.5\n",
       "  83400    5.0\n",
       "  Name: rating, dtype: float64],\n",
       " 99005: [70099    1.5\n",
       "  Name: rating, dtype: float64],\n",
       " 99728: [2201     3.5\n",
       "  37234    4.0\n",
       "  70106    2.5\n",
       "  Name: rating, dtype: float64],\n",
       " 109569: [55121    1.5\n",
       "  88034    0.5\n",
       "  Name: rating, dtype: float64],\n",
       " 110826: [70227    1.5\n",
       "  Name: rating, dtype: float64],\n",
       " 113416: [70261    1.5\n",
       "  Name: rating, dtype: float64],\n",
       " 119218: [94985    2.5\n",
       "  Name: rating, dtype: float64],\n",
       " 120783: [70317    2.5\n",
       "  Name: rating, dtype: float64],\n",
       " 144352: [81921    0.5\n",
       "  Name: rating, dtype: float64],\n",
       " 160527: [100821    4.5\n",
       "  Name: rating, dtype: float64],\n",
       " 169992: [64968    3.5\n",
       "  Name: rating, dtype: float64]}"
      ]
     },
     "execution_count": 109,
     "metadata": {},
     "output_type": "execute_result"
    }
   ],
   "source": [
    "rlist = {}\n",
    "for movieId in same_genre['movieId']:\n",
    "    mrlist = []\n",
    "    mrlist.append(ratings[ratings['movieId']==movieId]['rating'])\n",
    "    rlist[movieId]=mrlist\n",
    "rlist"
   ]
  },
  {
   "cell_type": "code",
   "execution_count": 93,
   "id": "75336916-dc9e-45be-a793-892919368877",
   "metadata": {},
   "outputs": [
    {
     "data": {
      "text/plain": [
       "38          42\n",
       "341        384\n",
       "347        390\n",
       "430        493\n",
       "568        694\n",
       "665        875\n",
       "1645      2194\n",
       "1696      2281\n",
       "2563      3430\n",
       "2574      3442\n",
       "3037      4065\n",
       "3124      4203\n",
       "3167      4262\n",
       "3217      4344\n",
       "3301      4466\n",
       "3316      4488\n",
       "3364      4572\n",
       "3925      5521\n",
       "4194      6051\n",
       "4196      6057\n",
       "4406      6484\n",
       "4725      7047\n",
       "4734      7056\n",
       "4775      7108\n",
       "5465     26159\n",
       "5466     26169\n",
       "5488     26322\n",
       "5510     26464\n",
       "5759     31101\n",
       "5877     33132\n",
       "5963     34534\n",
       "5991     36931\n",
       "6017     38095\n",
       "6353     49314\n",
       "6678     57843\n",
       "7242     73876\n",
       "7404     80124\n",
       "7451     81520\n",
       "7491     82744\n",
       "7554     85342\n",
       "8057     99005\n",
       "8077     99728\n",
       "8377    109569\n",
       "8419    110826\n",
       "8495    113416\n",
       "8640    119218\n",
       "8653    120783\n",
       "9103    144352\n",
       "9330    160527\n",
       "9486    169992\n",
       "Name: movieId, dtype: int64"
      ]
     },
     "execution_count": 93,
     "metadata": {},
     "output_type": "execute_result"
    }
   ],
   "source": [
    "same_genre['movieId']"
   ]
  },
  {
   "cell_type": "code",
   "execution_count": null,
   "id": "397284e2-2e09-4fec-a865-aae8881b71a3",
   "metadata": {},
   "outputs": [],
   "source": [
    "ratings.loc[same_genre['rating'].idxmax()]"
   ]
  },
  {
   "cell_type": "code",
   "execution_count": 92,
   "id": "fd32eed5-5199-4f0b-8d70-efe0d07b8932",
   "metadata": {},
   "outputs": [
    {
     "data": {
      "text/html": [
       "<div>\n",
       "<style scoped>\n",
       "    .dataframe tbody tr th:only-of-type {\n",
       "        vertical-align: middle;\n",
       "    }\n",
       "\n",
       "    .dataframe tbody tr th {\n",
       "        vertical-align: top;\n",
       "    }\n",
       "\n",
       "    .dataframe thead th {\n",
       "        text-align: right;\n",
       "    }\n",
       "</style>\n",
       "<table border=\"1\" class=\"dataframe\">\n",
       "  <thead>\n",
       "    <tr style=\"text-align: right;\">\n",
       "      <th></th>\n",
       "      <th>movieId</th>\n",
       "      <th>title</th>\n",
       "      <th>genres</th>\n",
       "    </tr>\n",
       "  </thead>\n",
       "  <tbody>\n",
       "    <tr>\n",
       "      <th>38</th>\n",
       "      <td>42</td>\n",
       "      <td>Dead Presidents (1995)</td>\n",
       "      <td>Action|Crime|Drama</td>\n",
       "    </tr>\n",
       "    <tr>\n",
       "      <th>341</th>\n",
       "      <td>384</td>\n",
       "      <td>Bad Company (1995)</td>\n",
       "      <td>Action|Crime|Drama</td>\n",
       "    </tr>\n",
       "    <tr>\n",
       "      <th>347</th>\n",
       "      <td>390</td>\n",
       "      <td>Faster Pussycat! Kill! Kill! (1965)</td>\n",
       "      <td>Action|Crime|Drama</td>\n",
       "    </tr>\n",
       "    <tr>\n",
       "      <th>430</th>\n",
       "      <td>493</td>\n",
       "      <td>Menace II Society (1993)</td>\n",
       "      <td>Action|Crime|Drama</td>\n",
       "    </tr>\n",
       "    <tr>\n",
       "      <th>568</th>\n",
       "      <td>694</td>\n",
       "      <td>Substitute, The (1996)</td>\n",
       "      <td>Action|Crime|Drama</td>\n",
       "    </tr>\n",
       "    <tr>\n",
       "      <th>665</th>\n",
       "      <td>875</td>\n",
       "      <td>Nothing to Lose (1994)</td>\n",
       "      <td>Action|Crime|Drama</td>\n",
       "    </tr>\n",
       "    <tr>\n",
       "      <th>1645</th>\n",
       "      <td>2194</td>\n",
       "      <td>Untouchables, The (1987)</td>\n",
       "      <td>Action|Crime|Drama</td>\n",
       "    </tr>\n",
       "    <tr>\n",
       "      <th>1696</th>\n",
       "      <td>2281</td>\n",
       "      <td>Monument Ave. (1998)</td>\n",
       "      <td>Action|Crime|Drama</td>\n",
       "    </tr>\n",
       "    <tr>\n",
       "      <th>2563</th>\n",
       "      <td>3430</td>\n",
       "      <td>Death Wish (1974)</td>\n",
       "      <td>Action|Crime|Drama</td>\n",
       "    </tr>\n",
       "    <tr>\n",
       "      <th>2574</th>\n",
       "      <td>3442</td>\n",
       "      <td>Band of the Hand (1986)</td>\n",
       "      <td>Action|Crime|Drama</td>\n",
       "    </tr>\n",
       "    <tr>\n",
       "      <th>3037</th>\n",
       "      <td>4065</td>\n",
       "      <td>Foxy Brown (1974)</td>\n",
       "      <td>Action|Crime|Drama</td>\n",
       "    </tr>\n",
       "    <tr>\n",
       "      <th>3124</th>\n",
       "      <td>4203</td>\n",
       "      <td>Harley Davidson and the Marlboro Man (1991)</td>\n",
       "      <td>Action|Crime|Drama</td>\n",
       "    </tr>\n",
       "    <tr>\n",
       "      <th>3167</th>\n",
       "      <td>4262</td>\n",
       "      <td>Scarface (1983)</td>\n",
       "      <td>Action|Crime|Drama</td>\n",
       "    </tr>\n",
       "    <tr>\n",
       "      <th>3217</th>\n",
       "      <td>4344</td>\n",
       "      <td>Swordfish (2001)</td>\n",
       "      <td>Action|Crime|Drama</td>\n",
       "    </tr>\n",
       "    <tr>\n",
       "      <th>3301</th>\n",
       "      <td>4466</td>\n",
       "      <td>Above the Law (1988)</td>\n",
       "      <td>Action|Crime|Drama</td>\n",
       "    </tr>\n",
       "    <tr>\n",
       "      <th>3316</th>\n",
       "      <td>4488</td>\n",
       "      <td>Colors (1988)</td>\n",
       "      <td>Action|Crime|Drama</td>\n",
       "    </tr>\n",
       "    <tr>\n",
       "      <th>3364</th>\n",
       "      <td>4572</td>\n",
       "      <td>Black Rain (1989)</td>\n",
       "      <td>Action|Crime|Drama</td>\n",
       "    </tr>\n",
       "    <tr>\n",
       "      <th>3925</th>\n",
       "      <td>5521</td>\n",
       "      <td>Principal, The (1987)</td>\n",
       "      <td>Action|Crime|Drama</td>\n",
       "    </tr>\n",
       "    <tr>\n",
       "      <th>4194</th>\n",
       "      <td>6051</td>\n",
       "      <td>Harder They Come, The (1973)</td>\n",
       "      <td>Action|Crime|Drama</td>\n",
       "    </tr>\n",
       "    <tr>\n",
       "      <th>4196</th>\n",
       "      <td>6057</td>\n",
       "      <td>Biker Boyz (2003)</td>\n",
       "      <td>Action|Crime|Drama</td>\n",
       "    </tr>\n",
       "    <tr>\n",
       "      <th>4406</th>\n",
       "      <td>6484</td>\n",
       "      <td>Hollywood Homicide (2003)</td>\n",
       "      <td>Action|Crime|Drama</td>\n",
       "    </tr>\n",
       "    <tr>\n",
       "      <th>4725</th>\n",
       "      <td>7047</td>\n",
       "      <td>Year of the Dragon (1985)</td>\n",
       "      <td>Action|Crime|Drama</td>\n",
       "    </tr>\n",
       "    <tr>\n",
       "      <th>4734</th>\n",
       "      <td>7056</td>\n",
       "      <td>Public Enemy, The (1931)</td>\n",
       "      <td>Action|Crime|Drama</td>\n",
       "    </tr>\n",
       "    <tr>\n",
       "      <th>4775</th>\n",
       "      <td>7108</td>\n",
       "      <td>Crime Story (Zhong an zu) (1993)</td>\n",
       "      <td>Action|Crime|Drama</td>\n",
       "    </tr>\n",
       "    <tr>\n",
       "      <th>5465</th>\n",
       "      <td>26159</td>\n",
       "      <td>Tokyo Drifter (Tôkyô nagaremono) (1966)</td>\n",
       "      <td>Action|Crime|Drama</td>\n",
       "    </tr>\n",
       "    <tr>\n",
       "      <th>5466</th>\n",
       "      <td>26169</td>\n",
       "      <td>Branded to Kill (Koroshi no rakuin) (1967)</td>\n",
       "      <td>Action|Crime|Drama</td>\n",
       "    </tr>\n",
       "    <tr>\n",
       "      <th>5488</th>\n",
       "      <td>26322</td>\n",
       "      <td>Gone in 60 Seconds (1974)</td>\n",
       "      <td>Action|Crime|Drama</td>\n",
       "    </tr>\n",
       "    <tr>\n",
       "      <th>5510</th>\n",
       "      <td>26464</td>\n",
       "      <td>Blue Thunder (1983)</td>\n",
       "      <td>Action|Crime|Drama</td>\n",
       "    </tr>\n",
       "    <tr>\n",
       "      <th>5759</th>\n",
       "      <td>31101</td>\n",
       "      <td>Stander (2003)</td>\n",
       "      <td>Action|Crime|Drama</td>\n",
       "    </tr>\n",
       "    <tr>\n",
       "      <th>5877</th>\n",
       "      <td>33132</td>\n",
       "      <td>State Property 2 (2005)</td>\n",
       "      <td>Action|Crime|Drama</td>\n",
       "    </tr>\n",
       "    <tr>\n",
       "      <th>5963</th>\n",
       "      <td>34534</td>\n",
       "      <td>Four Brothers (2005)</td>\n",
       "      <td>Action|Crime|Drama</td>\n",
       "    </tr>\n",
       "    <tr>\n",
       "      <th>5991</th>\n",
       "      <td>36931</td>\n",
       "      <td>New Police Story (Xin jing cha gu shi) (2004)</td>\n",
       "      <td>Action|Crime|Drama</td>\n",
       "    </tr>\n",
       "    <tr>\n",
       "      <th>6017</th>\n",
       "      <td>38095</td>\n",
       "      <td>Bittersweet Life, A (Dalkomhan insaeng) (2005)</td>\n",
       "      <td>Action|Crime|Drama</td>\n",
       "    </tr>\n",
       "    <tr>\n",
       "      <th>6353</th>\n",
       "      <td>49314</td>\n",
       "      <td>Harsh Times (2006)</td>\n",
       "      <td>Action|Crime|Drama</td>\n",
       "    </tr>\n",
       "    <tr>\n",
       "      <th>6678</th>\n",
       "      <td>57843</td>\n",
       "      <td>Rise of the Footsoldier (2007)</td>\n",
       "      <td>Action|Crime|Drama</td>\n",
       "    </tr>\n",
       "    <tr>\n",
       "      <th>7242</th>\n",
       "      <td>73876</td>\n",
       "      <td>Undisputed II: Last Man Standing (2006)</td>\n",
       "      <td>Action|Crime|Drama</td>\n",
       "    </tr>\n",
       "    <tr>\n",
       "      <th>7404</th>\n",
       "      <td>80124</td>\n",
       "      <td>Sisters (Syostry) (2001)</td>\n",
       "      <td>Action|Crime|Drama</td>\n",
       "    </tr>\n",
       "    <tr>\n",
       "      <th>7451</th>\n",
       "      <td>81520</td>\n",
       "      <td>Undisputed III: Redemption (2010)</td>\n",
       "      <td>Action|Crime|Drama</td>\n",
       "    </tr>\n",
       "    <tr>\n",
       "      <th>7491</th>\n",
       "      <td>82744</td>\n",
       "      <td>Faster (2010)</td>\n",
       "      <td>Action|Crime|Drama</td>\n",
       "    </tr>\n",
       "    <tr>\n",
       "      <th>7554</th>\n",
       "      <td>85342</td>\n",
       "      <td>Elite Squad: The Enemy Within (Tropa de Elite ...</td>\n",
       "      <td>Action|Crime|Drama</td>\n",
       "    </tr>\n",
       "    <tr>\n",
       "      <th>8057</th>\n",
       "      <td>99005</td>\n",
       "      <td>Fire with Fire (2012)</td>\n",
       "      <td>Action|Crime|Drama</td>\n",
       "    </tr>\n",
       "    <tr>\n",
       "      <th>8077</th>\n",
       "      <td>99728</td>\n",
       "      <td>Gangster Squad (2013)</td>\n",
       "      <td>Action|Crime|Drama</td>\n",
       "    </tr>\n",
       "    <tr>\n",
       "      <th>8377</th>\n",
       "      <td>109569</td>\n",
       "      <td>3 Days to Kill (2014)</td>\n",
       "      <td>Action|Crime|Drama</td>\n",
       "    </tr>\n",
       "    <tr>\n",
       "      <th>8419</th>\n",
       "      <td>110826</td>\n",
       "      <td>Brick Mansions (2014)</td>\n",
       "      <td>Action|Crime|Drama</td>\n",
       "    </tr>\n",
       "    <tr>\n",
       "      <th>8495</th>\n",
       "      <td>113416</td>\n",
       "      <td>Revenge of the Green Dragons (2014)</td>\n",
       "      <td>Action|Crime|Drama</td>\n",
       "    </tr>\n",
       "    <tr>\n",
       "      <th>8640</th>\n",
       "      <td>119218</td>\n",
       "      <td>The Punisher: Dirty Laundry (2012)</td>\n",
       "      <td>Action|Crime|Drama</td>\n",
       "    </tr>\n",
       "    <tr>\n",
       "      <th>8653</th>\n",
       "      <td>120783</td>\n",
       "      <td>Son of a Gun (2014)</td>\n",
       "      <td>Action|Crime|Drama</td>\n",
       "    </tr>\n",
       "    <tr>\n",
       "      <th>9103</th>\n",
       "      <td>144352</td>\n",
       "      <td>Unforgiven (2013)</td>\n",
       "      <td>Action|Crime|Drama</td>\n",
       "    </tr>\n",
       "    <tr>\n",
       "      <th>9330</th>\n",
       "      <td>160527</td>\n",
       "      <td>Sympathy for the Underdog (1971)</td>\n",
       "      <td>Action|Crime|Drama</td>\n",
       "    </tr>\n",
       "    <tr>\n",
       "      <th>9486</th>\n",
       "      <td>169992</td>\n",
       "      <td>Free Fire (2017)</td>\n",
       "      <td>Action|Crime|Drama</td>\n",
       "    </tr>\n",
       "  </tbody>\n",
       "</table>\n",
       "</div>"
      ],
      "text/plain": [
       "      movieId                                              title  \\\n",
       "38         42                             Dead Presidents (1995)   \n",
       "341       384                                 Bad Company (1995)   \n",
       "347       390                Faster Pussycat! Kill! Kill! (1965)   \n",
       "430       493                           Menace II Society (1993)   \n",
       "568       694                             Substitute, The (1996)   \n",
       "665       875                             Nothing to Lose (1994)   \n",
       "1645     2194                           Untouchables, The (1987)   \n",
       "1696     2281                               Monument Ave. (1998)   \n",
       "2563     3430                                  Death Wish (1974)   \n",
       "2574     3442                            Band of the Hand (1986)   \n",
       "3037     4065                                  Foxy Brown (1974)   \n",
       "3124     4203        Harley Davidson and the Marlboro Man (1991)   \n",
       "3167     4262                                    Scarface (1983)   \n",
       "3217     4344                                   Swordfish (2001)   \n",
       "3301     4466                               Above the Law (1988)   \n",
       "3316     4488                                      Colors (1988)   \n",
       "3364     4572                                  Black Rain (1989)   \n",
       "3925     5521                              Principal, The (1987)   \n",
       "4194     6051                       Harder They Come, The (1973)   \n",
       "4196     6057                                  Biker Boyz (2003)   \n",
       "4406     6484                          Hollywood Homicide (2003)   \n",
       "4725     7047                          Year of the Dragon (1985)   \n",
       "4734     7056                           Public Enemy, The (1931)   \n",
       "4775     7108                   Crime Story (Zhong an zu) (1993)   \n",
       "5465    26159            Tokyo Drifter (Tôkyô nagaremono) (1966)   \n",
       "5466    26169         Branded to Kill (Koroshi no rakuin) (1967)   \n",
       "5488    26322                          Gone in 60 Seconds (1974)   \n",
       "5510    26464                                Blue Thunder (1983)   \n",
       "5759    31101                                     Stander (2003)   \n",
       "5877    33132                            State Property 2 (2005)   \n",
       "5963    34534                               Four Brothers (2005)   \n",
       "5991    36931      New Police Story (Xin jing cha gu shi) (2004)   \n",
       "6017    38095     Bittersweet Life, A (Dalkomhan insaeng) (2005)   \n",
       "6353    49314                                 Harsh Times (2006)   \n",
       "6678    57843                     Rise of the Footsoldier (2007)   \n",
       "7242    73876            Undisputed II: Last Man Standing (2006)   \n",
       "7404    80124                           Sisters (Syostry) (2001)   \n",
       "7451    81520                  Undisputed III: Redemption (2010)   \n",
       "7491    82744                                      Faster (2010)   \n",
       "7554    85342  Elite Squad: The Enemy Within (Tropa de Elite ...   \n",
       "8057    99005                              Fire with Fire (2012)   \n",
       "8077    99728                              Gangster Squad (2013)   \n",
       "8377   109569                              3 Days to Kill (2014)   \n",
       "8419   110826                              Brick Mansions (2014)   \n",
       "8495   113416                Revenge of the Green Dragons (2014)   \n",
       "8640   119218                 The Punisher: Dirty Laundry (2012)   \n",
       "8653   120783                                Son of a Gun (2014)   \n",
       "9103   144352                                  Unforgiven (2013)   \n",
       "9330   160527                   Sympathy for the Underdog (1971)   \n",
       "9486   169992                                   Free Fire (2017)   \n",
       "\n",
       "                  genres  \n",
       "38    Action|Crime|Drama  \n",
       "341   Action|Crime|Drama  \n",
       "347   Action|Crime|Drama  \n",
       "430   Action|Crime|Drama  \n",
       "568   Action|Crime|Drama  \n",
       "665   Action|Crime|Drama  \n",
       "1645  Action|Crime|Drama  \n",
       "1696  Action|Crime|Drama  \n",
       "2563  Action|Crime|Drama  \n",
       "2574  Action|Crime|Drama  \n",
       "3037  Action|Crime|Drama  \n",
       "3124  Action|Crime|Drama  \n",
       "3167  Action|Crime|Drama  \n",
       "3217  Action|Crime|Drama  \n",
       "3301  Action|Crime|Drama  \n",
       "3316  Action|Crime|Drama  \n",
       "3364  Action|Crime|Drama  \n",
       "3925  Action|Crime|Drama  \n",
       "4194  Action|Crime|Drama  \n",
       "4196  Action|Crime|Drama  \n",
       "4406  Action|Crime|Drama  \n",
       "4725  Action|Crime|Drama  \n",
       "4734  Action|Crime|Drama  \n",
       "4775  Action|Crime|Drama  \n",
       "5465  Action|Crime|Drama  \n",
       "5466  Action|Crime|Drama  \n",
       "5488  Action|Crime|Drama  \n",
       "5510  Action|Crime|Drama  \n",
       "5759  Action|Crime|Drama  \n",
       "5877  Action|Crime|Drama  \n",
       "5963  Action|Crime|Drama  \n",
       "5991  Action|Crime|Drama  \n",
       "6017  Action|Crime|Drama  \n",
       "6353  Action|Crime|Drama  \n",
       "6678  Action|Crime|Drama  \n",
       "7242  Action|Crime|Drama  \n",
       "7404  Action|Crime|Drama  \n",
       "7451  Action|Crime|Drama  \n",
       "7491  Action|Crime|Drama  \n",
       "7554  Action|Crime|Drama  \n",
       "8057  Action|Crime|Drama  \n",
       "8077  Action|Crime|Drama  \n",
       "8377  Action|Crime|Drama  \n",
       "8419  Action|Crime|Drama  \n",
       "8495  Action|Crime|Drama  \n",
       "8640  Action|Crime|Drama  \n",
       "8653  Action|Crime|Drama  \n",
       "9103  Action|Crime|Drama  \n",
       "9330  Action|Crime|Drama  \n",
       "9486  Action|Crime|Drama  "
      ]
     },
     "execution_count": 92,
     "metadata": {},
     "output_type": "execute_result"
    }
   ],
   "source": [
    "same_genre"
   ]
  },
  {
   "cell_type": "code",
   "execution_count": 110,
   "id": "c4186350-d93b-4d5c-a133-8f0645bf35cc",
   "metadata": {},
   "outputs": [],
   "source": [
    "## csv로 fit를 시킬 경우, \n",
    "## csv를 읽어서 fit시킬 수 있는 형태의 객체로 만들어주어야 하고,\n",
    "## train, testset으로 split"
   ]
  },
  {
   "cell_type": "code",
   "execution_count": 112,
   "id": "12b8e96e-8c52-42ae-b2a7-0d592ef3e337",
   "metadata": {},
   "outputs": [],
   "source": [
    "reader = Reader(rating_scale=(0.5, 5.0)) ## 0.5단위"
   ]
  },
  {
   "cell_type": "code",
   "execution_count": 114,
   "id": "1848d5c0-ce58-40bb-a89f-2b5e7217d204",
   "metadata": {},
   "outputs": [
    {
     "data": {
      "text/plain": [
       "<surprise.dataset.DatasetAutoFolds at 0x1694e4a60>"
      ]
     },
     "execution_count": 114,
     "metadata": {},
     "output_type": "execute_result"
    }
   ],
   "source": [
    "data = Dataset.load_from_df(ratings[['userId', 'movieId', 'rating']], reader)\n",
    "data"
   ]
  },
  {
   "cell_type": "code",
   "execution_count": 115,
   "id": "115bd848-1986-4dd6-80a1-4482a03093a7",
   "metadata": {},
   "outputs": [
    {
     "data": {
      "text/plain": [
       "<surprise.trainset.Trainset at 0x1695069a0>"
      ]
     },
     "execution_count": 115,
     "metadata": {},
     "output_type": "execute_result"
    }
   ],
   "source": [
    "trainset, testset = train_test_split(data, test_size=0.25, random_state=0)\n",
    "trainset"
   ]
  },
  {
   "cell_type": "code",
   "execution_count": 116,
   "id": "dd9e266c-2235-4581-8e4f-e1264df9500e",
   "metadata": {},
   "outputs": [
    {
     "data": {
      "text/plain": [
       "(63, 2000, 3.0)"
      ]
     },
     "execution_count": 116,
     "metadata": {},
     "output_type": "execute_result"
    }
   ],
   "source": [
    "testset[0]"
   ]
  },
  {
   "cell_type": "code",
   "execution_count": 117,
   "id": "0ddb71f2-3248-40f4-949e-755ee299bc7a",
   "metadata": {},
   "outputs": [
    {
     "data": {
      "text/plain": [
       "<surprise.prediction_algorithms.matrix_factorization.SVD at 0x1172f5280>"
      ]
     },
     "execution_count": 117,
     "metadata": {},
     "output_type": "execute_result"
    }
   ],
   "source": [
    "algo.fit(trainset)"
   ]
  },
  {
   "cell_type": "code",
   "execution_count": 120,
   "id": "abcce4e7-6abc-413d-afa4-9848f97cb177",
   "metadata": {},
   "outputs": [
    {
     "data": {
      "text/plain": [
       "[Prediction(uid=63, iid=2000, r_ui=3.0, est=3.4541541785927645, details={'was_impossible': False}),\n",
       " Prediction(uid=31, iid=788, r_ui=2.0, est=3.391011770786176, details={'was_impossible': False}),\n",
       " Prediction(uid=159, iid=6373, r_ui=4.0, est=2.5588482925388347, details={'was_impossible': False})]"
      ]
     },
     "execution_count": 120,
     "metadata": {},
     "output_type": "execute_result"
    }
   ],
   "source": [
    "predictions3 = algo.test(testset)\n",
    "predictions3[:3]"
   ]
  },
  {
   "cell_type": "code",
   "execution_count": 122,
   "id": "03029d8b-8a98-4273-aa64-e55209f2c9aa",
   "metadata": {},
   "outputs": [
    {
     "name": "stdout",
     "output_type": "stream",
     "text": [
      "RMSE: 0.8680\n"
     ]
    },
    {
     "data": {
      "text/plain": [
       "0.8680461105835837"
      ]
     },
     "execution_count": 122,
     "metadata": {},
     "output_type": "execute_result"
    }
   ],
   "source": [
    "accuracy.rmse(predictions3)"
   ]
  },
  {
   "cell_type": "code",
   "execution_count": 123,
   "id": "fe8c62e6-774c-44b1-af90-2150740960fb",
   "metadata": {},
   "outputs": [],
   "source": [
    "## 프로젝트에 적용하려면,\n",
    "## 1) 파일3개를 df에 읽어들인다.\n",
    "## 2) ratings 항목이 들어있는 df을 SVD객체로 fit()\n",
    "## userID, productId, 구매량(2조)\n",
    "## userId, tourId, \n",
    "## 3) user information table, item information table\n",
    "## 추천할 대상이 너무 많기 때문에 대상을 줄이기 위해\n",
    "## 사용자 유사도 측정, 상품 유사도 축정\n",
    "## (비지니스적인 룰을 정해서 추천을 함)"
   ]
  },
  {
   "cell_type": "code",
   "execution_count": null,
   "id": "74ab9102-724d-4d5e-a89b-91801537b2ef",
   "metadata": {},
   "outputs": [],
   "source": []
  }
 ],
 "metadata": {
  "kernelspec": {
   "display_name": "Python 3 (ipykernel)",
   "language": "python",
   "name": "python3"
  },
  "language_info": {
   "codemirror_mode": {
    "name": "ipython",
    "version": 3
   },
   "file_extension": ".py",
   "mimetype": "text/x-python",
   "name": "python",
   "nbconvert_exporter": "python",
   "pygments_lexer": "ipython3",
   "version": "3.9.10"
  }
 },
 "nbformat": 4,
 "nbformat_minor": 5
}
