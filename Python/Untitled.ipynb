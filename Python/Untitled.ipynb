{
 "cells": [
  {
   "cell_type": "code",
   "execution_count": 2,
   "id": "01716114-016b-4cd1-aec8-38e2ea885a91",
   "metadata": {},
   "outputs": [
    {
     "data": {
      "text/plain": [
       "'/<answer0>/<answer1>/<answer2>/<answer3>/<answer4>/<answer5>/<answer6>/<answer7>/<answer8>/<answer9>/<answer10>/<answer11>/<answer12>/<answer13>/<answer14>/<answer15>/<answer16>'"
      ]
     },
     "execution_count": 2,
     "metadata": {},
     "output_type": "execute_result"
    }
   ],
   "source": [
    "string = ''\n",
    "for i in range(17):\n",
    "    string += '/<answer'+str(i)+'>'\n",
    "string"
   ]
  },
  {
   "cell_type": "code",
   "execution_count": 6,
   "id": "1b05286f-3ff8-4715-ad3e-f3a57c2b03cf",
   "metadata": {},
   "outputs": [],
   "source": [
    "a = [1,2,3]\n",
    "a = tuple(a)"
   ]
  },
  {
   "cell_type": "code",
   "execution_count": 7,
   "id": "14bf4f2c-f69a-4d76-b8b0-4484500a19f7",
   "metadata": {},
   "outputs": [
    {
     "name": "stdout",
     "output_type": "stream",
     "text": [
      "<class 'tuple'>\n"
     ]
    }
   ],
   "source": [
    "print(type(a))"
   ]
  },
  {
   "cell_type": "code",
   "execution_count": 9,
   "id": "f6aa0265-4e10-416e-b513-3a5b14a22c16",
   "metadata": {},
   "outputs": [
    {
     "name": "stdout",
     "output_type": "stream",
     "text": [
      "(1, 2, 3)\n"
     ]
    }
   ],
   "source": [
    "print(a)"
   ]
  },
  {
   "cell_type": "code",
   "execution_count": null,
   "id": "30382e8f-93ee-428c-b3f6-19412d774101",
   "metadata": {},
   "outputs": [],
   "source": []
  }
 ],
 "metadata": {
  "kernelspec": {
   "display_name": "Python 3 (ipykernel)",
   "language": "python",
   "name": "python3"
  },
  "language_info": {
   "codemirror_mode": {
    "name": "ipython",
    "version": 3
   },
   "file_extension": ".py",
   "mimetype": "text/x-python",
   "name": "python",
   "nbconvert_exporter": "python",
   "pygments_lexer": "ipython3",
   "version": "3.9.10"
  }
 },
 "nbformat": 4,
 "nbformat_minor": 5
}
